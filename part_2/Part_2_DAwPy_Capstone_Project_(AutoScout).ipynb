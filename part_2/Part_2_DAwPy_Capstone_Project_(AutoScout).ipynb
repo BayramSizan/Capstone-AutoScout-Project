{
 "cells": [
  {
   "cell_type": "markdown",
   "metadata": {
    "id": "Bv1I7_aas1L3"
   },
   "source": [
    "___\n",
    "\n",
    "<p style=\"text-align: center;\"><img src=\"https://docs.google.com/uc?id=1lY0Uj5R04yMY3-ZppPWxqCr5pvBLYPnV\" class=\"img-fluid\" \n",
    "alt=\"CLRSWY\"></p>\n",
    "\n",
    "## <p style=\"background-color:#FDFEFE; font-family:newtimeroman; color:#9d4f8c; font-size:100%; text-align:center; border-radius:10px 10px;\">WAY TO REINVENT YOURSELF</p>"
   ]
  },
  {
   "cell_type": "markdown",
   "metadata": {
    "id": "Bkw3_pB0s1L-"
   },
   "source": [
    "<img src=https://i.ibb.co/wJW61Y2/Used-cars.jpg width=\"700\" height=\"200\">\n",
    "\n",
    "## <p style=\"background-color:#FDFEFE; font-family:newtimeroman; color:#060108; font-size:200%; text-align:center; border-radius:10px 10px;\">The Capstone Project of Data Analytics Module</p>\n",
    "\n",
    "## <p style=\"background-color:#FDFEFE; font-family:newtimeroman; color:#060108; font-size:150%; text-align:center; border-radius:10px 10px;\">Car Price Prediction EDA</p>"
   ]
  },
  {
   "cell_type": "markdown",
   "metadata": {
    "id": "Z_oWczxZs1MA"
   },
   "source": [
    "## Introduction\n",
    "Welcome to \"***AutoScout Data Analysis Project***\". This is the capstone project of ***Data Analysis*** Module. **Auto Scout** data which using for this project, scraped from the on-line car trading company in 2019, contains many features of 9 different car models. In this project, you will have the opportunity to apply many commonly used algorithms for Data Cleaning and Exploratory Data Analysis by using many Python libraries such as Numpy, Pandas, Matplotlib, Seaborn, Scipy you will analyze clean dataset.\n",
    "\n",
    "### Some Reminders on Exploratory data analysis (EDA)\n",
    "\n",
    "Exploratory data analysis (EDA) is an especially important activity in the routine of a data analyst or scientist. It enables an in depth understanding of the dataset, define or discard hypotheses and create predictive models on a solid basis. It uses data manipulation techniques and several statistical tools to describe and understand the relationship between variables and how these can impact business. By means of EDA, we can obtain meaningful insights that can impact analysis under the following questions (If a checklist is good enough for pilots to use every flight, it’s good enough for data scientists to use with every dataset).\n",
    "1. What question are you trying to solve (or prove wrong)?\n",
    "2. What kind of data do you have?\n",
    "3. What’s missing from the data?\n",
    "4. Where are the outliers?\n",
    "5. How can you add, change or remove features to get more out of your data?\n",
    "\n",
    "**``Exploratory data analysis (EDA)``** is often an **iterative brainstorming process** where you pose a question, review the data, and develop further questions to investigate before beginning model development work. The image below shows how the brainstorming phase is connected with that of understanding the variables and how this in turn is connected again with the brainstorming phase.<br>\n",
    "\n",
    "<img src=https://i.ibb.co/k0MC950/EDA-Process.png width=\"300\" height=\"100\">\n",
    "\n",
    "[Image Credit: Andrew D.](https://towardsdatascience.com/exploratory-data-analysis-in-python-a-step-by-step-process-d0dfa6bf94ee)\n",
    "\n",
    "**``In this context, the project consists of 3 parts in general:``**\n",
    "* **The first part** is related to 'Data Cleaning'. It deals with Incorrect Headers, Incorrect Format, Anomalies, and Dropping useless columns.\n",
    "* **The second part** is related to 'Filling Data', in other words 'Imputation'. It deals with Missing Values. Categorical to numeric transformation is done as well.\n",
    "* **The third part** is related to 'Handling Outliers of Data' via Visualization libraries. So, some insights will be extracted.\n",
    "\n",
    "**``NOTE:``**  However, you are free to create your own style. You do NOT have to stick to the steps above. We, the DA & DV instructors, recommend you study each part separately to create a source notebook for each part title for your further studies. "
   ]
  },
  {
   "cell_type": "markdown",
   "metadata": {
    "id": "vvgJ5KWTs1MB"
   },
   "source": [
    "# PART- 1 `( Data Cleaning )`"
   ]
  },
  {
   "cell_type": "code",
   "execution_count": 1,
   "metadata": {
    "ExecuteTime": {
     "end_time": "2022-08-03T08:59:19.379485Z",
     "start_time": "2022-08-03T08:59:17.441305Z"
    },
    "id": "Y13_gId7s1MC"
   },
   "outputs": [
    {
     "name": "stderr",
     "output_type": "stream",
     "text": [
      "C:\\Users\\Elitebook\\anaconda3\\lib\\site-packages\\scipy\\__init__.py:146: UserWarning: A NumPy version >=1.16.5 and <1.23.0 is required for this version of SciPy (detected version 1.23.1\n",
      "  warnings.warn(f\"A NumPy version >={np_minversion} and <{np_maxversion}\"\n"
     ]
    }
   ],
   "source": [
    "import numpy as np\n",
    "import pandas as pd\n",
    "import matplotlib.pyplot as plt\n",
    "import seaborn as sns\n",
    "import warnings\n",
    "warnings.filterwarnings(\"ignore\")\n",
    "warnings.warn(\"this will not show\")\n",
    "plt.rcParams[\"figure.figsize\"] = (10, 6)\n",
    "sns.set_style(\"whitegrid\")\n",
    "pd.set_option(\"display.float_format\", lambda x: \"%.3f\" % x)\n",
    "# Set it None to display all rows in the dataframe\n",
    "# pd.set_option(\"display.max_rows\", None)\n",
    "# Set it to None to display all columns in the dataframe\n",
    "pd.set_option(\"display.max_columns\", None)"
   ]
  },
  {
   "cell_type": "code",
   "execution_count": 2,
   "metadata": {
    "ExecuteTime": {
     "end_time": "2022-08-03T08:59:19.820221Z",
     "start_time": "2022-08-03T08:59:19.382385Z"
    }
   },
   "outputs": [
    {
     "data": {
      "text/html": [
       "<div>\n",
       "<style scoped>\n",
       "    .dataframe tbody tr th:only-of-type {\n",
       "        vertical-align: middle;\n",
       "    }\n",
       "\n",
       "    .dataframe tbody tr th {\n",
       "        vertical-align: top;\n",
       "    }\n",
       "\n",
       "    .dataframe thead th {\n",
       "        text-align: right;\n",
       "    }\n",
       "</style>\n",
       "<table border=\"1\" class=\"dataframe\">\n",
       "  <thead>\n",
       "    <tr style=\"text-align: right;\">\n",
       "      <th></th>\n",
       "      <th>short_description</th>\n",
       "      <th>body_type</th>\n",
       "      <th>price_€</th>\n",
       "      <th>vat</th>\n",
       "      <th>km</th>\n",
       "      <th>registration</th>\n",
       "      <th>prev_owner</th>\n",
       "      <th>hp_kW</th>\n",
       "      <th>type</th>\n",
       "      <th>previous_owners</th>\n",
       "      <th>warranty</th>\n",
       "      <th>make</th>\n",
       "      <th>model</th>\n",
       "      <th>body_color</th>\n",
       "      <th>paint_type</th>\n",
       "      <th>body_color_original</th>\n",
       "      <th>upholstery</th>\n",
       "      <th>nr_of_doors</th>\n",
       "      <th>nr_of_seats</th>\n",
       "      <th>gearing_type</th>\n",
       "      <th>engine_displacement_cc</th>\n",
       "      <th>cylinders</th>\n",
       "      <th>weight_kg</th>\n",
       "      <th>drive_chain</th>\n",
       "      <th>fuel</th>\n",
       "      <th>co2e_g</th>\n",
       "      <th>emission_class</th>\n",
       "      <th>comfort&amp;convenience</th>\n",
       "      <th>entertainment&amp;media</th>\n",
       "      <th>extras</th>\n",
       "      <th>safety&amp;security</th>\n",
       "      <th>gears</th>\n",
       "      <th>country_version</th>\n",
       "      <th>consumption_comb</th>\n",
       "      <th>consumption_city</th>\n",
       "      <th>consumption_cuntry</th>\n",
       "    </tr>\n",
       "  </thead>\n",
       "  <tbody>\n",
       "    <tr>\n",
       "      <th>0</th>\n",
       "      <td>Sportback 1.4 TDI S-tronic Xenon Navi Klima</td>\n",
       "      <td>Sedans</td>\n",
       "      <td>15770.000</td>\n",
       "      <td>VAT deductible</td>\n",
       "      <td>56013.000</td>\n",
       "      <td>2016.000</td>\n",
       "      <td>2.000</td>\n",
       "      <td>66.000</td>\n",
       "      <td>Used</td>\n",
       "      <td>2.000</td>\n",
       "      <td>NaN</td>\n",
       "      <td>Audi</td>\n",
       "      <td>A1</td>\n",
       "      <td>Black</td>\n",
       "      <td>Metallic</td>\n",
       "      <td>Mythosschwarz</td>\n",
       "      <td>Cloth</td>\n",
       "      <td>5.000</td>\n",
       "      <td>5.000</td>\n",
       "      <td>Automatic</td>\n",
       "      <td>1422.000</td>\n",
       "      <td>3.000</td>\n",
       "      <td>1220.000</td>\n",
       "      <td>front</td>\n",
       "      <td>Diesel</td>\n",
       "      <td>99.000</td>\n",
       "      <td>Euro 6</td>\n",
       "      <td>Air conditioning,Armrest,Automatic climate con...</td>\n",
       "      <td>Bluetooth,Hands-free equipment,On-board comput...</td>\n",
       "      <td>Alloy wheels,Catalytic Converter,Voice Control</td>\n",
       "      <td>ABS,Central door lock,Daytime running lights,D...</td>\n",
       "      <td>NaN</td>\n",
       "      <td>NaN</td>\n",
       "      <td>3.800</td>\n",
       "      <td>4.300</td>\n",
       "      <td>3.500</td>\n",
       "    </tr>\n",
       "    <tr>\n",
       "      <th>1</th>\n",
       "      <td>1.8 TFSI sport</td>\n",
       "      <td>Sedans</td>\n",
       "      <td>14500.000</td>\n",
       "      <td>Price negotiable</td>\n",
       "      <td>80000.000</td>\n",
       "      <td>2017.000</td>\n",
       "      <td>NaN</td>\n",
       "      <td>141.000</td>\n",
       "      <td>Used</td>\n",
       "      <td>NaN</td>\n",
       "      <td>NaN</td>\n",
       "      <td>Audi</td>\n",
       "      <td>A1</td>\n",
       "      <td>Red</td>\n",
       "      <td>NaN</td>\n",
       "      <td>NaN</td>\n",
       "      <td>Cloth</td>\n",
       "      <td>3.000</td>\n",
       "      <td>4.000</td>\n",
       "      <td>Automatic</td>\n",
       "      <td>1798.000</td>\n",
       "      <td>4.000</td>\n",
       "      <td>1255.000</td>\n",
       "      <td>front</td>\n",
       "      <td>Gasoline</td>\n",
       "      <td>129.000</td>\n",
       "      <td>Euro 6</td>\n",
       "      <td>Air conditioning,Automatic climate control,Hil...</td>\n",
       "      <td>Bluetooth,Hands-free equipment,On-board comput...</td>\n",
       "      <td>Alloy wheels,Sport seats,Sport suspension,Voic...</td>\n",
       "      <td>ABS,Central door lock,Central door lock with r...</td>\n",
       "      <td>7.000</td>\n",
       "      <td>NaN</td>\n",
       "      <td>5.600</td>\n",
       "      <td>7.100</td>\n",
       "      <td>4.700</td>\n",
       "    </tr>\n",
       "    <tr>\n",
       "      <th>2</th>\n",
       "      <td>Sportback 1.6 TDI S tronic Einparkhilfe plus+m...</td>\n",
       "      <td>Sedans</td>\n",
       "      <td>14640.000</td>\n",
       "      <td>VAT deductible</td>\n",
       "      <td>83450.000</td>\n",
       "      <td>2016.000</td>\n",
       "      <td>1.000</td>\n",
       "      <td>85.000</td>\n",
       "      <td>Used</td>\n",
       "      <td>1.000</td>\n",
       "      <td>NaN</td>\n",
       "      <td>Audi</td>\n",
       "      <td>A1</td>\n",
       "      <td>Black</td>\n",
       "      <td>Metallic</td>\n",
       "      <td>mythosschwarz metallic</td>\n",
       "      <td>Cloth</td>\n",
       "      <td>4.000</td>\n",
       "      <td>4.000</td>\n",
       "      <td>Automatic</td>\n",
       "      <td>1598.000</td>\n",
       "      <td>NaN</td>\n",
       "      <td>NaN</td>\n",
       "      <td>front</td>\n",
       "      <td>Diesel</td>\n",
       "      <td>99.000</td>\n",
       "      <td>Euro 6</td>\n",
       "      <td>Air conditioning,Cruise control,Electrical sid...</td>\n",
       "      <td>MP3,On-board computer</td>\n",
       "      <td>Alloy wheels,Voice Control</td>\n",
       "      <td>ABS,Central door lock,Daytime running lights,D...</td>\n",
       "      <td>NaN</td>\n",
       "      <td>NaN</td>\n",
       "      <td>3.800</td>\n",
       "      <td>4.400</td>\n",
       "      <td>3.400</td>\n",
       "    </tr>\n",
       "    <tr>\n",
       "      <th>3</th>\n",
       "      <td>1.4 TDi Design S tronic</td>\n",
       "      <td>Sedans</td>\n",
       "      <td>14500.000</td>\n",
       "      <td>NaN</td>\n",
       "      <td>73000.000</td>\n",
       "      <td>2016.000</td>\n",
       "      <td>1.000</td>\n",
       "      <td>66.000</td>\n",
       "      <td>Used</td>\n",
       "      <td>1.000</td>\n",
       "      <td>NaN</td>\n",
       "      <td>Audi</td>\n",
       "      <td>A1</td>\n",
       "      <td>Brown</td>\n",
       "      <td>Metallic</td>\n",
       "      <td>NaN</td>\n",
       "      <td>NaN</td>\n",
       "      <td>3.000</td>\n",
       "      <td>4.000</td>\n",
       "      <td>Automatic</td>\n",
       "      <td>1422.000</td>\n",
       "      <td>3.000</td>\n",
       "      <td>1195.000</td>\n",
       "      <td>NaN</td>\n",
       "      <td>Diesel</td>\n",
       "      <td>99.000</td>\n",
       "      <td>Euro 6</td>\n",
       "      <td>Air suspension,Armrest,Auxiliary heating,Elect...</td>\n",
       "      <td>Bluetooth,CD player,Hands-free equipment,MP3,O...</td>\n",
       "      <td>Alloy wheels,Sport seats,Voice Control</td>\n",
       "      <td>ABS,Alarm system,Central door lock with remote...</td>\n",
       "      <td>6.000</td>\n",
       "      <td>NaN</td>\n",
       "      <td>3.800</td>\n",
       "      <td>4.300</td>\n",
       "      <td>3.500</td>\n",
       "    </tr>\n",
       "    <tr>\n",
       "      <th>4</th>\n",
       "      <td>Sportback 1.4 TDI S-Tronic S-Line Ext. admired...</td>\n",
       "      <td>Sedans</td>\n",
       "      <td>16790.000</td>\n",
       "      <td>NaN</td>\n",
       "      <td>16200.000</td>\n",
       "      <td>2016.000</td>\n",
       "      <td>1.000</td>\n",
       "      <td>66.000</td>\n",
       "      <td>Used</td>\n",
       "      <td>1.000</td>\n",
       "      <td>NaN</td>\n",
       "      <td>Audi</td>\n",
       "      <td>A1</td>\n",
       "      <td>Black</td>\n",
       "      <td>Metallic</td>\n",
       "      <td>Mythosschwarz Metallic</td>\n",
       "      <td>Cloth</td>\n",
       "      <td>5.000</td>\n",
       "      <td>5.000</td>\n",
       "      <td>Automatic</td>\n",
       "      <td>1422.000</td>\n",
       "      <td>3.000</td>\n",
       "      <td>NaN</td>\n",
       "      <td>front</td>\n",
       "      <td>Diesel</td>\n",
       "      <td>109.000</td>\n",
       "      <td>Euro 6</td>\n",
       "      <td>Air conditioning,Armrest,Automatic climate con...</td>\n",
       "      <td>Bluetooth,CD player,Hands-free equipment,MP3,O...</td>\n",
       "      <td>Alloy wheels,Sport package,Sport suspension,Vo...</td>\n",
       "      <td>ABS,Central door lock,Driver-side airbag,Elect...</td>\n",
       "      <td>NaN</td>\n",
       "      <td>Germany</td>\n",
       "      <td>4.100</td>\n",
       "      <td>4.600</td>\n",
       "      <td>3.800</td>\n",
       "    </tr>\n",
       "    <tr>\n",
       "      <th>...</th>\n",
       "      <td>...</td>\n",
       "      <td>...</td>\n",
       "      <td>...</td>\n",
       "      <td>...</td>\n",
       "      <td>...</td>\n",
       "      <td>...</td>\n",
       "      <td>...</td>\n",
       "      <td>...</td>\n",
       "      <td>...</td>\n",
       "      <td>...</td>\n",
       "      <td>...</td>\n",
       "      <td>...</td>\n",
       "      <td>...</td>\n",
       "      <td>...</td>\n",
       "      <td>...</td>\n",
       "      <td>...</td>\n",
       "      <td>...</td>\n",
       "      <td>...</td>\n",
       "      <td>...</td>\n",
       "      <td>...</td>\n",
       "      <td>...</td>\n",
       "      <td>...</td>\n",
       "      <td>...</td>\n",
       "      <td>...</td>\n",
       "      <td>...</td>\n",
       "      <td>...</td>\n",
       "      <td>...</td>\n",
       "      <td>...</td>\n",
       "      <td>...</td>\n",
       "      <td>...</td>\n",
       "      <td>...</td>\n",
       "      <td>...</td>\n",
       "      <td>...</td>\n",
       "      <td>...</td>\n",
       "      <td>...</td>\n",
       "      <td>...</td>\n",
       "    </tr>\n",
       "    <tr>\n",
       "      <th>15914</th>\n",
       "      <td>Blue dCi 200CV EDC Executive 4Control</td>\n",
       "      <td>Van</td>\n",
       "      <td>39950.000</td>\n",
       "      <td>VAT deductible</td>\n",
       "      <td>NaN</td>\n",
       "      <td>NaN</td>\n",
       "      <td>NaN</td>\n",
       "      <td>147.000</td>\n",
       "      <td>New</td>\n",
       "      <td>NaN</td>\n",
       "      <td>24.000</td>\n",
       "      <td>Renault</td>\n",
       "      <td>Espace</td>\n",
       "      <td>Grey</td>\n",
       "      <td>Metallic</td>\n",
       "      <td>Grigio scuro</td>\n",
       "      <td>NaN</td>\n",
       "      <td>5.000</td>\n",
       "      <td>5.000</td>\n",
       "      <td>Automatic</td>\n",
       "      <td>1997.000</td>\n",
       "      <td>4.000</td>\n",
       "      <td>1758.000</td>\n",
       "      <td>front</td>\n",
       "      <td>Diesel</td>\n",
       "      <td>139.000</td>\n",
       "      <td>NaN</td>\n",
       "      <td>Air conditioning,Automatic climate control,Cru...</td>\n",
       "      <td>Bluetooth,Digital radio,Hands-free equipment,O...</td>\n",
       "      <td>Alloy wheels,Touch screen</td>\n",
       "      <td>ABS,Central door lock,Central door lock with r...</td>\n",
       "      <td>6.000</td>\n",
       "      <td>NaN</td>\n",
       "      <td>5.300</td>\n",
       "      <td>6.200</td>\n",
       "      <td>4.700</td>\n",
       "    </tr>\n",
       "    <tr>\n",
       "      <th>15915</th>\n",
       "      <td>TCe 225 EDC GPF LIM Deluxe Pano,RFK</td>\n",
       "      <td>Van</td>\n",
       "      <td>39885.000</td>\n",
       "      <td>VAT deductible</td>\n",
       "      <td>9900.000</td>\n",
       "      <td>2019.000</td>\n",
       "      <td>1.000</td>\n",
       "      <td>165.000</td>\n",
       "      <td>Used</td>\n",
       "      <td>1.000</td>\n",
       "      <td>NaN</td>\n",
       "      <td>Renault</td>\n",
       "      <td>Espace</td>\n",
       "      <td>Grey</td>\n",
       "      <td>Metallic</td>\n",
       "      <td>Stahl-Grau Metallic</td>\n",
       "      <td>Cloth</td>\n",
       "      <td>5.000</td>\n",
       "      <td>5.000</td>\n",
       "      <td>Automatic</td>\n",
       "      <td>1798.000</td>\n",
       "      <td>4.000</td>\n",
       "      <td>1708.000</td>\n",
       "      <td>front</td>\n",
       "      <td>Benzine</td>\n",
       "      <td>168.000</td>\n",
       "      <td>NaN</td>\n",
       "      <td>Air conditioning,Automatic climate control,Cru...</td>\n",
       "      <td>Bluetooth,Digital radio,Hands-free equipment,R...</td>\n",
       "      <td>Alloy wheels,Touch screen,Voice Control</td>\n",
       "      <td>ABS,Adaptive Cruise Control,Blind spot monitor...</td>\n",
       "      <td>7.000</td>\n",
       "      <td>Germany</td>\n",
       "      <td>7.400</td>\n",
       "      <td>9.200</td>\n",
       "      <td>6.300</td>\n",
       "    </tr>\n",
       "    <tr>\n",
       "      <th>15916</th>\n",
       "      <td>Blue dCi 200 EDC Initiale Paris Leder LED Navi...</td>\n",
       "      <td>Van</td>\n",
       "      <td>39875.000</td>\n",
       "      <td>VAT deductible</td>\n",
       "      <td>15.000</td>\n",
       "      <td>2019.000</td>\n",
       "      <td>1.000</td>\n",
       "      <td>146.000</td>\n",
       "      <td>Pre-registered</td>\n",
       "      <td>1.000</td>\n",
       "      <td>NaN</td>\n",
       "      <td>Renault</td>\n",
       "      <td>Espace</td>\n",
       "      <td>White</td>\n",
       "      <td>NaN</td>\n",
       "      <td>arktis-weiß</td>\n",
       "      <td>Full leather</td>\n",
       "      <td>5.000</td>\n",
       "      <td>7.000</td>\n",
       "      <td>Automatic</td>\n",
       "      <td>1997.000</td>\n",
       "      <td>4.000</td>\n",
       "      <td>NaN</td>\n",
       "      <td>front</td>\n",
       "      <td>Diesel</td>\n",
       "      <td>139.000</td>\n",
       "      <td>Euro 6d-TEMP</td>\n",
       "      <td>Air conditioning,Armrest,Automatic climate con...</td>\n",
       "      <td>Bluetooth,Hands-free equipment,On-board comput...</td>\n",
       "      <td>Alloy wheels</td>\n",
       "      <td>ABS,Adaptive Cruise Control,Blind spot monitor...</td>\n",
       "      <td>6.000</td>\n",
       "      <td>Austria</td>\n",
       "      <td>5.300</td>\n",
       "      <td>6.200</td>\n",
       "      <td>4.700</td>\n",
       "    </tr>\n",
       "    <tr>\n",
       "      <th>15917</th>\n",
       "      <td>Blue dCi 200CV EDC Business , NUOVA DA IMMATRI...</td>\n",
       "      <td>Van</td>\n",
       "      <td>39700.000</td>\n",
       "      <td>VAT deductible</td>\n",
       "      <td>10.000</td>\n",
       "      <td>2019.000</td>\n",
       "      <td>NaN</td>\n",
       "      <td>147.000</td>\n",
       "      <td>Pre-registered</td>\n",
       "      <td>NaN</td>\n",
       "      <td>NaN</td>\n",
       "      <td>Renault</td>\n",
       "      <td>Espace</td>\n",
       "      <td>Grey</td>\n",
       "      <td>NaN</td>\n",
       "      <td>Grigio</td>\n",
       "      <td>Part leather</td>\n",
       "      <td>5.000</td>\n",
       "      <td>7.000</td>\n",
       "      <td>Automatic</td>\n",
       "      <td>1997.000</td>\n",
       "      <td>4.000</td>\n",
       "      <td>1758.000</td>\n",
       "      <td>front</td>\n",
       "      <td>Diesel</td>\n",
       "      <td>139.000</td>\n",
       "      <td>Euro 6</td>\n",
       "      <td>Air conditioning,Automatic climate control,Cru...</td>\n",
       "      <td>Bluetooth,Digital radio,Radio,USB</td>\n",
       "      <td>Alloy wheels,Touch screen</td>\n",
       "      <td>ABS,Blind spot monitor,Driver-side airbag,Elec...</td>\n",
       "      <td>6.000</td>\n",
       "      <td>NaN</td>\n",
       "      <td>5.300</td>\n",
       "      <td>6.200</td>\n",
       "      <td>4.700</td>\n",
       "    </tr>\n",
       "    <tr>\n",
       "      <th>15918</th>\n",
       "      <td>INITIALE PARIS TCe 225 EDC GPF NAVI SHZ AUX</td>\n",
       "      <td>Van</td>\n",
       "      <td>40999.000</td>\n",
       "      <td>VAT deductible</td>\n",
       "      <td>NaN</td>\n",
       "      <td>2019.000</td>\n",
       "      <td>1.000</td>\n",
       "      <td>165.000</td>\n",
       "      <td>Demonstration</td>\n",
       "      <td>1.000</td>\n",
       "      <td>NaN</td>\n",
       "      <td>Renault</td>\n",
       "      <td>Espace</td>\n",
       "      <td>Grey</td>\n",
       "      <td>Metallic</td>\n",
       "      <td>Titanium-Grau Metallic</td>\n",
       "      <td>Full leather</td>\n",
       "      <td>5.000</td>\n",
       "      <td>5.000</td>\n",
       "      <td>Automatic</td>\n",
       "      <td>1798.000</td>\n",
       "      <td>4.000</td>\n",
       "      <td>1685.000</td>\n",
       "      <td>4WD</td>\n",
       "      <td>Benzine</td>\n",
       "      <td>153.000</td>\n",
       "      <td>Euro 6</td>\n",
       "      <td>Air conditioning,Automatic climate control,Cru...</td>\n",
       "      <td>USB</td>\n",
       "      <td>Alloy wheels,Touch screen</td>\n",
       "      <td>ABS,Blind spot monitor,Daytime running lights,...</td>\n",
       "      <td>NaN</td>\n",
       "      <td>Germany</td>\n",
       "      <td>6.800</td>\n",
       "      <td>8.700</td>\n",
       "      <td>5.700</td>\n",
       "    </tr>\n",
       "  </tbody>\n",
       "</table>\n",
       "<p>15919 rows × 36 columns</p>\n",
       "</div>"
      ],
      "text/plain": [
       "                                       short_description body_type   price_€  \\\n",
       "0            Sportback 1.4 TDI S-tronic Xenon Navi Klima    Sedans 15770.000   \n",
       "1                                         1.8 TFSI sport    Sedans 14500.000   \n",
       "2      Sportback 1.6 TDI S tronic Einparkhilfe plus+m...    Sedans 14640.000   \n",
       "3                                1.4 TDi Design S tronic    Sedans 14500.000   \n",
       "4      Sportback 1.4 TDI S-Tronic S-Line Ext. admired...    Sedans 16790.000   \n",
       "...                                                  ...       ...       ...   \n",
       "15914              Blue dCi 200CV EDC Executive 4Control       Van 39950.000   \n",
       "15915                TCe 225 EDC GPF LIM Deluxe Pano,RFK       Van 39885.000   \n",
       "15916  Blue dCi 200 EDC Initiale Paris Leder LED Navi...       Van 39875.000   \n",
       "15917  Blue dCi 200CV EDC Business , NUOVA DA IMMATRI...       Van 39700.000   \n",
       "15918        INITIALE PARIS TCe 225 EDC GPF NAVI SHZ AUX       Van 40999.000   \n",
       "\n",
       "                    vat        km  registration  prev_owner   hp_kW  \\\n",
       "0        VAT deductible 56013.000      2016.000       2.000  66.000   \n",
       "1      Price negotiable 80000.000      2017.000         NaN 141.000   \n",
       "2        VAT deductible 83450.000      2016.000       1.000  85.000   \n",
       "3                   NaN 73000.000      2016.000       1.000  66.000   \n",
       "4                   NaN 16200.000      2016.000       1.000  66.000   \n",
       "...                 ...       ...           ...         ...     ...   \n",
       "15914    VAT deductible       NaN           NaN         NaN 147.000   \n",
       "15915    VAT deductible  9900.000      2019.000       1.000 165.000   \n",
       "15916    VAT deductible    15.000      2019.000       1.000 146.000   \n",
       "15917    VAT deductible    10.000      2019.000         NaN 147.000   \n",
       "15918    VAT deductible       NaN      2019.000       1.000 165.000   \n",
       "\n",
       "                 type  previous_owners  warranty     make   model body_color  \\\n",
       "0                Used            2.000       NaN     Audi      A1      Black   \n",
       "1                Used              NaN       NaN     Audi      A1        Red   \n",
       "2                Used            1.000       NaN     Audi      A1      Black   \n",
       "3                Used            1.000       NaN     Audi      A1      Brown   \n",
       "4                Used            1.000       NaN     Audi      A1      Black   \n",
       "...               ...              ...       ...      ...     ...        ...   \n",
       "15914             New              NaN    24.000  Renault  Espace       Grey   \n",
       "15915            Used            1.000       NaN  Renault  Espace       Grey   \n",
       "15916  Pre-registered            1.000       NaN  Renault  Espace      White   \n",
       "15917  Pre-registered              NaN       NaN  Renault  Espace       Grey   \n",
       "15918   Demonstration            1.000       NaN  Renault  Espace       Grey   \n",
       "\n",
       "      paint_type     body_color_original    upholstery  nr_of_doors  \\\n",
       "0       Metallic           Mythosschwarz         Cloth        5.000   \n",
       "1            NaN                     NaN         Cloth        3.000   \n",
       "2       Metallic  mythosschwarz metallic         Cloth        4.000   \n",
       "3       Metallic                     NaN           NaN        3.000   \n",
       "4       Metallic  Mythosschwarz Metallic         Cloth        5.000   \n",
       "...          ...                     ...           ...          ...   \n",
       "15914   Metallic            Grigio scuro           NaN        5.000   \n",
       "15915   Metallic     Stahl-Grau Metallic         Cloth        5.000   \n",
       "15916        NaN             arktis-weiß  Full leather        5.000   \n",
       "15917        NaN                  Grigio  Part leather        5.000   \n",
       "15918   Metallic  Titanium-Grau Metallic  Full leather        5.000   \n",
       "\n",
       "       nr_of_seats gearing_type  engine_displacement_cc  cylinders  weight_kg  \\\n",
       "0            5.000    Automatic                1422.000      3.000   1220.000   \n",
       "1            4.000    Automatic                1798.000      4.000   1255.000   \n",
       "2            4.000    Automatic                1598.000        NaN        NaN   \n",
       "3            4.000    Automatic                1422.000      3.000   1195.000   \n",
       "4            5.000    Automatic                1422.000      3.000        NaN   \n",
       "...            ...          ...                     ...        ...        ...   \n",
       "15914        5.000    Automatic                1997.000      4.000   1758.000   \n",
       "15915        5.000    Automatic                1798.000      4.000   1708.000   \n",
       "15916        7.000    Automatic                1997.000      4.000        NaN   \n",
       "15917        7.000    Automatic                1997.000      4.000   1758.000   \n",
       "15918        5.000    Automatic                1798.000      4.000   1685.000   \n",
       "\n",
       "      drive_chain      fuel  co2e_g emission_class  \\\n",
       "0           front    Diesel  99.000         Euro 6   \n",
       "1           front  Gasoline 129.000         Euro 6   \n",
       "2           front    Diesel  99.000         Euro 6   \n",
       "3             NaN    Diesel  99.000         Euro 6   \n",
       "4           front    Diesel 109.000         Euro 6   \n",
       "...           ...       ...     ...            ...   \n",
       "15914       front    Diesel 139.000            NaN   \n",
       "15915       front   Benzine 168.000            NaN   \n",
       "15916       front    Diesel 139.000   Euro 6d-TEMP   \n",
       "15917       front    Diesel 139.000         Euro 6   \n",
       "15918         4WD   Benzine 153.000         Euro 6   \n",
       "\n",
       "                                     comfort&convenience  \\\n",
       "0      Air conditioning,Armrest,Automatic climate con...   \n",
       "1      Air conditioning,Automatic climate control,Hil...   \n",
       "2      Air conditioning,Cruise control,Electrical sid...   \n",
       "3      Air suspension,Armrest,Auxiliary heating,Elect...   \n",
       "4      Air conditioning,Armrest,Automatic climate con...   \n",
       "...                                                  ...   \n",
       "15914  Air conditioning,Automatic climate control,Cru...   \n",
       "15915  Air conditioning,Automatic climate control,Cru...   \n",
       "15916  Air conditioning,Armrest,Automatic climate con...   \n",
       "15917  Air conditioning,Automatic climate control,Cru...   \n",
       "15918  Air conditioning,Automatic climate control,Cru...   \n",
       "\n",
       "                                     entertainment&media  \\\n",
       "0      Bluetooth,Hands-free equipment,On-board comput...   \n",
       "1      Bluetooth,Hands-free equipment,On-board comput...   \n",
       "2                                  MP3,On-board computer   \n",
       "3      Bluetooth,CD player,Hands-free equipment,MP3,O...   \n",
       "4      Bluetooth,CD player,Hands-free equipment,MP3,O...   \n",
       "...                                                  ...   \n",
       "15914  Bluetooth,Digital radio,Hands-free equipment,O...   \n",
       "15915  Bluetooth,Digital radio,Hands-free equipment,R...   \n",
       "15916  Bluetooth,Hands-free equipment,On-board comput...   \n",
       "15917                  Bluetooth,Digital radio,Radio,USB   \n",
       "15918                                                USB   \n",
       "\n",
       "                                                  extras  \\\n",
       "0         Alloy wheels,Catalytic Converter,Voice Control   \n",
       "1      Alloy wheels,Sport seats,Sport suspension,Voic...   \n",
       "2                             Alloy wheels,Voice Control   \n",
       "3                 Alloy wheels,Sport seats,Voice Control   \n",
       "4      Alloy wheels,Sport package,Sport suspension,Vo...   \n",
       "...                                                  ...   \n",
       "15914                          Alloy wheels,Touch screen   \n",
       "15915            Alloy wheels,Touch screen,Voice Control   \n",
       "15916                                       Alloy wheels   \n",
       "15917                          Alloy wheels,Touch screen   \n",
       "15918                          Alloy wheels,Touch screen   \n",
       "\n",
       "                                         safety&security  gears  \\\n",
       "0      ABS,Central door lock,Daytime running lights,D...    NaN   \n",
       "1      ABS,Central door lock,Central door lock with r...  7.000   \n",
       "2      ABS,Central door lock,Daytime running lights,D...    NaN   \n",
       "3      ABS,Alarm system,Central door lock with remote...  6.000   \n",
       "4      ABS,Central door lock,Driver-side airbag,Elect...    NaN   \n",
       "...                                                  ...    ...   \n",
       "15914  ABS,Central door lock,Central door lock with r...  6.000   \n",
       "15915  ABS,Adaptive Cruise Control,Blind spot monitor...  7.000   \n",
       "15916  ABS,Adaptive Cruise Control,Blind spot monitor...  6.000   \n",
       "15917  ABS,Blind spot monitor,Driver-side airbag,Elec...  6.000   \n",
       "15918  ABS,Blind spot monitor,Daytime running lights,...    NaN   \n",
       "\n",
       "      country_version  consumption_comb  consumption_city  consumption_cuntry  \n",
       "0                 NaN             3.800             4.300               3.500  \n",
       "1                 NaN             5.600             7.100               4.700  \n",
       "2                 NaN             3.800             4.400               3.400  \n",
       "3                 NaN             3.800             4.300               3.500  \n",
       "4             Germany             4.100             4.600               3.800  \n",
       "...               ...               ...               ...                 ...  \n",
       "15914             NaN             5.300             6.200               4.700  \n",
       "15915         Germany             7.400             9.200               6.300  \n",
       "15916         Austria             5.300             6.200               4.700  \n",
       "15917             NaN             5.300             6.200               4.700  \n",
       "15918         Germany             6.800             8.700               5.700  \n",
       "\n",
       "[15919 rows x 36 columns]"
      ]
     },
     "execution_count": 2,
     "metadata": {},
     "output_type": "execute_result"
    }
   ],
   "source": [
    "df = pd.read_csv(\"cleaned_autoscout.csv\")\n",
    "df"
   ]
  },
  {
   "cell_type": "code",
   "execution_count": null,
   "metadata": {},
   "outputs": [],
   "source": []
  },
  {
   "cell_type": "markdown",
   "metadata": {
    "id": "uGeKSdYds1MD"
   },
   "source": [
    "# PART- 2 `( Handling With Missing Vales )`"
   ]
  },
  {
   "cell_type": "code",
   "execution_count": 3,
   "metadata": {
    "ExecuteTime": {
     "end_time": "2022-08-03T08:59:19.865100Z",
     "start_time": "2022-08-03T08:59:19.823206Z"
    },
    "id": "WDZnqBhbs1ME"
   },
   "outputs": [
    {
     "name": "stdout",
     "output_type": "stream",
     "text": [
      "<class 'pandas.core.frame.DataFrame'>\n",
      "RangeIndex: 15919 entries, 0 to 15918\n",
      "Data columns (total 36 columns):\n",
      " #   Column                  Non-Null Count  Dtype  \n",
      "---  ------                  --------------  -----  \n",
      " 0   short_description       15873 non-null  object \n",
      " 1   body_type               15859 non-null  object \n",
      " 2   price_€                 15919 non-null  float64\n",
      " 3   vat                     11406 non-null  object \n",
      " 4   km                      14895 non-null  float64\n",
      " 5   registration            14322 non-null  float64\n",
      " 6   prev_owner              9091 non-null   float64\n",
      " 7   hp_kW                   15831 non-null  float64\n",
      " 8   type                    15917 non-null  object \n",
      " 9   previous_owners         9279 non-null   float64\n",
      " 10  warranty                4853 non-null   float64\n",
      " 11  make                    15919 non-null  object \n",
      " 12  model                   15919 non-null  object \n",
      " 13  body_color              15322 non-null  object \n",
      " 14  paint_type              10147 non-null  object \n",
      " 15  body_color_original     12145 non-null  object \n",
      " 16  upholstery              12199 non-null  object \n",
      " 17  nr_of_doors             15707 non-null  float64\n",
      " 18  nr_of_seats             14942 non-null  float64\n",
      " 19  gearing_type            15919 non-null  object \n",
      " 20  engine_displacement_cc  15423 non-null  float64\n",
      " 21  cylinders               10239 non-null  float64\n",
      " 22  weight_kg               8945 non-null   float64\n",
      " 23  drive_chain             9061 non-null   object \n",
      " 24  fuel                    15919 non-null  object \n",
      " 25  co2e_g                  13477 non-null  float64\n",
      " 26  emission_class          12291 non-null  object \n",
      " 27  comfort&convenience     14999 non-null  object \n",
      " 28  entertainment&media     14545 non-null  object \n",
      " 29  extras                  12957 non-null  object \n",
      " 30  safety&security         14937 non-null  object \n",
      " 31  gears                   11207 non-null  float64\n",
      " 32  country_version         7586 non-null   object \n",
      " 33  consumption_comb        12129 non-null  float64\n",
      " 34  consumption_city        11880 non-null  float64\n",
      " 35  consumption_cuntry      12554 non-null  float64\n",
      "dtypes: float64(17), object(19)\n",
      "memory usage: 4.4+ MB\n"
     ]
    }
   ],
   "source": [
    "df.info()"
   ]
  },
  {
   "cell_type": "code",
   "execution_count": 4,
   "metadata": {
    "ExecuteTime": {
     "end_time": "2022-08-03T08:59:19.880054Z",
     "start_time": "2022-08-03T08:59:19.869083Z"
    }
   },
   "outputs": [],
   "source": [
    "# show group statistics\n",
    "# df.groupby(['make_model'])['body_type'].describe().T\n",
    "#df.groupby([\"make_model\", \"type\"]).size().unstack().T\n",
    "\n",
    "# show group value count\n",
    "# df.groupby(['make_model'])['body_type'].value_counts(dropna=False)\n",
    "\n",
    "# show group list-set \n",
    "#df.groupby(['make_model'])['body_type'].apply(set)\n",
    "# show group mode values\n",
    "# df.groupby(['make_model'])['body_type'].apply(lambda x: x.mode()[0])\n",
    "\n",
    "# Fillna kod örnekleri\n",
    "# If Group Column have NaN values Deleting Some Real Datas in fillna Column Check .isna().sum()\n",
    "# select group mode values with fillna\n",
    "# df.groupby(['make_model'])['body_type'].apply(lambda x: x.fillna(x.mode()[0]))\n",
    "\n",
    "# select group interpolate-ffill-bfill values\n",
    "# df.groupby(['make_model'])['body_type'].apply(lambda x: x.interpolate().ffill().bfill())\n",
    "# df.groupby(['make_model'])['body_type'].apply(lambda x: x.interpolate().median())\n",
    "# df.groupby(['make_model'])['body_type'].apply(lambda x: x.fillna(x.interpolate().ffill().bfill()))\n",
    "\n",
    "# group mode values - use when key error fillna column mode\n",
    "# df.groupby(['make_model'])['body_type'].apply(lambda x: x.fillna(x.mode()[0] if any(x.mode()) else df['body_type'].mode()[0]))\n",
    "# df.groupby(['make_model'])['body_type'].apply(lambda x: x.fillna(x.mode()[0] if any(x.mode()) else x)) # Not Change NaN group\n",
    "\n",
    "# NoN Group fillna column mode\n",
    "# df.groupby([\"make_model\", 'age', 'registration_month'])['vat'].apply(lambda x : x.fillna(x.interpolate().ffill().bfill()).fillna(df['km'].mode()[0])).isna().sum()\n",
    "\n",
    "# NoN Group fillna column interpolate\n",
    "# df.groupby(['age', 'km'])['warranty_months'].apply(lambda x : x.fillna(x.median()).fillna(df['warranty_months'].interpolate().ffill().bfill())).value_counts(dropna=False).sum()\n",
    "\n",
    "# Multi group fillna\n",
    "# df['km'] = df.groupby([\"make_model\", \"body_type\", \"cons_comb\"])['km'].apply(lambda x : x.fillna(x.interpolate().ffill().bfill()))\n",
    "# df['km'] = df.groupby([\"body_type\"])['km'].apply(lambda x : x.fillna(x.mode()[0]))\n",
    "# df['km'].isna().sum()\n",
    "\n",
    "# Multimode group fillna\n",
    "# df['hp_kw'] = df.groupby(['make_model', 'body_type', 'gearing_type'])['hp_kw'].apply(lambda x: x.fillna(x.mode()[0] if any(x.mode()) else x))\n",
    "# df['hp_kw'] = df.groupby(['make_model', 'gears'])['hp_kw'].apply(lambda x: x.fillna(x.mode()[0]))\n",
    "\n",
    "# Handling With Missing Vales process priority\n",
    "# df.describe(include='all').T.sort_values(by=['count'], ascending=False)"
   ]
  },
  {
   "cell_type": "code",
   "execution_count": 5,
   "metadata": {
    "ExecuteTime": {
     "end_time": "2022-08-03T08:59:19.910971Z",
     "start_time": "2022-08-03T08:59:19.883047Z"
    }
   },
   "outputs": [
    {
     "data": {
      "text/html": [
       "<div>\n",
       "<style scoped>\n",
       "    .dataframe tbody tr th:only-of-type {\n",
       "        vertical-align: middle;\n",
       "    }\n",
       "\n",
       "    .dataframe tbody tr th {\n",
       "        vertical-align: top;\n",
       "    }\n",
       "\n",
       "    .dataframe thead th {\n",
       "        text-align: right;\n",
       "    }\n",
       "</style>\n",
       "<table border=\"1\" class=\"dataframe\">\n",
       "  <thead>\n",
       "    <tr style=\"text-align: right;\">\n",
       "      <th></th>\n",
       "      <th>0</th>\n",
       "      <th>1</th>\n",
       "      <th>2</th>\n",
       "      <th>3</th>\n",
       "      <th>4</th>\n",
       "    </tr>\n",
       "  </thead>\n",
       "  <tbody>\n",
       "    <tr>\n",
       "      <th>short_description</th>\n",
       "      <td>Sportback 1.4 TDI S-tronic Xenon Navi Klima</td>\n",
       "      <td>1.8 TFSI sport</td>\n",
       "      <td>Sportback 1.6 TDI S tronic Einparkhilfe plus+m...</td>\n",
       "      <td>1.4 TDi Design S tronic</td>\n",
       "      <td>Sportback 1.4 TDI S-Tronic S-Line Ext. admired...</td>\n",
       "    </tr>\n",
       "    <tr>\n",
       "      <th>body_type</th>\n",
       "      <td>Sedans</td>\n",
       "      <td>Sedans</td>\n",
       "      <td>Sedans</td>\n",
       "      <td>Sedans</td>\n",
       "      <td>Sedans</td>\n",
       "    </tr>\n",
       "    <tr>\n",
       "      <th>price_€</th>\n",
       "      <td>15770.000</td>\n",
       "      <td>14500.000</td>\n",
       "      <td>14640.000</td>\n",
       "      <td>14500.000</td>\n",
       "      <td>16790.000</td>\n",
       "    </tr>\n",
       "    <tr>\n",
       "      <th>vat</th>\n",
       "      <td>VAT deductible</td>\n",
       "      <td>Price negotiable</td>\n",
       "      <td>VAT deductible</td>\n",
       "      <td>NaN</td>\n",
       "      <td>NaN</td>\n",
       "    </tr>\n",
       "    <tr>\n",
       "      <th>km</th>\n",
       "      <td>56013.000</td>\n",
       "      <td>80000.000</td>\n",
       "      <td>83450.000</td>\n",
       "      <td>73000.000</td>\n",
       "      <td>16200.000</td>\n",
       "    </tr>\n",
       "    <tr>\n",
       "      <th>registration</th>\n",
       "      <td>2016.000</td>\n",
       "      <td>2017.000</td>\n",
       "      <td>2016.000</td>\n",
       "      <td>2016.000</td>\n",
       "      <td>2016.000</td>\n",
       "    </tr>\n",
       "    <tr>\n",
       "      <th>prev_owner</th>\n",
       "      <td>2.000</td>\n",
       "      <td>NaN</td>\n",
       "      <td>1.000</td>\n",
       "      <td>1.000</td>\n",
       "      <td>1.000</td>\n",
       "    </tr>\n",
       "    <tr>\n",
       "      <th>hp_kW</th>\n",
       "      <td>66.000</td>\n",
       "      <td>141.000</td>\n",
       "      <td>85.000</td>\n",
       "      <td>66.000</td>\n",
       "      <td>66.000</td>\n",
       "    </tr>\n",
       "    <tr>\n",
       "      <th>type</th>\n",
       "      <td>Used</td>\n",
       "      <td>Used</td>\n",
       "      <td>Used</td>\n",
       "      <td>Used</td>\n",
       "      <td>Used</td>\n",
       "    </tr>\n",
       "    <tr>\n",
       "      <th>previous_owners</th>\n",
       "      <td>2.000</td>\n",
       "      <td>NaN</td>\n",
       "      <td>1.000</td>\n",
       "      <td>1.000</td>\n",
       "      <td>1.000</td>\n",
       "    </tr>\n",
       "    <tr>\n",
       "      <th>warranty</th>\n",
       "      <td>NaN</td>\n",
       "      <td>NaN</td>\n",
       "      <td>NaN</td>\n",
       "      <td>NaN</td>\n",
       "      <td>NaN</td>\n",
       "    </tr>\n",
       "    <tr>\n",
       "      <th>make</th>\n",
       "      <td>Audi</td>\n",
       "      <td>Audi</td>\n",
       "      <td>Audi</td>\n",
       "      <td>Audi</td>\n",
       "      <td>Audi</td>\n",
       "    </tr>\n",
       "    <tr>\n",
       "      <th>model</th>\n",
       "      <td>A1</td>\n",
       "      <td>A1</td>\n",
       "      <td>A1</td>\n",
       "      <td>A1</td>\n",
       "      <td>A1</td>\n",
       "    </tr>\n",
       "    <tr>\n",
       "      <th>body_color</th>\n",
       "      <td>Black</td>\n",
       "      <td>Red</td>\n",
       "      <td>Black</td>\n",
       "      <td>Brown</td>\n",
       "      <td>Black</td>\n",
       "    </tr>\n",
       "    <tr>\n",
       "      <th>paint_type</th>\n",
       "      <td>Metallic</td>\n",
       "      <td>NaN</td>\n",
       "      <td>Metallic</td>\n",
       "      <td>Metallic</td>\n",
       "      <td>Metallic</td>\n",
       "    </tr>\n",
       "    <tr>\n",
       "      <th>body_color_original</th>\n",
       "      <td>Mythosschwarz</td>\n",
       "      <td>NaN</td>\n",
       "      <td>mythosschwarz metallic</td>\n",
       "      <td>NaN</td>\n",
       "      <td>Mythosschwarz Metallic</td>\n",
       "    </tr>\n",
       "    <tr>\n",
       "      <th>upholstery</th>\n",
       "      <td>Cloth</td>\n",
       "      <td>Cloth</td>\n",
       "      <td>Cloth</td>\n",
       "      <td>NaN</td>\n",
       "      <td>Cloth</td>\n",
       "    </tr>\n",
       "    <tr>\n",
       "      <th>nr_of_doors</th>\n",
       "      <td>5.000</td>\n",
       "      <td>3.000</td>\n",
       "      <td>4.000</td>\n",
       "      <td>3.000</td>\n",
       "      <td>5.000</td>\n",
       "    </tr>\n",
       "    <tr>\n",
       "      <th>nr_of_seats</th>\n",
       "      <td>5.000</td>\n",
       "      <td>4.000</td>\n",
       "      <td>4.000</td>\n",
       "      <td>4.000</td>\n",
       "      <td>5.000</td>\n",
       "    </tr>\n",
       "    <tr>\n",
       "      <th>gearing_type</th>\n",
       "      <td>Automatic</td>\n",
       "      <td>Automatic</td>\n",
       "      <td>Automatic</td>\n",
       "      <td>Automatic</td>\n",
       "      <td>Automatic</td>\n",
       "    </tr>\n",
       "    <tr>\n",
       "      <th>engine_displacement_cc</th>\n",
       "      <td>1422.000</td>\n",
       "      <td>1798.000</td>\n",
       "      <td>1598.000</td>\n",
       "      <td>1422.000</td>\n",
       "      <td>1422.000</td>\n",
       "    </tr>\n",
       "    <tr>\n",
       "      <th>cylinders</th>\n",
       "      <td>3.000</td>\n",
       "      <td>4.000</td>\n",
       "      <td>NaN</td>\n",
       "      <td>3.000</td>\n",
       "      <td>3.000</td>\n",
       "    </tr>\n",
       "    <tr>\n",
       "      <th>weight_kg</th>\n",
       "      <td>1220.000</td>\n",
       "      <td>1255.000</td>\n",
       "      <td>NaN</td>\n",
       "      <td>1195.000</td>\n",
       "      <td>NaN</td>\n",
       "    </tr>\n",
       "    <tr>\n",
       "      <th>drive_chain</th>\n",
       "      <td>front</td>\n",
       "      <td>front</td>\n",
       "      <td>front</td>\n",
       "      <td>NaN</td>\n",
       "      <td>front</td>\n",
       "    </tr>\n",
       "    <tr>\n",
       "      <th>fuel</th>\n",
       "      <td>Diesel</td>\n",
       "      <td>Gasoline</td>\n",
       "      <td>Diesel</td>\n",
       "      <td>Diesel</td>\n",
       "      <td>Diesel</td>\n",
       "    </tr>\n",
       "    <tr>\n",
       "      <th>co2e_g</th>\n",
       "      <td>99.000</td>\n",
       "      <td>129.000</td>\n",
       "      <td>99.000</td>\n",
       "      <td>99.000</td>\n",
       "      <td>109.000</td>\n",
       "    </tr>\n",
       "    <tr>\n",
       "      <th>emission_class</th>\n",
       "      <td>Euro 6</td>\n",
       "      <td>Euro 6</td>\n",
       "      <td>Euro 6</td>\n",
       "      <td>Euro 6</td>\n",
       "      <td>Euro 6</td>\n",
       "    </tr>\n",
       "    <tr>\n",
       "      <th>comfort&amp;convenience</th>\n",
       "      <td>Air conditioning,Armrest,Automatic climate con...</td>\n",
       "      <td>Air conditioning,Automatic climate control,Hil...</td>\n",
       "      <td>Air conditioning,Cruise control,Electrical sid...</td>\n",
       "      <td>Air suspension,Armrest,Auxiliary heating,Elect...</td>\n",
       "      <td>Air conditioning,Armrest,Automatic climate con...</td>\n",
       "    </tr>\n",
       "    <tr>\n",
       "      <th>entertainment&amp;media</th>\n",
       "      <td>Bluetooth,Hands-free equipment,On-board comput...</td>\n",
       "      <td>Bluetooth,Hands-free equipment,On-board comput...</td>\n",
       "      <td>MP3,On-board computer</td>\n",
       "      <td>Bluetooth,CD player,Hands-free equipment,MP3,O...</td>\n",
       "      <td>Bluetooth,CD player,Hands-free equipment,MP3,O...</td>\n",
       "    </tr>\n",
       "    <tr>\n",
       "      <th>extras</th>\n",
       "      <td>Alloy wheels,Catalytic Converter,Voice Control</td>\n",
       "      <td>Alloy wheels,Sport seats,Sport suspension,Voic...</td>\n",
       "      <td>Alloy wheels,Voice Control</td>\n",
       "      <td>Alloy wheels,Sport seats,Voice Control</td>\n",
       "      <td>Alloy wheels,Sport package,Sport suspension,Vo...</td>\n",
       "    </tr>\n",
       "    <tr>\n",
       "      <th>safety&amp;security</th>\n",
       "      <td>ABS,Central door lock,Daytime running lights,D...</td>\n",
       "      <td>ABS,Central door lock,Central door lock with r...</td>\n",
       "      <td>ABS,Central door lock,Daytime running lights,D...</td>\n",
       "      <td>ABS,Alarm system,Central door lock with remote...</td>\n",
       "      <td>ABS,Central door lock,Driver-side airbag,Elect...</td>\n",
       "    </tr>\n",
       "    <tr>\n",
       "      <th>gears</th>\n",
       "      <td>NaN</td>\n",
       "      <td>7.000</td>\n",
       "      <td>NaN</td>\n",
       "      <td>6.000</td>\n",
       "      <td>NaN</td>\n",
       "    </tr>\n",
       "    <tr>\n",
       "      <th>country_version</th>\n",
       "      <td>NaN</td>\n",
       "      <td>NaN</td>\n",
       "      <td>NaN</td>\n",
       "      <td>NaN</td>\n",
       "      <td>Germany</td>\n",
       "    </tr>\n",
       "    <tr>\n",
       "      <th>consumption_comb</th>\n",
       "      <td>3.800</td>\n",
       "      <td>5.600</td>\n",
       "      <td>3.800</td>\n",
       "      <td>3.800</td>\n",
       "      <td>4.100</td>\n",
       "    </tr>\n",
       "    <tr>\n",
       "      <th>consumption_city</th>\n",
       "      <td>4.300</td>\n",
       "      <td>7.100</td>\n",
       "      <td>4.400</td>\n",
       "      <td>4.300</td>\n",
       "      <td>4.600</td>\n",
       "    </tr>\n",
       "    <tr>\n",
       "      <th>consumption_cuntry</th>\n",
       "      <td>3.500</td>\n",
       "      <td>4.700</td>\n",
       "      <td>3.400</td>\n",
       "      <td>3.500</td>\n",
       "      <td>3.800</td>\n",
       "    </tr>\n",
       "  </tbody>\n",
       "</table>\n",
       "</div>"
      ],
      "text/plain": [
       "                                                                        0  \\\n",
       "short_description             Sportback 1.4 TDI S-tronic Xenon Navi Klima   \n",
       "body_type                                                          Sedans   \n",
       "price_€                                                         15770.000   \n",
       "vat                                                        VAT deductible   \n",
       "km                                                              56013.000   \n",
       "registration                                                     2016.000   \n",
       "prev_owner                                                          2.000   \n",
       "hp_kW                                                              66.000   \n",
       "type                                                                 Used   \n",
       "previous_owners                                                     2.000   \n",
       "warranty                                                              NaN   \n",
       "make                                                                 Audi   \n",
       "model                                                                  A1   \n",
       "body_color                                                          Black   \n",
       "paint_type                                                       Metallic   \n",
       "body_color_original                                         Mythosschwarz   \n",
       "upholstery                                                          Cloth   \n",
       "nr_of_doors                                                         5.000   \n",
       "nr_of_seats                                                         5.000   \n",
       "gearing_type                                                    Automatic   \n",
       "engine_displacement_cc                                           1422.000   \n",
       "cylinders                                                           3.000   \n",
       "weight_kg                                                        1220.000   \n",
       "drive_chain                                                         front   \n",
       "fuel                                                               Diesel   \n",
       "co2e_g                                                             99.000   \n",
       "emission_class                                                     Euro 6   \n",
       "comfort&convenience     Air conditioning,Armrest,Automatic climate con...   \n",
       "entertainment&media     Bluetooth,Hands-free equipment,On-board comput...   \n",
       "extras                     Alloy wheels,Catalytic Converter,Voice Control   \n",
       "safety&security         ABS,Central door lock,Daytime running lights,D...   \n",
       "gears                                                                 NaN   \n",
       "country_version                                                       NaN   \n",
       "consumption_comb                                                    3.800   \n",
       "consumption_city                                                    4.300   \n",
       "consumption_cuntry                                                  3.500   \n",
       "\n",
       "                                                                        1  \\\n",
       "short_description                                          1.8 TFSI sport   \n",
       "body_type                                                          Sedans   \n",
       "price_€                                                         14500.000   \n",
       "vat                                                      Price negotiable   \n",
       "km                                                              80000.000   \n",
       "registration                                                     2017.000   \n",
       "prev_owner                                                            NaN   \n",
       "hp_kW                                                             141.000   \n",
       "type                                                                 Used   \n",
       "previous_owners                                                       NaN   \n",
       "warranty                                                              NaN   \n",
       "make                                                                 Audi   \n",
       "model                                                                  A1   \n",
       "body_color                                                            Red   \n",
       "paint_type                                                            NaN   \n",
       "body_color_original                                                   NaN   \n",
       "upholstery                                                          Cloth   \n",
       "nr_of_doors                                                         3.000   \n",
       "nr_of_seats                                                         4.000   \n",
       "gearing_type                                                    Automatic   \n",
       "engine_displacement_cc                                           1798.000   \n",
       "cylinders                                                           4.000   \n",
       "weight_kg                                                        1255.000   \n",
       "drive_chain                                                         front   \n",
       "fuel                                                             Gasoline   \n",
       "co2e_g                                                            129.000   \n",
       "emission_class                                                     Euro 6   \n",
       "comfort&convenience     Air conditioning,Automatic climate control,Hil...   \n",
       "entertainment&media     Bluetooth,Hands-free equipment,On-board comput...   \n",
       "extras                  Alloy wheels,Sport seats,Sport suspension,Voic...   \n",
       "safety&security         ABS,Central door lock,Central door lock with r...   \n",
       "gears                                                               7.000   \n",
       "country_version                                                       NaN   \n",
       "consumption_comb                                                    5.600   \n",
       "consumption_city                                                    7.100   \n",
       "consumption_cuntry                                                  4.700   \n",
       "\n",
       "                                                                        2  \\\n",
       "short_description       Sportback 1.6 TDI S tronic Einparkhilfe plus+m...   \n",
       "body_type                                                          Sedans   \n",
       "price_€                                                         14640.000   \n",
       "vat                                                        VAT deductible   \n",
       "km                                                              83450.000   \n",
       "registration                                                     2016.000   \n",
       "prev_owner                                                          1.000   \n",
       "hp_kW                                                              85.000   \n",
       "type                                                                 Used   \n",
       "previous_owners                                                     1.000   \n",
       "warranty                                                              NaN   \n",
       "make                                                                 Audi   \n",
       "model                                                                  A1   \n",
       "body_color                                                          Black   \n",
       "paint_type                                                       Metallic   \n",
       "body_color_original                                mythosschwarz metallic   \n",
       "upholstery                                                          Cloth   \n",
       "nr_of_doors                                                         4.000   \n",
       "nr_of_seats                                                         4.000   \n",
       "gearing_type                                                    Automatic   \n",
       "engine_displacement_cc                                           1598.000   \n",
       "cylinders                                                             NaN   \n",
       "weight_kg                                                             NaN   \n",
       "drive_chain                                                         front   \n",
       "fuel                                                               Diesel   \n",
       "co2e_g                                                             99.000   \n",
       "emission_class                                                     Euro 6   \n",
       "comfort&convenience     Air conditioning,Cruise control,Electrical sid...   \n",
       "entertainment&media                                 MP3,On-board computer   \n",
       "extras                                         Alloy wheels,Voice Control   \n",
       "safety&security         ABS,Central door lock,Daytime running lights,D...   \n",
       "gears                                                                 NaN   \n",
       "country_version                                                       NaN   \n",
       "consumption_comb                                                    3.800   \n",
       "consumption_city                                                    4.400   \n",
       "consumption_cuntry                                                  3.400   \n",
       "\n",
       "                                                                        3  \\\n",
       "short_description                                 1.4 TDi Design S tronic   \n",
       "body_type                                                          Sedans   \n",
       "price_€                                                         14500.000   \n",
       "vat                                                                   NaN   \n",
       "km                                                              73000.000   \n",
       "registration                                                     2016.000   \n",
       "prev_owner                                                          1.000   \n",
       "hp_kW                                                              66.000   \n",
       "type                                                                 Used   \n",
       "previous_owners                                                     1.000   \n",
       "warranty                                                              NaN   \n",
       "make                                                                 Audi   \n",
       "model                                                                  A1   \n",
       "body_color                                                          Brown   \n",
       "paint_type                                                       Metallic   \n",
       "body_color_original                                                   NaN   \n",
       "upholstery                                                            NaN   \n",
       "nr_of_doors                                                         3.000   \n",
       "nr_of_seats                                                         4.000   \n",
       "gearing_type                                                    Automatic   \n",
       "engine_displacement_cc                                           1422.000   \n",
       "cylinders                                                           3.000   \n",
       "weight_kg                                                        1195.000   \n",
       "drive_chain                                                           NaN   \n",
       "fuel                                                               Diesel   \n",
       "co2e_g                                                             99.000   \n",
       "emission_class                                                     Euro 6   \n",
       "comfort&convenience     Air suspension,Armrest,Auxiliary heating,Elect...   \n",
       "entertainment&media     Bluetooth,CD player,Hands-free equipment,MP3,O...   \n",
       "extras                             Alloy wheels,Sport seats,Voice Control   \n",
       "safety&security         ABS,Alarm system,Central door lock with remote...   \n",
       "gears                                                               6.000   \n",
       "country_version                                                       NaN   \n",
       "consumption_comb                                                    3.800   \n",
       "consumption_city                                                    4.300   \n",
       "consumption_cuntry                                                  3.500   \n",
       "\n",
       "                                                                        4  \n",
       "short_description       Sportback 1.4 TDI S-Tronic S-Line Ext. admired...  \n",
       "body_type                                                          Sedans  \n",
       "price_€                                                         16790.000  \n",
       "vat                                                                   NaN  \n",
       "km                                                              16200.000  \n",
       "registration                                                     2016.000  \n",
       "prev_owner                                                          1.000  \n",
       "hp_kW                                                              66.000  \n",
       "type                                                                 Used  \n",
       "previous_owners                                                     1.000  \n",
       "warranty                                                              NaN  \n",
       "make                                                                 Audi  \n",
       "model                                                                  A1  \n",
       "body_color                                                          Black  \n",
       "paint_type                                                       Metallic  \n",
       "body_color_original                                Mythosschwarz Metallic  \n",
       "upholstery                                                          Cloth  \n",
       "nr_of_doors                                                         5.000  \n",
       "nr_of_seats                                                         5.000  \n",
       "gearing_type                                                    Automatic  \n",
       "engine_displacement_cc                                           1422.000  \n",
       "cylinders                                                           3.000  \n",
       "weight_kg                                                             NaN  \n",
       "drive_chain                                                         front  \n",
       "fuel                                                               Diesel  \n",
       "co2e_g                                                            109.000  \n",
       "emission_class                                                     Euro 6  \n",
       "comfort&convenience     Air conditioning,Armrest,Automatic climate con...  \n",
       "entertainment&media     Bluetooth,CD player,Hands-free equipment,MP3,O...  \n",
       "extras                  Alloy wheels,Sport package,Sport suspension,Vo...  \n",
       "safety&security         ABS,Central door lock,Driver-side airbag,Elect...  \n",
       "gears                                                                 NaN  \n",
       "country_version                                                   Germany  \n",
       "consumption_comb                                                    4.100  \n",
       "consumption_city                                                    4.600  \n",
       "consumption_cuntry                                                  3.800  "
      ]
     },
     "execution_count": 5,
     "metadata": {},
     "output_type": "execute_result"
    }
   ],
   "source": [
    "df.head().T"
   ]
  },
  {
   "cell_type": "code",
   "execution_count": 6,
   "metadata": {
    "ExecuteTime": {
     "end_time": "2022-08-03T08:59:19.926928Z",
     "start_time": "2022-08-03T08:59:19.912966Z"
    }
   },
   "outputs": [
    {
     "data": {
      "text/plain": [
       "(15919, 36)"
      ]
     },
     "execution_count": 6,
     "metadata": {},
     "output_type": "execute_result"
    }
   ],
   "source": [
    "df.shape"
   ]
  },
  {
   "cell_type": "code",
   "execution_count": 7,
   "metadata": {
    "ExecuteTime": {
     "end_time": "2022-08-03T08:59:19.990886Z",
     "start_time": "2022-08-03T08:59:19.929051Z"
    }
   },
   "outputs": [
    {
     "data": {
      "text/plain": [
       "short_description            46\n",
       "body_type                    60\n",
       "price_€                       0\n",
       "vat                        4513\n",
       "km                         1024\n",
       "registration               1597\n",
       "prev_owner                 6828\n",
       "hp_kW                        88\n",
       "type                          2\n",
       "previous_owners            6640\n",
       "warranty                  11066\n",
       "make                          0\n",
       "model                         0\n",
       "body_color                  597\n",
       "paint_type                 5772\n",
       "body_color_original        3774\n",
       "upholstery                 3720\n",
       "nr_of_doors                 212\n",
       "nr_of_seats                 977\n",
       "gearing_type                  0\n",
       "engine_displacement_cc      496\n",
       "cylinders                  5680\n",
       "weight_kg                  6974\n",
       "drive_chain                6858\n",
       "fuel                          0\n",
       "co2e_g                     2442\n",
       "emission_class             3628\n",
       "comfort&convenience         920\n",
       "entertainment&media        1374\n",
       "extras                     2962\n",
       "safety&security             982\n",
       "gears                      4712\n",
       "country_version            8333\n",
       "consumption_comb           3790\n",
       "consumption_city           4039\n",
       "consumption_cuntry         3365\n",
       "dtype: int64"
      ]
     },
     "execution_count": 7,
     "metadata": {},
     "output_type": "execute_result"
    }
   ],
   "source": [
    "df.isnull().sum()"
   ]
  },
  {
   "cell_type": "code",
   "execution_count": 8,
   "metadata": {
    "ExecuteTime": {
     "end_time": "2022-08-03T08:59:20.006843Z",
     "start_time": "2022-08-03T08:59:19.993879Z"
    }
   },
   "outputs": [],
   "source": [
    "# df.duplicated().value_counts()\n",
    "# we decided not to drop duplicates for this project. Because every row has different URL column in original data set."
   ]
  },
  {
   "cell_type": "code",
   "execution_count": 9,
   "metadata": {
    "ExecuteTime": {
     "end_time": "2022-08-03T08:59:20.022800Z",
     "start_time": "2022-08-03T08:59:20.010832Z"
    }
   },
   "outputs": [],
   "source": [
    "df0 = df.copy()"
   ]
  },
  {
   "cell_type": "code",
   "execution_count": 10,
   "metadata": {
    "ExecuteTime": {
     "end_time": "2022-08-03T08:59:20.054231Z",
     "start_time": "2022-08-03T08:59:20.025793Z"
    }
   },
   "outputs": [],
   "source": [
    "# df.drop_duplicates(keep = \"first\", inplace = True, ignore_index=True)"
   ]
  },
  {
   "cell_type": "code",
   "execution_count": 11,
   "metadata": {
    "ExecuteTime": {
     "end_time": "2022-08-03T08:59:20.070187Z",
     "start_time": "2022-08-03T08:59:20.056224Z"
    }
   },
   "outputs": [],
   "source": [
    "def check_other_column_values(row) :\n",
    "    if any(i in str(row) for i in col_list) :\n",
    "        return True\n",
    "    else :\n",
    "        False\n",
    "\n",
    "def find_easy(col_main, col_other, pattern) :\n",
    "    global col_list\n",
    "    col_list = list(df[col_main].dropna().unique())\n",
    "    if df[col_other].apply(check_other_column_values).isnull().sum() > 0 :\n",
    "        df[\"find\"] = df[col_other].str.extract(pattern)\n",
    "        x_sum = df[df[col_main].isnull()][\"find\"].notna().sum()\n",
    "        if x_sum > 0 :\n",
    "            return f\"{col_other} has {x_sum} values. You can fill {col_main} with them.\"\n",
    "        else :\n",
    "            return f\"There ins't any useful information in {col_other} to fill {col_main}.\""
   ]
  },
  {
   "cell_type": "code",
   "execution_count": 12,
   "metadata": {
    "ExecuteTime": {
     "end_time": "2022-08-03T08:59:20.164447Z",
     "start_time": "2022-08-03T08:59:20.076172Z"
    }
   },
   "outputs": [
    {
     "data": {
      "text/html": [
       "<div>\n",
       "<style scoped>\n",
       "    .dataframe tbody tr th:only-of-type {\n",
       "        vertical-align: middle;\n",
       "    }\n",
       "\n",
       "    .dataframe tbody tr th {\n",
       "        vertical-align: top;\n",
       "    }\n",
       "\n",
       "    .dataframe thead th {\n",
       "        text-align: right;\n",
       "    }\n",
       "</style>\n",
       "<table border=\"1\" class=\"dataframe\">\n",
       "  <thead>\n",
       "    <tr style=\"text-align: right;\">\n",
       "      <th></th>\n",
       "      <th>count</th>\n",
       "      <th>mean</th>\n",
       "      <th>std</th>\n",
       "      <th>min</th>\n",
       "      <th>25%</th>\n",
       "      <th>50%</th>\n",
       "      <th>75%</th>\n",
       "      <th>max</th>\n",
       "    </tr>\n",
       "  </thead>\n",
       "  <tbody>\n",
       "    <tr>\n",
       "      <th>price_€</th>\n",
       "      <td>15919.000</td>\n",
       "      <td>18019.897</td>\n",
       "      <td>7386.169</td>\n",
       "      <td>13.000</td>\n",
       "      <td>12850.000</td>\n",
       "      <td>16900.000</td>\n",
       "      <td>21900.000</td>\n",
       "      <td>74600.000</td>\n",
       "    </tr>\n",
       "    <tr>\n",
       "      <th>km</th>\n",
       "      <td>14895.000</td>\n",
       "      <td>34130.128</td>\n",
       "      <td>37352.978</td>\n",
       "      <td>0.000</td>\n",
       "      <td>5153.000</td>\n",
       "      <td>22740.000</td>\n",
       "      <td>49371.500</td>\n",
       "      <td>317000.000</td>\n",
       "    </tr>\n",
       "    <tr>\n",
       "      <th>registration</th>\n",
       "      <td>14322.000</td>\n",
       "      <td>2017.458</td>\n",
       "      <td>1.077</td>\n",
       "      <td>2016.000</td>\n",
       "      <td>2016.000</td>\n",
       "      <td>2018.000</td>\n",
       "      <td>2018.000</td>\n",
       "      <td>2019.000</td>\n",
       "    </tr>\n",
       "    <tr>\n",
       "      <th>prev_owner</th>\n",
       "      <td>9091.000</td>\n",
       "      <td>1.090</td>\n",
       "      <td>0.295</td>\n",
       "      <td>1.000</td>\n",
       "      <td>1.000</td>\n",
       "      <td>1.000</td>\n",
       "      <td>1.000</td>\n",
       "      <td>4.000</td>\n",
       "    </tr>\n",
       "    <tr>\n",
       "      <th>hp_kW</th>\n",
       "      <td>15831.000</td>\n",
       "      <td>88.368</td>\n",
       "      <td>26.835</td>\n",
       "      <td>1.000</td>\n",
       "      <td>66.000</td>\n",
       "      <td>85.000</td>\n",
       "      <td>101.000</td>\n",
       "      <td>294.000</td>\n",
       "    </tr>\n",
       "    <tr>\n",
       "      <th>previous_owners</th>\n",
       "      <td>9279.000</td>\n",
       "      <td>1.068</td>\n",
       "      <td>0.330</td>\n",
       "      <td>0.000</td>\n",
       "      <td>1.000</td>\n",
       "      <td>1.000</td>\n",
       "      <td>1.000</td>\n",
       "      <td>4.000</td>\n",
       "    </tr>\n",
       "    <tr>\n",
       "      <th>warranty</th>\n",
       "      <td>4853.000</td>\n",
       "      <td>21.927</td>\n",
       "      <td>15.771</td>\n",
       "      <td>1.000</td>\n",
       "      <td>12.000</td>\n",
       "      <td>12.000</td>\n",
       "      <td>24.000</td>\n",
       "      <td>72.000</td>\n",
       "    </tr>\n",
       "    <tr>\n",
       "      <th>nr_of_doors</th>\n",
       "      <td>15707.000</td>\n",
       "      <td>4.656</td>\n",
       "      <td>0.645</td>\n",
       "      <td>1.000</td>\n",
       "      <td>4.000</td>\n",
       "      <td>5.000</td>\n",
       "      <td>5.000</td>\n",
       "      <td>7.000</td>\n",
       "    </tr>\n",
       "    <tr>\n",
       "      <th>nr_of_seats</th>\n",
       "      <td>14942.000</td>\n",
       "      <td>4.950</td>\n",
       "      <td>0.490</td>\n",
       "      <td>2.000</td>\n",
       "      <td>5.000</td>\n",
       "      <td>5.000</td>\n",
       "      <td>5.000</td>\n",
       "      <td>7.000</td>\n",
       "    </tr>\n",
       "    <tr>\n",
       "      <th>engine_displacement_cc</th>\n",
       "      <td>15423.000</td>\n",
       "      <td>1423.541</td>\n",
       "      <td>333.531</td>\n",
       "      <td>1.000</td>\n",
       "      <td>1229.000</td>\n",
       "      <td>1461.000</td>\n",
       "      <td>1598.000</td>\n",
       "      <td>16000.000</td>\n",
       "    </tr>\n",
       "    <tr>\n",
       "      <th>cylinders</th>\n",
       "      <td>10239.000</td>\n",
       "      <td>3.797</td>\n",
       "      <td>0.415</td>\n",
       "      <td>1.000</td>\n",
       "      <td>4.000</td>\n",
       "      <td>4.000</td>\n",
       "      <td>4.000</td>\n",
       "      <td>8.000</td>\n",
       "    </tr>\n",
       "    <tr>\n",
       "      <th>weight_kg</th>\n",
       "      <td>8945.000</td>\n",
       "      <td>1351.107</td>\n",
       "      <td>220.662</td>\n",
       "      <td>1.000</td>\n",
       "      <td>1165.000</td>\n",
       "      <td>1288.000</td>\n",
       "      <td>1487.000</td>\n",
       "      <td>2471.000</td>\n",
       "    </tr>\n",
       "    <tr>\n",
       "      <th>co2e_g</th>\n",
       "      <td>13477.000</td>\n",
       "      <td>123.794</td>\n",
       "      <td>270.000</td>\n",
       "      <td>14.000</td>\n",
       "      <td>104.000</td>\n",
       "      <td>116.000</td>\n",
       "      <td>129.000</td>\n",
       "      <td>14457.000</td>\n",
       "    </tr>\n",
       "    <tr>\n",
       "      <th>gears</th>\n",
       "      <td>11207.000</td>\n",
       "      <td>5.925</td>\n",
       "      <td>0.848</td>\n",
       "      <td>1.000</td>\n",
       "      <td>5.000</td>\n",
       "      <td>6.000</td>\n",
       "      <td>6.000</td>\n",
       "      <td>50.000</td>\n",
       "    </tr>\n",
       "    <tr>\n",
       "      <th>consumption_comb</th>\n",
       "      <td>12129.000</td>\n",
       "      <td>4.861</td>\n",
       "      <td>0.906</td>\n",
       "      <td>1.200</td>\n",
       "      <td>4.200</td>\n",
       "      <td>4.800</td>\n",
       "      <td>5.500</td>\n",
       "      <td>13.800</td>\n",
       "    </tr>\n",
       "    <tr>\n",
       "      <th>consumption_city</th>\n",
       "      <td>11880.000</td>\n",
       "      <td>5.973</td>\n",
       "      <td>1.409</td>\n",
       "      <td>3.300</td>\n",
       "      <td>4.700</td>\n",
       "      <td>5.800</td>\n",
       "      <td>7.100</td>\n",
       "      <td>19.900</td>\n",
       "    </tr>\n",
       "    <tr>\n",
       "      <th>consumption_cuntry</th>\n",
       "      <td>12554.000</td>\n",
       "      <td>4.214</td>\n",
       "      <td>0.676</td>\n",
       "      <td>2.900</td>\n",
       "      <td>3.700</td>\n",
       "      <td>4.200</td>\n",
       "      <td>4.600</td>\n",
       "      <td>10.300</td>\n",
       "    </tr>\n",
       "  </tbody>\n",
       "</table>\n",
       "</div>"
      ],
      "text/plain": [
       "                           count      mean       std      min       25%  \\\n",
       "price_€                15919.000 18019.897  7386.169   13.000 12850.000   \n",
       "km                     14895.000 34130.128 37352.978    0.000  5153.000   \n",
       "registration           14322.000  2017.458     1.077 2016.000  2016.000   \n",
       "prev_owner              9091.000     1.090     0.295    1.000     1.000   \n",
       "hp_kW                  15831.000    88.368    26.835    1.000    66.000   \n",
       "previous_owners         9279.000     1.068     0.330    0.000     1.000   \n",
       "warranty                4853.000    21.927    15.771    1.000    12.000   \n",
       "nr_of_doors            15707.000     4.656     0.645    1.000     4.000   \n",
       "nr_of_seats            14942.000     4.950     0.490    2.000     5.000   \n",
       "engine_displacement_cc 15423.000  1423.541   333.531    1.000  1229.000   \n",
       "cylinders              10239.000     3.797     0.415    1.000     4.000   \n",
       "weight_kg               8945.000  1351.107   220.662    1.000  1165.000   \n",
       "co2e_g                 13477.000   123.794   270.000   14.000   104.000   \n",
       "gears                  11207.000     5.925     0.848    1.000     5.000   \n",
       "consumption_comb       12129.000     4.861     0.906    1.200     4.200   \n",
       "consumption_city       11880.000     5.973     1.409    3.300     4.700   \n",
       "consumption_cuntry     12554.000     4.214     0.676    2.900     3.700   \n",
       "\n",
       "                             50%       75%        max  \n",
       "price_€                16900.000 21900.000  74600.000  \n",
       "km                     22740.000 49371.500 317000.000  \n",
       "registration            2018.000  2018.000   2019.000  \n",
       "prev_owner                 1.000     1.000      4.000  \n",
       "hp_kW                     85.000   101.000    294.000  \n",
       "previous_owners            1.000     1.000      4.000  \n",
       "warranty                  12.000    24.000     72.000  \n",
       "nr_of_doors                5.000     5.000      7.000  \n",
       "nr_of_seats                5.000     5.000      7.000  \n",
       "engine_displacement_cc  1461.000  1598.000  16000.000  \n",
       "cylinders                  4.000     4.000      8.000  \n",
       "weight_kg               1288.000  1487.000   2471.000  \n",
       "co2e_g                   116.000   129.000  14457.000  \n",
       "gears                      6.000     6.000     50.000  \n",
       "consumption_comb           4.800     5.500     13.800  \n",
       "consumption_city           5.800     7.100     19.900  \n",
       "consumption_cuntry         4.200     4.600     10.300  "
      ]
     },
     "execution_count": 12,
     "metadata": {},
     "output_type": "execute_result"
    }
   ],
   "source": [
    "df.describe().T"
   ]
  },
  {
   "cell_type": "code",
   "execution_count": 13,
   "metadata": {
    "ExecuteTime": {
     "end_time": "2022-08-03T08:59:20.289114Z",
     "start_time": "2022-08-03T08:59:20.167441Z"
    }
   },
   "outputs": [
    {
     "data": {
      "text/html": [
       "<div>\n",
       "<style scoped>\n",
       "    .dataframe tbody tr th:only-of-type {\n",
       "        vertical-align: middle;\n",
       "    }\n",
       "\n",
       "    .dataframe tbody tr th {\n",
       "        vertical-align: top;\n",
       "    }\n",
       "\n",
       "    .dataframe thead th {\n",
       "        text-align: right;\n",
       "    }\n",
       "</style>\n",
       "<table border=\"1\" class=\"dataframe\">\n",
       "  <thead>\n",
       "    <tr style=\"text-align: right;\">\n",
       "      <th></th>\n",
       "      <th>count</th>\n",
       "      <th>unique</th>\n",
       "      <th>top</th>\n",
       "      <th>freq</th>\n",
       "    </tr>\n",
       "  </thead>\n",
       "  <tbody>\n",
       "    <tr>\n",
       "      <th>short_description</th>\n",
       "      <td>15873</td>\n",
       "      <td>10001</td>\n",
       "      <td>SPB 1.6 TDI 116 CV S tronic Sport</td>\n",
       "      <td>64</td>\n",
       "    </tr>\n",
       "    <tr>\n",
       "      <th>body_type</th>\n",
       "      <td>15859</td>\n",
       "      <td>9</td>\n",
       "      <td>Sedans</td>\n",
       "      <td>7903</td>\n",
       "    </tr>\n",
       "    <tr>\n",
       "      <th>vat</th>\n",
       "      <td>11406</td>\n",
       "      <td>2</td>\n",
       "      <td>VAT deductible</td>\n",
       "      <td>10980</td>\n",
       "    </tr>\n",
       "    <tr>\n",
       "      <th>type</th>\n",
       "      <td>15917</td>\n",
       "      <td>5</td>\n",
       "      <td>Used</td>\n",
       "      <td>11096</td>\n",
       "    </tr>\n",
       "    <tr>\n",
       "      <th>make</th>\n",
       "      <td>15919</td>\n",
       "      <td>3</td>\n",
       "      <td>Opel</td>\n",
       "      <td>7343</td>\n",
       "    </tr>\n",
       "    <tr>\n",
       "      <th>model</th>\n",
       "      <td>15919</td>\n",
       "      <td>9</td>\n",
       "      <td>A3</td>\n",
       "      <td>3097</td>\n",
       "    </tr>\n",
       "    <tr>\n",
       "      <th>body_color</th>\n",
       "      <td>15322</td>\n",
       "      <td>14</td>\n",
       "      <td>Black</td>\n",
       "      <td>3745</td>\n",
       "    </tr>\n",
       "    <tr>\n",
       "      <th>paint_type</th>\n",
       "      <td>10147</td>\n",
       "      <td>3</td>\n",
       "      <td>Metallic</td>\n",
       "      <td>9794</td>\n",
       "    </tr>\n",
       "    <tr>\n",
       "      <th>body_color_original</th>\n",
       "      <td>12145</td>\n",
       "      <td>1926</td>\n",
       "      <td>Onyx Schwarz</td>\n",
       "      <td>338</td>\n",
       "    </tr>\n",
       "    <tr>\n",
       "      <th>upholstery</th>\n",
       "      <td>12199</td>\n",
       "      <td>6</td>\n",
       "      <td>Cloth</td>\n",
       "      <td>9206</td>\n",
       "    </tr>\n",
       "    <tr>\n",
       "      <th>gearing_type</th>\n",
       "      <td>15919</td>\n",
       "      <td>3</td>\n",
       "      <td>Manual</td>\n",
       "      <td>8153</td>\n",
       "    </tr>\n",
       "    <tr>\n",
       "      <th>drive_chain</th>\n",
       "      <td>9061</td>\n",
       "      <td>3</td>\n",
       "      <td>front</td>\n",
       "      <td>8886</td>\n",
       "    </tr>\n",
       "    <tr>\n",
       "      <th>fuel</th>\n",
       "      <td>15919</td>\n",
       "      <td>5</td>\n",
       "      <td>Diesel</td>\n",
       "      <td>7299</td>\n",
       "    </tr>\n",
       "    <tr>\n",
       "      <th>emission_class</th>\n",
       "      <td>12291</td>\n",
       "      <td>6</td>\n",
       "      <td>Euro 6</td>\n",
       "      <td>10139</td>\n",
       "    </tr>\n",
       "    <tr>\n",
       "      <th>comfort&amp;convenience</th>\n",
       "      <td>14999</td>\n",
       "      <td>6198</td>\n",
       "      <td>Air conditioning,Electrical side mirrors,Hill ...</td>\n",
       "      <td>216</td>\n",
       "    </tr>\n",
       "    <tr>\n",
       "      <th>entertainment&amp;media</th>\n",
       "      <td>14545</td>\n",
       "      <td>346</td>\n",
       "      <td>Bluetooth,Hands-free equipment,On-board comput...</td>\n",
       "      <td>1282</td>\n",
       "    </tr>\n",
       "    <tr>\n",
       "      <th>extras</th>\n",
       "      <td>12957</td>\n",
       "      <td>659</td>\n",
       "      <td>Alloy wheels</td>\n",
       "      <td>3245</td>\n",
       "    </tr>\n",
       "    <tr>\n",
       "      <th>safety&amp;security</th>\n",
       "      <td>14937</td>\n",
       "      <td>4443</td>\n",
       "      <td>ABS,Central door lock,Daytime running lights,D...</td>\n",
       "      <td>538</td>\n",
       "    </tr>\n",
       "    <tr>\n",
       "      <th>country_version</th>\n",
       "      <td>7586</td>\n",
       "      <td>23</td>\n",
       "      <td>Germany</td>\n",
       "      <td>4502</td>\n",
       "    </tr>\n",
       "  </tbody>\n",
       "</table>\n",
       "</div>"
      ],
      "text/plain": [
       "                     count unique  \\\n",
       "short_description    15873  10001   \n",
       "body_type            15859      9   \n",
       "vat                  11406      2   \n",
       "type                 15917      5   \n",
       "make                 15919      3   \n",
       "model                15919      9   \n",
       "body_color           15322     14   \n",
       "paint_type           10147      3   \n",
       "body_color_original  12145   1926   \n",
       "upholstery           12199      6   \n",
       "gearing_type         15919      3   \n",
       "drive_chain           9061      3   \n",
       "fuel                 15919      5   \n",
       "emission_class       12291      6   \n",
       "comfort&convenience  14999   6198   \n",
       "entertainment&media  14545    346   \n",
       "extras               12957    659   \n",
       "safety&security      14937   4443   \n",
       "country_version       7586     23   \n",
       "\n",
       "                                                                   top   freq  \n",
       "short_description                    SPB 1.6 TDI 116 CV S tronic Sport     64  \n",
       "body_type                                                       Sedans   7903  \n",
       "vat                                                     VAT deductible  10980  \n",
       "type                                                              Used  11096  \n",
       "make                                                              Opel   7343  \n",
       "model                                                               A3   3097  \n",
       "body_color                                                       Black   3745  \n",
       "paint_type                                                    Metallic   9794  \n",
       "body_color_original                                       Onyx Schwarz    338  \n",
       "upholstery                                                       Cloth   9206  \n",
       "gearing_type                                                    Manual   8153  \n",
       "drive_chain                                                      front   8886  \n",
       "fuel                                                            Diesel   7299  \n",
       "emission_class                                                  Euro 6  10139  \n",
       "comfort&convenience  Air conditioning,Electrical side mirrors,Hill ...    216  \n",
       "entertainment&media  Bluetooth,Hands-free equipment,On-board comput...   1282  \n",
       "extras                                                    Alloy wheels   3245  \n",
       "safety&security      ABS,Central door lock,Daytime running lights,D...    538  \n",
       "country_version                                                Germany   4502  "
      ]
     },
     "execution_count": 13,
     "metadata": {},
     "output_type": "execute_result"
    }
   ],
   "source": [
    "df.describe(include=\"object\").T"
   ]
  },
  {
   "cell_type": "code",
   "execution_count": 14,
   "metadata": {
    "ExecuteTime": {
     "end_time": "2022-08-03T08:59:20.304074Z",
     "start_time": "2022-08-03T08:59:20.291109Z"
    }
   },
   "outputs": [
    {
     "data": {
      "text/plain": [
       "0       3.000\n",
       "1       2.000\n",
       "2       3.000\n",
       "3       3.000\n",
       "4       3.000\n",
       "         ... \n",
       "15914     NaN\n",
       "15915   0.000\n",
       "15916   0.000\n",
       "15917   0.000\n",
       "15918   0.000\n",
       "Name: age, Length: 15919, dtype: float64"
      ]
     },
     "execution_count": 14,
     "metadata": {},
     "output_type": "execute_result"
    }
   ],
   "source": [
    "df[\"age\"] = 2019 - df.registration\n",
    "df.age"
   ]
  },
  {
   "cell_type": "code",
   "execution_count": 15,
   "metadata": {
    "ExecuteTime": {
     "end_time": "2022-08-03T08:59:20.334991Z",
     "start_time": "2022-08-03T08:59:20.306069Z"
    }
   },
   "outputs": [
    {
     "data": {
      "text/plain": [
       "1.000    4522\n",
       "3.000    3674\n",
       "2.000    3273\n",
       "0.000    2853\n",
       "NaN      1597\n",
       "Name: age, dtype: int64"
      ]
     },
     "execution_count": 15,
     "metadata": {},
     "output_type": "execute_result"
    }
   ],
   "source": [
    "df.age.value_counts(dropna=False)"
   ]
  },
  {
   "cell_type": "code",
   "execution_count": 16,
   "metadata": {
    "ExecuteTime": {
     "end_time": "2022-08-03T08:59:20.366905Z",
     "start_time": "2022-08-03T08:59:20.339978Z"
    }
   },
   "outputs": [],
   "source": [
    "df.drop([\"registration\", \"short_description\"], axis=1, inplace=True)"
   ]
  },
  {
   "cell_type": "code",
   "execution_count": 17,
   "metadata": {
    "ExecuteTime": {
     "end_time": "2022-08-03T08:59:20.397822Z",
     "start_time": "2022-08-03T08:59:20.369898Z"
    }
   },
   "outputs": [],
   "source": [
    "def check_df(col):\n",
    "    print('column name : ', col)\n",
    "    print('-+-'*25)\n",
    "    print('Per_of_Nulls   : ', '%', round(df[col].isnull().sum() / df.shape[0]*100, 2))\n",
    "    print('Num_of_Nulls   : ', df[col].isnull().sum())\n",
    "    print(df[col].value_counts(dropna = False))\n",
    "    print(\"*\"*30)\n",
    "    print(\"\\n\\n\")"
   ]
  },
  {
   "cell_type": "markdown",
   "metadata": {},
   "source": [
    "## 1 body type"
   ]
  },
  {
   "cell_type": "code",
   "execution_count": 18,
   "metadata": {
    "ExecuteTime": {
     "end_time": "2022-08-03T08:59:20.413780Z",
     "start_time": "2022-08-03T08:59:20.400821Z"
    }
   },
   "outputs": [
    {
     "name": "stdout",
     "output_type": "stream",
     "text": [
      "column name :  body_type\n",
      "-+--+--+--+--+--+--+--+--+--+--+--+--+--+--+--+--+--+--+--+--+--+--+--+--+-\n",
      "Per_of_Nulls   :  % 0.38\n",
      "Num_of_Nulls   :  60\n",
      "Sedans           7903\n",
      "Station wagon    3553\n",
      "Compact          3153\n",
      "Van               783\n",
      "Other             290\n",
      "Transporter        88\n",
      "NaN                60\n",
      "Off-Road           56\n",
      "Coupe              25\n",
      "Convertible         8\n",
      "Name: body_type, dtype: int64\n",
      "******************************\n",
      "\n",
      "\n",
      "\n"
     ]
    }
   ],
   "source": [
    "check_df(\"body_type\")"
   ]
  },
  {
   "cell_type": "code",
   "execution_count": 19,
   "metadata": {
    "ExecuteTime": {
     "end_time": "2022-08-03T08:59:20.460656Z",
     "start_time": "2022-08-03T08:59:20.417770Z"
    }
   },
   "outputs": [
    {
     "data": {
      "text/html": [
       "<div>\n",
       "<style scoped>\n",
       "    .dataframe tbody tr th:only-of-type {\n",
       "        vertical-align: middle;\n",
       "    }\n",
       "\n",
       "    .dataframe tbody tr th {\n",
       "        vertical-align: top;\n",
       "    }\n",
       "\n",
       "    .dataframe thead th {\n",
       "        text-align: right;\n",
       "    }\n",
       "</style>\n",
       "<table border=\"1\" class=\"dataframe\">\n",
       "  <thead>\n",
       "    <tr style=\"text-align: right;\">\n",
       "      <th></th>\n",
       "      <th>make</th>\n",
       "      <th>model</th>\n",
       "      <th>nr_of_doors</th>\n",
       "      <th>nr_of_seats</th>\n",
       "    </tr>\n",
       "  </thead>\n",
       "  <tbody>\n",
       "    <tr>\n",
       "      <th>3175</th>\n",
       "      <td>Audi</td>\n",
       "      <td>A3</td>\n",
       "      <td>5.000</td>\n",
       "      <td>5.000</td>\n",
       "    </tr>\n",
       "    <tr>\n",
       "      <th>3255</th>\n",
       "      <td>Audi</td>\n",
       "      <td>A3</td>\n",
       "      <td>3.000</td>\n",
       "      <td>5.000</td>\n",
       "    </tr>\n",
       "    <tr>\n",
       "      <th>3975</th>\n",
       "      <td>Audi</td>\n",
       "      <td>A3</td>\n",
       "      <td>5.000</td>\n",
       "      <td>5.000</td>\n",
       "    </tr>\n",
       "    <tr>\n",
       "      <th>3997</th>\n",
       "      <td>Audi</td>\n",
       "      <td>A3</td>\n",
       "      <td>3.000</td>\n",
       "      <td>NaN</td>\n",
       "    </tr>\n",
       "    <tr>\n",
       "      <th>4206</th>\n",
       "      <td>Audi</td>\n",
       "      <td>A3</td>\n",
       "      <td>5.000</td>\n",
       "      <td>NaN</td>\n",
       "    </tr>\n",
       "    <tr>\n",
       "      <th>4297</th>\n",
       "      <td>Audi</td>\n",
       "      <td>A3</td>\n",
       "      <td>5.000</td>\n",
       "      <td>NaN</td>\n",
       "    </tr>\n",
       "    <tr>\n",
       "      <th>4298</th>\n",
       "      <td>Audi</td>\n",
       "      <td>A3</td>\n",
       "      <td>5.000</td>\n",
       "      <td>NaN</td>\n",
       "    </tr>\n",
       "    <tr>\n",
       "      <th>5718</th>\n",
       "      <td>Opel</td>\n",
       "      <td>Astra</td>\n",
       "      <td>5.000</td>\n",
       "      <td>NaN</td>\n",
       "    </tr>\n",
       "    <tr>\n",
       "      <th>5938</th>\n",
       "      <td>Opel</td>\n",
       "      <td>Astra</td>\n",
       "      <td>5.000</td>\n",
       "      <td>NaN</td>\n",
       "    </tr>\n",
       "    <tr>\n",
       "      <th>5940</th>\n",
       "      <td>Opel</td>\n",
       "      <td>Astra</td>\n",
       "      <td>5.000</td>\n",
       "      <td>NaN</td>\n",
       "    </tr>\n",
       "    <tr>\n",
       "      <th>6920</th>\n",
       "      <td>Opel</td>\n",
       "      <td>Astra</td>\n",
       "      <td>5.000</td>\n",
       "      <td>NaN</td>\n",
       "    </tr>\n",
       "    <tr>\n",
       "      <th>6922</th>\n",
       "      <td>Opel</td>\n",
       "      <td>Astra</td>\n",
       "      <td>5.000</td>\n",
       "      <td>NaN</td>\n",
       "    </tr>\n",
       "    <tr>\n",
       "      <th>6927</th>\n",
       "      <td>Opel</td>\n",
       "      <td>Astra</td>\n",
       "      <td>5.000</td>\n",
       "      <td>NaN</td>\n",
       "    </tr>\n",
       "    <tr>\n",
       "      <th>7709</th>\n",
       "      <td>Opel</td>\n",
       "      <td>Astra</td>\n",
       "      <td>5.000</td>\n",
       "      <td>NaN</td>\n",
       "    </tr>\n",
       "    <tr>\n",
       "      <th>8408</th>\n",
       "      <td>Opel</td>\n",
       "      <td>Corsa</td>\n",
       "      <td>5.000</td>\n",
       "      <td>5.000</td>\n",
       "    </tr>\n",
       "    <tr>\n",
       "      <th>8584</th>\n",
       "      <td>Opel</td>\n",
       "      <td>Corsa</td>\n",
       "      <td>NaN</td>\n",
       "      <td>NaN</td>\n",
       "    </tr>\n",
       "    <tr>\n",
       "      <th>10837</th>\n",
       "      <td>Opel</td>\n",
       "      <td>Insignia</td>\n",
       "      <td>5.000</td>\n",
       "      <td>NaN</td>\n",
       "    </tr>\n",
       "    <tr>\n",
       "      <th>10838</th>\n",
       "      <td>Opel</td>\n",
       "      <td>Insignia</td>\n",
       "      <td>5.000</td>\n",
       "      <td>NaN</td>\n",
       "    </tr>\n",
       "    <tr>\n",
       "      <th>10857</th>\n",
       "      <td>Opel</td>\n",
       "      <td>Insignia</td>\n",
       "      <td>5.000</td>\n",
       "      <td>NaN</td>\n",
       "    </tr>\n",
       "    <tr>\n",
       "      <th>13430</th>\n",
       "      <td>Renault</td>\n",
       "      <td>Clio</td>\n",
       "      <td>5.000</td>\n",
       "      <td>NaN</td>\n",
       "    </tr>\n",
       "    <tr>\n",
       "      <th>13470</th>\n",
       "      <td>Renault</td>\n",
       "      <td>Clio</td>\n",
       "      <td>5.000</td>\n",
       "      <td>NaN</td>\n",
       "    </tr>\n",
       "    <tr>\n",
       "      <th>13576</th>\n",
       "      <td>Renault</td>\n",
       "      <td>Clio</td>\n",
       "      <td>5.000</td>\n",
       "      <td>NaN</td>\n",
       "    </tr>\n",
       "    <tr>\n",
       "      <th>13703</th>\n",
       "      <td>Renault</td>\n",
       "      <td>Clio</td>\n",
       "      <td>5.000</td>\n",
       "      <td>NaN</td>\n",
       "    </tr>\n",
       "    <tr>\n",
       "      <th>13725</th>\n",
       "      <td>Renault</td>\n",
       "      <td>Clio</td>\n",
       "      <td>5.000</td>\n",
       "      <td>NaN</td>\n",
       "    </tr>\n",
       "    <tr>\n",
       "      <th>13852</th>\n",
       "      <td>Renault</td>\n",
       "      <td>Clio</td>\n",
       "      <td>5.000</td>\n",
       "      <td>NaN</td>\n",
       "    </tr>\n",
       "    <tr>\n",
       "      <th>13900</th>\n",
       "      <td>Renault</td>\n",
       "      <td>Clio</td>\n",
       "      <td>5.000</td>\n",
       "      <td>NaN</td>\n",
       "    </tr>\n",
       "    <tr>\n",
       "      <th>14107</th>\n",
       "      <td>Renault</td>\n",
       "      <td>Clio</td>\n",
       "      <td>5.000</td>\n",
       "      <td>NaN</td>\n",
       "    </tr>\n",
       "    <tr>\n",
       "      <th>14124</th>\n",
       "      <td>Renault</td>\n",
       "      <td>Clio</td>\n",
       "      <td>5.000</td>\n",
       "      <td>NaN</td>\n",
       "    </tr>\n",
       "    <tr>\n",
       "      <th>14127</th>\n",
       "      <td>Renault</td>\n",
       "      <td>Clio</td>\n",
       "      <td>5.000</td>\n",
       "      <td>NaN</td>\n",
       "    </tr>\n",
       "    <tr>\n",
       "      <th>14134</th>\n",
       "      <td>Renault</td>\n",
       "      <td>Clio</td>\n",
       "      <td>5.000</td>\n",
       "      <td>NaN</td>\n",
       "    </tr>\n",
       "    <tr>\n",
       "      <th>14135</th>\n",
       "      <td>Renault</td>\n",
       "      <td>Clio</td>\n",
       "      <td>5.000</td>\n",
       "      <td>NaN</td>\n",
       "    </tr>\n",
       "    <tr>\n",
       "      <th>14480</th>\n",
       "      <td>Renault</td>\n",
       "      <td>Clio</td>\n",
       "      <td>5.000</td>\n",
       "      <td>5.000</td>\n",
       "    </tr>\n",
       "    <tr>\n",
       "      <th>14869</th>\n",
       "      <td>Renault</td>\n",
       "      <td>Clio</td>\n",
       "      <td>5.000</td>\n",
       "      <td>5.000</td>\n",
       "    </tr>\n",
       "    <tr>\n",
       "      <th>14870</th>\n",
       "      <td>Renault</td>\n",
       "      <td>Clio</td>\n",
       "      <td>5.000</td>\n",
       "      <td>5.000</td>\n",
       "    </tr>\n",
       "    <tr>\n",
       "      <th>14928</th>\n",
       "      <td>Renault</td>\n",
       "      <td>Espace</td>\n",
       "      <td>5.000</td>\n",
       "      <td>NaN</td>\n",
       "    </tr>\n",
       "    <tr>\n",
       "      <th>14990</th>\n",
       "      <td>Renault</td>\n",
       "      <td>Espace</td>\n",
       "      <td>5.000</td>\n",
       "      <td>NaN</td>\n",
       "    </tr>\n",
       "    <tr>\n",
       "      <th>15058</th>\n",
       "      <td>Renault</td>\n",
       "      <td>Espace</td>\n",
       "      <td>5.000</td>\n",
       "      <td>NaN</td>\n",
       "    </tr>\n",
       "    <tr>\n",
       "      <th>15059</th>\n",
       "      <td>Renault</td>\n",
       "      <td>Espace</td>\n",
       "      <td>5.000</td>\n",
       "      <td>NaN</td>\n",
       "    </tr>\n",
       "    <tr>\n",
       "      <th>15060</th>\n",
       "      <td>Renault</td>\n",
       "      <td>Espace</td>\n",
       "      <td>5.000</td>\n",
       "      <td>NaN</td>\n",
       "    </tr>\n",
       "    <tr>\n",
       "      <th>15124</th>\n",
       "      <td>Renault</td>\n",
       "      <td>Espace</td>\n",
       "      <td>5.000</td>\n",
       "      <td>NaN</td>\n",
       "    </tr>\n",
       "    <tr>\n",
       "      <th>15269</th>\n",
       "      <td>Renault</td>\n",
       "      <td>Espace</td>\n",
       "      <td>5.000</td>\n",
       "      <td>NaN</td>\n",
       "    </tr>\n",
       "    <tr>\n",
       "      <th>15275</th>\n",
       "      <td>Renault</td>\n",
       "      <td>Espace</td>\n",
       "      <td>5.000</td>\n",
       "      <td>NaN</td>\n",
       "    </tr>\n",
       "    <tr>\n",
       "      <th>15289</th>\n",
       "      <td>Renault</td>\n",
       "      <td>Espace</td>\n",
       "      <td>5.000</td>\n",
       "      <td>NaN</td>\n",
       "    </tr>\n",
       "    <tr>\n",
       "      <th>15307</th>\n",
       "      <td>Renault</td>\n",
       "      <td>Espace</td>\n",
       "      <td>5.000</td>\n",
       "      <td>NaN</td>\n",
       "    </tr>\n",
       "    <tr>\n",
       "      <th>15378</th>\n",
       "      <td>Renault</td>\n",
       "      <td>Espace</td>\n",
       "      <td>5.000</td>\n",
       "      <td>NaN</td>\n",
       "    </tr>\n",
       "    <tr>\n",
       "      <th>15437</th>\n",
       "      <td>Renault</td>\n",
       "      <td>Espace</td>\n",
       "      <td>5.000</td>\n",
       "      <td>7.000</td>\n",
       "    </tr>\n",
       "    <tr>\n",
       "      <th>15452</th>\n",
       "      <td>Renault</td>\n",
       "      <td>Espace</td>\n",
       "      <td>5.000</td>\n",
       "      <td>NaN</td>\n",
       "    </tr>\n",
       "    <tr>\n",
       "      <th>15456</th>\n",
       "      <td>Renault</td>\n",
       "      <td>Espace</td>\n",
       "      <td>5.000</td>\n",
       "      <td>NaN</td>\n",
       "    </tr>\n",
       "    <tr>\n",
       "      <th>15457</th>\n",
       "      <td>Renault</td>\n",
       "      <td>Espace</td>\n",
       "      <td>5.000</td>\n",
       "      <td>NaN</td>\n",
       "    </tr>\n",
       "    <tr>\n",
       "      <th>15488</th>\n",
       "      <td>Renault</td>\n",
       "      <td>Espace</td>\n",
       "      <td>5.000</td>\n",
       "      <td>NaN</td>\n",
       "    </tr>\n",
       "    <tr>\n",
       "      <th>15489</th>\n",
       "      <td>Renault</td>\n",
       "      <td>Espace</td>\n",
       "      <td>5.000</td>\n",
       "      <td>7.000</td>\n",
       "    </tr>\n",
       "    <tr>\n",
       "      <th>15491</th>\n",
       "      <td>Renault</td>\n",
       "      <td>Espace</td>\n",
       "      <td>5.000</td>\n",
       "      <td>7.000</td>\n",
       "    </tr>\n",
       "    <tr>\n",
       "      <th>15499</th>\n",
       "      <td>Renault</td>\n",
       "      <td>Espace</td>\n",
       "      <td>5.000</td>\n",
       "      <td>NaN</td>\n",
       "    </tr>\n",
       "    <tr>\n",
       "      <th>15544</th>\n",
       "      <td>Renault</td>\n",
       "      <td>Espace</td>\n",
       "      <td>5.000</td>\n",
       "      <td>NaN</td>\n",
       "    </tr>\n",
       "    <tr>\n",
       "      <th>15556</th>\n",
       "      <td>Renault</td>\n",
       "      <td>Espace</td>\n",
       "      <td>5.000</td>\n",
       "      <td>NaN</td>\n",
       "    </tr>\n",
       "    <tr>\n",
       "      <th>15589</th>\n",
       "      <td>Renault</td>\n",
       "      <td>Espace</td>\n",
       "      <td>5.000</td>\n",
       "      <td>7.000</td>\n",
       "    </tr>\n",
       "    <tr>\n",
       "      <th>15696</th>\n",
       "      <td>Renault</td>\n",
       "      <td>Espace</td>\n",
       "      <td>5.000</td>\n",
       "      <td>7.000</td>\n",
       "    </tr>\n",
       "    <tr>\n",
       "      <th>15712</th>\n",
       "      <td>Renault</td>\n",
       "      <td>Espace</td>\n",
       "      <td>5.000</td>\n",
       "      <td>7.000</td>\n",
       "    </tr>\n",
       "    <tr>\n",
       "      <th>15736</th>\n",
       "      <td>Renault</td>\n",
       "      <td>Espace</td>\n",
       "      <td>5.000</td>\n",
       "      <td>NaN</td>\n",
       "    </tr>\n",
       "    <tr>\n",
       "      <th>15770</th>\n",
       "      <td>Renault</td>\n",
       "      <td>Espace</td>\n",
       "      <td>5.000</td>\n",
       "      <td>NaN</td>\n",
       "    </tr>\n",
       "  </tbody>\n",
       "</table>\n",
       "</div>"
      ],
      "text/plain": [
       "          make     model  nr_of_doors  nr_of_seats\n",
       "3175      Audi        A3        5.000        5.000\n",
       "3255      Audi        A3        3.000        5.000\n",
       "3975      Audi        A3        5.000        5.000\n",
       "3997      Audi        A3        3.000          NaN\n",
       "4206      Audi        A3        5.000          NaN\n",
       "4297      Audi        A3        5.000          NaN\n",
       "4298      Audi        A3        5.000          NaN\n",
       "5718      Opel     Astra        5.000          NaN\n",
       "5938      Opel     Astra        5.000          NaN\n",
       "5940      Opel     Astra        5.000          NaN\n",
       "6920      Opel     Astra        5.000          NaN\n",
       "6922      Opel     Astra        5.000          NaN\n",
       "6927      Opel     Astra        5.000          NaN\n",
       "7709      Opel     Astra        5.000          NaN\n",
       "8408      Opel     Corsa        5.000        5.000\n",
       "8584      Opel     Corsa          NaN          NaN\n",
       "10837     Opel  Insignia        5.000          NaN\n",
       "10838     Opel  Insignia        5.000          NaN\n",
       "10857     Opel  Insignia        5.000          NaN\n",
       "13430  Renault      Clio        5.000          NaN\n",
       "13470  Renault      Clio        5.000          NaN\n",
       "13576  Renault      Clio        5.000          NaN\n",
       "13703  Renault      Clio        5.000          NaN\n",
       "13725  Renault      Clio        5.000          NaN\n",
       "13852  Renault      Clio        5.000          NaN\n",
       "13900  Renault      Clio        5.000          NaN\n",
       "14107  Renault      Clio        5.000          NaN\n",
       "14124  Renault      Clio        5.000          NaN\n",
       "14127  Renault      Clio        5.000          NaN\n",
       "14134  Renault      Clio        5.000          NaN\n",
       "14135  Renault      Clio        5.000          NaN\n",
       "14480  Renault      Clio        5.000        5.000\n",
       "14869  Renault      Clio        5.000        5.000\n",
       "14870  Renault      Clio        5.000        5.000\n",
       "14928  Renault    Espace        5.000          NaN\n",
       "14990  Renault    Espace        5.000          NaN\n",
       "15058  Renault    Espace        5.000          NaN\n",
       "15059  Renault    Espace        5.000          NaN\n",
       "15060  Renault    Espace        5.000          NaN\n",
       "15124  Renault    Espace        5.000          NaN\n",
       "15269  Renault    Espace        5.000          NaN\n",
       "15275  Renault    Espace        5.000          NaN\n",
       "15289  Renault    Espace        5.000          NaN\n",
       "15307  Renault    Espace        5.000          NaN\n",
       "15378  Renault    Espace        5.000          NaN\n",
       "15437  Renault    Espace        5.000        7.000\n",
       "15452  Renault    Espace        5.000          NaN\n",
       "15456  Renault    Espace        5.000          NaN\n",
       "15457  Renault    Espace        5.000          NaN\n",
       "15488  Renault    Espace        5.000          NaN\n",
       "15489  Renault    Espace        5.000        7.000\n",
       "15491  Renault    Espace        5.000        7.000\n",
       "15499  Renault    Espace        5.000          NaN\n",
       "15544  Renault    Espace        5.000          NaN\n",
       "15556  Renault    Espace        5.000          NaN\n",
       "15589  Renault    Espace        5.000        7.000\n",
       "15696  Renault    Espace        5.000        7.000\n",
       "15712  Renault    Espace        5.000        7.000\n",
       "15736  Renault    Espace        5.000          NaN\n",
       "15770  Renault    Espace        5.000          NaN"
      ]
     },
     "execution_count": 19,
     "metadata": {},
     "output_type": "execute_result"
    }
   ],
   "source": [
    "df[df.body_type.isnull()][[\"make\", \"model\", \"nr_of_doors\", \"nr_of_seats\" ]]"
   ]
  },
  {
   "cell_type": "code",
   "execution_count": 20,
   "metadata": {
    "ExecuteTime": {
     "end_time": "2022-08-03T08:59:20.508527Z",
     "start_time": "2022-08-03T08:59:20.462650Z"
    }
   },
   "outputs": [
    {
     "data": {
      "text/plain": [
       "make     model   \n",
       "Audi     A1                 Sedans\n",
       "         A2               Off-Road\n",
       "         A3                 Sedans\n",
       "Opel     Astra       Station wagon\n",
       "         Corsa             Compact\n",
       "         Insignia    Station wagon\n",
       "Renault  Clio               Sedans\n",
       "         Duster           Off-Road\n",
       "         Espace                Van\n",
       "Name: top, dtype: object"
      ]
     },
     "execution_count": 20,
     "metadata": {},
     "output_type": "execute_result"
    }
   ],
   "source": [
    "df.groupby([\"make\", \"model\"])[\"body_type\"].describe(include=\"object\")[\"top\"]"
   ]
  },
  {
   "cell_type": "code",
   "execution_count": 21,
   "metadata": {
    "ExecuteTime": {
     "end_time": "2022-08-03T08:59:20.524485Z",
     "start_time": "2022-08-03T08:59:20.510522Z"
    }
   },
   "outputs": [],
   "source": [
    "# pd.set_option('display.max_rows', 150)"
   ]
  },
  {
   "cell_type": "code",
   "execution_count": 22,
   "metadata": {
    "ExecuteTime": {
     "end_time": "2022-08-03T08:59:20.556399Z",
     "start_time": "2022-08-03T08:59:20.526479Z"
    }
   },
   "outputs": [
    {
     "data": {
      "text/plain": [
       "make     model   nr_of_doors  nr_of_seats  body_type\n",
       "Audi     A1      2.000        3.000        Compact       1\n",
       "                              4.000        Compact      65\n",
       "                                           Sedans       26\n",
       "                                           Coupe         1\n",
       "                              5.000        Compact       2\n",
       "                                                        ..\n",
       "Renault  Espace  5.000        7.000        NaN           6\n",
       "                                           Other         3\n",
       "                                           Sedans        3\n",
       "                                           Off-Road      2\n",
       "                                           Compact       1\n",
       "Name: body_type, Length: 149, dtype: int64"
      ]
     },
     "execution_count": 22,
     "metadata": {},
     "output_type": "execute_result"
    }
   ],
   "source": [
    "df.groupby([\"make\", \"model\", \"nr_of_doors\", \"nr_of_seats\" ])[\"body_type\"].value_counts(dropna=False)"
   ]
  },
  {
   "cell_type": "code",
   "execution_count": 23,
   "metadata": {
    "ExecuteTime": {
     "end_time": "2022-08-03T08:59:20.604271Z",
     "start_time": "2022-08-03T08:59:20.558394Z"
    }
   },
   "outputs": [
    {
     "data": {
      "text/plain": [
       "0        Sedans\n",
       "1        Sedans\n",
       "2        Sedans\n",
       "3        Sedans\n",
       "4        Sedans\n",
       "          ...  \n",
       "15914       Van\n",
       "15915       Van\n",
       "15916       Van\n",
       "15917       Van\n",
       "15918       Van\n",
       "Name: body_type, Length: 15919, dtype: object"
      ]
     },
     "execution_count": 23,
     "metadata": {},
     "output_type": "execute_result"
    }
   ],
   "source": [
    "df.groupby([\"make\", \"model\"])[\"body_type\"].apply(lambda x: x.fillna(x.mode()[0]))"
   ]
  },
  {
   "cell_type": "code",
   "execution_count": 24,
   "metadata": {
    "ExecuteTime": {
     "end_time": "2022-08-03T08:59:20.620228Z",
     "start_time": "2022-08-03T08:59:20.606266Z"
    }
   },
   "outputs": [
    {
     "data": {
      "text/plain": [
       "Sedans           7903\n",
       "Station wagon    3553\n",
       "Compact          3153\n",
       "Van               783\n",
       "Other             290\n",
       "Transporter        88\n",
       "NaN                60\n",
       "Off-Road           56\n",
       "Coupe              25\n",
       "Convertible         8\n",
       "Name: body_type, dtype: int64"
      ]
     },
     "execution_count": 24,
     "metadata": {},
     "output_type": "execute_result"
    }
   ],
   "source": [
    "df.body_type.value_counts(dropna=False)"
   ]
  },
  {
   "cell_type": "code",
   "execution_count": 25,
   "metadata": {
    "ExecuteTime": {
     "end_time": "2022-08-03T08:59:20.668106Z",
     "start_time": "2022-08-03T08:59:20.622223Z"
    }
   },
   "outputs": [
    {
     "data": {
      "text/plain": [
       "0        Sedans\n",
       "1        Sedans\n",
       "2        Sedans\n",
       "3        Sedans\n",
       "4        Sedans\n",
       "          ...  \n",
       "15914       Van\n",
       "15915       Van\n",
       "15916       Van\n",
       "15917       Van\n",
       "15918       Van\n",
       "Name: body_type, Length: 15919, dtype: object"
      ]
     },
     "execution_count": 25,
     "metadata": {},
     "output_type": "execute_result"
    }
   ],
   "source": [
    "df.groupby([\"make\", \"model\"])[\"body_type\"].apply(lambda x: x.fillna(x.mode()[0]))"
   ]
  },
  {
   "cell_type": "code",
   "execution_count": 26,
   "metadata": {
    "ExecuteTime": {
     "end_time": "2022-08-03T08:59:20.700014Z",
     "start_time": "2022-08-03T08:59:20.671093Z"
    }
   },
   "outputs": [],
   "source": [
    "df.body_type = df.groupby([\"make\", \"model\"])[\"body_type\"].apply(lambda x: x.fillna(x.mode()[0]))"
   ]
  },
  {
   "cell_type": "code",
   "execution_count": 27,
   "metadata": {
    "ExecuteTime": {
     "end_time": "2022-08-03T08:59:20.731929Z",
     "start_time": "2022-08-03T08:59:20.708991Z"
    }
   },
   "outputs": [
    {
     "data": {
      "text/plain": [
       "Sedans           7925\n",
       "Station wagon    3563\n",
       "Compact          3155\n",
       "Van               809\n",
       "Other             290\n",
       "Transporter        88\n",
       "Off-Road           56\n",
       "Coupe              25\n",
       "Convertible         8\n",
       "Name: body_type, dtype: int64"
      ]
     },
     "execution_count": 27,
     "metadata": {},
     "output_type": "execute_result"
    }
   ],
   "source": [
    "df.body_type.value_counts(dropna=False)"
   ]
  },
  {
   "cell_type": "code",
   "execution_count": 28,
   "metadata": {
    "ExecuteTime": {
     "end_time": "2022-08-03T08:59:20.747887Z",
     "start_time": "2022-08-03T08:59:20.735919Z"
    }
   },
   "outputs": [
    {
     "data": {
      "text/plain": [
       "(15919, 35)"
      ]
     },
     "execution_count": 28,
     "metadata": {},
     "output_type": "execute_result"
    }
   ],
   "source": [
    "df.shape"
   ]
  },
  {
   "cell_type": "markdown",
   "metadata": {},
   "source": [
    "## 2 vat"
   ]
  },
  {
   "cell_type": "code",
   "execution_count": 29,
   "metadata": {
    "ExecuteTime": {
     "end_time": "2022-08-03T08:59:20.779801Z",
     "start_time": "2022-08-03T08:59:20.751880Z"
    }
   },
   "outputs": [
    {
     "name": "stdout",
     "output_type": "stream",
     "text": [
      "column name :  vat\n",
      "-+--+--+--+--+--+--+--+--+--+--+--+--+--+--+--+--+--+--+--+--+--+--+--+--+-\n",
      "Per_of_Nulls   :  % 28.35\n",
      "Num_of_Nulls   :  4513\n",
      "VAT deductible      10980\n",
      "NaN                  4513\n",
      "Price negotiable      426\n",
      "Name: vat, dtype: int64\n",
      "******************************\n",
      "\n",
      "\n",
      "\n"
     ]
    }
   ],
   "source": [
    "check_df(\"vat\")"
   ]
  },
  {
   "cell_type": "code",
   "execution_count": 30,
   "metadata": {
    "ExecuteTime": {
     "end_time": "2022-08-03T08:59:20.795759Z",
     "start_time": "2022-08-03T08:59:20.781795Z"
    }
   },
   "outputs": [
    {
     "data": {
      "text/plain": [
       "4513"
      ]
     },
     "execution_count": 30,
     "metadata": {},
     "output_type": "execute_result"
    }
   ],
   "source": [
    "df.vat.isnull().sum()"
   ]
  },
  {
   "cell_type": "code",
   "execution_count": 31,
   "metadata": {
    "ExecuteTime": {
     "end_time": "2022-08-03T08:59:20.859588Z",
     "start_time": "2022-08-03T08:59:20.799749Z"
    }
   },
   "outputs": [
    {
     "data": {
      "text/html": [
       "<div>\n",
       "<style scoped>\n",
       "    .dataframe tbody tr th:only-of-type {\n",
       "        vertical-align: middle;\n",
       "    }\n",
       "\n",
       "    .dataframe tbody tr th {\n",
       "        vertical-align: top;\n",
       "    }\n",
       "\n",
       "    .dataframe thead th {\n",
       "        text-align: right;\n",
       "    }\n",
       "</style>\n",
       "<table border=\"1\" class=\"dataframe\">\n",
       "  <thead>\n",
       "    <tr style=\"text-align: right;\">\n",
       "      <th></th>\n",
       "      <th>body_type</th>\n",
       "      <th>price_€</th>\n",
       "      <th>vat</th>\n",
       "      <th>km</th>\n",
       "      <th>prev_owner</th>\n",
       "      <th>hp_kW</th>\n",
       "      <th>type</th>\n",
       "      <th>previous_owners</th>\n",
       "      <th>warranty</th>\n",
       "      <th>make</th>\n",
       "      <th>model</th>\n",
       "      <th>body_color</th>\n",
       "      <th>paint_type</th>\n",
       "      <th>body_color_original</th>\n",
       "      <th>upholstery</th>\n",
       "      <th>nr_of_doors</th>\n",
       "      <th>nr_of_seats</th>\n",
       "      <th>gearing_type</th>\n",
       "      <th>engine_displacement_cc</th>\n",
       "      <th>cylinders</th>\n",
       "      <th>weight_kg</th>\n",
       "      <th>drive_chain</th>\n",
       "      <th>fuel</th>\n",
       "      <th>co2e_g</th>\n",
       "      <th>emission_class</th>\n",
       "      <th>comfort&amp;convenience</th>\n",
       "      <th>entertainment&amp;media</th>\n",
       "      <th>extras</th>\n",
       "      <th>safety&amp;security</th>\n",
       "      <th>gears</th>\n",
       "      <th>country_version</th>\n",
       "      <th>consumption_comb</th>\n",
       "      <th>consumption_city</th>\n",
       "      <th>consumption_cuntry</th>\n",
       "      <th>age</th>\n",
       "    </tr>\n",
       "  </thead>\n",
       "  <tbody>\n",
       "    <tr>\n",
       "      <th>0</th>\n",
       "      <td>Sedans</td>\n",
       "      <td>15770.000</td>\n",
       "      <td>VAT deductible</td>\n",
       "      <td>56013.000</td>\n",
       "      <td>2.000</td>\n",
       "      <td>66.000</td>\n",
       "      <td>Used</td>\n",
       "      <td>2.000</td>\n",
       "      <td>NaN</td>\n",
       "      <td>Audi</td>\n",
       "      <td>A1</td>\n",
       "      <td>Black</td>\n",
       "      <td>Metallic</td>\n",
       "      <td>Mythosschwarz</td>\n",
       "      <td>Cloth</td>\n",
       "      <td>5.000</td>\n",
       "      <td>5.000</td>\n",
       "      <td>Automatic</td>\n",
       "      <td>1422.000</td>\n",
       "      <td>3.000</td>\n",
       "      <td>1220.000</td>\n",
       "      <td>front</td>\n",
       "      <td>Diesel</td>\n",
       "      <td>99.000</td>\n",
       "      <td>Euro 6</td>\n",
       "      <td>Air conditioning,Armrest,Automatic climate con...</td>\n",
       "      <td>Bluetooth,Hands-free equipment,On-board comput...</td>\n",
       "      <td>Alloy wheels,Catalytic Converter,Voice Control</td>\n",
       "      <td>ABS,Central door lock,Daytime running lights,D...</td>\n",
       "      <td>NaN</td>\n",
       "      <td>NaN</td>\n",
       "      <td>3.800</td>\n",
       "      <td>4.300</td>\n",
       "      <td>3.500</td>\n",
       "      <td>3.000</td>\n",
       "    </tr>\n",
       "    <tr>\n",
       "      <th>1</th>\n",
       "      <td>Sedans</td>\n",
       "      <td>14500.000</td>\n",
       "      <td>Price negotiable</td>\n",
       "      <td>80000.000</td>\n",
       "      <td>NaN</td>\n",
       "      <td>141.000</td>\n",
       "      <td>Used</td>\n",
       "      <td>NaN</td>\n",
       "      <td>NaN</td>\n",
       "      <td>Audi</td>\n",
       "      <td>A1</td>\n",
       "      <td>Red</td>\n",
       "      <td>NaN</td>\n",
       "      <td>NaN</td>\n",
       "      <td>Cloth</td>\n",
       "      <td>3.000</td>\n",
       "      <td>4.000</td>\n",
       "      <td>Automatic</td>\n",
       "      <td>1798.000</td>\n",
       "      <td>4.000</td>\n",
       "      <td>1255.000</td>\n",
       "      <td>front</td>\n",
       "      <td>Gasoline</td>\n",
       "      <td>129.000</td>\n",
       "      <td>Euro 6</td>\n",
       "      <td>Air conditioning,Automatic climate control,Hil...</td>\n",
       "      <td>Bluetooth,Hands-free equipment,On-board comput...</td>\n",
       "      <td>Alloy wheels,Sport seats,Sport suspension,Voic...</td>\n",
       "      <td>ABS,Central door lock,Central door lock with r...</td>\n",
       "      <td>7.000</td>\n",
       "      <td>NaN</td>\n",
       "      <td>5.600</td>\n",
       "      <td>7.100</td>\n",
       "      <td>4.700</td>\n",
       "      <td>2.000</td>\n",
       "    </tr>\n",
       "    <tr>\n",
       "      <th>2</th>\n",
       "      <td>Sedans</td>\n",
       "      <td>14640.000</td>\n",
       "      <td>VAT deductible</td>\n",
       "      <td>83450.000</td>\n",
       "      <td>1.000</td>\n",
       "      <td>85.000</td>\n",
       "      <td>Used</td>\n",
       "      <td>1.000</td>\n",
       "      <td>NaN</td>\n",
       "      <td>Audi</td>\n",
       "      <td>A1</td>\n",
       "      <td>Black</td>\n",
       "      <td>Metallic</td>\n",
       "      <td>mythosschwarz metallic</td>\n",
       "      <td>Cloth</td>\n",
       "      <td>4.000</td>\n",
       "      <td>4.000</td>\n",
       "      <td>Automatic</td>\n",
       "      <td>1598.000</td>\n",
       "      <td>NaN</td>\n",
       "      <td>NaN</td>\n",
       "      <td>front</td>\n",
       "      <td>Diesel</td>\n",
       "      <td>99.000</td>\n",
       "      <td>Euro 6</td>\n",
       "      <td>Air conditioning,Cruise control,Electrical sid...</td>\n",
       "      <td>MP3,On-board computer</td>\n",
       "      <td>Alloy wheels,Voice Control</td>\n",
       "      <td>ABS,Central door lock,Daytime running lights,D...</td>\n",
       "      <td>NaN</td>\n",
       "      <td>NaN</td>\n",
       "      <td>3.800</td>\n",
       "      <td>4.400</td>\n",
       "      <td>3.400</td>\n",
       "      <td>3.000</td>\n",
       "    </tr>\n",
       "    <tr>\n",
       "      <th>3</th>\n",
       "      <td>Sedans</td>\n",
       "      <td>14500.000</td>\n",
       "      <td>NaN</td>\n",
       "      <td>73000.000</td>\n",
       "      <td>1.000</td>\n",
       "      <td>66.000</td>\n",
       "      <td>Used</td>\n",
       "      <td>1.000</td>\n",
       "      <td>NaN</td>\n",
       "      <td>Audi</td>\n",
       "      <td>A1</td>\n",
       "      <td>Brown</td>\n",
       "      <td>Metallic</td>\n",
       "      <td>NaN</td>\n",
       "      <td>NaN</td>\n",
       "      <td>3.000</td>\n",
       "      <td>4.000</td>\n",
       "      <td>Automatic</td>\n",
       "      <td>1422.000</td>\n",
       "      <td>3.000</td>\n",
       "      <td>1195.000</td>\n",
       "      <td>NaN</td>\n",
       "      <td>Diesel</td>\n",
       "      <td>99.000</td>\n",
       "      <td>Euro 6</td>\n",
       "      <td>Air suspension,Armrest,Auxiliary heating,Elect...</td>\n",
       "      <td>Bluetooth,CD player,Hands-free equipment,MP3,O...</td>\n",
       "      <td>Alloy wheels,Sport seats,Voice Control</td>\n",
       "      <td>ABS,Alarm system,Central door lock with remote...</td>\n",
       "      <td>6.000</td>\n",
       "      <td>NaN</td>\n",
       "      <td>3.800</td>\n",
       "      <td>4.300</td>\n",
       "      <td>3.500</td>\n",
       "      <td>3.000</td>\n",
       "    </tr>\n",
       "    <tr>\n",
       "      <th>4</th>\n",
       "      <td>Sedans</td>\n",
       "      <td>16790.000</td>\n",
       "      <td>NaN</td>\n",
       "      <td>16200.000</td>\n",
       "      <td>1.000</td>\n",
       "      <td>66.000</td>\n",
       "      <td>Used</td>\n",
       "      <td>1.000</td>\n",
       "      <td>NaN</td>\n",
       "      <td>Audi</td>\n",
       "      <td>A1</td>\n",
       "      <td>Black</td>\n",
       "      <td>Metallic</td>\n",
       "      <td>Mythosschwarz Metallic</td>\n",
       "      <td>Cloth</td>\n",
       "      <td>5.000</td>\n",
       "      <td>5.000</td>\n",
       "      <td>Automatic</td>\n",
       "      <td>1422.000</td>\n",
       "      <td>3.000</td>\n",
       "      <td>NaN</td>\n",
       "      <td>front</td>\n",
       "      <td>Diesel</td>\n",
       "      <td>109.000</td>\n",
       "      <td>Euro 6</td>\n",
       "      <td>Air conditioning,Armrest,Automatic climate con...</td>\n",
       "      <td>Bluetooth,CD player,Hands-free equipment,MP3,O...</td>\n",
       "      <td>Alloy wheels,Sport package,Sport suspension,Vo...</td>\n",
       "      <td>ABS,Central door lock,Driver-side airbag,Elect...</td>\n",
       "      <td>NaN</td>\n",
       "      <td>Germany</td>\n",
       "      <td>4.100</td>\n",
       "      <td>4.600</td>\n",
       "      <td>3.800</td>\n",
       "      <td>3.000</td>\n",
       "    </tr>\n",
       "  </tbody>\n",
       "</table>\n",
       "</div>"
      ],
      "text/plain": [
       "  body_type   price_€               vat        km  prev_owner   hp_kW  type  \\\n",
       "0    Sedans 15770.000    VAT deductible 56013.000       2.000  66.000  Used   \n",
       "1    Sedans 14500.000  Price negotiable 80000.000         NaN 141.000  Used   \n",
       "2    Sedans 14640.000    VAT deductible 83450.000       1.000  85.000  Used   \n",
       "3    Sedans 14500.000               NaN 73000.000       1.000  66.000  Used   \n",
       "4    Sedans 16790.000               NaN 16200.000       1.000  66.000  Used   \n",
       "\n",
       "   previous_owners  warranty  make model body_color paint_type  \\\n",
       "0            2.000       NaN  Audi    A1      Black   Metallic   \n",
       "1              NaN       NaN  Audi    A1        Red        NaN   \n",
       "2            1.000       NaN  Audi    A1      Black   Metallic   \n",
       "3            1.000       NaN  Audi    A1      Brown   Metallic   \n",
       "4            1.000       NaN  Audi    A1      Black   Metallic   \n",
       "\n",
       "      body_color_original upholstery  nr_of_doors  nr_of_seats gearing_type  \\\n",
       "0           Mythosschwarz      Cloth        5.000        5.000    Automatic   \n",
       "1                     NaN      Cloth        3.000        4.000    Automatic   \n",
       "2  mythosschwarz metallic      Cloth        4.000        4.000    Automatic   \n",
       "3                     NaN        NaN        3.000        4.000    Automatic   \n",
       "4  Mythosschwarz Metallic      Cloth        5.000        5.000    Automatic   \n",
       "\n",
       "   engine_displacement_cc  cylinders  weight_kg drive_chain      fuel  co2e_g  \\\n",
       "0                1422.000      3.000   1220.000       front    Diesel  99.000   \n",
       "1                1798.000      4.000   1255.000       front  Gasoline 129.000   \n",
       "2                1598.000        NaN        NaN       front    Diesel  99.000   \n",
       "3                1422.000      3.000   1195.000         NaN    Diesel  99.000   \n",
       "4                1422.000      3.000        NaN       front    Diesel 109.000   \n",
       "\n",
       "  emission_class                                comfort&convenience  \\\n",
       "0         Euro 6  Air conditioning,Armrest,Automatic climate con...   \n",
       "1         Euro 6  Air conditioning,Automatic climate control,Hil...   \n",
       "2         Euro 6  Air conditioning,Cruise control,Electrical sid...   \n",
       "3         Euro 6  Air suspension,Armrest,Auxiliary heating,Elect...   \n",
       "4         Euro 6  Air conditioning,Armrest,Automatic climate con...   \n",
       "\n",
       "                                 entertainment&media  \\\n",
       "0  Bluetooth,Hands-free equipment,On-board comput...   \n",
       "1  Bluetooth,Hands-free equipment,On-board comput...   \n",
       "2                              MP3,On-board computer   \n",
       "3  Bluetooth,CD player,Hands-free equipment,MP3,O...   \n",
       "4  Bluetooth,CD player,Hands-free equipment,MP3,O...   \n",
       "\n",
       "                                              extras  \\\n",
       "0     Alloy wheels,Catalytic Converter,Voice Control   \n",
       "1  Alloy wheels,Sport seats,Sport suspension,Voic...   \n",
       "2                         Alloy wheels,Voice Control   \n",
       "3             Alloy wheels,Sport seats,Voice Control   \n",
       "4  Alloy wheels,Sport package,Sport suspension,Vo...   \n",
       "\n",
       "                                     safety&security  gears country_version  \\\n",
       "0  ABS,Central door lock,Daytime running lights,D...    NaN             NaN   \n",
       "1  ABS,Central door lock,Central door lock with r...  7.000             NaN   \n",
       "2  ABS,Central door lock,Daytime running lights,D...    NaN             NaN   \n",
       "3  ABS,Alarm system,Central door lock with remote...  6.000             NaN   \n",
       "4  ABS,Central door lock,Driver-side airbag,Elect...    NaN         Germany   \n",
       "\n",
       "   consumption_comb  consumption_city  consumption_cuntry   age  \n",
       "0             3.800             4.300               3.500 3.000  \n",
       "1             5.600             7.100               4.700 2.000  \n",
       "2             3.800             4.400               3.400 3.000  \n",
       "3             3.800             4.300               3.500 3.000  \n",
       "4             4.100             4.600               3.800 3.000  "
      ]
     },
     "execution_count": 31,
     "metadata": {},
     "output_type": "execute_result"
    }
   ],
   "source": [
    "df.head()"
   ]
  },
  {
   "cell_type": "code",
   "execution_count": 32,
   "metadata": {
    "ExecuteTime": {
     "end_time": "2022-08-03T08:59:21.094470Z",
     "start_time": "2022-08-03T08:59:20.861582Z"
    }
   },
   "outputs": [
    {
     "data": {
      "text/html": [
       "<div>\n",
       "<style scoped>\n",
       "    .dataframe tbody tr th:only-of-type {\n",
       "        vertical-align: middle;\n",
       "    }\n",
       "\n",
       "    .dataframe tbody tr th {\n",
       "        vertical-align: top;\n",
       "    }\n",
       "\n",
       "    .dataframe thead tr th {\n",
       "        text-align: left;\n",
       "    }\n",
       "\n",
       "    .dataframe thead tr:last-of-type th {\n",
       "        text-align: right;\n",
       "    }\n",
       "</style>\n",
       "<table border=\"1\" class=\"dataframe\">\n",
       "  <thead>\n",
       "    <tr>\n",
       "      <th></th>\n",
       "      <th colspan=\"8\" halign=\"left\">price_€</th>\n",
       "      <th colspan=\"8\" halign=\"left\">km</th>\n",
       "      <th colspan=\"8\" halign=\"left\">prev_owner</th>\n",
       "      <th colspan=\"8\" halign=\"left\">hp_kW</th>\n",
       "      <th colspan=\"8\" halign=\"left\">previous_owners</th>\n",
       "      <th colspan=\"8\" halign=\"left\">warranty</th>\n",
       "      <th colspan=\"8\" halign=\"left\">nr_of_doors</th>\n",
       "      <th colspan=\"8\" halign=\"left\">nr_of_seats</th>\n",
       "      <th colspan=\"8\" halign=\"left\">engine_displacement_cc</th>\n",
       "      <th colspan=\"8\" halign=\"left\">cylinders</th>\n",
       "      <th colspan=\"8\" halign=\"left\">weight_kg</th>\n",
       "      <th colspan=\"8\" halign=\"left\">co2e_g</th>\n",
       "      <th colspan=\"8\" halign=\"left\">gears</th>\n",
       "      <th colspan=\"8\" halign=\"left\">consumption_comb</th>\n",
       "      <th colspan=\"8\" halign=\"left\">consumption_city</th>\n",
       "      <th colspan=\"8\" halign=\"left\">consumption_cuntry</th>\n",
       "      <th colspan=\"8\" halign=\"left\">age</th>\n",
       "    </tr>\n",
       "    <tr>\n",
       "      <th></th>\n",
       "      <th>count</th>\n",
       "      <th>mean</th>\n",
       "      <th>std</th>\n",
       "      <th>min</th>\n",
       "      <th>25%</th>\n",
       "      <th>50%</th>\n",
       "      <th>75%</th>\n",
       "      <th>max</th>\n",
       "      <th>count</th>\n",
       "      <th>mean</th>\n",
       "      <th>std</th>\n",
       "      <th>min</th>\n",
       "      <th>25%</th>\n",
       "      <th>50%</th>\n",
       "      <th>75%</th>\n",
       "      <th>max</th>\n",
       "      <th>count</th>\n",
       "      <th>mean</th>\n",
       "      <th>std</th>\n",
       "      <th>min</th>\n",
       "      <th>25%</th>\n",
       "      <th>50%</th>\n",
       "      <th>75%</th>\n",
       "      <th>max</th>\n",
       "      <th>count</th>\n",
       "      <th>mean</th>\n",
       "      <th>std</th>\n",
       "      <th>min</th>\n",
       "      <th>25%</th>\n",
       "      <th>50%</th>\n",
       "      <th>75%</th>\n",
       "      <th>max</th>\n",
       "      <th>count</th>\n",
       "      <th>mean</th>\n",
       "      <th>std</th>\n",
       "      <th>min</th>\n",
       "      <th>25%</th>\n",
       "      <th>50%</th>\n",
       "      <th>75%</th>\n",
       "      <th>max</th>\n",
       "      <th>count</th>\n",
       "      <th>mean</th>\n",
       "      <th>std</th>\n",
       "      <th>min</th>\n",
       "      <th>25%</th>\n",
       "      <th>50%</th>\n",
       "      <th>75%</th>\n",
       "      <th>max</th>\n",
       "      <th>count</th>\n",
       "      <th>mean</th>\n",
       "      <th>std</th>\n",
       "      <th>min</th>\n",
       "      <th>25%</th>\n",
       "      <th>50%</th>\n",
       "      <th>75%</th>\n",
       "      <th>max</th>\n",
       "      <th>count</th>\n",
       "      <th>mean</th>\n",
       "      <th>std</th>\n",
       "      <th>min</th>\n",
       "      <th>25%</th>\n",
       "      <th>50%</th>\n",
       "      <th>75%</th>\n",
       "      <th>max</th>\n",
       "      <th>count</th>\n",
       "      <th>mean</th>\n",
       "      <th>std</th>\n",
       "      <th>min</th>\n",
       "      <th>25%</th>\n",
       "      <th>50%</th>\n",
       "      <th>75%</th>\n",
       "      <th>max</th>\n",
       "      <th>count</th>\n",
       "      <th>mean</th>\n",
       "      <th>std</th>\n",
       "      <th>min</th>\n",
       "      <th>25%</th>\n",
       "      <th>50%</th>\n",
       "      <th>75%</th>\n",
       "      <th>max</th>\n",
       "      <th>count</th>\n",
       "      <th>mean</th>\n",
       "      <th>std</th>\n",
       "      <th>min</th>\n",
       "      <th>25%</th>\n",
       "      <th>50%</th>\n",
       "      <th>75%</th>\n",
       "      <th>max</th>\n",
       "      <th>count</th>\n",
       "      <th>mean</th>\n",
       "      <th>std</th>\n",
       "      <th>min</th>\n",
       "      <th>25%</th>\n",
       "      <th>50%</th>\n",
       "      <th>75%</th>\n",
       "      <th>max</th>\n",
       "      <th>count</th>\n",
       "      <th>mean</th>\n",
       "      <th>std</th>\n",
       "      <th>min</th>\n",
       "      <th>25%</th>\n",
       "      <th>50%</th>\n",
       "      <th>75%</th>\n",
       "      <th>max</th>\n",
       "      <th>count</th>\n",
       "      <th>mean</th>\n",
       "      <th>std</th>\n",
       "      <th>min</th>\n",
       "      <th>25%</th>\n",
       "      <th>50%</th>\n",
       "      <th>75%</th>\n",
       "      <th>max</th>\n",
       "      <th>count</th>\n",
       "      <th>mean</th>\n",
       "      <th>std</th>\n",
       "      <th>min</th>\n",
       "      <th>25%</th>\n",
       "      <th>50%</th>\n",
       "      <th>75%</th>\n",
       "      <th>max</th>\n",
       "      <th>count</th>\n",
       "      <th>mean</th>\n",
       "      <th>std</th>\n",
       "      <th>min</th>\n",
       "      <th>25%</th>\n",
       "      <th>50%</th>\n",
       "      <th>75%</th>\n",
       "      <th>max</th>\n",
       "      <th>count</th>\n",
       "      <th>mean</th>\n",
       "      <th>std</th>\n",
       "      <th>min</th>\n",
       "      <th>25%</th>\n",
       "      <th>50%</th>\n",
       "      <th>75%</th>\n",
       "      <th>max</th>\n",
       "    </tr>\n",
       "    <tr>\n",
       "      <th>vat</th>\n",
       "      <th></th>\n",
       "      <th></th>\n",
       "      <th></th>\n",
       "      <th></th>\n",
       "      <th></th>\n",
       "      <th></th>\n",
       "      <th></th>\n",
       "      <th></th>\n",
       "      <th></th>\n",
       "      <th></th>\n",
       "      <th></th>\n",
       "      <th></th>\n",
       "      <th></th>\n",
       "      <th></th>\n",
       "      <th></th>\n",
       "      <th></th>\n",
       "      <th></th>\n",
       "      <th></th>\n",
       "      <th></th>\n",
       "      <th></th>\n",
       "      <th></th>\n",
       "      <th></th>\n",
       "      <th></th>\n",
       "      <th></th>\n",
       "      <th></th>\n",
       "      <th></th>\n",
       "      <th></th>\n",
       "      <th></th>\n",
       "      <th></th>\n",
       "      <th></th>\n",
       "      <th></th>\n",
       "      <th></th>\n",
       "      <th></th>\n",
       "      <th></th>\n",
       "      <th></th>\n",
       "      <th></th>\n",
       "      <th></th>\n",
       "      <th></th>\n",
       "      <th></th>\n",
       "      <th></th>\n",
       "      <th></th>\n",
       "      <th></th>\n",
       "      <th></th>\n",
       "      <th></th>\n",
       "      <th></th>\n",
       "      <th></th>\n",
       "      <th></th>\n",
       "      <th></th>\n",
       "      <th></th>\n",
       "      <th></th>\n",
       "      <th></th>\n",
       "      <th></th>\n",
       "      <th></th>\n",
       "      <th></th>\n",
       "      <th></th>\n",
       "      <th></th>\n",
       "      <th></th>\n",
       "      <th></th>\n",
       "      <th></th>\n",
       "      <th></th>\n",
       "      <th></th>\n",
       "      <th></th>\n",
       "      <th></th>\n",
       "      <th></th>\n",
       "      <th></th>\n",
       "      <th></th>\n",
       "      <th></th>\n",
       "      <th></th>\n",
       "      <th></th>\n",
       "      <th></th>\n",
       "      <th></th>\n",
       "      <th></th>\n",
       "      <th></th>\n",
       "      <th></th>\n",
       "      <th></th>\n",
       "      <th></th>\n",
       "      <th></th>\n",
       "      <th></th>\n",
       "      <th></th>\n",
       "      <th></th>\n",
       "      <th></th>\n",
       "      <th></th>\n",
       "      <th></th>\n",
       "      <th></th>\n",
       "      <th></th>\n",
       "      <th></th>\n",
       "      <th></th>\n",
       "      <th></th>\n",
       "      <th></th>\n",
       "      <th></th>\n",
       "      <th></th>\n",
       "      <th></th>\n",
       "      <th></th>\n",
       "      <th></th>\n",
       "      <th></th>\n",
       "      <th></th>\n",
       "      <th></th>\n",
       "      <th></th>\n",
       "      <th></th>\n",
       "      <th></th>\n",
       "      <th></th>\n",
       "      <th></th>\n",
       "      <th></th>\n",
       "      <th></th>\n",
       "      <th></th>\n",
       "      <th></th>\n",
       "      <th></th>\n",
       "      <th></th>\n",
       "      <th></th>\n",
       "      <th></th>\n",
       "      <th></th>\n",
       "      <th></th>\n",
       "      <th></th>\n",
       "      <th></th>\n",
       "      <th></th>\n",
       "      <th></th>\n",
       "      <th></th>\n",
       "      <th></th>\n",
       "      <th></th>\n",
       "      <th></th>\n",
       "      <th></th>\n",
       "      <th></th>\n",
       "      <th></th>\n",
       "      <th></th>\n",
       "      <th></th>\n",
       "      <th></th>\n",
       "      <th></th>\n",
       "      <th></th>\n",
       "      <th></th>\n",
       "      <th></th>\n",
       "      <th></th>\n",
       "      <th></th>\n",
       "      <th></th>\n",
       "      <th></th>\n",
       "      <th></th>\n",
       "      <th></th>\n",
       "    </tr>\n",
       "  </thead>\n",
       "  <tbody>\n",
       "    <tr>\n",
       "      <th>Price negotiable</th>\n",
       "      <td>426.000</td>\n",
       "      <td>16097.153</td>\n",
       "      <td>6345.227</td>\n",
       "      <td>6250.000</td>\n",
       "      <td>11900.000</td>\n",
       "      <td>15449.500</td>\n",
       "      <td>18967.500</td>\n",
       "      <td>57400.000</td>\n",
       "      <td>426.000</td>\n",
       "      <td>45804.671</td>\n",
       "      <td>32718.334</td>\n",
       "      <td>1.000</td>\n",
       "      <td>21000.000</td>\n",
       "      <td>38500.000</td>\n",
       "      <td>62775.000</td>\n",
       "      <td>185000.000</td>\n",
       "      <td>266.000</td>\n",
       "      <td>1.350</td>\n",
       "      <td>0.544</td>\n",
       "      <td>1.000</td>\n",
       "      <td>1.000</td>\n",
       "      <td>1.000</td>\n",
       "      <td>2.000</td>\n",
       "      <td>4.000</td>\n",
       "      <td>426.000</td>\n",
       "      <td>88.998</td>\n",
       "      <td>29.264</td>\n",
       "      <td>51.000</td>\n",
       "      <td>66.000</td>\n",
       "      <td>85.000</td>\n",
       "      <td>103.000</td>\n",
       "      <td>294.000</td>\n",
       "      <td>266.000</td>\n",
       "      <td>1.350</td>\n",
       "      <td>0.544</td>\n",
       "      <td>1.000</td>\n",
       "      <td>1.000</td>\n",
       "      <td>1.000</td>\n",
       "      <td>2.000</td>\n",
       "      <td>4.000</td>\n",
       "      <td>28.000</td>\n",
       "      <td>16.286</td>\n",
       "      <td>10.937</td>\n",
       "      <td>12.000</td>\n",
       "      <td>12.000</td>\n",
       "      <td>12.000</td>\n",
       "      <td>12.000</td>\n",
       "      <td>60.000</td>\n",
       "      <td>421.000</td>\n",
       "      <td>4.665</td>\n",
       "      <td>0.736</td>\n",
       "      <td>2.000</td>\n",
       "      <td>5.000</td>\n",
       "      <td>5.000</td>\n",
       "      <td>5.000</td>\n",
       "      <td>7.000</td>\n",
       "      <td>413.000</td>\n",
       "      <td>4.877</td>\n",
       "      <td>0.584</td>\n",
       "      <td>2.000</td>\n",
       "      <td>5.000</td>\n",
       "      <td>5.000</td>\n",
       "      <td>5.000</td>\n",
       "      <td>7.000</td>\n",
       "      <td>416.000</td>\n",
       "      <td>1487.892</td>\n",
       "      <td>774.517</td>\n",
       "      <td>898.000</td>\n",
       "      <td>1229.000</td>\n",
       "      <td>1461.000</td>\n",
       "      <td>1598.000</td>\n",
       "      <td>16000.000</td>\n",
       "      <td>410.000</td>\n",
       "      <td>3.817</td>\n",
       "      <td>0.440</td>\n",
       "      <td>3.000</td>\n",
       "      <td>4.000</td>\n",
       "      <td>4.000</td>\n",
       "      <td>4.000</td>\n",
       "      <td>6.000</td>\n",
       "      <td>403.000</td>\n",
       "      <td>1334.950</td>\n",
       "      <td>208.951</td>\n",
       "      <td>1010.000</td>\n",
       "      <td>1165.000</td>\n",
       "      <td>1278.000</td>\n",
       "      <td>1415.000</td>\n",
       "      <td>2295.000</td>\n",
       "      <td>406.000</td>\n",
       "      <td>113.192</td>\n",
       "      <td>19.089</td>\n",
       "      <td>36.000</td>\n",
       "      <td>99.000</td>\n",
       "      <td>111.500</td>\n",
       "      <td>124.000</td>\n",
       "      <td>239.000</td>\n",
       "      <td>418.000</td>\n",
       "      <td>5.952</td>\n",
       "      <td>0.715</td>\n",
       "      <td>5.000</td>\n",
       "      <td>5.000</td>\n",
       "      <td>6.000</td>\n",
       "      <td>6.000</td>\n",
       "      <td>8.000</td>\n",
       "      <td>371.000</td>\n",
       "      <td>4.622</td>\n",
       "      <td>0.882</td>\n",
       "      <td>1.600</td>\n",
       "      <td>3.900</td>\n",
       "      <td>4.500</td>\n",
       "      <td>5.300</td>\n",
       "      <td>9.100</td>\n",
       "      <td>344.000</td>\n",
       "      <td>5.675</td>\n",
       "      <td>1.354</td>\n",
       "      <td>3.300</td>\n",
       "      <td>4.600</td>\n",
       "      <td>5.500</td>\n",
       "      <td>6.800</td>\n",
       "      <td>11.300</td>\n",
       "      <td>387.000</td>\n",
       "      <td>4.063</td>\n",
       "      <td>0.639</td>\n",
       "      <td>3.100</td>\n",
       "      <td>3.600</td>\n",
       "      <td>3.900</td>\n",
       "      <td>4.400</td>\n",
       "      <td>7.800</td>\n",
       "      <td>426.000</td>\n",
       "      <td>2.340</td>\n",
       "      <td>0.763</td>\n",
       "      <td>0.000</td>\n",
       "      <td>2.000</td>\n",
       "      <td>3.000</td>\n",
       "      <td>3.000</td>\n",
       "      <td>3.000</td>\n",
       "    </tr>\n",
       "    <tr>\n",
       "      <th>VAT deductible</th>\n",
       "      <td>10980.000</td>\n",
       "      <td>18708.520</td>\n",
       "      <td>7490.561</td>\n",
       "      <td>4990.000</td>\n",
       "      <td>13490.000</td>\n",
       "      <td>17850.000</td>\n",
       "      <td>22720.000</td>\n",
       "      <td>74600.000</td>\n",
       "      <td>10196.000</td>\n",
       "      <td>31506.393</td>\n",
       "      <td>38380.170</td>\n",
       "      <td>0.000</td>\n",
       "      <td>2499.000</td>\n",
       "      <td>19007.000</td>\n",
       "      <td>42210.500</td>\n",
       "      <td>291800.000</td>\n",
       "      <td>6777.000</td>\n",
       "      <td>1.042</td>\n",
       "      <td>0.204</td>\n",
       "      <td>1.000</td>\n",
       "      <td>1.000</td>\n",
       "      <td>1.000</td>\n",
       "      <td>1.000</td>\n",
       "      <td>3.000</td>\n",
       "      <td>10929.000</td>\n",
       "      <td>89.466</td>\n",
       "      <td>26.262</td>\n",
       "      <td>44.000</td>\n",
       "      <td>66.000</td>\n",
       "      <td>85.000</td>\n",
       "      <td>104.000</td>\n",
       "      <td>294.000</td>\n",
       "      <td>6907.000</td>\n",
       "      <td>1.022</td>\n",
       "      <td>0.246</td>\n",
       "      <td>0.000</td>\n",
       "      <td>1.000</td>\n",
       "      <td>1.000</td>\n",
       "      <td>1.000</td>\n",
       "      <td>3.000</td>\n",
       "      <td>3351.000</td>\n",
       "      <td>23.916</td>\n",
       "      <td>16.948</td>\n",
       "      <td>1.000</td>\n",
       "      <td>12.000</td>\n",
       "      <td>12.000</td>\n",
       "      <td>24.000</td>\n",
       "      <td>72.000</td>\n",
       "      <td>10820.000</td>\n",
       "      <td>4.648</td>\n",
       "      <td>0.627</td>\n",
       "      <td>1.000</td>\n",
       "      <td>4.000</td>\n",
       "      <td>5.000</td>\n",
       "      <td>5.000</td>\n",
       "      <td>5.000</td>\n",
       "      <td>10314.000</td>\n",
       "      <td>4.968</td>\n",
       "      <td>0.430</td>\n",
       "      <td>2.000</td>\n",
       "      <td>5.000</td>\n",
       "      <td>5.000</td>\n",
       "      <td>5.000</td>\n",
       "      <td>7.000</td>\n",
       "      <td>10729.000</td>\n",
       "      <td>1421.270</td>\n",
       "      <td>327.305</td>\n",
       "      <td>1.000</td>\n",
       "      <td>1229.000</td>\n",
       "      <td>1461.000</td>\n",
       "      <td>1598.000</td>\n",
       "      <td>15898.000</td>\n",
       "      <td>6794.000</td>\n",
       "      <td>3.772</td>\n",
       "      <td>0.424</td>\n",
       "      <td>1.000</td>\n",
       "      <td>4.000</td>\n",
       "      <td>4.000</td>\n",
       "      <td>4.000</td>\n",
       "      <td>6.000</td>\n",
       "      <td>5632.000</td>\n",
       "      <td>1361.925</td>\n",
       "      <td>221.296</td>\n",
       "      <td>1.000</td>\n",
       "      <td>1180.000</td>\n",
       "      <td>1308.000</td>\n",
       "      <td>1503.000</td>\n",
       "      <td>2471.000</td>\n",
       "      <td>9684.000</td>\n",
       "      <td>127.441</td>\n",
       "      <td>318.250</td>\n",
       "      <td>14.000</td>\n",
       "      <td>105.000</td>\n",
       "      <td>117.000</td>\n",
       "      <td>132.000</td>\n",
       "      <td>14457.000</td>\n",
       "      <td>7484.000</td>\n",
       "      <td>5.956</td>\n",
       "      <td>0.899</td>\n",
       "      <td>1.000</td>\n",
       "      <td>5.000</td>\n",
       "      <td>6.000</td>\n",
       "      <td>6.000</td>\n",
       "      <td>50.000</td>\n",
       "      <td>8604.000</td>\n",
       "      <td>4.935</td>\n",
       "      <td>0.908</td>\n",
       "      <td>3.100</td>\n",
       "      <td>4.200</td>\n",
       "      <td>4.900</td>\n",
       "      <td>5.600</td>\n",
       "      <td>8.700</td>\n",
       "      <td>8554.000</td>\n",
       "      <td>6.079</td>\n",
       "      <td>1.405</td>\n",
       "      <td>3.300</td>\n",
       "      <td>4.800</td>\n",
       "      <td>5.900</td>\n",
       "      <td>7.200</td>\n",
       "      <td>16.100</td>\n",
       "      <td>9021.000</td>\n",
       "      <td>4.274</td>\n",
       "      <td>0.683</td>\n",
       "      <td>2.900</td>\n",
       "      <td>3.800</td>\n",
       "      <td>4.200</td>\n",
       "      <td>4.700</td>\n",
       "      <td>7.800</td>\n",
       "      <td>9652.000</td>\n",
       "      <td>1.352</td>\n",
       "      <td>1.067</td>\n",
       "      <td>0.000</td>\n",
       "      <td>1.000</td>\n",
       "      <td>1.000</td>\n",
       "      <td>2.000</td>\n",
       "      <td>3.000</td>\n",
       "    </tr>\n",
       "  </tbody>\n",
       "</table>\n",
       "</div>"
      ],
      "text/plain": [
       "                   price_€                                                  \\\n",
       "                     count      mean      std      min       25%       50%   \n",
       "vat                                                                          \n",
       "Price negotiable   426.000 16097.153 6345.227 6250.000 11900.000 15449.500   \n",
       "VAT deductible   10980.000 18708.520 7490.561 4990.000 13490.000 17850.000   \n",
       "\n",
       "                                            km                            \\\n",
       "                       75%       max     count      mean       std   min   \n",
       "vat                                                                        \n",
       "Price negotiable 18967.500 57400.000   426.000 45804.671 32718.334 1.000   \n",
       "VAT deductible   22720.000 74600.000 10196.000 31506.393 38380.170 0.000   \n",
       "\n",
       "                                                          prev_owner        \\\n",
       "                       25%       50%       75%        max      count  mean   \n",
       "vat                                                                          \n",
       "Price negotiable 21000.000 38500.000 62775.000 185000.000    266.000 1.350   \n",
       "VAT deductible    2499.000 19007.000 42210.500 291800.000   6777.000 1.042   \n",
       "\n",
       "                                                         hp_kW                \\\n",
       "                   std   min   25%   50%   75%   max     count   mean    std   \n",
       "vat                                                                            \n",
       "Price negotiable 0.544 1.000 1.000 1.000 2.000 4.000   426.000 88.998 29.264   \n",
       "VAT deductible   0.204 1.000 1.000 1.000 1.000 3.000 10929.000 89.466 26.262   \n",
       "\n",
       "                                                      previous_owners        \\\n",
       "                    min    25%    50%     75%     max           count  mean   \n",
       "vat                                                                           \n",
       "Price negotiable 51.000 66.000 85.000 103.000 294.000         266.000 1.350   \n",
       "VAT deductible   44.000 66.000 85.000 104.000 294.000        6907.000 1.022   \n",
       "\n",
       "                                                     warranty                \\\n",
       "                   std   min   25%   50%   75%   max    count   mean    std   \n",
       "vat                                                                           \n",
       "Price negotiable 0.544 1.000 1.000 1.000 2.000 4.000   28.000 16.286 10.937   \n",
       "VAT deductible   0.246 0.000 1.000 1.000 1.000 3.000 3351.000 23.916 16.948   \n",
       "\n",
       "                                                    nr_of_doors              \\\n",
       "                    min    25%    50%    75%    max       count  mean   std   \n",
       "vat                                                                           \n",
       "Price negotiable 12.000 12.000 12.000 12.000 60.000     421.000 4.665 0.736   \n",
       "VAT deductible    1.000 12.000 12.000 24.000 72.000   10820.000 4.648 0.627   \n",
       "\n",
       "                                               nr_of_seats                    \\\n",
       "                   min   25%   50%   75%   max       count  mean   std   min   \n",
       "vat                                                                            \n",
       "Price negotiable 2.000 5.000 5.000 5.000 7.000     413.000 4.877 0.584 2.000   \n",
       "VAT deductible   1.000 4.000 5.000 5.000 5.000   10314.000 4.968 0.430 2.000   \n",
       "\n",
       "                                         engine_displacement_cc           \\\n",
       "                   25%   50%   75%   max                  count     mean   \n",
       "vat                                                                        \n",
       "Price negotiable 5.000 5.000 5.000 7.000                416.000 1487.892   \n",
       "VAT deductible   5.000 5.000 5.000 7.000              10729.000 1421.270   \n",
       "\n",
       "                                                                       \\\n",
       "                     std     min      25%      50%      75%       max   \n",
       "vat                                                                     \n",
       "Price negotiable 774.517 898.000 1229.000 1461.000 1598.000 16000.000   \n",
       "VAT deductible   327.305   1.000 1229.000 1461.000 1598.000 15898.000   \n",
       "\n",
       "                 cylinders                                            \\\n",
       "                     count  mean   std   min   25%   50%   75%   max   \n",
       "vat                                                                    \n",
       "Price negotiable   410.000 3.817 0.440 3.000 4.000 4.000 4.000 6.000   \n",
       "VAT deductible    6794.000 3.772 0.424 1.000 4.000 4.000 4.000 6.000   \n",
       "\n",
       "                 weight_kg                                              \\\n",
       "                     count     mean     std      min      25%      50%   \n",
       "vat                                                                      \n",
       "Price negotiable   403.000 1334.950 208.951 1010.000 1165.000 1278.000   \n",
       "VAT deductible    5632.000 1361.925 221.296    1.000 1180.000 1308.000   \n",
       "\n",
       "                                     co2e_g                                 \\\n",
       "                      75%      max    count    mean     std    min     25%   \n",
       "vat                                                                          \n",
       "Price negotiable 1415.000 2295.000  406.000 113.192  19.089 36.000  99.000   \n",
       "VAT deductible   1503.000 2471.000 9684.000 127.441 318.250 14.000 105.000   \n",
       "\n",
       "                                              gears                          \\\n",
       "                     50%     75%       max    count  mean   std   min   25%   \n",
       "vat                                                                           \n",
       "Price negotiable 111.500 124.000   239.000  418.000 5.952 0.715 5.000 5.000   \n",
       "VAT deductible   117.000 132.000 14457.000 7484.000 5.956 0.899 1.000 5.000   \n",
       "\n",
       "                                    consumption_comb                          \\\n",
       "                   50%   75%    max            count  mean   std   min   25%   \n",
       "vat                                                                            \n",
       "Price negotiable 6.000 6.000  8.000          371.000 4.622 0.882 1.600 3.900   \n",
       "VAT deductible   6.000 6.000 50.000         8604.000 4.935 0.908 3.100 4.200   \n",
       "\n",
       "                                   consumption_city                          \\\n",
       "                   50%   75%   max            count  mean   std   min   25%   \n",
       "vat                                                                           \n",
       "Price negotiable 4.500 5.300 9.100          344.000 5.675 1.354 3.300 4.600   \n",
       "VAT deductible   4.900 5.600 8.700         8554.000 6.079 1.405 3.300 4.800   \n",
       "\n",
       "                                    consumption_cuntry                    \\\n",
       "                   50%   75%    max              count  mean   std   min   \n",
       "vat                                                                        \n",
       "Price negotiable 5.500 6.800 11.300            387.000 4.063 0.639 3.100   \n",
       "VAT deductible   5.900 7.200 16.100           9021.000 4.274 0.683 2.900   \n",
       "\n",
       "                                              age                          \\\n",
       "                   25%   50%   75%   max    count  mean   std   min   25%   \n",
       "vat                                                                         \n",
       "Price negotiable 3.600 3.900 4.400 7.800  426.000 2.340 0.763 0.000 2.000   \n",
       "VAT deductible   3.800 4.200 4.700 7.800 9652.000 1.352 1.067 0.000 1.000   \n",
       "\n",
       "                                    \n",
       "                   50%   75%   max  \n",
       "vat                                 \n",
       "Price negotiable 3.000 3.000 3.000  \n",
       "VAT deductible   1.000 2.000 3.000  "
      ]
     },
     "execution_count": 32,
     "metadata": {},
     "output_type": "execute_result"
    }
   ],
   "source": [
    "df.groupby(\"vat\").describe()"
   ]
  },
  {
   "cell_type": "code",
   "execution_count": 33,
   "metadata": {
    "ExecuteTime": {
     "end_time": "2022-08-03T08:59:21.313893Z",
     "start_time": "2022-08-03T08:59:21.096465Z"
    }
   },
   "outputs": [
    {
     "data": {
      "text/html": [
       "<div>\n",
       "<style scoped>\n",
       "    .dataframe tbody tr th:only-of-type {\n",
       "        vertical-align: middle;\n",
       "    }\n",
       "\n",
       "    .dataframe tbody tr th {\n",
       "        vertical-align: top;\n",
       "    }\n",
       "\n",
       "    .dataframe thead tr th {\n",
       "        text-align: left;\n",
       "    }\n",
       "\n",
       "    .dataframe thead tr:last-of-type th {\n",
       "        text-align: right;\n",
       "    }\n",
       "</style>\n",
       "<table border=\"1\" class=\"dataframe\">\n",
       "  <thead>\n",
       "    <tr>\n",
       "      <th></th>\n",
       "      <th colspan=\"4\" halign=\"left\">body_type</th>\n",
       "      <th colspan=\"4\" halign=\"left\">type</th>\n",
       "      <th colspan=\"4\" halign=\"left\">make</th>\n",
       "      <th colspan=\"4\" halign=\"left\">model</th>\n",
       "      <th colspan=\"4\" halign=\"left\">body_color</th>\n",
       "      <th colspan=\"4\" halign=\"left\">paint_type</th>\n",
       "      <th colspan=\"4\" halign=\"left\">body_color_original</th>\n",
       "      <th colspan=\"4\" halign=\"left\">upholstery</th>\n",
       "      <th colspan=\"4\" halign=\"left\">gearing_type</th>\n",
       "      <th colspan=\"4\" halign=\"left\">drive_chain</th>\n",
       "      <th colspan=\"4\" halign=\"left\">fuel</th>\n",
       "      <th colspan=\"4\" halign=\"left\">emission_class</th>\n",
       "      <th colspan=\"4\" halign=\"left\">comfort&amp;convenience</th>\n",
       "      <th colspan=\"4\" halign=\"left\">entertainment&amp;media</th>\n",
       "      <th colspan=\"4\" halign=\"left\">extras</th>\n",
       "      <th colspan=\"4\" halign=\"left\">safety&amp;security</th>\n",
       "      <th colspan=\"4\" halign=\"left\">country_version</th>\n",
       "    </tr>\n",
       "    <tr>\n",
       "      <th></th>\n",
       "      <th>count</th>\n",
       "      <th>unique</th>\n",
       "      <th>top</th>\n",
       "      <th>freq</th>\n",
       "      <th>count</th>\n",
       "      <th>unique</th>\n",
       "      <th>top</th>\n",
       "      <th>freq</th>\n",
       "      <th>count</th>\n",
       "      <th>unique</th>\n",
       "      <th>top</th>\n",
       "      <th>freq</th>\n",
       "      <th>count</th>\n",
       "      <th>unique</th>\n",
       "      <th>top</th>\n",
       "      <th>freq</th>\n",
       "      <th>count</th>\n",
       "      <th>unique</th>\n",
       "      <th>top</th>\n",
       "      <th>freq</th>\n",
       "      <th>count</th>\n",
       "      <th>unique</th>\n",
       "      <th>top</th>\n",
       "      <th>freq</th>\n",
       "      <th>count</th>\n",
       "      <th>unique</th>\n",
       "      <th>top</th>\n",
       "      <th>freq</th>\n",
       "      <th>count</th>\n",
       "      <th>unique</th>\n",
       "      <th>top</th>\n",
       "      <th>freq</th>\n",
       "      <th>count</th>\n",
       "      <th>unique</th>\n",
       "      <th>top</th>\n",
       "      <th>freq</th>\n",
       "      <th>count</th>\n",
       "      <th>unique</th>\n",
       "      <th>top</th>\n",
       "      <th>freq</th>\n",
       "      <th>count</th>\n",
       "      <th>unique</th>\n",
       "      <th>top</th>\n",
       "      <th>freq</th>\n",
       "      <th>count</th>\n",
       "      <th>unique</th>\n",
       "      <th>top</th>\n",
       "      <th>freq</th>\n",
       "      <th>count</th>\n",
       "      <th>unique</th>\n",
       "      <th>top</th>\n",
       "      <th>freq</th>\n",
       "      <th>count</th>\n",
       "      <th>unique</th>\n",
       "      <th>top</th>\n",
       "      <th>freq</th>\n",
       "      <th>count</th>\n",
       "      <th>unique</th>\n",
       "      <th>top</th>\n",
       "      <th>freq</th>\n",
       "      <th>count</th>\n",
       "      <th>unique</th>\n",
       "      <th>top</th>\n",
       "      <th>freq</th>\n",
       "      <th>count</th>\n",
       "      <th>unique</th>\n",
       "      <th>top</th>\n",
       "      <th>freq</th>\n",
       "    </tr>\n",
       "    <tr>\n",
       "      <th>vat</th>\n",
       "      <th></th>\n",
       "      <th></th>\n",
       "      <th></th>\n",
       "      <th></th>\n",
       "      <th></th>\n",
       "      <th></th>\n",
       "      <th></th>\n",
       "      <th></th>\n",
       "      <th></th>\n",
       "      <th></th>\n",
       "      <th></th>\n",
       "      <th></th>\n",
       "      <th></th>\n",
       "      <th></th>\n",
       "      <th></th>\n",
       "      <th></th>\n",
       "      <th></th>\n",
       "      <th></th>\n",
       "      <th></th>\n",
       "      <th></th>\n",
       "      <th></th>\n",
       "      <th></th>\n",
       "      <th></th>\n",
       "      <th></th>\n",
       "      <th></th>\n",
       "      <th></th>\n",
       "      <th></th>\n",
       "      <th></th>\n",
       "      <th></th>\n",
       "      <th></th>\n",
       "      <th></th>\n",
       "      <th></th>\n",
       "      <th></th>\n",
       "      <th></th>\n",
       "      <th></th>\n",
       "      <th></th>\n",
       "      <th></th>\n",
       "      <th></th>\n",
       "      <th></th>\n",
       "      <th></th>\n",
       "      <th></th>\n",
       "      <th></th>\n",
       "      <th></th>\n",
       "      <th></th>\n",
       "      <th></th>\n",
       "      <th></th>\n",
       "      <th></th>\n",
       "      <th></th>\n",
       "      <th></th>\n",
       "      <th></th>\n",
       "      <th></th>\n",
       "      <th></th>\n",
       "      <th></th>\n",
       "      <th></th>\n",
       "      <th></th>\n",
       "      <th></th>\n",
       "      <th></th>\n",
       "      <th></th>\n",
       "      <th></th>\n",
       "      <th></th>\n",
       "      <th></th>\n",
       "      <th></th>\n",
       "      <th></th>\n",
       "      <th></th>\n",
       "      <th></th>\n",
       "      <th></th>\n",
       "      <th></th>\n",
       "      <th></th>\n",
       "    </tr>\n",
       "  </thead>\n",
       "  <tbody>\n",
       "    <tr>\n",
       "      <th>Price negotiable</th>\n",
       "      <td>426</td>\n",
       "      <td>9</td>\n",
       "      <td>Sedans</td>\n",
       "      <td>286</td>\n",
       "      <td>426</td>\n",
       "      <td>3</td>\n",
       "      <td>Used</td>\n",
       "      <td>421</td>\n",
       "      <td>426</td>\n",
       "      <td>3</td>\n",
       "      <td>Audi</td>\n",
       "      <td>182</td>\n",
       "      <td>426</td>\n",
       "      <td>7</td>\n",
       "      <td>A3</td>\n",
       "      <td>101</td>\n",
       "      <td>426</td>\n",
       "      <td>10</td>\n",
       "      <td>Black</td>\n",
       "      <td>109</td>\n",
       "      <td>245</td>\n",
       "      <td>1</td>\n",
       "      <td>Metallic</td>\n",
       "      <td>245</td>\n",
       "      <td>17</td>\n",
       "      <td>17</td>\n",
       "      <td>Floretzilver (grijs metal</td>\n",
       "      <td>1</td>\n",
       "      <td>134</td>\n",
       "      <td>4</td>\n",
       "      <td>Cloth</td>\n",
       "      <td>82</td>\n",
       "      <td>426</td>\n",
       "      <td>3</td>\n",
       "      <td>Manual</td>\n",
       "      <td>204</td>\n",
       "      <td>95</td>\n",
       "      <td>2</td>\n",
       "      <td>front</td>\n",
       "      <td>92</td>\n",
       "      <td>426</td>\n",
       "      <td>5</td>\n",
       "      <td>Diesel</td>\n",
       "      <td>223</td>\n",
       "      <td>401</td>\n",
       "      <td>6</td>\n",
       "      <td>Euro 6</td>\n",
       "      <td>361</td>\n",
       "      <td>423</td>\n",
       "      <td>333</td>\n",
       "      <td>Air conditioning,Seat ventilation,Split rear s...</td>\n",
       "      <td>15</td>\n",
       "      <td>414</td>\n",
       "      <td>100</td>\n",
       "      <td>Bluetooth,CD player,Hands-free equipment,MP3,O...</td>\n",
       "      <td>32</td>\n",
       "      <td>372</td>\n",
       "      <td>139</td>\n",
       "      <td>Alloy wheels</td>\n",
       "      <td>71</td>\n",
       "      <td>422</td>\n",
       "      <td>298</td>\n",
       "      <td>ABS,Adaptive Cruise Control,Alarm system,Centr...</td>\n",
       "      <td>12</td>\n",
       "      <td>43</td>\n",
       "      <td>6</td>\n",
       "      <td>Italy</td>\n",
       "      <td>14</td>\n",
       "    </tr>\n",
       "    <tr>\n",
       "      <th>VAT deductible</th>\n",
       "      <td>10980</td>\n",
       "      <td>9</td>\n",
       "      <td>Sedans</td>\n",
       "      <td>5248</td>\n",
       "      <td>10980</td>\n",
       "      <td>5</td>\n",
       "      <td>Used</td>\n",
       "      <td>6787</td>\n",
       "      <td>10980</td>\n",
       "      <td>3</td>\n",
       "      <td>Opel</td>\n",
       "      <td>5415</td>\n",
       "      <td>10980</td>\n",
       "      <td>9</td>\n",
       "      <td>A3</td>\n",
       "      <td>2209</td>\n",
       "      <td>10586</td>\n",
       "      <td>13</td>\n",
       "      <td>Black</td>\n",
       "      <td>2704</td>\n",
       "      <td>7558</td>\n",
       "      <td>3</td>\n",
       "      <td>Metallic</td>\n",
       "      <td>7312</td>\n",
       "      <td>9543</td>\n",
       "      <td>1568</td>\n",
       "      <td>Onyx Schwarz</td>\n",
       "      <td>314</td>\n",
       "      <td>9780</td>\n",
       "      <td>6</td>\n",
       "      <td>Cloth</td>\n",
       "      <td>7404</td>\n",
       "      <td>10980</td>\n",
       "      <td>3</td>\n",
       "      <td>Manual</td>\n",
       "      <td>5502</td>\n",
       "      <td>6876</td>\n",
       "      <td>2</td>\n",
       "      <td>front</td>\n",
       "      <td>6762</td>\n",
       "      <td>10980</td>\n",
       "      <td>5</td>\n",
       "      <td>Diesel</td>\n",
       "      <td>4776</td>\n",
       "      <td>8801</td>\n",
       "      <td>6</td>\n",
       "      <td>Euro 6</td>\n",
       "      <td>6915</td>\n",
       "      <td>10811</td>\n",
       "      <td>4368</td>\n",
       "      <td>Air conditioning,Electrical side mirrors,Hill ...</td>\n",
       "      <td>163</td>\n",
       "      <td>10609</td>\n",
       "      <td>300</td>\n",
       "      <td>Bluetooth,Hands-free equipment,On-board comput...</td>\n",
       "      <td>1088</td>\n",
       "      <td>9471</td>\n",
       "      <td>498</td>\n",
       "      <td>Alloy wheels</td>\n",
       "      <td>2092</td>\n",
       "      <td>10782</td>\n",
       "      <td>2973</td>\n",
       "      <td>ABS,Central door lock,Daytime running lights,D...</td>\n",
       "      <td>461</td>\n",
       "      <td>5966</td>\n",
       "      <td>20</td>\n",
       "      <td>Germany</td>\n",
       "      <td>3812</td>\n",
       "    </tr>\n",
       "  </tbody>\n",
       "</table>\n",
       "</div>"
      ],
      "text/plain": [
       "                 body_type                        type                     \\\n",
       "                     count unique     top  freq  count unique   top  freq   \n",
       "vat                                                                         \n",
       "Price negotiable       426      9  Sedans   286    426      3  Used   421   \n",
       "VAT deductible       10980      9  Sedans  5248  10980      5  Used  6787   \n",
       "\n",
       "                   make                     model                  body_color  \\\n",
       "                  count unique   top  freq  count unique top  freq      count   \n",
       "vat                                                                             \n",
       "Price negotiable    426      3  Audi   182    426      7  A3   101        426   \n",
       "VAT deductible    10980      3  Opel  5415  10980      9  A3  2209      10586   \n",
       "\n",
       "                                     paint_type                         \\\n",
       "                 unique    top  freq      count unique       top  freq   \n",
       "vat                                                                      \n",
       "Price negotiable     10  Black   109        245      1  Metallic   245   \n",
       "VAT deductible       13  Black  2704       7558      3  Metallic  7312   \n",
       "\n",
       "                 body_color_original                                         \\\n",
       "                               count unique                        top freq   \n",
       "vat                                                                           \n",
       "Price negotiable                  17     17  Floretzilver (grijs metal    1   \n",
       "VAT deductible                  9543   1568               Onyx Schwarz  314   \n",
       "\n",
       "                 upholstery                     gearing_type                 \\\n",
       "                      count unique    top  freq        count unique     top   \n",
       "vat                                                                           \n",
       "Price negotiable        134      4  Cloth    82          426      3  Manual   \n",
       "VAT deductible         9780      6  Cloth  7404        10980      3  Manual   \n",
       "\n",
       "                       drive_chain                       fuel                 \\\n",
       "                  freq       count unique    top  freq  count unique     top   \n",
       "vat                                                                            \n",
       "Price negotiable   204          95      2  front    92    426      5  Diesel   \n",
       "VAT deductible    5502        6876      2  front  6762  10980      5  Diesel   \n",
       "\n",
       "                       emission_class                       \\\n",
       "                  freq          count unique     top  freq   \n",
       "vat                                                          \n",
       "Price negotiable   223            401      6  Euro 6   361   \n",
       "VAT deductible    4776           8801      6  Euro 6  6915   \n",
       "\n",
       "                 comfort&convenience         \\\n",
       "                               count unique   \n",
       "vat                                           \n",
       "Price negotiable                 423    333   \n",
       "VAT deductible                 10811   4368   \n",
       "\n",
       "                                                                          \\\n",
       "                                                                top freq   \n",
       "vat                                                                        \n",
       "Price negotiable  Air conditioning,Seat ventilation,Split rear s...   15   \n",
       "VAT deductible    Air conditioning,Electrical side mirrors,Hill ...  163   \n",
       "\n",
       "                 entertainment&media         \\\n",
       "                               count unique   \n",
       "vat                                           \n",
       "Price negotiable                 414    100   \n",
       "VAT deductible                 10609    300   \n",
       "\n",
       "                                                                           \\\n",
       "                                                                top  freq   \n",
       "vat                                                                         \n",
       "Price negotiable  Bluetooth,CD player,Hands-free equipment,MP3,O...    32   \n",
       "VAT deductible    Bluetooth,Hands-free equipment,On-board comput...  1088   \n",
       "\n",
       "                 extras                            safety&security         \\\n",
       "                  count unique           top  freq           count unique   \n",
       "vat                                                                         \n",
       "Price negotiable    372    139  Alloy wheels    71             422    298   \n",
       "VAT deductible     9471    498  Alloy wheels  2092           10782   2973   \n",
       "\n",
       "                                                                          \\\n",
       "                                                                top freq   \n",
       "vat                                                                        \n",
       "Price negotiable  ABS,Adaptive Cruise Control,Alarm system,Centr...   12   \n",
       "VAT deductible    ABS,Central door lock,Daytime running lights,D...  461   \n",
       "\n",
       "                 country_version                        \n",
       "                           count unique      top  freq  \n",
       "vat                                                     \n",
       "Price negotiable              43      6    Italy    14  \n",
       "VAT deductible              5966     20  Germany  3812  "
      ]
     },
     "execution_count": 33,
     "metadata": {},
     "output_type": "execute_result"
    }
   ],
   "source": [
    "df.groupby(\"vat\").describe(include=object)"
   ]
  },
  {
   "cell_type": "code",
   "execution_count": 34,
   "metadata": {
    "ExecuteTime": {
     "end_time": "2022-08-03T08:59:21.329850Z",
     "start_time": "2022-08-03T08:59:21.316886Z"
    }
   },
   "outputs": [
    {
     "data": {
      "text/plain": [
       "VAT deductible      15083\n",
       "Price negotiable      836\n",
       "Name: vat, dtype: int64"
      ]
     },
     "execution_count": 34,
     "metadata": {},
     "output_type": "execute_result"
    }
   ],
   "source": [
    "df.vat.fillna(method=\"bfill\").value_counts(dropna=False)"
   ]
  },
  {
   "cell_type": "code",
   "execution_count": 35,
   "metadata": {
    "ExecuteTime": {
     "end_time": "2022-08-03T08:59:21.344811Z",
     "start_time": "2022-08-03T08:59:21.331845Z"
    }
   },
   "outputs": [],
   "source": [
    "df[\"vat\"] = df.vat.fillna(method=\"bfill\")"
   ]
  },
  {
   "cell_type": "code",
   "execution_count": 36,
   "metadata": {
    "ExecuteTime": {
     "end_time": "2022-08-03T08:59:21.375728Z",
     "start_time": "2022-08-03T08:59:21.349798Z"
    }
   },
   "outputs": [
    {
     "data": {
      "text/plain": [
       "0"
      ]
     },
     "execution_count": 36,
     "metadata": {},
     "output_type": "execute_result"
    }
   ],
   "source": [
    "df.vat.isnull().sum()"
   ]
  },
  {
   "cell_type": "markdown",
   "metadata": {},
   "source": [
    "## 3. type"
   ]
  },
  {
   "cell_type": "code",
   "execution_count": 37,
   "metadata": {
    "ExecuteTime": {
     "end_time": "2022-08-03T08:59:21.391684Z",
     "start_time": "2022-08-03T08:59:21.378720Z"
    }
   },
   "outputs": [
    {
     "name": "stdout",
     "output_type": "stream",
     "text": [
      "column name :  type\n",
      "-+--+--+--+--+--+--+--+--+--+--+--+--+--+--+--+--+--+--+--+--+--+--+--+--+-\n",
      "Per_of_Nulls   :  % 0.01\n",
      "Num_of_Nulls   :  2\n",
      "Used              11096\n",
      "New                1650\n",
      "Pre-registered     1364\n",
      "Employee's car     1011\n",
      "Demonstration       796\n",
      "NaN                   2\n",
      "Name: type, dtype: int64\n",
      "******************************\n",
      "\n",
      "\n",
      "\n"
     ]
    }
   ],
   "source": [
    "check_df(\"type\")"
   ]
  },
  {
   "cell_type": "code",
   "execution_count": 38,
   "metadata": {
    "ExecuteTime": {
     "end_time": "2022-08-03T08:59:21.438920Z",
     "start_time": "2022-08-03T08:59:21.393680Z"
    }
   },
   "outputs": [
    {
     "data": {
      "text/html": [
       "<div>\n",
       "<style scoped>\n",
       "    .dataframe tbody tr th:only-of-type {\n",
       "        vertical-align: middle;\n",
       "    }\n",
       "\n",
       "    .dataframe tbody tr th {\n",
       "        vertical-align: top;\n",
       "    }\n",
       "\n",
       "    .dataframe thead th {\n",
       "        text-align: right;\n",
       "    }\n",
       "</style>\n",
       "<table border=\"1\" class=\"dataframe\">\n",
       "  <thead>\n",
       "    <tr style=\"text-align: right;\">\n",
       "      <th></th>\n",
       "      <th>body_type</th>\n",
       "      <th>price_€</th>\n",
       "      <th>vat</th>\n",
       "      <th>km</th>\n",
       "      <th>prev_owner</th>\n",
       "      <th>hp_kW</th>\n",
       "      <th>type</th>\n",
       "      <th>previous_owners</th>\n",
       "      <th>warranty</th>\n",
       "      <th>make</th>\n",
       "      <th>model</th>\n",
       "      <th>body_color</th>\n",
       "      <th>paint_type</th>\n",
       "      <th>body_color_original</th>\n",
       "      <th>upholstery</th>\n",
       "      <th>nr_of_doors</th>\n",
       "      <th>nr_of_seats</th>\n",
       "      <th>gearing_type</th>\n",
       "      <th>engine_displacement_cc</th>\n",
       "      <th>cylinders</th>\n",
       "      <th>weight_kg</th>\n",
       "      <th>drive_chain</th>\n",
       "      <th>fuel</th>\n",
       "      <th>co2e_g</th>\n",
       "      <th>emission_class</th>\n",
       "      <th>comfort&amp;convenience</th>\n",
       "      <th>entertainment&amp;media</th>\n",
       "      <th>extras</th>\n",
       "      <th>safety&amp;security</th>\n",
       "      <th>gears</th>\n",
       "      <th>country_version</th>\n",
       "      <th>consumption_comb</th>\n",
       "      <th>consumption_city</th>\n",
       "      <th>consumption_cuntry</th>\n",
       "      <th>age</th>\n",
       "    </tr>\n",
       "  </thead>\n",
       "  <tbody>\n",
       "    <tr>\n",
       "      <th>2765</th>\n",
       "      <td>Sedans</td>\n",
       "      <td>17900.000</td>\n",
       "      <td>Price negotiable</td>\n",
       "      <td>115137.000</td>\n",
       "      <td>NaN</td>\n",
       "      <td>110.000</td>\n",
       "      <td>NaN</td>\n",
       "      <td>NaN</td>\n",
       "      <td>NaN</td>\n",
       "      <td>Audi</td>\n",
       "      <td>A3</td>\n",
       "      <td>White</td>\n",
       "      <td>NaN</td>\n",
       "      <td>NaN</td>\n",
       "      <td>Cloth</td>\n",
       "      <td>5.000</td>\n",
       "      <td>5.000</td>\n",
       "      <td>Automatic</td>\n",
       "      <td>1968.000</td>\n",
       "      <td>4.000</td>\n",
       "      <td>NaN</td>\n",
       "      <td>front</td>\n",
       "      <td>Diesel</td>\n",
       "      <td>118.000</td>\n",
       "      <td>Euro 6</td>\n",
       "      <td>Air conditioning</td>\n",
       "      <td>Bluetooth,Hands-free equipment</td>\n",
       "      <td>Alloy wheels,Sport seats,Sport suspension</td>\n",
       "      <td>ABS,Central door lock,Driver-side airbag,Isofi...</td>\n",
       "      <td>6.000</td>\n",
       "      <td>NaN</td>\n",
       "      <td>4.500</td>\n",
       "      <td>5.300</td>\n",
       "      <td>4.100</td>\n",
       "      <td>3.000</td>\n",
       "    </tr>\n",
       "    <tr>\n",
       "      <th>5237</th>\n",
       "      <td>Sedans</td>\n",
       "      <td>25400.000</td>\n",
       "      <td>VAT deductible</td>\n",
       "      <td>NaN</td>\n",
       "      <td>NaN</td>\n",
       "      <td>85.000</td>\n",
       "      <td>NaN</td>\n",
       "      <td>NaN</td>\n",
       "      <td>NaN</td>\n",
       "      <td>Audi</td>\n",
       "      <td>A3</td>\n",
       "      <td>Grey</td>\n",
       "      <td>NaN</td>\n",
       "      <td>NaN</td>\n",
       "      <td>Cloth</td>\n",
       "      <td>5.000</td>\n",
       "      <td>5.000</td>\n",
       "      <td>Automatic</td>\n",
       "      <td>1598.000</td>\n",
       "      <td>4.000</td>\n",
       "      <td>NaN</td>\n",
       "      <td>front</td>\n",
       "      <td>Diesel</td>\n",
       "      <td>103.000</td>\n",
       "      <td>Euro 6</td>\n",
       "      <td>Air conditioning</td>\n",
       "      <td>Bluetooth,Hands-free equipment</td>\n",
       "      <td>Alloy wheels</td>\n",
       "      <td>ABS,Central door lock,Driver-side airbag,Isofi...</td>\n",
       "      <td>7.000</td>\n",
       "      <td>NaN</td>\n",
       "      <td>3.900</td>\n",
       "      <td>4.100</td>\n",
       "      <td>3.700</td>\n",
       "      <td>NaN</td>\n",
       "    </tr>\n",
       "  </tbody>\n",
       "</table>\n",
       "</div>"
      ],
      "text/plain": [
       "     body_type   price_€               vat         km  prev_owner   hp_kW  \\\n",
       "2765    Sedans 17900.000  Price negotiable 115137.000         NaN 110.000   \n",
       "5237    Sedans 25400.000    VAT deductible        NaN         NaN  85.000   \n",
       "\n",
       "     type  previous_owners  warranty  make model body_color paint_type  \\\n",
       "2765  NaN              NaN       NaN  Audi    A3      White        NaN   \n",
       "5237  NaN              NaN       NaN  Audi    A3       Grey        NaN   \n",
       "\n",
       "     body_color_original upholstery  nr_of_doors  nr_of_seats gearing_type  \\\n",
       "2765                 NaN      Cloth        5.000        5.000    Automatic   \n",
       "5237                 NaN      Cloth        5.000        5.000    Automatic   \n",
       "\n",
       "      engine_displacement_cc  cylinders  weight_kg drive_chain    fuel  \\\n",
       "2765                1968.000      4.000        NaN       front  Diesel   \n",
       "5237                1598.000      4.000        NaN       front  Diesel   \n",
       "\n",
       "      co2e_g emission_class comfort&convenience  \\\n",
       "2765 118.000         Euro 6    Air conditioning   \n",
       "5237 103.000         Euro 6    Air conditioning   \n",
       "\n",
       "                 entertainment&media  \\\n",
       "2765  Bluetooth,Hands-free equipment   \n",
       "5237  Bluetooth,Hands-free equipment   \n",
       "\n",
       "                                         extras  \\\n",
       "2765  Alloy wheels,Sport seats,Sport suspension   \n",
       "5237                               Alloy wheels   \n",
       "\n",
       "                                        safety&security  gears  \\\n",
       "2765  ABS,Central door lock,Driver-side airbag,Isofi...  6.000   \n",
       "5237  ABS,Central door lock,Driver-side airbag,Isofi...  7.000   \n",
       "\n",
       "     country_version  consumption_comb  consumption_city  consumption_cuntry  \\\n",
       "2765             NaN             4.500             5.300               4.100   \n",
       "5237             NaN             3.900             4.100               3.700   \n",
       "\n",
       "       age  \n",
       "2765 3.000  \n",
       "5237   NaN  "
      ]
     },
     "execution_count": 38,
     "metadata": {},
     "output_type": "execute_result"
    }
   ],
   "source": [
    "df[df.type.isnull()]"
   ]
  },
  {
   "cell_type": "code",
   "execution_count": 39,
   "metadata": {
    "ExecuteTime": {
     "end_time": "2022-08-03T08:59:21.453883Z",
     "start_time": "2022-08-03T08:59:21.440915Z"
    }
   },
   "outputs": [],
   "source": [
    "# there are only 2 missing value in this column so we will fill these values with ffill method\n",
    "df.type = df.type.fillna(method=\"ffill\")"
   ]
  },
  {
   "cell_type": "code",
   "execution_count": 40,
   "metadata": {
    "ExecuteTime": {
     "end_time": "2022-08-03T08:59:21.469837Z",
     "start_time": "2022-08-03T08:59:21.455875Z"
    }
   },
   "outputs": [
    {
     "data": {
      "text/plain": [
       "0"
      ]
     },
     "execution_count": 40,
     "metadata": {},
     "output_type": "execute_result"
    }
   ],
   "source": [
    "df.type.isnull().sum()"
   ]
  },
  {
   "cell_type": "code",
   "execution_count": null,
   "metadata": {},
   "outputs": [],
   "source": []
  },
  {
   "cell_type": "code",
   "execution_count": null,
   "metadata": {},
   "outputs": [],
   "source": []
  },
  {
   "cell_type": "markdown",
   "metadata": {},
   "source": [
    "## 4. Age"
   ]
  },
  {
   "cell_type": "code",
   "execution_count": 41,
   "metadata": {
    "ExecuteTime": {
     "end_time": "2022-08-03T08:59:21.485800Z",
     "start_time": "2022-08-03T08:59:21.471833Z"
    }
   },
   "outputs": [
    {
     "data": {
      "text/plain": [
       "Index(['body_type', 'price_€', 'vat', 'km', 'prev_owner', 'hp_kW', 'type',\n",
       "       'previous_owners', 'warranty', 'make', 'model', 'body_color',\n",
       "       'paint_type', 'body_color_original', 'upholstery', 'nr_of_doors',\n",
       "       'nr_of_seats', 'gearing_type', 'engine_displacement_cc', 'cylinders',\n",
       "       'weight_kg', 'drive_chain', 'fuel', 'co2e_g', 'emission_class',\n",
       "       'comfort&convenience', 'entertainment&media', 'extras',\n",
       "       'safety&security', 'gears', 'country_version', 'consumption_comb',\n",
       "       'consumption_city', 'consumption_cuntry', 'age'],\n",
       "      dtype='object')"
      ]
     },
     "execution_count": 41,
     "metadata": {},
     "output_type": "execute_result"
    }
   ],
   "source": [
    "df.columns"
   ]
  },
  {
   "cell_type": "code",
   "execution_count": 42,
   "metadata": {
    "ExecuteTime": {
     "end_time": "2022-08-03T08:59:21.516712Z",
     "start_time": "2022-08-03T08:59:21.487790Z"
    }
   },
   "outputs": [
    {
     "data": {
      "text/plain": [
       "1597"
      ]
     },
     "execution_count": 42,
     "metadata": {},
     "output_type": "execute_result"
    }
   ],
   "source": [
    "df.age.isnull().sum()"
   ]
  },
  {
   "cell_type": "code",
   "execution_count": 43,
   "metadata": {
    "ExecuteTime": {
     "end_time": "2022-08-03T08:59:21.532670Z",
     "start_time": "2022-08-03T08:59:21.520702Z"
    }
   },
   "outputs": [
    {
     "data": {
      "text/plain": [
       "type\n",
       "Demonstration    0.000\n",
       "Employee's car   1.000\n",
       "New              0.000\n",
       "Pre-registered   0.000\n",
       "Used             2.000\n",
       "Name: age, dtype: float64"
      ]
     },
     "execution_count": 43,
     "metadata": {},
     "output_type": "execute_result"
    }
   ],
   "source": [
    "df.groupby(\"type\").age.median()"
   ]
  },
  {
   "cell_type": "code",
   "execution_count": 44,
   "metadata": {
    "ExecuteTime": {
     "end_time": "2022-08-03T08:59:21.564104Z",
     "start_time": "2022-08-03T08:59:21.535662Z"
    }
   },
   "outputs": [
    {
     "data": {
      "text/plain": [
       "type            age  \n",
       "Demonstration   0.000     632\n",
       "                1.000     130\n",
       "                2.000      27\n",
       "                NaN         5\n",
       "                3.000       2\n",
       "Employee's car  1.000     765\n",
       "                0.000     127\n",
       "                2.000      99\n",
       "                3.000      17\n",
       "                NaN         3\n",
       "New             NaN      1547\n",
       "                0.000     100\n",
       "                1.000       3\n",
       "Pre-registered  0.000    1187\n",
       "                1.000     161\n",
       "                2.000       9\n",
       "                NaN         7\n",
       "                3.000       1\n",
       "Used            3.000    3654\n",
       "                1.000    3463\n",
       "                2.000    3138\n",
       "                0.000     807\n",
       "                NaN        35\n",
       "Name: age, dtype: int64"
      ]
     },
     "execution_count": 44,
     "metadata": {},
     "output_type": "execute_result"
    }
   ],
   "source": [
    "df.groupby(\"type\").age.value_counts(dropna=False)"
   ]
  },
  {
   "cell_type": "code",
   "execution_count": 45,
   "metadata": {
    "ExecuteTime": {
     "end_time": "2022-08-03T08:59:21.596018Z",
     "start_time": "2022-08-03T08:59:21.567094Z"
    }
   },
   "outputs": [],
   "source": [
    "df[\"age\"] = df.groupby(\"type\").age.apply(lambda x: x.fillna(x.median()))"
   ]
  },
  {
   "cell_type": "code",
   "execution_count": 46,
   "metadata": {
    "ExecuteTime": {
     "end_time": "2022-08-03T08:59:21.627932Z",
     "start_time": "2022-08-03T08:59:21.599011Z"
    }
   },
   "outputs": [
    {
     "data": {
      "text/plain": [
       "type            age  \n",
       "Demonstration   0.000     637\n",
       "                1.000     130\n",
       "                2.000      27\n",
       "                3.000       2\n",
       "Employee's car  1.000     768\n",
       "                0.000     127\n",
       "                2.000      99\n",
       "                3.000      17\n",
       "New             0.000    1647\n",
       "                1.000       3\n",
       "Pre-registered  0.000    1194\n",
       "                1.000     161\n",
       "                2.000       9\n",
       "                3.000       1\n",
       "Used            3.000    3654\n",
       "                1.000    3463\n",
       "                2.000    3173\n",
       "                0.000     807\n",
       "Name: age, dtype: int64"
      ]
     },
     "execution_count": 46,
     "metadata": {},
     "output_type": "execute_result"
    }
   ],
   "source": [
    "df.groupby(\"type\").age.value_counts(dropna=False)"
   ]
  },
  {
   "cell_type": "code",
   "execution_count": 47,
   "metadata": {
    "ExecuteTime": {
     "end_time": "2022-08-03T08:59:21.643888Z",
     "start_time": "2022-08-03T08:59:21.629927Z"
    }
   },
   "outputs": [
    {
     "data": {
      "text/plain": [
       "1.000    4525\n",
       "0.000    4412\n",
       "3.000    3674\n",
       "2.000    3308\n",
       "Name: age, dtype: int64"
      ]
     },
     "execution_count": 47,
     "metadata": {},
     "output_type": "execute_result"
    }
   ],
   "source": [
    "df.age.value_counts(dropna=False)"
   ]
  },
  {
   "cell_type": "markdown",
   "metadata": {
    "ExecuteTime": {
     "end_time": "2022-07-30T20:58:26.985331Z",
     "start_time": "2022-07-30T20:58:26.968344Z"
    }
   },
   "source": [
    "## 5. km"
   ]
  },
  {
   "cell_type": "code",
   "execution_count": 48,
   "metadata": {
    "ExecuteTime": {
     "end_time": "2022-08-03T08:59:21.673809Z",
     "start_time": "2022-08-03T08:59:21.645884Z"
    }
   },
   "outputs": [
    {
     "name": "stdout",
     "output_type": "stream",
     "text": [
      "column name :  km\n",
      "-+--+--+--+--+--+--+--+--+--+--+--+--+--+--+--+--+--+--+--+--+--+--+--+--+-\n",
      "Per_of_Nulls   :  % 6.43\n",
      "Num_of_Nulls   :  1024\n",
      "10.000       1045\n",
      "NaN          1024\n",
      "1.000         367\n",
      "5.000         170\n",
      "50.000        148\n",
      "             ... \n",
      "67469.000       1\n",
      "43197.000       1\n",
      "10027.000       1\n",
      "35882.000       1\n",
      "57.000          1\n",
      "Name: km, Length: 6690, dtype: int64\n",
      "******************************\n",
      "\n",
      "\n",
      "\n"
     ]
    }
   ],
   "source": [
    "check_df(\"km\")"
   ]
  },
  {
   "cell_type": "code",
   "execution_count": 49,
   "metadata": {
    "ExecuteTime": {
     "end_time": "2022-08-03T08:59:21.689766Z",
     "start_time": "2022-08-03T08:59:21.675803Z"
    }
   },
   "outputs": [
    {
     "data": {
      "text/plain": [
       "age\n",
       "0.000    1657.779\n",
       "1.000   18028.982\n",
       "2.000   41525.075\n",
       "3.000   77442.521\n",
       "Name: km, dtype: float64"
      ]
     },
     "execution_count": 49,
     "metadata": {},
     "output_type": "execute_result"
    }
   ],
   "source": [
    "df.groupby([\"age\"])[\"km\"].mean()"
   ]
  },
  {
   "cell_type": "code",
   "execution_count": 50,
   "metadata": {
    "ExecuteTime": {
     "end_time": "2022-08-03T08:59:21.705723Z",
     "start_time": "2022-08-03T08:59:21.692758Z"
    }
   },
   "outputs": [
    {
     "data": {
      "text/plain": [
       "type\n",
       "Demonstration     5099.474\n",
       "Employee's car   20021.291\n",
       "New                 17.079\n",
       "Pre-registered     149.254\n",
       "Used             43692.145\n",
       "Name: km, dtype: float64"
      ]
     },
     "execution_count": 50,
     "metadata": {},
     "output_type": "execute_result"
    }
   ],
   "source": [
    "df.groupby([\"type\"])[\"km\"].mean()"
   ]
  },
  {
   "cell_type": "code",
   "execution_count": 51,
   "metadata": {
    "ExecuteTime": {
     "end_time": "2022-08-03T08:59:21.736642Z",
     "start_time": "2022-08-03T08:59:21.707718Z"
    }
   },
   "outputs": [
    {
     "data": {
      "text/plain": [
       "New               849\n",
       "Pre-registered    119\n",
       "Demonstration      33\n",
       "Used               15\n",
       "Employee's car      8\n",
       "Name: type, dtype: int64"
      ]
     },
     "execution_count": 51,
     "metadata": {},
     "output_type": "execute_result"
    }
   ],
   "source": [
    "df[df.km.isnull()][\"type\"].value_counts(dropna=False)"
   ]
  },
  {
   "cell_type": "code",
   "execution_count": 52,
   "metadata": {
    "ExecuteTime": {
     "end_time": "2022-08-03T08:59:21.768562Z",
     "start_time": "2022-08-03T08:59:21.749607Z"
    }
   },
   "outputs": [
    {
     "data": {
      "text/plain": [
       "0.000    983\n",
       "1.000     39\n",
       "2.000      2\n",
       "Name: age, dtype: int64"
      ]
     },
     "execution_count": 52,
     "metadata": {},
     "output_type": "execute_result"
    }
   ],
   "source": [
    "df[df.km.isnull()][\"age\"].value_counts(dropna=False)"
   ]
  },
  {
   "cell_type": "code",
   "execution_count": 53,
   "metadata": {
    "ExecuteTime": {
     "end_time": "2022-08-03T08:59:21.799472Z",
     "start_time": "2022-08-03T08:59:21.772545Z"
    }
   },
   "outputs": [],
   "source": [
    "df.km = df.groupby([\"type\", \"age\"])[\"km\"].apply(lambda x : x.fillna(x.mean()))"
   ]
  },
  {
   "cell_type": "code",
   "execution_count": 54,
   "metadata": {
    "ExecuteTime": {
     "end_time": "2022-08-03T08:59:21.815430Z",
     "start_time": "2022-08-03T08:59:21.801468Z"
    }
   },
   "outputs": [
    {
     "data": {
      "text/plain": [
       "0"
      ]
     },
     "execution_count": 54,
     "metadata": {},
     "output_type": "execute_result"
    }
   ],
   "source": [
    "df.km.isnull().sum()"
   ]
  },
  {
   "cell_type": "markdown",
   "metadata": {},
   "source": [
    "## 6 Prev Owner and Previous Owners"
   ]
  },
  {
   "cell_type": "code",
   "execution_count": 55,
   "metadata": {
    "ExecuteTime": {
     "end_time": "2022-08-03T08:59:21.847345Z",
     "start_time": "2022-08-03T08:59:21.820417Z"
    }
   },
   "outputs": [
    {
     "name": "stdout",
     "output_type": "stream",
     "text": [
      "column name :  prev_owner\n",
      "-+--+--+--+--+--+--+--+--+--+--+--+--+--+--+--+--+--+--+--+--+--+--+--+--+-\n",
      "Per_of_Nulls   :  % 42.89\n",
      "Num_of_Nulls   :  6828\n",
      "1.000    8294\n",
      "NaN      6828\n",
      "2.000     778\n",
      "3.000      17\n",
      "4.000       2\n",
      "Name: prev_owner, dtype: int64\n",
      "******************************\n",
      "\n",
      "\n",
      "\n"
     ]
    }
   ],
   "source": [
    "check_df(\"prev_owner\")"
   ]
  },
  {
   "cell_type": "code",
   "execution_count": 56,
   "metadata": {
    "ExecuteTime": {
     "end_time": "2022-08-03T08:59:21.863303Z",
     "start_time": "2022-08-03T08:59:21.849339Z"
    }
   },
   "outputs": [
    {
     "name": "stdout",
     "output_type": "stream",
     "text": [
      "column name :  previous_owners\n",
      "-+--+--+--+--+--+--+--+--+--+--+--+--+--+--+--+--+--+--+--+--+--+--+--+--+-\n",
      "Per_of_Nulls   :  % 41.71\n",
      "Num_of_Nulls   :  6640\n",
      "1.000    8294\n",
      "NaN      6640\n",
      "2.000     778\n",
      "0.000     188\n",
      "3.000      17\n",
      "4.000       2\n",
      "Name: previous_owners, dtype: int64\n",
      "******************************\n",
      "\n",
      "\n",
      "\n"
     ]
    }
   ],
   "source": [
    "check_df(\"previous_owners\")"
   ]
  },
  {
   "cell_type": "code",
   "execution_count": 57,
   "metadata": {
    "ExecuteTime": {
     "end_time": "2022-08-03T08:59:21.894219Z",
     "start_time": "2022-08-03T08:59:21.866293Z"
    }
   },
   "outputs": [
    {
     "data": {
      "text/plain": [
       "age    prev_owner\n",
       "0.000  NaN           2817\n",
       "1.000  NaN           1482\n",
       "2.000  NaN           1289\n",
       "3.000  NaN           1240\n",
       "Name: prev_owner, dtype: int64"
      ]
     },
     "execution_count": 57,
     "metadata": {},
     "output_type": "execute_result"
    }
   ],
   "source": [
    "df[df.prev_owner.isnull()].groupby(\"age\")[\"prev_owner\"].value_counts(dropna=False)"
   ]
  },
  {
   "cell_type": "code",
   "execution_count": 58,
   "metadata": {
    "ExecuteTime": {
     "end_time": "2022-08-03T08:59:21.925137Z",
     "start_time": "2022-08-03T08:59:21.898209Z"
    }
   },
   "outputs": [
    {
     "data": {
      "text/plain": [
       "age    prev_owner\n",
       "0.000  NaN           2817\n",
       "       1.000         1585\n",
       "       2.000           10\n",
       "1.000  1.000         2968\n",
       "       NaN           1482\n",
       "       2.000           75\n",
       "2.000  1.000         1715\n",
       "       NaN           1289\n",
       "       2.000          296\n",
       "       3.000            7\n",
       "       4.000            1\n",
       "3.000  1.000         2026\n",
       "       NaN           1240\n",
       "       2.000          397\n",
       "       3.000           10\n",
       "       4.000            1\n",
       "Name: prev_owner, dtype: int64"
      ]
     },
     "execution_count": 58,
     "metadata": {},
     "output_type": "execute_result"
    }
   ],
   "source": [
    "df.groupby(\"age\")[\"prev_owner\"].value_counts(dropna=False)"
   ]
  },
  {
   "cell_type": "code",
   "execution_count": 59,
   "metadata": {
    "ExecuteTime": {
     "end_time": "2022-08-03T08:59:21.941094Z",
     "start_time": "2022-08-03T08:59:21.927134Z"
    }
   },
   "outputs": [
    {
     "data": {
      "text/plain": [
       "previous_owners  prev_owner\n",
       "0.000            NaN            188\n",
       "1.000            1.000         8294\n",
       "2.000            2.000          778\n",
       "3.000            3.000           17\n",
       "4.000            4.000            2\n",
       "Name: prev_owner, dtype: int64"
      ]
     },
     "execution_count": 59,
     "metadata": {},
     "output_type": "execute_result"
    }
   ],
   "source": [
    "df.groupby(\"previous_owners\")[\"prev_owner\"].value_counts(dropna=False)"
   ]
  },
  {
   "cell_type": "code",
   "execution_count": 60,
   "metadata": {
    "ExecuteTime": {
     "end_time": "2022-08-03T08:59:21.957051Z",
     "start_time": "2022-08-03T08:59:21.943090Z"
    }
   },
   "outputs": [],
   "source": [
    "# as we see prev_owner and previous_owners columns are the same \n",
    "df.drop(columns=\"prev_owner\", inplace=True)"
   ]
  },
  {
   "cell_type": "code",
   "execution_count": 61,
   "metadata": {
    "ExecuteTime": {
     "end_time": "2022-08-03T08:59:21.986971Z",
     "start_time": "2022-08-03T08:59:21.959046Z"
    }
   },
   "outputs": [
    {
     "data": {
      "text/plain": [
       "type            previous_owners\n",
       "Demonstration   1.000               508\n",
       "                NaN                 282\n",
       "                2.000                 6\n",
       "Employee's car  1.000               641\n",
       "                NaN                 356\n",
       "                2.000                10\n",
       "                0.000                 4\n",
       "New             NaN                1471\n",
       "                0.000               164\n",
       "                1.000                15\n",
       "Pre-registered  1.000               839\n",
       "                NaN                 520\n",
       "                2.000                 6\n",
       "Used            1.000              6291\n",
       "                NaN                4011\n",
       "                2.000               756\n",
       "                0.000                20\n",
       "                3.000                17\n",
       "                4.000                 2\n",
       "Name: previous_owners, dtype: int64"
      ]
     },
     "execution_count": 61,
     "metadata": {},
     "output_type": "execute_result"
    }
   ],
   "source": [
    "df.groupby(\"type\")[\"previous_owners\"].value_counts(dropna=False)"
   ]
  },
  {
   "cell_type": "code",
   "execution_count": 62,
   "metadata": {
    "ExecuteTime": {
     "end_time": "2022-08-03T08:59:22.018886Z",
     "start_time": "2022-08-03T08:59:21.989963Z"
    }
   },
   "outputs": [],
   "source": [
    "df.previous_owners = df.groupby(\"type\")[\"previous_owners\"].apply(lambda x: x.fillna(x.mode()[0]))"
   ]
  },
  {
   "cell_type": "code",
   "execution_count": 63,
   "metadata": {
    "ExecuteTime": {
     "end_time": "2022-08-03T08:59:22.034843Z",
     "start_time": "2022-08-03T08:59:22.020881Z"
    }
   },
   "outputs": [
    {
     "data": {
      "text/plain": [
       "0"
      ]
     },
     "execution_count": 63,
     "metadata": {},
     "output_type": "execute_result"
    }
   ],
   "source": [
    "df.previous_owners.isnull().sum()"
   ]
  },
  {
   "cell_type": "code",
   "execution_count": 64,
   "metadata": {
    "ExecuteTime": {
     "end_time": "2022-08-03T08:59:22.049803Z",
     "start_time": "2022-08-03T08:59:22.036837Z"
    }
   },
   "outputs": [
    {
     "data": {
      "text/plain": [
       "1.000    13463\n",
       "0.000     1659\n",
       "2.000      778\n",
       "3.000       17\n",
       "4.000        2\n",
       "Name: previous_owners, dtype: int64"
      ]
     },
     "execution_count": 64,
     "metadata": {},
     "output_type": "execute_result"
    }
   ],
   "source": [
    "df.previous_owners.value_counts(dropna=False)"
   ]
  },
  {
   "cell_type": "markdown",
   "metadata": {},
   "source": [
    "## 7. hp_kW"
   ]
  },
  {
   "cell_type": "code",
   "execution_count": 65,
   "metadata": {
    "ExecuteTime": {
     "end_time": "2022-08-03T08:59:22.080720Z",
     "start_time": "2022-08-03T08:59:22.052800Z"
    }
   },
   "outputs": [
    {
     "name": "stdout",
     "output_type": "stream",
     "text": [
      "column name :  hp_kW\n",
      "-+--+--+--+--+--+--+--+--+--+--+--+--+--+--+--+--+--+--+--+--+--+--+--+--+-\n",
      "Per_of_Nulls   :  % 0.55\n",
      "Num_of_Nulls   :  88\n",
      "85.000     2542\n",
      "66.000     2122\n",
      "81.000     1402\n",
      "100.000    1308\n",
      "110.000    1112\n",
      "           ... \n",
      "84.000        1\n",
      "195.000       1\n",
      "44.000        1\n",
      "239.000       1\n",
      "9.000         1\n",
      "Name: hp_kW, Length: 81, dtype: int64\n",
      "******************************\n",
      "\n",
      "\n",
      "\n"
     ]
    }
   ],
   "source": [
    "check_df(\"hp_kW\")"
   ]
  },
  {
   "cell_type": "code",
   "execution_count": 66,
   "metadata": {
    "ExecuteTime": {
     "end_time": "2022-08-03T08:59:22.112635Z",
     "start_time": "2022-08-03T08:59:22.083714Z"
    }
   },
   "outputs": [
    {
     "data": {
      "text/plain": [
       "make     model     body_type    \n",
       "Audi     A1        Compact          70.000\n",
       "                   Coupe            77.500\n",
       "                   Other            70.000\n",
       "                   Sedans           70.000\n",
       "                   Station wagon    70.000\n",
       "                   Van             147.000\n",
       "         A2        Off-Road         85.000\n",
       "         A3        Compact          85.000\n",
       "                   Convertible     110.000\n",
       "                   Coupe            81.000\n",
       "                   Other            85.000\n",
       "                   Sedans           85.000\n",
       "                   Station wagon    85.000\n",
       "Opel     Astra     Compact          81.000\n",
       "                   Coupe           106.500\n",
       "                   Off-Road        110.000\n",
       "                   Other            81.000\n",
       "                   Sedans           81.000\n",
       "                   Station wagon   100.000\n",
       "         Corsa     Compact          66.000\n",
       "                   Coupe            55.000\n",
       "                   Off-Road         66.000\n",
       "                   Other            66.000\n",
       "                   Sedans           55.000\n",
       "                   Transporter      55.000\n",
       "                   Van              51.000\n",
       "         Insignia  Compact         121.000\n",
       "                   Coupe            81.000\n",
       "                   Off-Road        125.000\n",
       "                   Other           100.000\n",
       "                   Sedans          103.000\n",
       "                   Station wagon   121.000\n",
       "                   Van             121.000\n",
       "Renault  Clio      Compact          56.000\n",
       "                   Coupe           147.000\n",
       "                   Off-Road         71.000\n",
       "                   Other            56.000\n",
       "                   Sedans           56.000\n",
       "                   Station wagon    66.000\n",
       "                   Transporter      56.000\n",
       "                   Van              55.000\n",
       "         Duster    Off-Road         77.000\n",
       "         Espace    Compact         133.000\n",
       "                   Coupe           141.500\n",
       "                   Off-Road        118.000\n",
       "                   Other           118.000\n",
       "                   Sedans          118.000\n",
       "                   Station wagon   118.000\n",
       "                   Transporter     118.000\n",
       "                   Van             118.000\n",
       "Name: hp_kW, dtype: float64"
      ]
     },
     "execution_count": 66,
     "metadata": {},
     "output_type": "execute_result"
    }
   ],
   "source": [
    "df.groupby([\"make\", \"model\",\"body_type\"])[\"hp_kW\"].median()"
   ]
  },
  {
   "cell_type": "code",
   "execution_count": 67,
   "metadata": {
    "ExecuteTime": {
     "end_time": "2022-08-03T08:59:22.143561Z",
     "start_time": "2022-08-03T08:59:22.114630Z"
    }
   },
   "outputs": [
    {
     "data": {
      "text/html": [
       "<div>\n",
       "<style scoped>\n",
       "    .dataframe tbody tr th:only-of-type {\n",
       "        vertical-align: middle;\n",
       "    }\n",
       "\n",
       "    .dataframe tbody tr th {\n",
       "        vertical-align: top;\n",
       "    }\n",
       "\n",
       "    .dataframe thead th {\n",
       "        text-align: right;\n",
       "    }\n",
       "</style>\n",
       "<table border=\"1\" class=\"dataframe\">\n",
       "  <thead>\n",
       "    <tr style=\"text-align: right;\">\n",
       "      <th></th>\n",
       "      <th>make</th>\n",
       "      <th>model</th>\n",
       "      <th>body_type</th>\n",
       "    </tr>\n",
       "  </thead>\n",
       "  <tbody>\n",
       "    <tr>\n",
       "      <th>1269</th>\n",
       "      <td>Audi</td>\n",
       "      <td>A1</td>\n",
       "      <td>Compact</td>\n",
       "    </tr>\n",
       "    <tr>\n",
       "      <th>2500</th>\n",
       "      <td>Audi</td>\n",
       "      <td>A1</td>\n",
       "      <td>Compact</td>\n",
       "    </tr>\n",
       "    <tr>\n",
       "      <th>4259</th>\n",
       "      <td>Audi</td>\n",
       "      <td>A3</td>\n",
       "      <td>Compact</td>\n",
       "    </tr>\n",
       "    <tr>\n",
       "      <th>7177</th>\n",
       "      <td>Opel</td>\n",
       "      <td>Astra</td>\n",
       "      <td>Sedans</td>\n",
       "    </tr>\n",
       "    <tr>\n",
       "      <th>7670</th>\n",
       "      <td>Opel</td>\n",
       "      <td>Astra</td>\n",
       "      <td>Compact</td>\n",
       "    </tr>\n",
       "    <tr>\n",
       "      <th>...</th>\n",
       "      <td>...</td>\n",
       "      <td>...</td>\n",
       "      <td>...</td>\n",
       "    </tr>\n",
       "    <tr>\n",
       "      <th>15641</th>\n",
       "      <td>Renault</td>\n",
       "      <td>Espace</td>\n",
       "      <td>Van</td>\n",
       "    </tr>\n",
       "    <tr>\n",
       "      <th>15647</th>\n",
       "      <td>Renault</td>\n",
       "      <td>Espace</td>\n",
       "      <td>Van</td>\n",
       "    </tr>\n",
       "    <tr>\n",
       "      <th>15684</th>\n",
       "      <td>Renault</td>\n",
       "      <td>Espace</td>\n",
       "      <td>Van</td>\n",
       "    </tr>\n",
       "    <tr>\n",
       "      <th>15791</th>\n",
       "      <td>Renault</td>\n",
       "      <td>Espace</td>\n",
       "      <td>Van</td>\n",
       "    </tr>\n",
       "    <tr>\n",
       "      <th>15906</th>\n",
       "      <td>Renault</td>\n",
       "      <td>Espace</td>\n",
       "      <td>Van</td>\n",
       "    </tr>\n",
       "  </tbody>\n",
       "</table>\n",
       "<p>88 rows × 3 columns</p>\n",
       "</div>"
      ],
      "text/plain": [
       "          make   model body_type\n",
       "1269      Audi      A1   Compact\n",
       "2500      Audi      A1   Compact\n",
       "4259      Audi      A3   Compact\n",
       "7177      Opel   Astra    Sedans\n",
       "7670      Opel   Astra   Compact\n",
       "...        ...     ...       ...\n",
       "15641  Renault  Espace       Van\n",
       "15647  Renault  Espace       Van\n",
       "15684  Renault  Espace       Van\n",
       "15791  Renault  Espace       Van\n",
       "15906  Renault  Espace       Van\n",
       "\n",
       "[88 rows x 3 columns]"
      ]
     },
     "execution_count": 67,
     "metadata": {},
     "output_type": "execute_result"
    }
   ],
   "source": [
    "df[df.hp_kW.isnull()][[\"make\", \"model\", \"body_type\"]]"
   ]
  },
  {
   "cell_type": "code",
   "execution_count": 68,
   "metadata": {
    "ExecuteTime": {
     "end_time": "2022-08-03T08:59:22.189433Z",
     "start_time": "2022-08-03T08:59:22.145547Z"
    }
   },
   "outputs": [],
   "source": [
    "df.hp_kW = df.groupby([\"make\", \"model\",\"body_type\"])[\"hp_kW\"].apply(lambda x : x.fillna(x.median()))"
   ]
  },
  {
   "cell_type": "code",
   "execution_count": 69,
   "metadata": {
    "ExecuteTime": {
     "end_time": "2022-08-03T08:59:22.204389Z",
     "start_time": "2022-08-03T08:59:22.191424Z"
    }
   },
   "outputs": [
    {
     "data": {
      "text/plain": [
       "0"
      ]
     },
     "execution_count": 69,
     "metadata": {},
     "output_type": "execute_result"
    }
   ],
   "source": [
    "df.hp_kW.isnull().sum()"
   ]
  },
  {
   "cell_type": "markdown",
   "metadata": {},
   "source": [
    "## 8 warranty"
   ]
  },
  {
   "cell_type": "code",
   "execution_count": 70,
   "metadata": {
    "ExecuteTime": {
     "end_time": "2022-08-03T08:59:22.235307Z",
     "start_time": "2022-08-03T08:59:22.208379Z"
    }
   },
   "outputs": [
    {
     "name": "stdout",
     "output_type": "stream",
     "text": [
      "column name :  warranty\n",
      "-+--+--+--+--+--+--+--+--+--+--+--+--+--+--+--+--+--+--+--+--+--+--+--+--+-\n",
      "Per_of_Nulls   :  % 69.51\n",
      "Num_of_Nulls   :  11066\n",
      "NaN       11066\n",
      "12.000     2594\n",
      "24.000     1118\n",
      "60.000      401\n",
      "36.000      279\n",
      "48.000      149\n",
      "6.000       125\n",
      "72.000       59\n",
      "3.000        33\n",
      "23.000       11\n",
      "18.000       10\n",
      "20.000        7\n",
      "25.000        6\n",
      "2.000         5\n",
      "50.000        4\n",
      "26.000        4\n",
      "16.000        4\n",
      "4.000         3\n",
      "1.000         3\n",
      "19.000        3\n",
      "34.000        3\n",
      "13.000        3\n",
      "28.000        2\n",
      "22.000        2\n",
      "14.000        2\n",
      "11.000        2\n",
      "46.000        2\n",
      "21.000        2\n",
      "9.000         2\n",
      "17.000        2\n",
      "45.000        2\n",
      "33.000        1\n",
      "40.000        1\n",
      "65.000        1\n",
      "10.000        1\n",
      "15.000        1\n",
      "7.000         1\n",
      "8.000         1\n",
      "56.000        1\n",
      "49.000        1\n",
      "47.000        1\n",
      "30.000        1\n",
      "Name: warranty, dtype: int64\n",
      "******************************\n",
      "\n",
      "\n",
      "\n"
     ]
    }
   ],
   "source": [
    "check_df(\"warranty\")"
   ]
  },
  {
   "cell_type": "code",
   "execution_count": 71,
   "metadata": {
    "ExecuteTime": {
     "end_time": "2022-08-03T08:59:22.267222Z",
     "start_time": "2022-08-03T08:59:22.238299Z"
    }
   },
   "outputs": [
    {
     "data": {
      "text/plain": [
       "NaN       11066\n",
       "12.000     2594\n",
       "24.000     1118\n",
       "60.000      401\n",
       "36.000      279\n",
       "48.000      149\n",
       "6.000       125\n",
       "72.000       59\n",
       "3.000        33\n",
       "23.000       11\n",
       "18.000       10\n",
       "20.000        7\n",
       "25.000        6\n",
       "2.000         5\n",
       "50.000        4\n",
       "26.000        4\n",
       "16.000        4\n",
       "4.000         3\n",
       "1.000         3\n",
       "19.000        3\n",
       "34.000        3\n",
       "13.000        3\n",
       "28.000        2\n",
       "22.000        2\n",
       "14.000        2\n",
       "11.000        2\n",
       "46.000        2\n",
       "21.000        2\n",
       "9.000         2\n",
       "17.000        2\n",
       "45.000        2\n",
       "33.000        1\n",
       "40.000        1\n",
       "65.000        1\n",
       "10.000        1\n",
       "15.000        1\n",
       "7.000         1\n",
       "8.000         1\n",
       "56.000        1\n",
       "49.000        1\n",
       "47.000        1\n",
       "30.000        1\n",
       "Name: warranty, dtype: int64"
      ]
     },
     "execution_count": 71,
     "metadata": {},
     "output_type": "execute_result"
    }
   ],
   "source": [
    "df[\"warranty\"].value_counts(dropna=False)"
   ]
  },
  {
   "cell_type": "code",
   "execution_count": 72,
   "metadata": {
    "ExecuteTime": {
     "end_time": "2022-08-03T08:59:22.283179Z",
     "start_time": "2022-08-03T08:59:22.269216Z"
    }
   },
   "outputs": [
    {
     "data": {
      "text/plain": [
       "type\n",
       "Demonstration    36.000\n",
       "Employee's car   12.000\n",
       "New              24.000\n",
       "Pre-registered   24.000\n",
       "Used             12.000\n",
       "Name: warranty, dtype: float64"
      ]
     },
     "execution_count": 72,
     "metadata": {},
     "output_type": "execute_result"
    }
   ],
   "source": [
    "df.groupby(\"type\")[\"warranty\"].median()"
   ]
  },
  {
   "cell_type": "code",
   "execution_count": 73,
   "metadata": {
    "ExecuteTime": {
     "end_time": "2022-08-03T08:59:22.299150Z",
     "start_time": "2022-08-03T08:59:22.286171Z"
    }
   },
   "outputs": [],
   "source": [
    "df[\"warranty\"] = df[\"warranty\"].replace(to_replace=np.nan, value=0).astype(\"float\")"
   ]
  },
  {
   "cell_type": "code",
   "execution_count": 74,
   "metadata": {
    "ExecuteTime": {
     "end_time": "2022-08-03T08:59:22.331051Z",
     "start_time": "2022-08-03T08:59:22.304123Z"
    }
   },
   "outputs": [],
   "source": [
    "df.loc[df[\"warranty\"] != 0, \"warranty\"] = 1"
   ]
  },
  {
   "cell_type": "code",
   "execution_count": 75,
   "metadata": {
    "ExecuteTime": {
     "end_time": "2022-08-03T08:59:22.347008Z",
     "start_time": "2022-08-03T08:59:22.334043Z"
    }
   },
   "outputs": [
    {
     "data": {
      "text/plain": [
       "0.000    11066\n",
       "1.000     4853\n",
       "Name: warranty, dtype: int64"
      ]
     },
     "execution_count": 75,
     "metadata": {},
     "output_type": "execute_result"
    }
   ],
   "source": [
    "df[\"warranty\"].value_counts(dropna=False)"
   ]
  },
  {
   "cell_type": "code",
   "execution_count": 76,
   "metadata": {
    "ExecuteTime": {
     "end_time": "2022-08-03T08:59:22.362964Z",
     "start_time": "2022-08-03T08:59:22.350000Z"
    }
   },
   "outputs": [],
   "source": [
    "# We made a search on the internet. We found at not all the cars on the autoscout platform have a warranty.\n",
    "# We got contact with autoscout officials on the meaning of NaN values of warranty column in the dataset \n",
    "# and they stated that every new car has a warranty but not all used cars have a warranty. \n",
    "# So we have filled all of the used cars to '0' and apllied fillna method for other values median of the \"warranty\" column values by groupby value of the \"type\" and \"age\" column."
   ]
  },
  {
   "cell_type": "code",
   "execution_count": 77,
   "metadata": {
    "ExecuteTime": {
     "end_time": "2022-08-03T08:59:22.378922Z",
     "start_time": "2022-08-03T08:59:22.366956Z"
    }
   },
   "outputs": [],
   "source": [
    "#df[df.type == \"Used\"][\"warranty\"].fillna(0)\n",
    "#df[df.type == \"Used\"][\"warranty\"].replace(np.nan, 0, inplace=True)"
   ]
  },
  {
   "cell_type": "code",
   "execution_count": 78,
   "metadata": {
    "ExecuteTime": {
     "end_time": "2022-08-03T08:59:22.409840Z",
     "start_time": "2022-08-03T08:59:22.380917Z"
    }
   },
   "outputs": [],
   "source": [
    "# df.warranty = df.groupby([\"type\", \"age\"])[\"warranty\"].apply(lambda x : x.fillna(x.median()))"
   ]
  },
  {
   "cell_type": "code",
   "execution_count": 79,
   "metadata": {
    "ExecuteTime": {
     "end_time": "2022-08-03T08:59:22.439760Z",
     "start_time": "2022-08-03T08:59:22.411835Z"
    }
   },
   "outputs": [
    {
     "data": {
      "text/plain": [
       "0"
      ]
     },
     "execution_count": 79,
     "metadata": {},
     "output_type": "execute_result"
    }
   ],
   "source": [
    "df.warranty.isnull().sum()"
   ]
  },
  {
   "cell_type": "markdown",
   "metadata": {},
   "source": [
    "## 9 body color "
   ]
  },
  {
   "cell_type": "code",
   "execution_count": 80,
   "metadata": {
    "ExecuteTime": {
     "end_time": "2022-08-03T08:59:22.469681Z",
     "start_time": "2022-08-03T08:59:22.442752Z"
    }
   },
   "outputs": [
    {
     "name": "stdout",
     "output_type": "stream",
     "text": [
      "column name :  body_color\n",
      "-+--+--+--+--+--+--+--+--+--+--+--+--+--+--+--+--+--+--+--+--+--+--+--+--+-\n",
      "Per_of_Nulls   :  % 3.75\n",
      "Num_of_Nulls   :  597\n",
      "Black     3745\n",
      "Grey      3505\n",
      "White     3406\n",
      "Silver    1647\n",
      "Blue      1431\n",
      "Red        957\n",
      "NaN        597\n",
      "Brown      289\n",
      "Green      154\n",
      "Beige      108\n",
      "Yellow      51\n",
      "Violet      18\n",
      "Bronze       6\n",
      "Orange       3\n",
      "Gold         2\n",
      "Name: body_color, dtype: int64\n",
      "******************************\n",
      "\n",
      "\n",
      "\n"
     ]
    }
   ],
   "source": [
    "check_df(\"body_color\")"
   ]
  },
  {
   "cell_type": "code",
   "execution_count": 81,
   "metadata": {
    "ExecuteTime": {
     "end_time": "2022-08-03T08:59:22.501593Z",
     "start_time": "2022-08-03T08:59:22.485637Z"
    }
   },
   "outputs": [
    {
     "name": "stdout",
     "output_type": "stream",
     "text": [
      "column name :  body_color_original\n",
      "-+--+--+--+--+--+--+--+--+--+--+--+--+--+--+--+--+--+--+--+--+--+--+--+--+-\n",
      "Per_of_Nulls   :  % 23.71\n",
      "Num_of_Nulls   :  3774\n",
      "NaN                              3774\n",
      "Onyx Schwarz                      338\n",
      "Bianco                            282\n",
      "Mythosschwarz Metallic            238\n",
      "Brillantschwarz                   216\n",
      "                                 ... \n",
      "Rouge-Braun (G0Y)                   1\n",
      "VARI COLRI DISPONIBILI              1\n",
      "Kokosnussbraun Metallic             1\n",
      "Farbe frei wählbar                  1\n",
      "Perlmutt-Weiß Metallic (Weiß)       1\n",
      "Name: body_color_original, Length: 1927, dtype: int64\n",
      "******************************\n",
      "\n",
      "\n",
      "\n"
     ]
    }
   ],
   "source": [
    "check_df(\"body_color_original\")"
   ]
  },
  {
   "cell_type": "code",
   "execution_count": 82,
   "metadata": {
    "ExecuteTime": {
     "end_time": "2022-08-03T08:59:22.532512Z",
     "start_time": "2022-08-03T08:59:22.503589Z"
    }
   },
   "outputs": [
    {
     "data": {
      "text/plain": [
       "wählbar - ggf. mit Aufpreis       118\n",
       "wählbar                            88\n",
       "Metallic o. Uni (wählbar)          33\n",
       "wählbar - ggf gegen Aufpreis       25\n",
       "Other                              14\n",
       "                                 ... \n",
       "rouge eclat                         1\n",
       "quarzgrau dunkel Grau metallic      1\n",
       "Licht Grau M2                       1\n",
       "graphitgrau Metallik                1\n",
       "Farbe: Sonstige                     1\n",
       "Name: body_color_original, Length: 85, dtype: int64"
      ]
     },
     "execution_count": 82,
     "metadata": {},
     "output_type": "execute_result"
    }
   ],
   "source": [
    "df[df.body_color.isnull()][\"body_color_original\"].value_counts()"
   ]
  },
  {
   "cell_type": "code",
   "execution_count": 83,
   "metadata": {
    "ExecuteTime": {
     "end_time": "2022-08-03T08:59:22.547471Z",
     "start_time": "2022-08-03T08:59:22.536503Z"
    }
   },
   "outputs": [],
   "source": [
    "df.body_color = df.body_color.fillna(method=\"bfill\")"
   ]
  },
  {
   "cell_type": "code",
   "execution_count": 84,
   "metadata": {
    "ExecuteTime": {
     "end_time": "2022-08-03T08:59:22.563430Z",
     "start_time": "2022-08-03T08:59:22.550464Z"
    }
   },
   "outputs": [
    {
     "data": {
      "text/plain": [
       "0"
      ]
     },
     "execution_count": 84,
     "metadata": {},
     "output_type": "execute_result"
    }
   ],
   "source": [
    "df.body_color.isnull().sum()"
   ]
  },
  {
   "cell_type": "markdown",
   "metadata": {},
   "source": [
    "## 10 paint type"
   ]
  },
  {
   "cell_type": "code",
   "execution_count": 85,
   "metadata": {
    "ExecuteTime": {
     "end_time": "2022-08-03T08:59:22.595343Z",
     "start_time": "2022-08-03T08:59:22.574400Z"
    }
   },
   "outputs": [
    {
     "name": "stdout",
     "output_type": "stream",
     "text": [
      "column name :  paint_type\n",
      "-+--+--+--+--+--+--+--+--+--+--+--+--+--+--+--+--+--+--+--+--+--+--+--+--+-\n",
      "Per_of_Nulls   :  % 36.26\n",
      "Num_of_Nulls   :  5772\n",
      "Metallic       9794\n",
      "NaN            5772\n",
      "Uni/basic       347\n",
      "Perl effect       6\n",
      "Name: paint_type, dtype: int64\n",
      "******************************\n",
      "\n",
      "\n",
      "\n"
     ]
    }
   ],
   "source": [
    "check_df(\"paint_type\")"
   ]
  },
  {
   "cell_type": "code",
   "execution_count": 86,
   "metadata": {
    "ExecuteTime": {
     "end_time": "2022-08-03T08:59:22.640223Z",
     "start_time": "2022-08-03T08:59:22.600331Z"
    }
   },
   "outputs": [
    {
     "data": {
      "text/plain": [
       "Brillantschwarz                179\n",
       "Bianco                         163\n",
       "wählbar - ggf. mit Aufpreis    118\n",
       "Blanco                         110\n",
       "Grigio                          91\n",
       "                              ... \n",
       "schnee-weiss                     1\n",
       "schneeweiß/schwarz               1\n",
       "rouge eclat                      1\n",
       "Gris Cosmique                    1\n",
       "Cosmos Blau Met                  1\n",
       "Name: body_color_original, Length: 623, dtype: int64"
      ]
     },
     "execution_count": 86,
     "metadata": {},
     "output_type": "execute_result"
    }
   ],
   "source": [
    "df[df.paint_type.isnull()][\"body_color_original\"].value_counts()"
   ]
  },
  {
   "cell_type": "code",
   "execution_count": 87,
   "metadata": {
    "ExecuteTime": {
     "end_time": "2022-08-03T08:59:22.656181Z",
     "start_time": "2022-08-03T08:59:22.642218Z"
    }
   },
   "outputs": [],
   "source": [
    "df.paint_type = df.paint_type.fillna(method=\"ffill\")"
   ]
  },
  {
   "cell_type": "code",
   "execution_count": 88,
   "metadata": {
    "ExecuteTime": {
     "end_time": "2022-08-03T08:59:22.671141Z",
     "start_time": "2022-08-03T08:59:22.658176Z"
    }
   },
   "outputs": [
    {
     "data": {
      "text/plain": [
       "0"
      ]
     },
     "execution_count": 88,
     "metadata": {},
     "output_type": "execute_result"
    }
   ],
   "source": [
    "df.paint_type.isnull().sum()"
   ]
  },
  {
   "cell_type": "markdown",
   "metadata": {},
   "source": [
    "## 11 body_color_original "
   ]
  },
  {
   "cell_type": "code",
   "execution_count": 89,
   "metadata": {
    "ExecuteTime": {
     "end_time": "2022-08-03T08:59:22.703054Z",
     "start_time": "2022-08-03T08:59:22.674132Z"
    }
   },
   "outputs": [],
   "source": [
    "df.drop(columns=\"body_color_original\", inplace=True)"
   ]
  },
  {
   "cell_type": "code",
   "execution_count": 90,
   "metadata": {
    "ExecuteTime": {
     "end_time": "2022-08-03T08:59:22.719012Z",
     "start_time": "2022-08-03T08:59:22.707045Z"
    }
   },
   "outputs": [],
   "source": [
    "# Since this column contains irrelevant values and the values are in German, we have dropped this column."
   ]
  },
  {
   "cell_type": "markdown",
   "metadata": {
    "ExecuteTime": {
     "end_time": "2022-07-31T20:19:13.244346Z",
     "start_time": "2022-07-31T20:19:13.225397Z"
    }
   },
   "source": [
    "## 12 upholstery"
   ]
  },
  {
   "cell_type": "code",
   "execution_count": 91,
   "metadata": {
    "ExecuteTime": {
     "end_time": "2022-08-03T08:59:22.750929Z",
     "start_time": "2022-08-03T08:59:22.721007Z"
    }
   },
   "outputs": [
    {
     "name": "stdout",
     "output_type": "stream",
     "text": [
      "column name :  upholstery\n",
      "-+--+--+--+--+--+--+--+--+--+--+--+--+--+--+--+--+--+--+--+--+--+--+--+--+-\n",
      "Per_of_Nulls   :  % 23.37\n",
      "Num_of_Nulls   :  3720\n",
      "Cloth           9206\n",
      "NaN             3720\n",
      "Part leather    1499\n",
      "Full leather    1009\n",
      "Other            368\n",
      "Velour            60\n",
      "alcantara         57\n",
      "Name: upholstery, dtype: int64\n",
      "******************************\n",
      "\n",
      "\n",
      "\n"
     ]
    }
   ],
   "source": [
    "check_df(\"upholstery\")"
   ]
  },
  {
   "cell_type": "code",
   "execution_count": 92,
   "metadata": {
    "ExecuteTime": {
     "end_time": "2022-08-03T08:59:22.796805Z",
     "start_time": "2022-08-03T08:59:22.763892Z"
    }
   },
   "outputs": [
    {
     "data": {
      "text/plain": [
       "3                   Alloy wheels,Sport seats,Voice Control\n",
       "9                                                      NaN\n",
       "13               Alloy wheels,Sport seats,Sport suspension\n",
       "16                  Alloy wheels,Sport package,Sport seats\n",
       "22       Alloy wheels,Catalytic Converter,Sport seats,V...\n",
       "                               ...                        \n",
       "15906                                         Alloy wheels\n",
       "15908                                         Alloy wheels\n",
       "15909                            Alloy wheels,Touch screen\n",
       "15912                            Alloy wheels,Touch screen\n",
       "15914                            Alloy wheels,Touch screen\n",
       "Name: extras, Length: 3720, dtype: object"
      ]
     },
     "execution_count": 92,
     "metadata": {},
     "output_type": "execute_result"
    }
   ],
   "source": [
    "df[df.upholstery.isnull()][\"extras\"]"
   ]
  },
  {
   "cell_type": "code",
   "execution_count": 93,
   "metadata": {
    "ExecuteTime": {
     "end_time": "2022-08-03T08:59:22.812762Z",
     "start_time": "2022-08-03T08:59:22.799797Z"
    }
   },
   "outputs": [],
   "source": [
    "import re \n",
    "\n",
    "def get_diff_category_column(Series:pd.Series, exclude=''',/\\n''', pattern=r'''[,\\n]| /''', strip='''\\n' \"!?|.,*+-_/][\\\\n''', diff_value=list()):  \n",
    "    diff_value.clear()\n",
    "    column = Series.dropna().apply(str).str.strip(strip)\n",
    "    for row in column:\n",
    "        if not any(x in exclude for x in row) and row not in diff_value:\n",
    "            diff_value.append(row)\n",
    "        else:\n",
    "            for data in map(lambda x: x.strip(strip), filter(None, re.split(pattern, row))):\n",
    "                if data not in diff_value:\n",
    "                    diff_value.append(data)\n",
    "    return dict(enumerate(sorted(diff_value)))"
   ]
  },
  {
   "cell_type": "code",
   "execution_count": 94,
   "metadata": {
    "ExecuteTime": {
     "end_time": "2022-08-03T08:59:22.968864Z",
     "start_time": "2022-08-03T08:59:22.815754Z"
    }
   },
   "outputs": [
    {
     "data": {
      "text/plain": [
       "{0: 'Alloy wheels',\n",
       " 1: 'Cab or rented Car',\n",
       " 2: 'Catalytic Converter',\n",
       " 3: 'Handicapped enabled',\n",
       " 4: 'Right hand drive',\n",
       " 5: 'Roof rack',\n",
       " 6: 'Shift paddles',\n",
       " 7: 'Ski bag',\n",
       " 8: 'Sliding door',\n",
       " 9: 'Sport package',\n",
       " 10: 'Sport seats',\n",
       " 11: 'Sport suspensio',\n",
       " 12: 'Touch scree',\n",
       " 13: 'Trailer hitch',\n",
       " 14: 'Tuned car',\n",
       " 15: 'Voice Control',\n",
       " 16: 'Winter tyres'}"
      ]
     },
     "execution_count": 94,
     "metadata": {},
     "output_type": "execute_result"
    }
   ],
   "source": [
    "get_diff_category_column(df.extras)"
   ]
  },
  {
   "cell_type": "code",
   "execution_count": 95,
   "metadata": {
    "ExecuteTime": {
     "end_time": "2022-08-03T08:59:23.000783Z",
     "start_time": "2022-08-03T08:59:22.970858Z"
    }
   },
   "outputs": [
    {
     "data": {
      "text/plain": [
       "False    2939\n",
       "True        2\n",
       "Name: comfort&convenience, dtype: int64"
      ]
     },
     "execution_count": 95,
     "metadata": {},
     "output_type": "execute_result"
    }
   ],
   "source": [
    "df[df.upholstery.isnull()][\"comfort&convenience\"].str.contains(\"Leather seats\").value_counts()"
   ]
  },
  {
   "cell_type": "code",
   "execution_count": 96,
   "metadata": {
    "ExecuteTime": {
     "end_time": "2022-08-03T08:59:23.016737Z",
     "start_time": "2022-08-03T08:59:23.005766Z"
    }
   },
   "outputs": [
    {
     "data": {
      "text/plain": [
       "Index(['body_type', 'price_€', 'vat', 'km', 'hp_kW', 'type', 'previous_owners',\n",
       "       'warranty', 'make', 'model', 'body_color', 'paint_type', 'upholstery',\n",
       "       'nr_of_doors', 'nr_of_seats', 'gearing_type', 'engine_displacement_cc',\n",
       "       'cylinders', 'weight_kg', 'drive_chain', 'fuel', 'co2e_g',\n",
       "       'emission_class', 'comfort&convenience', 'entertainment&media',\n",
       "       'extras', 'safety&security', 'gears', 'country_version',\n",
       "       'consumption_comb', 'consumption_city', 'consumption_cuntry', 'age'],\n",
       "      dtype='object')"
      ]
     },
     "execution_count": 96,
     "metadata": {},
     "output_type": "execute_result"
    }
   ],
   "source": [
    "df.columns"
   ]
  },
  {
   "cell_type": "code",
   "execution_count": 97,
   "metadata": {
    "ExecuteTime": {
     "end_time": "2022-08-03T08:59:24.979084Z",
     "start_time": "2022-08-03T08:59:23.019728Z"
    }
   },
   "outputs": [
    {
     "data": {
      "text/plain": [
       "Cloth          0.748\n",
       "Part leather   0.124\n",
       "Full leather   0.085\n",
       "Other          0.032\n",
       "Velour         0.006\n",
       "alcantara      0.005\n",
       "Name: upholstery, dtype: float64"
      ]
     },
     "execution_count": 97,
     "metadata": {},
     "output_type": "execute_result"
    }
   ],
   "source": [
    "df.groupby([\"make\", \"model\", \"price_€\"])[\"upholstery\"].fillna(method=\"pad\").fillna(method=\"backfill\").value_counts(dropna=False, normalize=True)"
   ]
  },
  {
   "cell_type": "code",
   "execution_count": 98,
   "metadata": {
    "ExecuteTime": {
     "end_time": "2022-08-03T08:59:27.063679Z",
     "start_time": "2022-08-03T08:59:24.982083Z"
    }
   },
   "outputs": [],
   "source": [
    "df.upholstery = df.groupby([\"make\", \"model\", \"price_€\"])[\"upholstery\"].fillna(method=\"pad\").fillna(method=\"backfill\")"
   ]
  },
  {
   "cell_type": "code",
   "execution_count": 99,
   "metadata": {
    "ExecuteTime": {
     "end_time": "2022-08-03T08:59:27.079635Z",
     "start_time": "2022-08-03T08:59:27.068666Z"
    }
   },
   "outputs": [],
   "source": [
    "# As the second option we can create an additional column according to \"price_€\" column(\"high\", \"medium\", \"low\" price).\n",
    "# We can fill NaN values of upholstery column by grouping this new column."
   ]
  },
  {
   "cell_type": "code",
   "execution_count": 100,
   "metadata": {
    "ExecuteTime": {
     "end_time": "2022-08-03T08:59:27.111354Z",
     "start_time": "2022-08-03T08:59:27.081631Z"
    }
   },
   "outputs": [
    {
     "data": {
      "text/plain": [
       "0"
      ]
     },
     "execution_count": 100,
     "metadata": {},
     "output_type": "execute_result"
    }
   ],
   "source": [
    "df.upholstery.isnull().sum()"
   ]
  },
  {
   "cell_type": "code",
   "execution_count": 101,
   "metadata": {
    "ExecuteTime": {
     "end_time": "2022-08-03T08:59:27.142270Z",
     "start_time": "2022-08-03T08:59:27.113349Z"
    }
   },
   "outputs": [
    {
     "data": {
      "text/plain": [
       "body_type                    0\n",
       "price_€                      0\n",
       "vat                          0\n",
       "km                           0\n",
       "hp_kW                        0\n",
       "type                         0\n",
       "previous_owners              0\n",
       "warranty                     0\n",
       "make                         0\n",
       "model                        0\n",
       "body_color                   0\n",
       "paint_type                   0\n",
       "upholstery                   0\n",
       "nr_of_doors                212\n",
       "nr_of_seats                977\n",
       "gearing_type                 0\n",
       "engine_displacement_cc     496\n",
       "cylinders                 5680\n",
       "weight_kg                 6974\n",
       "drive_chain               6858\n",
       "fuel                         0\n",
       "co2e_g                    2442\n",
       "emission_class            3628\n",
       "comfort&convenience        920\n",
       "entertainment&media       1374\n",
       "extras                    2962\n",
       "safety&security            982\n",
       "gears                     4712\n",
       "country_version           8333\n",
       "consumption_comb          3790\n",
       "consumption_city          4039\n",
       "consumption_cuntry        3365\n",
       "age                          0\n",
       "dtype: int64"
      ]
     },
     "execution_count": 101,
     "metadata": {},
     "output_type": "execute_result"
    }
   ],
   "source": [
    "df.isnull().sum()"
   ]
  },
  {
   "cell_type": "markdown",
   "metadata": {},
   "source": [
    "## 13 nr_of_doors"
   ]
  },
  {
   "cell_type": "code",
   "execution_count": 102,
   "metadata": {
    "ExecuteTime": {
     "end_time": "2022-08-03T08:59:27.174186Z",
     "start_time": "2022-08-03T08:59:27.146261Z"
    }
   },
   "outputs": [
    {
     "name": "stdout",
     "output_type": "stream",
     "text": [
      "column name :  nr_of_doors\n",
      "-+--+--+--+--+--+--+--+--+--+--+--+--+--+--+--+--+--+--+--+--+--+--+--+--+-\n",
      "Per_of_Nulls   :  % 1.33\n",
      "Num_of_Nulls   :  212\n",
      "5.000    11575\n",
      "4.000     3079\n",
      "3.000      832\n",
      "2.000      219\n",
      "NaN        212\n",
      "1.000        1\n",
      "7.000        1\n",
      "Name: nr_of_doors, dtype: int64\n",
      "******************************\n",
      "\n",
      "\n",
      "\n"
     ]
    }
   ],
   "source": [
    "check_df(\"nr_of_doors\")"
   ]
  },
  {
   "cell_type": "code",
   "execution_count": 103,
   "metadata": {
    "ExecuteTime": {
     "end_time": "2022-08-03T08:59:27.205657Z",
     "start_time": "2022-08-03T08:59:27.176181Z"
    }
   },
   "outputs": [
    {
     "data": {
      "text/plain": [
       "make     model   body_type    nr_of_doors\n",
       "Audi     A1      Compact      5.000          666\n",
       "                              4.000          207\n",
       "                              3.000           80\n",
       "                              2.000           69\n",
       "                              NaN             17\n",
       "                                            ... \n",
       "Renault  Espace  Transporter  5.000           52\n",
       "                 Van          5.000          704\n",
       "                              4.000           90\n",
       "                              NaN              8\n",
       "                              7.000            1\n",
       "Name: nr_of_doors, Length: 129, dtype: int64"
      ]
     },
     "execution_count": 103,
     "metadata": {},
     "output_type": "execute_result"
    }
   ],
   "source": [
    "df.groupby([\"make\", \"model\", \"body_type\"])[\"nr_of_doors\"].value_counts(dropna=False)"
   ]
  },
  {
   "cell_type": "code",
   "execution_count": 104,
   "metadata": {
    "ExecuteTime": {
     "end_time": "2022-08-03T08:59:27.237572Z",
     "start_time": "2022-08-03T08:59:27.207652Z"
    }
   },
   "outputs": [
    {
     "data": {
      "text/plain": [
       "make     model     body_type    \n",
       "Audi     A1        Compact         4.438\n",
       "                   Coupe           3.500\n",
       "                   Other           4.615\n",
       "                   Sedans          4.563\n",
       "                   Station wagon   4.762\n",
       "                   Van             5.000\n",
       "         A2        Off-Road        5.000\n",
       "         A3        Compact         4.845\n",
       "                   Convertible     2.375\n",
       "                   Coupe           3.000\n",
       "                   Other           4.188\n",
       "                   Sedans          4.707\n",
       "                   Station wagon   4.591\n",
       "Opel     Astra     Compact         4.973\n",
       "                   Coupe           4.000\n",
       "                   Off-Road        5.000\n",
       "                   Other           4.894\n",
       "                   Sedans          4.763\n",
       "                   Station wagon   4.768\n",
       "         Corsa     Compact         4.011\n",
       "                   Coupe           3.154\n",
       "                   Off-Road        5.000\n",
       "                   Other           4.851\n",
       "                   Sedans          4.610\n",
       "                   Transporter     3.857\n",
       "                   Van               NaN\n",
       "         Insignia  Compact         4.963\n",
       "                   Coupe           4.000\n",
       "                   Off-Road        5.000\n",
       "                   Other           4.936\n",
       "                   Sedans          4.718\n",
       "                   Station wagon   4.717\n",
       "                   Van             5.000\n",
       "Renault  Clio      Compact         4.632\n",
       "                   Coupe           4.000\n",
       "                   Off-Road        5.000\n",
       "                   Other           4.920\n",
       "                   Sedans          4.952\n",
       "                   Station wagon   4.841\n",
       "                   Transporter     4.964\n",
       "                   Van             5.000\n",
       "         Duster    Off-Road        5.000\n",
       "         Espace    Compact         4.833\n",
       "                   Coupe           5.000\n",
       "                   Off-Road        4.857\n",
       "                   Other           5.000\n",
       "                   Sedans          4.571\n",
       "                   Station wagon   4.956\n",
       "                   Transporter     5.000\n",
       "                   Van             4.889\n",
       "Name: nr_of_doors, dtype: float64"
      ]
     },
     "execution_count": 104,
     "metadata": {},
     "output_type": "execute_result"
    }
   ],
   "source": [
    "df.groupby([\"make\", \"model\", \"body_type\"])[\"nr_of_doors\"].mean()"
   ]
  },
  {
   "cell_type": "code",
   "execution_count": 105,
   "metadata": {
    "ExecuteTime": {
     "end_time": "2022-08-03T08:59:27.253529Z",
     "start_time": "2022-08-03T08:59:27.239566Z"
    }
   },
   "outputs": [],
   "source": [
    "# group mode values - use when key error fillna column mode"
   ]
  },
  {
   "cell_type": "code",
   "execution_count": 106,
   "metadata": {
    "ExecuteTime": {
     "end_time": "2022-08-03T08:59:27.348786Z",
     "start_time": "2022-08-03T08:59:27.255524Z"
    }
   },
   "outputs": [
    {
     "data": {
      "text/plain": [
       "5.000    11787\n",
       "4.000     3079\n",
       "3.000      832\n",
       "2.000      219\n",
       "1.000        1\n",
       "7.000        1\n",
       "Name: nr_of_doors, dtype: int64"
      ]
     },
     "execution_count": 106,
     "metadata": {},
     "output_type": "execute_result"
    }
   ],
   "source": [
    "df.groupby([\"make\", \"model\", \"body_type\"])[\"nr_of_doors\"].apply(lambda x: x.fillna(x.mode()[0] if any(x.mode()) else df[\"nr_of_doors\"].mode()[0])).value_counts(dropna=False)"
   ]
  },
  {
   "cell_type": "code",
   "execution_count": 107,
   "metadata": {
    "ExecuteTime": {
     "end_time": "2022-08-03T08:59:27.424842Z",
     "start_time": "2022-08-03T08:59:27.351779Z"
    }
   },
   "outputs": [],
   "source": [
    "df.nr_of_doors = df.groupby([\"make\", \"model\", \"body_type\"])[\"nr_of_doors\"].apply(lambda x: x.fillna(x.mode()[0] if any(x.mode()) else df[\"nr_of_doors\"].mode()[0]))"
   ]
  },
  {
   "cell_type": "code",
   "execution_count": 108,
   "metadata": {
    "ExecuteTime": {
     "end_time": "2022-08-03T08:59:27.440798Z",
     "start_time": "2022-08-03T08:59:27.427834Z"
    }
   },
   "outputs": [
    {
     "data": {
      "text/plain": [
       "5.000    11787\n",
       "4.000     3079\n",
       "3.000      832\n",
       "2.000      219\n",
       "1.000        1\n",
       "7.000        1\n",
       "Name: nr_of_doors, dtype: int64"
      ]
     },
     "execution_count": 108,
     "metadata": {},
     "output_type": "execute_result"
    }
   ],
   "source": [
    "df.nr_of_doors.value_counts(dropna=False)"
   ]
  },
  {
   "cell_type": "code",
   "execution_count": 109,
   "metadata": {
    "ExecuteTime": {
     "end_time": "2022-08-03T08:59:27.471716Z",
     "start_time": "2022-08-03T08:59:27.442794Z"
    }
   },
   "outputs": [
    {
     "data": {
      "text/plain": [
       "0"
      ]
     },
     "execution_count": 109,
     "metadata": {},
     "output_type": "execute_result"
    }
   ],
   "source": [
    "df.nr_of_doors.isnull().sum()"
   ]
  },
  {
   "cell_type": "markdown",
   "metadata": {
    "ExecuteTime": {
     "end_time": "2022-08-01T07:47:37.354183Z",
     "start_time": "2022-08-01T07:47:37.335234Z"
    }
   },
   "source": [
    "## 14 nr_of_seats"
   ]
  },
  {
   "cell_type": "code",
   "execution_count": 110,
   "metadata": {
    "ExecuteTime": {
     "end_time": "2022-08-03T08:59:27.487673Z",
     "start_time": "2022-08-03T08:59:27.473710Z"
    }
   },
   "outputs": [
    {
     "name": "stdout",
     "output_type": "stream",
     "text": [
      "column name :  nr_of_seats\n",
      "-+--+--+--+--+--+--+--+--+--+--+--+--+--+--+--+--+--+--+--+--+--+--+--+--+-\n",
      "Per_of_Nulls   :  % 6.14\n",
      "Num_of_Nulls   :  977\n",
      "5.000    13336\n",
      "4.000     1125\n",
      "NaN        977\n",
      "7.000      362\n",
      "2.000      116\n",
      "6.000        2\n",
      "3.000        1\n",
      "Name: nr_of_seats, dtype: int64\n",
      "******************************\n",
      "\n",
      "\n",
      "\n"
     ]
    }
   ],
   "source": [
    "check_df(\"nr_of_seats\")"
   ]
  },
  {
   "cell_type": "code",
   "execution_count": 111,
   "metadata": {
    "ExecuteTime": {
     "end_time": "2022-08-03T08:59:27.549508Z",
     "start_time": "2022-08-03T08:59:27.489668Z"
    }
   },
   "outputs": [
    {
     "data": {
      "text/plain": [
       "5.000    14308\n",
       "4.000     1127\n",
       "7.000      362\n",
       "2.000      119\n",
       "6.000        2\n",
       "3.000        1\n",
       "Name: nr_of_seats, dtype: int64"
      ]
     },
     "execution_count": 111,
     "metadata": {},
     "output_type": "execute_result"
    }
   ],
   "source": [
    "df.groupby([\"make\", \"model\", \"body_type\"])[\"nr_of_seats\"].apply(lambda x: x.fillna(x.mode()[0] if any(x.mode()) else df[\"nr_of_seats\"].mode()[0])).value_counts(dropna=False)"
   ]
  },
  {
   "cell_type": "code",
   "execution_count": 112,
   "metadata": {
    "ExecuteTime": {
     "end_time": "2022-08-03T08:59:27.612340Z",
     "start_time": "2022-08-03T08:59:27.553498Z"
    }
   },
   "outputs": [],
   "source": [
    "df.nr_of_seats = df.groupby([\"make\", \"model\", \"body_type\"])[\"nr_of_seats\"].apply(lambda x: x.fillna(x.mode()[0] if any(x.mode()) else df[\"nr_of_seats\"].mode()[0]))"
   ]
  },
  {
   "cell_type": "code",
   "execution_count": 113,
   "metadata": {
    "ExecuteTime": {
     "end_time": "2022-08-03T08:59:27.627300Z",
     "start_time": "2022-08-03T08:59:27.616329Z"
    }
   },
   "outputs": [
    {
     "data": {
      "text/plain": [
       "0"
      ]
     },
     "execution_count": 113,
     "metadata": {},
     "output_type": "execute_result"
    }
   ],
   "source": [
    "df.nr_of_seats.isnull().sum()"
   ]
  },
  {
   "cell_type": "code",
   "execution_count": 114,
   "metadata": {
    "ExecuteTime": {
     "end_time": "2022-08-03T08:59:27.659215Z",
     "start_time": "2022-08-03T08:59:27.630293Z"
    }
   },
   "outputs": [
    {
     "data": {
      "text/plain": [
       "5.000    14308\n",
       "4.000     1127\n",
       "7.000      362\n",
       "2.000      119\n",
       "6.000        2\n",
       "3.000        1\n",
       "Name: nr_of_seats, dtype: int64"
      ]
     },
     "execution_count": 114,
     "metadata": {},
     "output_type": "execute_result"
    }
   ],
   "source": [
    "df.nr_of_seats.value_counts(dropna=False)"
   ]
  },
  {
   "cell_type": "markdown",
   "metadata": {},
   "source": [
    "## 15 cylinders"
   ]
  },
  {
   "cell_type": "code",
   "execution_count": 115,
   "metadata": {
    "ExecuteTime": {
     "end_time": "2022-08-03T08:59:27.691129Z",
     "start_time": "2022-08-03T08:59:27.661210Z"
    }
   },
   "outputs": [
    {
     "name": "stdout",
     "output_type": "stream",
     "text": [
      "column name :  cylinders\n",
      "-+--+--+--+--+--+--+--+--+--+--+--+--+--+--+--+--+--+--+--+--+--+--+--+--+-\n",
      "Per_of_Nulls   :  % 35.68\n",
      "Num_of_Nulls   :  5680\n",
      "4.000    8105\n",
      "NaN      5680\n",
      "3.000    2104\n",
      "5.000      22\n",
      "6.000       3\n",
      "8.000       2\n",
      "2.000       2\n",
      "1.000       1\n",
      "Name: cylinders, dtype: int64\n",
      "******************************\n",
      "\n",
      "\n",
      "\n"
     ]
    }
   ],
   "source": [
    "check_df(\"cylinders\")"
   ]
  },
  {
   "cell_type": "code",
   "execution_count": 116,
   "metadata": {
    "ExecuteTime": {
     "end_time": "2022-08-03T08:59:27.832750Z",
     "start_time": "2022-08-03T08:59:27.695119Z"
    }
   },
   "outputs": [
    {
     "data": {
      "text/plain": [
       "4.000    12559\n",
       "3.000     3325\n",
       "5.000       22\n",
       "8.000        7\n",
       "6.000        3\n",
       "2.000        2\n",
       "1.000        1\n",
       "Name: cylinders, dtype: int64"
      ]
     },
     "execution_count": 116,
     "metadata": {},
     "output_type": "execute_result"
    }
   ],
   "source": [
    "df.groupby([\"make\", \"model\", \"hp_kW\"])[\"cylinders\"].apply(lambda x: x.fillna(x.mode()[0] if any(x.mode()) else df[\"cylinders\"].mode()[0])).value_counts(dropna=False)"
   ]
  },
  {
   "cell_type": "code",
   "execution_count": 117,
   "metadata": {
    "ExecuteTime": {
     "end_time": "2022-08-03T08:59:27.974372Z",
     "start_time": "2022-08-03T08:59:27.834745Z"
    }
   },
   "outputs": [],
   "source": [
    "df[\"cylinders\"] = df.groupby([\"make\", \"model\", \"hp_kW\"])[\"cylinders\"].apply(lambda x: x.fillna(x.mode()[0] if any(x.mode()) else df[\"cylinders\"].mode()[0]))"
   ]
  },
  {
   "cell_type": "code",
   "execution_count": 118,
   "metadata": {
    "ExecuteTime": {
     "end_time": "2022-08-03T08:59:27.990328Z",
     "start_time": "2022-08-03T08:59:27.976367Z"
    }
   },
   "outputs": [
    {
     "data": {
      "text/plain": [
       "0"
      ]
     },
     "execution_count": 118,
     "metadata": {},
     "output_type": "execute_result"
    }
   ],
   "source": [
    "df[\"cylinders\"].isnull().sum()"
   ]
  },
  {
   "cell_type": "code",
   "execution_count": null,
   "metadata": {},
   "outputs": [],
   "source": []
  },
  {
   "cell_type": "markdown",
   "metadata": {},
   "source": [
    "## 16 engine_displacement_cc"
   ]
  },
  {
   "cell_type": "code",
   "execution_count": 119,
   "metadata": {
    "ExecuteTime": {
     "end_time": "2022-08-03T08:59:28.022250Z",
     "start_time": "2022-08-03T08:59:27.992325Z"
    }
   },
   "outputs": [
    {
     "name": "stdout",
     "output_type": "stream",
     "text": [
      "column name :  engine_displacement_cc\n",
      "-+--+--+--+--+--+--+--+--+--+--+--+--+--+--+--+--+--+--+--+--+--+--+--+--+-\n",
      "Per_of_Nulls   :  % 3.12\n",
      "Num_of_Nulls   :  496\n",
      "1598.000    4761\n",
      "999.000     2438\n",
      "1398.000    1314\n",
      "1399.000     749\n",
      "1229.000     677\n",
      "            ... \n",
      "122.000        1\n",
      "1198.000       1\n",
      "1195.000       1\n",
      "2967.000       1\n",
      "1800.000       1\n",
      "Name: engine_displacement_cc, Length: 78, dtype: int64\n",
      "******************************\n",
      "\n",
      "\n",
      "\n"
     ]
    }
   ],
   "source": [
    "check_df(\"engine_displacement_cc\")"
   ]
  },
  {
   "cell_type": "code",
   "execution_count": 120,
   "metadata": {
    "ExecuteTime": {
     "end_time": "2022-08-03T08:59:28.163865Z",
     "start_time": "2022-08-03T08:59:28.024240Z"
    }
   },
   "outputs": [
    {
     "data": {
      "text/plain": [
       "1598.000    4991\n",
       "999.000     2463\n",
       "1398.000    1348\n",
       "1399.000     765\n",
       "1229.000     708\n",
       "            ... \n",
       "122.000        1\n",
       "1198.000       1\n",
       "1195.000       1\n",
       "2967.000       1\n",
       "1800.000       1\n",
       "Name: engine_displacement_cc, Length: 77, dtype: int64"
      ]
     },
     "execution_count": 120,
     "metadata": {},
     "output_type": "execute_result"
    }
   ],
   "source": [
    "df.groupby([\"make\", \"model\", \"cylinders\", \"hp_kW\"])[\"engine_displacement_cc\"].apply(lambda x : x.fillna(x.mode()[0] if any(x.mode()) else df[\"engine_displacement_cc\"].mode()[0])).value_counts(dropna=False)"
   ]
  },
  {
   "cell_type": "code",
   "execution_count": 121,
   "metadata": {
    "ExecuteTime": {
     "end_time": "2022-08-03T08:59:28.305485Z",
     "start_time": "2022-08-03T08:59:28.168851Z"
    }
   },
   "outputs": [],
   "source": [
    "df[\"engine_displacement_cc\"] = df.groupby([\"make\", \"model\", \"cylinders\", \"hp_kW\"])[\"engine_displacement_cc\"].apply(lambda x : x.fillna(x.mode()[0] if any(x.mode()) else df[\"engine_displacement_cc\"].mode()[0]))"
   ]
  },
  {
   "cell_type": "code",
   "execution_count": 122,
   "metadata": {
    "ExecuteTime": {
     "end_time": "2022-08-03T08:59:28.321443Z",
     "start_time": "2022-08-03T08:59:28.308478Z"
    }
   },
   "outputs": [
    {
     "data": {
      "text/plain": [
       "0"
      ]
     },
     "execution_count": 122,
     "metadata": {},
     "output_type": "execute_result"
    }
   ],
   "source": [
    "df[\"engine_displacement_cc\"].isnull().sum()"
   ]
  },
  {
   "cell_type": "markdown",
   "metadata": {
    "ExecuteTime": {
     "end_time": "2022-08-01T09:38:05.952096Z",
     "start_time": "2022-08-01T09:38:05.946114Z"
    }
   },
   "source": [
    "## 17 weight"
   ]
  },
  {
   "cell_type": "code",
   "execution_count": 123,
   "metadata": {
    "ExecuteTime": {
     "end_time": "2022-08-03T08:59:28.353358Z",
     "start_time": "2022-08-03T08:59:28.325432Z"
    }
   },
   "outputs": [
    {
     "name": "stdout",
     "output_type": "stream",
     "text": [
      "column name :  weight_kg\n",
      "-+--+--+--+--+--+--+--+--+--+--+--+--+--+--+--+--+--+--+--+--+--+--+--+--+-\n",
      "Per_of_Nulls   :  % 43.81\n",
      "Num_of_Nulls   :  6974\n",
      "NaN         6974\n",
      "1163.000     574\n",
      "1360.000     356\n",
      "1165.000     301\n",
      "1335.000     242\n",
      "            ... \n",
      "1960.000       1\n",
      "1258.000       1\n",
      "1167.000       1\n",
      "1331.000       1\n",
      "2037.000       1\n",
      "Name: weight_kg, Length: 435, dtype: int64\n",
      "******************************\n",
      "\n",
      "\n",
      "\n"
     ]
    }
   ],
   "source": [
    "check_df(\"weight_kg\")"
   ]
  },
  {
   "cell_type": "code",
   "execution_count": 124,
   "metadata": {
    "ExecuteTime": {
     "end_time": "2022-08-03T08:59:28.385273Z",
     "start_time": "2022-08-03T08:59:28.355352Z"
    }
   },
   "outputs": [
    {
     "data": {
      "text/plain": [
       "make     model   body_type  weight_kg\n",
       "Audi     A1      Compact    NaN          526\n",
       "                            1180.000      86\n",
       "                            1165.000      77\n",
       "                            1200.000      65\n",
       "                            1135.000      53\n",
       "                                        ... \n",
       "Renault  Espace  Van        1939.000       1\n",
       "                            1975.000       1\n",
       "                            2037.000       1\n",
       "                            2353.000       1\n",
       "                            2410.000       1\n",
       "Name: weight_kg, Length: 936, dtype: int64"
      ]
     },
     "execution_count": 124,
     "metadata": {},
     "output_type": "execute_result"
    }
   ],
   "source": [
    "df.groupby([\"make\", \"model\", \"body_type\"])[\"weight_kg\"].value_counts(dropna=False)"
   ]
  },
  {
   "cell_type": "code",
   "execution_count": 125,
   "metadata": {
    "ExecuteTime": {
     "end_time": "2022-08-03T08:59:28.416699Z",
     "start_time": "2022-08-03T08:59:28.387267Z"
    }
   },
   "outputs": [
    {
     "data": {
      "text/plain": [
       "make     model     body_type    \n",
       "Audi     A1        Compact         1174.546\n",
       "                   Coupe           1010.000\n",
       "                   Other           1212.500\n",
       "                   Sedans          1259.656\n",
       "                   Station wagon   1228.571\n",
       "                   Van                  NaN\n",
       "         A2        Off-Road             NaN\n",
       "         A3        Compact         1314.637\n",
       "                   Convertible     1519.286\n",
       "                   Coupe           1260.000\n",
       "                   Other           1318.333\n",
       "                   Sedans          1395.620\n",
       "                   Station wagon   1318.363\n",
       "Opel     Astra     Compact         1302.549\n",
       "                   Coupe           1350.000\n",
       "                   Off-Road        1340.000\n",
       "                   Other           1325.407\n",
       "                   Sedans          1328.364\n",
       "                   Station wagon   1403.742\n",
       "         Corsa     Compact         1174.057\n",
       "                   Coupe           1203.000\n",
       "                   Off-Road        1187.667\n",
       "                   Other           1169.253\n",
       "                   Sedans          1171.566\n",
       "                   Transporter     1181.000\n",
       "                   Van             1124.000\n",
       "         Insignia  Compact         1468.150\n",
       "                   Coupe                NaN\n",
       "                   Off-Road        1508.000\n",
       "                   Other           1524.385\n",
       "                   Sedans          1540.356\n",
       "                   Station wagon   1627.555\n",
       "                   Van                  NaN\n",
       "Renault  Clio      Compact         1126.194\n",
       "                   Coupe                NaN\n",
       "                   Off-Road        1163.500\n",
       "                   Other           1169.750\n",
       "                   Sedans          1174.216\n",
       "                   Station wagon   1190.965\n",
       "                   Transporter     1169.875\n",
       "                   Van                  NaN\n",
       "         Duster    Off-Road             NaN\n",
       "         Espace    Compact         1690.500\n",
       "                   Coupe                NaN\n",
       "                   Off-Road        1734.000\n",
       "                   Other           1734.200\n",
       "                   Sedans          1864.500\n",
       "                   Station wagon   1689.205\n",
       "                   Transporter     1948.939\n",
       "                   Van             1711.070\n",
       "Name: weight_kg, dtype: float64"
      ]
     },
     "execution_count": 125,
     "metadata": {},
     "output_type": "execute_result"
    }
   ],
   "source": [
    "df.groupby([\"make\", \"model\", \"body_type\"])[\"weight_kg\"].mean()"
   ]
  },
  {
   "cell_type": "code",
   "execution_count": 126,
   "metadata": {
    "ExecuteTime": {
     "end_time": "2022-08-03T08:59:28.448614Z",
     "start_time": "2022-08-03T08:59:28.421689Z"
    }
   },
   "outputs": [
    {
     "data": {
      "text/plain": [
       "make     model     body_type    \n",
       "Audi     A1        Compact         1180.000\n",
       "                   Coupe           1010.000\n",
       "                   Other           1217.500\n",
       "                   Sedans          1195.000\n",
       "                   Station wagon   1205.000\n",
       "                   Van                  NaN\n",
       "         A2        Off-Road             NaN\n",
       "         A3        Compact         1280.000\n",
       "                   Convertible     1555.000\n",
       "                   Coupe           1250.000\n",
       "                   Other           1355.000\n",
       "                   Sedans          1350.000\n",
       "                   Station wagon   1335.000\n",
       "Opel     Astra     Compact         1325.000\n",
       "                   Coupe           1350.000\n",
       "                   Off-Road        1340.000\n",
       "                   Other           1350.000\n",
       "                   Sedans          1308.000\n",
       "                   Station wagon   1393.000\n",
       "         Corsa     Compact         1163.000\n",
       "                   Coupe           1159.500\n",
       "                   Off-Road        1163.000\n",
       "                   Other           1163.000\n",
       "                   Sedans          1163.000\n",
       "                   Transporter     1181.000\n",
       "                   Van             1124.000\n",
       "         Insignia  Compact         1487.500\n",
       "                   Coupe                NaN\n",
       "                   Off-Road        1487.000\n",
       "                   Other           1503.000\n",
       "                   Sedans          1503.000\n",
       "                   Station wagon   1623.000\n",
       "                   Van                  NaN\n",
       "Renault  Clio      Compact         1090.000\n",
       "                   Coupe                NaN\n",
       "                   Off-Road        1163.500\n",
       "                   Other           1091.000\n",
       "                   Sedans          1162.000\n",
       "                   Station wagon   1175.000\n",
       "                   Transporter     1181.500\n",
       "                   Van                  NaN\n",
       "         Duster    Off-Road             NaN\n",
       "         Espace    Compact         1690.500\n",
       "                   Coupe                NaN\n",
       "                   Off-Road        1734.000\n",
       "                   Other           1734.000\n",
       "                   Sedans          1864.500\n",
       "                   Station wagon   1684.000\n",
       "                   Transporter     1734.000\n",
       "                   Van             1685.000\n",
       "Name: weight_kg, dtype: float64"
      ]
     },
     "execution_count": 126,
     "metadata": {},
     "output_type": "execute_result"
    }
   ],
   "source": [
    "df.groupby([\"make\", \"model\", \"body_type\"])[\"weight_kg\"].median()"
   ]
  },
  {
   "cell_type": "code",
   "execution_count": 127,
   "metadata": {
    "ExecuteTime": {
     "end_time": "2022-08-03T08:59:28.510453Z",
     "start_time": "2022-08-03T08:59:28.451606Z"
    }
   },
   "outputs": [
    {
     "data": {
      "text/plain": [
       "1163.000    1547\n",
       "1350.000    1147\n",
       "1623.000     877\n",
       "1195.000     702\n",
       "1180.000     694\n",
       "            ... \n",
       "1258.000       1\n",
       "1167.000       1\n",
       "1331.000       1\n",
       "1132.000       1\n",
       "2037.000       1\n",
       "Name: weight_kg, Length: 440, dtype: int64"
      ]
     },
     "execution_count": 127,
     "metadata": {},
     "output_type": "execute_result"
    }
   ],
   "source": [
    "df.groupby([\"make\", \"model\", \"body_type\"])[\"weight_kg\"].apply(lambda x : x.fillna(x.median() if (x.median() >= 1) else df[\"weight_kg\"].median())).value_counts(dropna=False)"
   ]
  },
  {
   "cell_type": "code",
   "execution_count": 128,
   "metadata": {
    "ExecuteTime": {
     "end_time": "2022-08-03T08:59:28.558326Z",
     "start_time": "2022-08-03T08:59:28.512449Z"
    }
   },
   "outputs": [],
   "source": [
    "df[\"weight_kg\"] = df.groupby([\"make\", \"model\", \"body_type\"])[\"weight_kg\"].apply(lambda x : x.fillna(x.median() if (x.median() >= 1) else df[\"weight_kg\"].median()))"
   ]
  },
  {
   "cell_type": "code",
   "execution_count": 129,
   "metadata": {
    "ExecuteTime": {
     "end_time": "2022-08-03T08:59:28.574283Z",
     "start_time": "2022-08-03T08:59:28.562315Z"
    }
   },
   "outputs": [],
   "source": [
    "# df.groupby([\"make\", \"model\", \"body_type\"])[\"weight_kg\"].fillna(method= \"backfill\").fillna(method= \"pad\").value_counts(dropna=False)"
   ]
  },
  {
   "cell_type": "code",
   "execution_count": 130,
   "metadata": {
    "ExecuteTime": {
     "end_time": "2022-08-03T08:59:28.605200Z",
     "start_time": "2022-08-03T08:59:28.577276Z"
    }
   },
   "outputs": [],
   "source": [
    "# df[\"weight_kg\"] = df.groupby([\"make\", \"model\", \"body_type\"])[\"weight_kg\"].fillna(method= \"backfill\").fillna(method= \"pad\")"
   ]
  },
  {
   "cell_type": "code",
   "execution_count": 131,
   "metadata": {
    "ExecuteTime": {
     "end_time": "2022-08-03T08:59:28.620775Z",
     "start_time": "2022-08-03T08:59:28.607810Z"
    }
   },
   "outputs": [
    {
     "data": {
      "text/plain": [
       "1163.000    1547\n",
       "1350.000    1147\n",
       "1623.000     877\n",
       "1195.000     702\n",
       "1180.000     694\n",
       "            ... \n",
       "1258.000       1\n",
       "1167.000       1\n",
       "1331.000       1\n",
       "1132.000       1\n",
       "2037.000       1\n",
       "Name: weight_kg, Length: 440, dtype: int64"
      ]
     },
     "execution_count": 131,
     "metadata": {},
     "output_type": "execute_result"
    }
   ],
   "source": [
    "df[\"weight_kg\"].value_counts(dropna=False)"
   ]
  },
  {
   "cell_type": "code",
   "execution_count": 132,
   "metadata": {
    "ExecuteTime": {
     "end_time": "2022-08-03T08:59:28.652705Z",
     "start_time": "2022-08-03T08:59:28.622776Z"
    }
   },
   "outputs": [
    {
     "data": {
      "text/plain": [
       "0"
      ]
     },
     "execution_count": 132,
     "metadata": {},
     "output_type": "execute_result"
    }
   ],
   "source": [
    "df[\"weight_kg\"].isnull().sum()"
   ]
  },
  {
   "cell_type": "markdown",
   "metadata": {},
   "source": [
    "## 18 drive chain"
   ]
  },
  {
   "cell_type": "code",
   "execution_count": 133,
   "metadata": {
    "ExecuteTime": {
     "end_time": "2022-08-03T08:59:28.682615Z",
     "start_time": "2022-08-03T08:59:28.655682Z"
    }
   },
   "outputs": [
    {
     "data": {
      "text/plain": [
       "make     model   body_type    drive_chain\n",
       "Audi     A1      Compact      front          685\n",
       "                              NaN            352\n",
       "                              4WD              2\n",
       "                 Coupe        NaN              2\n",
       "                 Other        front           12\n",
       "                                            ... \n",
       "Renault  Espace  Transporter  front            6\n",
       "                              4WD              1\n",
       "                 Van          NaN            391\n",
       "                              front          374\n",
       "                              4WD             38\n",
       "Name: drive_chain, Length: 107, dtype: int64"
      ]
     },
     "execution_count": 133,
     "metadata": {},
     "output_type": "execute_result"
    }
   ],
   "source": [
    "df.groupby([\"make\", \"model\", \"body_type\"])[\"drive_chain\"].value_counts(dropna=False)"
   ]
  },
  {
   "cell_type": "code",
   "execution_count": 134,
   "metadata": {
    "ExecuteTime": {
     "end_time": "2022-08-03T08:59:28.762396Z",
     "start_time": "2022-08-03T08:59:28.684604Z"
    }
   },
   "outputs": [
    {
     "data": {
      "text/plain": [
       "front    15711\n",
       "4WD        204\n",
       "rear         4\n",
       "Name: drive_chain, dtype: int64"
      ]
     },
     "execution_count": 134,
     "metadata": {},
     "output_type": "execute_result"
    }
   ],
   "source": [
    "df.groupby([\"make\", \"model\", \"body_type\"])[\"drive_chain\"].apply(lambda x : x.fillna(x.mode()[0] if any(x.mode()) else df[\"drive_chain\"].mode()[0])).value_counts(dropna=False)"
   ]
  },
  {
   "cell_type": "code",
   "execution_count": 135,
   "metadata": {
    "ExecuteTime": {
     "end_time": "2022-08-03T08:59:28.856151Z",
     "start_time": "2022-08-03T08:59:28.764392Z"
    }
   },
   "outputs": [],
   "source": [
    "df[\"drive_chain\"] = df.groupby([\"make\", \"model\", \"body_type\"])[\"drive_chain\"].apply(lambda x : x.fillna(x.mode()[0] if any(x.mode()) else df[\"drive_chain\"].mode()[0]))"
   ]
  },
  {
   "cell_type": "code",
   "execution_count": 136,
   "metadata": {
    "ExecuteTime": {
     "end_time": "2022-08-03T08:59:28.872108Z",
     "start_time": "2022-08-03T08:59:28.858146Z"
    }
   },
   "outputs": [
    {
     "data": {
      "text/plain": [
       "0"
      ]
     },
     "execution_count": 136,
     "metadata": {},
     "output_type": "execute_result"
    }
   ],
   "source": [
    "df[\"drive_chain\"].isnull().sum()"
   ]
  },
  {
   "cell_type": "markdown",
   "metadata": {},
   "source": [
    "## 19 co2e_g"
   ]
  },
  {
   "cell_type": "code",
   "execution_count": 137,
   "metadata": {
    "ExecuteTime": {
     "end_time": "2022-08-03T08:59:28.904023Z",
     "start_time": "2022-08-03T08:59:28.876098Z"
    }
   },
   "outputs": [
    {
     "name": "stdout",
     "output_type": "stream",
     "text": [
      "column name :  co2e_g\n",
      "-+--+--+--+--+--+--+--+--+--+--+--+--+--+--+--+--+--+--+--+--+--+--+--+--+-\n",
      "Per_of_Nulls   :  % 15.34\n",
      "Num_of_Nulls   :  2442\n",
      "NaN         2442\n",
      "120.000      740\n",
      "99.000       545\n",
      "97.000       537\n",
      "104.000      501\n",
      "            ... \n",
      "160.000        1\n",
      "331.000        1\n",
      "990.000        1\n",
      "1060.000       1\n",
      "193.000        1\n",
      "Name: co2e_g, Length: 120, dtype: int64\n",
      "******************************\n",
      "\n",
      "\n",
      "\n"
     ]
    }
   ],
   "source": [
    "check_df(\"co2e_g\")"
   ]
  },
  {
   "cell_type": "code",
   "execution_count": 138,
   "metadata": {
    "ExecuteTime": {
     "end_time": "2022-08-03T08:59:28.935939Z",
     "start_time": "2022-08-03T08:59:28.907016Z"
    }
   },
   "outputs": [
    {
     "data": {
      "text/plain": [
       "make     model     fuel    \n",
       "Audi     A1        Benzine    106.928\n",
       "                   Diesel     100.101\n",
       "                   Gasoline   105.097\n",
       "         A2        Diesel         NaN\n",
       "         A3        Benzine    115.402\n",
       "                   Diesel     106.831\n",
       "                   Electric    36.000\n",
       "                   Gasoline   118.953\n",
       "                   LPG/CNG     97.000\n",
       "Opel     Astra     Benzine    125.887\n",
       "                   Diesel     105.849\n",
       "                   Gasoline   224.799\n",
       "                   LPG/CNG    113.000\n",
       "         Corsa     Benzine    133.145\n",
       "                   Diesel      99.456\n",
       "                   Gasoline   142.224\n",
       "                   LPG/CNG    117.667\n",
       "         Insignia  Benzine    182.613\n",
       "                   Diesel     132.546\n",
       "                   Gasoline   142.229\n",
       "Renault  Clio      Benzine    121.817\n",
       "                   Diesel      89.530\n",
       "                   Electric       NaN\n",
       "                   Gasoline   123.863\n",
       "                   LPG/CNG     98.000\n",
       "         Duster    Gasoline   177.000\n",
       "         Espace    Benzine    158.119\n",
       "                   Diesel     124.425\n",
       "                   Gasoline   151.237\n",
       "Name: co2e_g, dtype: float64"
      ]
     },
     "execution_count": 138,
     "metadata": {},
     "output_type": "execute_result"
    }
   ],
   "source": [
    "df.groupby([\"make\", \"model\", \"fuel\"])[\"co2e_g\"].mean()"
   ]
  },
  {
   "cell_type": "code",
   "execution_count": 139,
   "metadata": {
    "ExecuteTime": {
     "end_time": "2022-08-03T08:59:28.967858Z",
     "start_time": "2022-08-03T08:59:28.937933Z"
    }
   },
   "outputs": [
    {
     "data": {
      "text/plain": [
       "make     model   fuel      co2e_g \n",
       "Audi     A1      Benzine   102.000    171\n",
       "                           97.000     169\n",
       "                           111.000    168\n",
       "                           104.000    124\n",
       "                           108.000     98\n",
       "                                     ... \n",
       "Renault  Espace  Gasoline  152.000     14\n",
       "                           168.000      5\n",
       "                           174.000      3\n",
       "                           147.000      1\n",
       "                           161.000      1\n",
       "Name: co2e_g, Length: 660, dtype: int64"
      ]
     },
     "execution_count": 139,
     "metadata": {},
     "output_type": "execute_result"
    }
   ],
   "source": [
    "df.groupby([\"make\", \"model\", \"fuel\"])[\"co2e_g\"].value_counts(dropna=False)"
   ]
  },
  {
   "cell_type": "code",
   "execution_count": 140,
   "metadata": {
    "ExecuteTime": {
     "end_time": "2022-08-03T08:59:29.015724Z",
     "start_time": "2022-08-03T08:59:28.971845Z"
    }
   },
   "outputs": [
    {
     "data": {
      "text/plain": [
       "120.000      979\n",
       "104.000      712\n",
       "99.000       617\n",
       "135.000      594\n",
       "97.000       537\n",
       "            ... \n",
       "80.000         1\n",
       "14.000         1\n",
       "12324.000      1\n",
       "51.000         1\n",
       "193.000        1\n",
       "Name: co2e_g, Length: 119, dtype: int64"
      ]
     },
     "execution_count": 140,
     "metadata": {},
     "output_type": "execute_result"
    }
   ],
   "source": [
    "df.groupby([\"make\", \"model\", \"fuel\"])[\"co2e_g\"].apply(lambda x : x.fillna(x.median() if (x.median() > 13) else df[\"co2e_g\"].median())).value_counts(dropna=False)"
   ]
  },
  {
   "cell_type": "code",
   "execution_count": 141,
   "metadata": {
    "ExecuteTime": {
     "end_time": "2022-08-03T08:59:29.061602Z",
     "start_time": "2022-08-03T08:59:29.018717Z"
    }
   },
   "outputs": [],
   "source": [
    "df[\"co2e_g\"] = df.groupby([\"make\", \"model\", \"fuel\"])[\"co2e_g\"].apply(lambda x : x.fillna(x.median() if (x.median() > 13) else df[\"co2e_g\"].median()))"
   ]
  },
  {
   "cell_type": "code",
   "execution_count": 142,
   "metadata": {
    "ExecuteTime": {
     "end_time": "2022-08-03T08:59:29.077558Z",
     "start_time": "2022-08-03T08:59:29.063597Z"
    }
   },
   "outputs": [
    {
     "data": {
      "text/plain": [
       "0"
      ]
     },
     "execution_count": 142,
     "metadata": {},
     "output_type": "execute_result"
    }
   ],
   "source": [
    "df[\"co2e_g\"].isnull().sum()"
   ]
  },
  {
   "cell_type": "code",
   "execution_count": 143,
   "metadata": {
    "ExecuteTime": {
     "end_time": "2022-08-03T08:59:29.109473Z",
     "start_time": "2022-08-03T08:59:29.079553Z"
    },
    "scrolled": true
   },
   "outputs": [
    {
     "data": {
      "text/plain": [
       "body_type                    0\n",
       "price_€                      0\n",
       "vat                          0\n",
       "km                           0\n",
       "hp_kW                        0\n",
       "type                         0\n",
       "previous_owners              0\n",
       "warranty                     0\n",
       "make                         0\n",
       "model                        0\n",
       "body_color                   0\n",
       "paint_type                   0\n",
       "upholstery                   0\n",
       "nr_of_doors                  0\n",
       "nr_of_seats                  0\n",
       "gearing_type                 0\n",
       "engine_displacement_cc       0\n",
       "cylinders                    0\n",
       "weight_kg                    0\n",
       "drive_chain                  0\n",
       "fuel                         0\n",
       "co2e_g                       0\n",
       "emission_class            3628\n",
       "comfort&convenience        920\n",
       "entertainment&media       1374\n",
       "extras                    2962\n",
       "safety&security            982\n",
       "gears                     4712\n",
       "country_version           8333\n",
       "consumption_comb          3790\n",
       "consumption_city          4039\n",
       "consumption_cuntry        3365\n",
       "age                          0\n",
       "dtype: int64"
      ]
     },
     "execution_count": 143,
     "metadata": {},
     "output_type": "execute_result"
    }
   ],
   "source": [
    "df.isnull().sum()"
   ]
  },
  {
   "cell_type": "markdown",
   "metadata": {},
   "source": [
    "## 20 emission_class"
   ]
  },
  {
   "cell_type": "code",
   "execution_count": 144,
   "metadata": {
    "ExecuteTime": {
     "end_time": "2022-08-03T08:59:29.139393Z",
     "start_time": "2022-08-03T08:59:29.112466Z"
    }
   },
   "outputs": [
    {
     "name": "stdout",
     "output_type": "stream",
     "text": [
      "column name :  emission_class\n",
      "-+--+--+--+--+--+--+--+--+--+--+--+--+--+--+--+--+--+--+--+--+--+--+--+--+-\n",
      "Per_of_Nulls   :  % 22.79\n",
      "Num_of_Nulls   :  3628\n",
      "Euro 6          10139\n",
      "NaN              3628\n",
      "Euro 6d-TEMP     1845\n",
      "Euro 6c           127\n",
      "Euro 5             78\n",
      "Euro 6d            62\n",
      "Euro 4             40\n",
      "Name: emission_class, dtype: int64\n",
      "******************************\n",
      "\n",
      "\n",
      "\n"
     ]
    }
   ],
   "source": [
    "check_df(\"emission_class\")"
   ]
  },
  {
   "cell_type": "code",
   "execution_count": 145,
   "metadata": {
    "ExecuteTime": {
     "end_time": "2022-08-03T08:59:29.171309Z",
     "start_time": "2022-08-03T08:59:29.141389Z"
    }
   },
   "outputs": [
    {
     "data": {
      "text/plain": [
       "make     model   fuel      emission_class\n",
       "Audi     A1      Benzine   Euro 6            672\n",
       "                           Euro 6d-TEMP      219\n",
       "                           NaN               205\n",
       "                           Euro 6d             5\n",
       "                           Euro 5              2\n",
       "                                            ... \n",
       "Renault  Espace  Diesel    Euro 6d             5\n",
       "                           Euro 5              1\n",
       "                 Gasoline  Euro 6             71\n",
       "                           NaN                35\n",
       "                           Euro 5              1\n",
       "Name: emission_class, Length: 124, dtype: int64"
      ]
     },
     "execution_count": 145,
     "metadata": {},
     "output_type": "execute_result"
    }
   ],
   "source": [
    "df.groupby([\"make\", \"model\", \"fuel\"])[\"emission_class\"].value_counts(dropna=False)"
   ]
  },
  {
   "cell_type": "code",
   "execution_count": 146,
   "metadata": {
    "ExecuteTime": {
     "end_time": "2022-08-03T08:59:29.251094Z",
     "start_time": "2022-08-03T08:59:29.173304Z"
    }
   },
   "outputs": [
    {
     "data": {
      "text/plain": [
       "Euro 6          13044\n",
       "Euro 6d-TEMP     2460\n",
       "Euro 6c           183\n",
       "Euro 6d            94\n",
       "Euro 5             93\n",
       "Euro 4             45\n",
       "Name: emission_class, dtype: int64"
      ]
     },
     "execution_count": 146,
     "metadata": {},
     "output_type": "execute_result"
    }
   ],
   "source": [
    "df.groupby([\"make\", \"model\", \"fuel\", \"age\"])[\"emission_class\"].fillna(method=\"bfill\").fillna(method=\"ffill\").value_counts(dropna=False)"
   ]
  },
  {
   "cell_type": "code",
   "execution_count": 147,
   "metadata": {
    "ExecuteTime": {
     "end_time": "2022-08-03T08:59:29.328887Z",
     "start_time": "2022-08-03T08:59:29.253089Z"
    }
   },
   "outputs": [],
   "source": [
    "df[\"emission_class\"] = df.groupby([\"make\", \"model\", \"fuel\", \"age\"])[\"emission_class\"].fillna(method=\"bfill\").fillna(method=\"ffill\")"
   ]
  },
  {
   "cell_type": "code",
   "execution_count": 148,
   "metadata": {
    "ExecuteTime": {
     "end_time": "2022-08-03T08:59:29.344845Z",
     "start_time": "2022-08-03T08:59:29.330882Z"
    }
   },
   "outputs": [
    {
     "data": {
      "text/plain": [
       "0"
      ]
     },
     "execution_count": 148,
     "metadata": {},
     "output_type": "execute_result"
    }
   ],
   "source": [
    "df[\"emission_class\"].isnull().sum()"
   ]
  },
  {
   "cell_type": "code",
   "execution_count": 149,
   "metadata": {
    "ExecuteTime": {
     "end_time": "2022-08-03T08:59:29.391719Z",
     "start_time": "2022-08-03T08:59:29.348834Z"
    }
   },
   "outputs": [
    {
     "data": {
      "text/plain": [
       "body_type                    0\n",
       "price_€                      0\n",
       "vat                          0\n",
       "km                           0\n",
       "hp_kW                        0\n",
       "type                         0\n",
       "previous_owners              0\n",
       "warranty                     0\n",
       "make                         0\n",
       "model                        0\n",
       "body_color                   0\n",
       "paint_type                   0\n",
       "upholstery                   0\n",
       "nr_of_doors                  0\n",
       "nr_of_seats                  0\n",
       "gearing_type                 0\n",
       "engine_displacement_cc       0\n",
       "cylinders                    0\n",
       "weight_kg                    0\n",
       "drive_chain                  0\n",
       "fuel                         0\n",
       "co2e_g                       0\n",
       "emission_class               0\n",
       "comfort&convenience        920\n",
       "entertainment&media       1374\n",
       "extras                    2962\n",
       "safety&security            982\n",
       "gears                     4712\n",
       "country_version           8333\n",
       "consumption_comb          3790\n",
       "consumption_city          4039\n",
       "consumption_cuntry        3365\n",
       "age                          0\n",
       "dtype: int64"
      ]
     },
     "execution_count": 149,
     "metadata": {},
     "output_type": "execute_result"
    }
   ],
   "source": [
    "df.isnull().sum()"
   ]
  },
  {
   "cell_type": "markdown",
   "metadata": {},
   "source": [
    "## 21 comfort&convenience"
   ]
  },
  {
   "cell_type": "code",
   "execution_count": 150,
   "metadata": {
    "ExecuteTime": {
     "end_time": "2022-08-03T08:59:29.422636Z",
     "start_time": "2022-08-03T08:59:29.393714Z"
    }
   },
   "outputs": [
    {
     "name": "stdout",
     "output_type": "stream",
     "text": [
      "column name :  comfort&convenience\n",
      "-+--+--+--+--+--+--+--+--+--+--+--+--+--+--+--+--+--+--+--+--+--+--+--+--+-\n",
      "Per_of_Nulls   :  % 5.78\n",
      "Num_of_Nulls   :  920\n",
      "NaN                                                                                                                                                                                                                                                                                                                                                                                                                                                                                                  920\n",
      "Air conditioning,Electrical side mirrors,Hill Holder,Power windows                                                                                                                                                                                                                                                                                                                                                                                                                                   216\n",
      "Air conditioning,Electrical side mirrors,Power windows                                                                                                                                                                                                                                                                                                                                                                                                                                               134\n",
      "Air conditioning,Power windows                                                                                                                                                                                                                                                                                                                                                                                                                                                                       130\n",
      "Air conditioning,Armrest,Automatic climate control,Cruise control,Electrical side mirrors,Leather steering wheel,Light sensor,Lumbar support,Multi-function steering wheel,Navigation system,Park Distance Control,Parking assist system sensors front,Parking assist system sensors rear,Power windows,Rain sensor,Seat heating,Start-stop system                                                                                                                                                   105\n",
      "                                                                                                                                                                                                                                                                                                                                                                                                                                                                                                    ... \n",
      "Air conditioning,Cruise control,Electrical side mirrors,Hill Holder,Leather steering wheel,Light sensor,Multi-function steering wheel,Navigation system,Park Distance Control,Parking assist system sensors rear,Power windows,Rain sensor,Split rear seats,Start-stop system,Tinted windows                                                                                                                                                                                                           1\n",
      "Air conditioning,Armrest,Automatic climate control,Cruise control,Electrical side mirrors,Heated steering wheel,Hill Holder,Leather steering wheel,Light sensor,Lumbar support,Multi-function steering wheel,Navigation system,Park Distance Control,Parking assist system camera,Parking assist system sensors front,Parking assist system sensors rear,Power windows,Rain sensor,Seat heating,Sunroof                                                                                                1\n",
      "Air conditioning,Armrest,Cruise control,Electrical side mirrors,Heated steering wheel,Hill Holder,Leather steering wheel,Light sensor,Multi-function steering wheel,Park Distance Control,Parking assist system camera,Parking assist system sensors front,Parking assist system sensors rear,Power windows,Rain sensor,Seat heating,Split rear seats,Start-stop system,Tinted windows                                                                                                                 1\n",
      "Air conditioning,Automatic climate control,Cruise control,Electrical side mirrors,Leather steering wheel,Light sensor,Multi-function steering wheel,Park Distance Control,Parking assist system sensors front,Parking assist system sensors rear,Power windows,Rain sensor,Seat heating                                                                                                                                                                                                                1\n",
      "Air conditioning,Automatic climate control,Cruise control,Electrically heated windshield,Electrical side mirrors,Electric tailgate,Heads-up display,Heated steering wheel,Hill Holder,Keyless central door lock,Leather steering wheel,Light sensor,Lumbar support,Navigation system,Park Distance Control,Parking assist system camera,Parking assist system self-steering,Parking assist system sensors front,Parking assist system sensors rear,Power windows,Rain sensor,Seat heating,Sunroof      1\n",
      "Name: comfort&convenience, Length: 6199, dtype: int64\n",
      "******************************\n",
      "\n",
      "\n",
      "\n"
     ]
    }
   ],
   "source": [
    "check_df(\"comfort&convenience\")"
   ]
  },
  {
   "cell_type": "code",
   "execution_count": 151,
   "metadata": {
    "ExecuteTime": {
     "end_time": "2022-08-03T08:59:29.453556Z",
     "start_time": "2022-08-03T08:59:29.425628Z"
    }
   },
   "outputs": [
    {
     "data": {
      "text/plain": [
       "make     model     age    body_type    \n",
       "Audi     A3        3.000  Sedans           47\n",
       "Opel     Insignia  0.000  Sedans           43\n",
       "         Corsa     1.000  Other            43\n",
       "         Insignia  0.000  Station wagon    38\n",
       "         Astra     1.000  Other            34\n",
       "                                           ..\n",
       "Audi     A3        3.000  Station wagon     1\n",
       "Renault  Clio      2.000  Van               1\n",
       "Opel     Corsa     2.000  Off-Road          1\n",
       "                          Sedans            1\n",
       "         Astra     1.000  Sedans            1\n",
       "Length: 90, dtype: int64"
      ]
     },
     "execution_count": 151,
     "metadata": {},
     "output_type": "execute_result"
    }
   ],
   "source": [
    "df[df[\"comfort&convenience\"].isnull()][[\"make\", \"model\", \"age\", \"body_type\"]].value_counts(dropna=False)"
   ]
  },
  {
   "cell_type": "code",
   "execution_count": 152,
   "metadata": {
    "ExecuteTime": {
     "end_time": "2022-08-03T08:59:29.549296Z",
     "start_time": "2022-08-03T08:59:29.456547Z"
    }
   },
   "outputs": [
    {
     "data": {
      "text/plain": [
       "0"
      ]
     },
     "execution_count": 152,
     "metadata": {},
     "output_type": "execute_result"
    }
   ],
   "source": [
    "df.groupby([\"make\", \"model\", \"age\", \"body_type\"])[\"comfort&convenience\"].fillna(method=\"pad\").fillna(method=\"backfill\").isnull().sum()"
   ]
  },
  {
   "cell_type": "code",
   "execution_count": 153,
   "metadata": {
    "ExecuteTime": {
     "end_time": "2022-08-03T08:59:29.643046Z",
     "start_time": "2022-08-03T08:59:29.551292Z"
    }
   },
   "outputs": [],
   "source": [
    "df[\"comfort&convenience\"] = df.groupby([\"make\", \"model\", \"age\", \"body_type\"])[\"comfort&convenience\"].fillna(method=\"pad\").fillna(method=\"backfill\")"
   ]
  },
  {
   "cell_type": "code",
   "execution_count": 154,
   "metadata": {
    "ExecuteTime": {
     "end_time": "2022-08-03T08:59:29.659004Z",
     "start_time": "2022-08-03T08:59:29.645043Z"
    }
   },
   "outputs": [
    {
     "data": {
      "text/plain": [
       "0"
      ]
     },
     "execution_count": 154,
     "metadata": {},
     "output_type": "execute_result"
    }
   ],
   "source": [
    "df[\"comfort&convenience\"].isnull().sum()"
   ]
  },
  {
   "cell_type": "markdown",
   "metadata": {},
   "source": [
    "## 22 entertainment&media"
   ]
  },
  {
   "cell_type": "code",
   "execution_count": 155,
   "metadata": {
    "ExecuteTime": {
     "end_time": "2022-08-03T08:59:29.690918Z",
     "start_time": "2022-08-03T08:59:29.661996Z"
    }
   },
   "outputs": [
    {
     "name": "stdout",
     "output_type": "stream",
     "text": [
      "column name :  entertainment&media\n",
      "-+--+--+--+--+--+--+--+--+--+--+--+--+--+--+--+--+--+--+--+--+--+--+--+--+-\n",
      "Per_of_Nulls   :  % 8.63\n",
      "Num_of_Nulls   :  1374\n",
      "NaN                                                                                                 1374\n",
      "Bluetooth,Hands-free equipment,On-board computer,Radio,USB                                          1282\n",
      "Bluetooth,Hands-free equipment,MP3,On-board computer,Radio,USB                                       982\n",
      "Bluetooth,CD player,Hands-free equipment,MP3,On-board computer,Radio,USB                             783\n",
      "On-board computer,Radio                                                                              487\n",
      "                                                                                                    ... \n",
      "Bluetooth,CD player,Digital radio,Hands-free equipment,Radio                                           1\n",
      "CD player,Hands-free equipment,MP3,Radio,USB                                                           1\n",
      "MP3,Radio,Sound system,USB                                                                             1\n",
      "Bluetooth,MP3,On-board computer,Radio,Television,USB                                                   1\n",
      "Bluetooth,CD player,Hands-free equipment,MP3,On-board computer,Radio,Sound system,Television,USB       1\n",
      "Name: entertainment&media, Length: 347, dtype: int64\n",
      "******************************\n",
      "\n",
      "\n",
      "\n"
     ]
    }
   ],
   "source": [
    "check_df(\"entertainment&media\")"
   ]
  },
  {
   "cell_type": "code",
   "execution_count": 156,
   "metadata": {
    "ExecuteTime": {
     "end_time": "2022-08-03T08:59:29.722833Z",
     "start_time": "2022-08-03T08:59:29.692912Z"
    }
   },
   "outputs": [
    {
     "data": {
      "text/plain": [
       "make     model     age    body_type  \n",
       "Renault  Clio      2.000  Sedans         57\n",
       "Audi     A3        3.000  Sedans         55\n",
       "Renault  Clio      3.000  Sedans         49\n",
       "Opel     Insignia  0.000  Sedans         46\n",
       "Renault  Espace    2.000  Van            45\n",
       "                                         ..\n",
       "                   3.000  Other           1\n",
       "                          Sedans          1\n",
       "         Clio      1.000  Other           1\n",
       "Opel     Corsa     3.000  Transporter     1\n",
       "                   2.000  Off-Road        1\n",
       "Length: 101, dtype: int64"
      ]
     },
     "execution_count": 156,
     "metadata": {},
     "output_type": "execute_result"
    }
   ],
   "source": [
    "df[df[\"entertainment&media\"].isnull()][[\"make\", \"model\", \"age\", \"body_type\"]].value_counts(dropna=False)"
   ]
  },
  {
   "cell_type": "code",
   "execution_count": 157,
   "metadata": {
    "ExecuteTime": {
     "end_time": "2022-08-03T08:59:29.802619Z",
     "start_time": "2022-08-03T08:59:29.724829Z"
    }
   },
   "outputs": [],
   "source": [
    "df[\"entertainment&media\"] = df.groupby([\"make\", \"model\", \"age\", \"body_type\"])[\"entertainment&media\"].fillna(method=\"pad\").fillna(method=\"backfill\")"
   ]
  },
  {
   "cell_type": "code",
   "execution_count": 158,
   "metadata": {
    "ExecuteTime": {
     "end_time": "2022-08-03T08:59:29.818576Z",
     "start_time": "2022-08-03T08:59:29.804615Z"
    }
   },
   "outputs": [
    {
     "data": {
      "text/plain": [
       "0"
      ]
     },
     "execution_count": 158,
     "metadata": {},
     "output_type": "execute_result"
    }
   ],
   "source": [
    "df[\"entertainment&media\"].isnull().sum()"
   ]
  },
  {
   "cell_type": "markdown",
   "metadata": {},
   "source": [
    "## 23 extras"
   ]
  },
  {
   "cell_type": "code",
   "execution_count": 159,
   "metadata": {
    "ExecuteTime": {
     "end_time": "2022-08-03T08:59:29.848498Z",
     "start_time": "2022-08-03T08:59:29.821569Z"
    }
   },
   "outputs": [
    {
     "name": "stdout",
     "output_type": "stream",
     "text": [
      "column name :  extras\n",
      "-+--+--+--+--+--+--+--+--+--+--+--+--+--+--+--+--+--+--+--+--+--+--+--+--+-\n",
      "Per_of_Nulls   :  % 18.61\n",
      "Num_of_Nulls   :  2962\n",
      "Alloy wheels                                                                                               3245\n",
      "NaN                                                                                                        2962\n",
      "Alloy wheels,Touch screen                                                                                   697\n",
      "Alloy wheels,Voice Control                                                                                  577\n",
      "Alloy wheels,Touch screen,Voice Control                                                                     541\n",
      "                                                                                                           ... \n",
      "Alloy wheels,Catalytic Converter,Shift paddles,Sport package,Sport seats,Sport suspension,Voice Control       1\n",
      "Alloy wheels,Catalytic Converter,Roof rack,Sport package,Sport seats,Trailer hitch                            1\n",
      "Alloy wheels,Catalytic Converter,Ski bag,Sport package,Voice Control                                          1\n",
      "Catalytic Converter,Roof rack,Sport seats,Sport suspension                                                    1\n",
      "Alloy wheels,Shift paddles,Ski bag,Sport seats,Sport suspension,Touch screen,Voice Control                    1\n",
      "Name: extras, Length: 660, dtype: int64\n",
      "******************************\n",
      "\n",
      "\n",
      "\n"
     ]
    }
   ],
   "source": [
    "check_df(\"extras\")"
   ]
  },
  {
   "cell_type": "code",
   "execution_count": 160,
   "metadata": {
    "ExecuteTime": {
     "end_time": "2022-08-03T08:59:29.880415Z",
     "start_time": "2022-08-03T08:59:29.851489Z"
    }
   },
   "outputs": [
    {
     "data": {
      "text/plain": [
       "make     model   age    body_type    \n",
       "Renault  Clio    2.000  Sedans           131\n",
       "                 0.000  Compact          123\n",
       "Opel     Corsa   0.000  Compact          123\n",
       "                 3.000  Compact          119\n",
       "Renault  Clio    3.000  Sedans           108\n",
       "                                        ... \n",
       "         Espace  1.000  Coupe              1\n",
       "                 0.000  Coupe              1\n",
       "Audi     A1      1.000  Station wagon      1\n",
       "Renault  Clio    1.000  Van                1\n",
       "Opel     Corsa   0.000  Transporter        1\n",
       "Length: 115, dtype: int64"
      ]
     },
     "execution_count": 160,
     "metadata": {},
     "output_type": "execute_result"
    }
   ],
   "source": [
    "df[df[\"extras\"].isnull()][[\"make\", \"model\", \"age\", \"body_type\"]].value_counts(dropna=False)"
   ]
  },
  {
   "cell_type": "code",
   "execution_count": 161,
   "metadata": {
    "ExecuteTime": {
     "end_time": "2022-08-03T08:59:29.928284Z",
     "start_time": "2022-08-03T08:59:29.882406Z"
    }
   },
   "outputs": [
    {
     "data": {
      "text/plain": [
       "make     model   age    body_type  extras                                                            \n",
       "Audi     A1      0.000  Compact    Alloy wheels                                                          65\n",
       "                                   Alloy wheels,Catalytic Converter,Voice Control                        54\n",
       "                                   Alloy wheels,Voice Control                                            51\n",
       "                                   Alloy wheels,Catalytic Converter                                      15\n",
       "                                   Alloy wheels,Sport seats,Voice Control                                12\n",
       "                                                                                                         ..\n",
       "Renault  Espace  3.000  Van        Alloy wheels,Sport seats,Trailer hitch,Voice Control                   1\n",
       "                                   Alloy wheels,Sport suspension,Touch screen                             1\n",
       "                                   Alloy wheels,Sport suspension,Touch screen,Voice Control               1\n",
       "                                   Alloy wheels,Touch screen,Trailer hitch,Voice Control,Winter tyres     1\n",
       "                                   Sport seats                                                            1\n",
       "Name: extras, Length: 2730, dtype: int64"
      ]
     },
     "execution_count": 161,
     "metadata": {},
     "output_type": "execute_result"
    }
   ],
   "source": [
    "df.groupby([\"make\", \"model\", \"age\", \"body_type\"])[\"extras\"].value_counts()"
   ]
  },
  {
   "cell_type": "code",
   "execution_count": 162,
   "metadata": {
    "ExecuteTime": {
     "end_time": "2022-08-03T08:59:30.008070Z",
     "start_time": "2022-08-03T08:59:29.930278Z"
    }
   },
   "outputs": [],
   "source": [
    "df[\"extras\"] = df.groupby([\"make\", \"model\", \"age\", \"body_type\"])[\"extras\"].fillna(method=\"pad\").fillna(method=\"backfill\")"
   ]
  },
  {
   "cell_type": "code",
   "execution_count": 163,
   "metadata": {
    "ExecuteTime": {
     "end_time": "2022-08-03T08:59:30.024027Z",
     "start_time": "2022-08-03T08:59:30.011063Z"
    }
   },
   "outputs": [
    {
     "data": {
      "text/plain": [
       "0"
      ]
     },
     "execution_count": 163,
     "metadata": {},
     "output_type": "execute_result"
    }
   ],
   "source": [
    "df[\"extras\"].isnull().sum()"
   ]
  },
  {
   "cell_type": "markdown",
   "metadata": {},
   "source": [
    "## 24 safety&security"
   ]
  },
  {
   "cell_type": "code",
   "execution_count": 164,
   "metadata": {
    "ExecuteTime": {
     "end_time": "2022-08-03T08:59:30.055942Z",
     "start_time": "2022-08-03T08:59:30.026022Z"
    }
   },
   "outputs": [
    {
     "name": "stdout",
     "output_type": "stream",
     "text": [
      "column name :  safety&security\n",
      "-+--+--+--+--+--+--+--+--+--+--+--+--+--+--+--+--+--+--+--+--+--+--+--+--+-\n",
      "Per_of_Nulls   :  % 6.17\n",
      "Num_of_Nulls   :  982\n",
      "NaN                                                                                                                                                                                                                                                                                                                                                               982\n",
      "ABS,Central door lock,Daytime running lights,Driver-side airbag,Electronic stability control,Fog lights,Immobilizer,Isofix,Passenger-side airbag,Power steering,Side airbag,Tire pressure monitoring system,Traction control                                                                                                                                      538\n",
      "ABS,Central door lock,Daytime running lights,Driver-side airbag,Electronic stability control,Immobilizer,Isofix,Passenger-side airbag,Power steering,Side airbag,Tire pressure monitoring system,Traction control                                                                                                                                                 480\n",
      "ABS,Central door lock,Daytime running lights,Driver-side airbag,Electronic stability control,Immobilizer,Isofix,Passenger-side airbag,Power steering,Side airbag,Tire pressure monitoring system,Traction control,Xenon headlights                                                                                                                                275\n",
      "ABS,Central door lock,Daytime running lights,Driver-side airbag,Electronic stability control,Fog lights,Immobilizer,Isofix,LED Daytime Running Lights,Passenger-side airbag,Power steering,Side airbag,Tire pressure monitoring system,Traction control                                                                                                           272\n",
      "                                                                                                                                                                                                                                                                                                                                                                 ... \n",
      "ABS,Central door lock,Electronic stability control,Immobilizer,Isofix,Passenger-side airbag,Power steering,Side airbag                                                                                                                                                                                                                                              1\n",
      "ABS,Adaptive Cruise Control,Central door lock,Daytime running lights,Driver-side airbag,Electronic stability control,Emergency brake assistant,Immobilizer,Isofix,Passenger-side airbag,Power steering,Side airbag,Tire pressure monitoring system,Traction control                                                                                                 1\n",
      "ABS,Adaptive Cruise Control,Alarm system,Central door lock,Driver-side airbag,Electronic stability control,Fog lights,Immobilizer,Isofix,Lane departure warning system,LED Daytime Running Lights,Passenger-side airbag,Power steering,Side airbag,Tire pressure monitoring system,Traction control,Xenon headlights                                                1\n",
      "ABS,Adaptive Cruise Control,Central door lock,Daytime running lights,Driver-side airbag,Electronic stability control,Fog lights,Immobilizer,Isofix,Power steering,Tire pressure monitoring system,Traction control                                                                                                                                                  1\n",
      "ABS,Adaptive Cruise Control,Central door lock,Daytime running lights,Driver-side airbag,Electronic stability control,Emergency brake assistant,Fog lights,Immobilizer,Isofix,Lane departure warning system,LED Daytime Running Lights,LED Headlights,Passenger-side airbag,Power steering,Side airbag,Tire pressure monitoring system,Traffic sign recognition      1\n",
      "Name: safety&security, Length: 4444, dtype: int64\n",
      "******************************\n",
      "\n",
      "\n",
      "\n"
     ]
    }
   ],
   "source": [
    "check_df(\"safety&security\")"
   ]
  },
  {
   "cell_type": "code",
   "execution_count": 165,
   "metadata": {
    "ExecuteTime": {
     "end_time": "2022-08-03T08:59:30.151713Z",
     "start_time": "2022-08-03T08:59:30.059933Z"
    }
   },
   "outputs": [],
   "source": [
    "df[\"safety&security\"] = df.groupby([\"make\", \"model\", \"age\", \"body_type\"])[\"safety&security\"].fillna(method=\"pad\").fillna(method=\"backfill\")"
   ]
  },
  {
   "cell_type": "code",
   "execution_count": 166,
   "metadata": {
    "ExecuteTime": {
     "end_time": "2022-08-03T08:59:30.167643Z",
     "start_time": "2022-08-03T08:59:30.154679Z"
    }
   },
   "outputs": [
    {
     "data": {
      "text/plain": [
       "0"
      ]
     },
     "execution_count": 166,
     "metadata": {},
     "output_type": "execute_result"
    }
   ],
   "source": [
    "df[\"safety&security\"].isnull().sum()"
   ]
  },
  {
   "cell_type": "markdown",
   "metadata": {},
   "source": [
    "## 25 gears"
   ]
  },
  {
   "cell_type": "code",
   "execution_count": 167,
   "metadata": {
    "ExecuteTime": {
     "end_time": "2022-08-03T08:59:30.183602Z",
     "start_time": "2022-08-03T08:59:30.169638Z"
    }
   },
   "outputs": [
    {
     "name": "stdout",
     "output_type": "stream",
     "text": [
      "column name :  gears\n",
      "-+--+--+--+--+--+--+--+--+--+--+--+--+--+--+--+--+--+--+--+--+--+--+--+--+-\n",
      "Per_of_Nulls   :  % 29.6\n",
      "Num_of_Nulls   :  4712\n",
      "6.000     5822\n",
      "NaN       4712\n",
      "5.000     3239\n",
      "7.000     1908\n",
      "8.000      224\n",
      "9.000        6\n",
      "1.000        2\n",
      "3.000        2\n",
      "4.000        2\n",
      "2.000        1\n",
      "50.000       1\n",
      "Name: gears, dtype: int64\n",
      "******************************\n",
      "\n",
      "\n",
      "\n"
     ]
    }
   ],
   "source": [
    "check_df(\"gears\")"
   ]
  },
  {
   "cell_type": "code",
   "execution_count": 168,
   "metadata": {
    "ExecuteTime": {
     "end_time": "2022-08-03T08:59:30.231472Z",
     "start_time": "2022-08-03T08:59:30.185595Z"
    }
   },
   "outputs": [
    {
     "data": {
      "text/plain": [
       "make     model   body_type  gears\n",
       "Audi     A1      Compact    NaN      473\n",
       "                            5.000    280\n",
       "                            7.000    202\n",
       "                            6.000     83\n",
       "                            8.000      1\n",
       "                                    ... \n",
       "Renault  Espace  Van        NaN      329\n",
       "                            7.000    105\n",
       "                            9.000      6\n",
       "                            3.000      2\n",
       "                            4.000      2\n",
       "Name: gears, Length: 143, dtype: int64"
      ]
     },
     "execution_count": 168,
     "metadata": {},
     "output_type": "execute_result"
    }
   ],
   "source": [
    "df.groupby([\"make\", \"model\", \"body_type\"])[\"gears\"].value_counts(dropna=False)"
   ]
  },
  {
   "cell_type": "code",
   "execution_count": 169,
   "metadata": {
    "ExecuteTime": {
     "end_time": "2022-08-03T08:59:30.263387Z",
     "start_time": "2022-08-03T08:59:30.238454Z"
    }
   },
   "outputs": [
    {
     "data": {
      "text/plain": [
       "make     model     body_type    \n",
       "Audi     A3        Sedans           574\n",
       "Opel     Insignia  Station wagon    497\n",
       "         Corsa     Compact          482\n",
       "Audi     A1        Compact          473\n",
       "                   Sedans           466\n",
       "Opel     Astra     Station wagon    428\n",
       "                   Sedans           337\n",
       "Renault  Espace    Van              329\n",
       "         Clio      Compact          250\n",
       "Opel     Insignia  Sedans           187\n",
       "Renault  Clio      Sedans           170\n",
       "Audi     A3        Station wagon    130\n",
       "Opel     Corsa     Sedans           119\n",
       "Renault  Clio      Station wagon     95\n",
       "                   Other             26\n",
       "Audi     A3        Compact           19\n",
       "Renault  Clio      Transporter       18\n",
       "Opel     Astra     Compact           17\n",
       "Renault  Espace    Sedans            15\n",
       "Opel     Astra     Other              9\n",
       "Renault  Duster    Off-Road           9\n",
       "         Espace    Station wagon      9\n",
       "Opel     Insignia  Other              8\n",
       "Audi     A1        Station wagon      7\n",
       "Opel     Corsa     Other              6\n",
       "Audi     A1        Other              5\n",
       "Renault  Espace    Other              3\n",
       "                   Compact            3\n",
       "Audi     A3        Other              3\n",
       "Renault  Clio      Van                2\n",
       "Opel     Corsa     Van                2\n",
       "Renault  Espace    Coupe              2\n",
       "                   Off-Road           2\n",
       "Opel     Corsa     Coupe              2\n",
       "Renault  Espace    Transporter        2\n",
       "Opel     Insignia  Off-Road           1\n",
       "                   Coupe              1\n",
       "Audi     A1        Coupe              1\n",
       "         A2        Off-Road           1\n",
       "Opel     Astra     Coupe              1\n",
       "         Insignia  Compact            1\n",
       "dtype: int64"
      ]
     },
     "execution_count": 169,
     "metadata": {},
     "output_type": "execute_result"
    }
   ],
   "source": [
    "df[df.gears.isnull()][[\"make\", \"model\", \"body_type\"]].value_counts()"
   ]
  },
  {
   "cell_type": "code",
   "execution_count": 170,
   "metadata": {
    "ExecuteTime": {
     "end_time": "2022-08-03T08:59:30.311259Z",
     "start_time": "2022-08-03T08:59:30.266379Z"
    }
   },
   "outputs": [],
   "source": [
    "df.gears = df.groupby([\"make\", \"model\", \"body_type\"])[\"gears\"].fillna(method=\"ffill\").fillna(method = \"bfill\")"
   ]
  },
  {
   "cell_type": "code",
   "execution_count": 171,
   "metadata": {
    "ExecuteTime": {
     "end_time": "2022-08-03T08:59:30.327217Z",
     "start_time": "2022-08-03T08:59:30.313253Z"
    }
   },
   "outputs": [
    {
     "data": {
      "text/plain": [
       "0"
      ]
     },
     "execution_count": 171,
     "metadata": {},
     "output_type": "execute_result"
    }
   ],
   "source": [
    "df.gears.isnull().sum()"
   ]
  },
  {
   "cell_type": "markdown",
   "metadata": {
    "ExecuteTime": {
     "end_time": "2022-08-01T14:55:16.070490Z",
     "start_time": "2022-08-01T14:55:16.050543Z"
    }
   },
   "source": [
    "## 26 country_version"
   ]
  },
  {
   "cell_type": "code",
   "execution_count": 172,
   "metadata": {
    "ExecuteTime": {
     "end_time": "2022-08-03T08:59:30.359131Z",
     "start_time": "2022-08-03T08:59:30.329211Z"
    }
   },
   "outputs": [
    {
     "name": "stdout",
     "output_type": "stream",
     "text": [
      "column name :  country_version\n",
      "-+--+--+--+--+--+--+--+--+--+--+--+--+--+--+--+--+--+--+--+--+--+--+--+--+-\n",
      "Per_of_Nulls   :  % 52.35\n",
      "Num_of_Nulls   :  8333\n",
      "NaN               8333\n",
      "Germany           4502\n",
      "Italy             1038\n",
      "European Union     507\n",
      "Netherlands        464\n",
      "Spain              325\n",
      "Belgium            314\n",
      "Austria            208\n",
      "Czech Republic      52\n",
      "Poland              49\n",
      "France              38\n",
      "Denmark             33\n",
      "Hungary             28\n",
      "Japan                8\n",
      "Slovakia             4\n",
      "Croatia              4\n",
      "Sweden               3\n",
      "Romania              2\n",
      "Bulgaria             2\n",
      "Luxembourg           1\n",
      "Switzerland          1\n",
      "Slovenia             1\n",
      "Egypt                1\n",
      "Serbia               1\n",
      "Name: country_version, dtype: int64\n",
      "******************************\n",
      "\n",
      "\n",
      "\n"
     ]
    }
   ],
   "source": [
    "check_df(\"country_version\")"
   ]
  },
  {
   "cell_type": "code",
   "execution_count": 173,
   "metadata": {
    "ExecuteTime": {
     "end_time": "2022-08-03T08:59:30.390048Z",
     "start_time": "2022-08-03T08:59:30.361126Z"
    }
   },
   "outputs": [
    {
     "data": {
      "text/plain": [
       "make     model     body_type    \n",
       "Audi     A3        Sedans           1624\n",
       "         A1        Sedans            948\n",
       "Opel     Insignia  Station wagon     714\n",
       "         Astra     Station wagon     597\n",
       "Renault  Clio      Sedans            556\n",
       "Opel     Astra     Sedans            511\n",
       "         Corsa     Sedans            488\n",
       "                   Compact           436\n",
       "Audi     A1        Compact           426\n",
       "Opel     Insignia  Sedans            426\n",
       "Renault  Espace    Van               379\n",
       "         Clio      Station wagon     207\n",
       "                   Compact           169\n",
       "Audi     A3        Compact           131\n",
       "Opel     Astra     Compact           130\n",
       "Audi     A3        Station wagon     105\n",
       "Opel     Corsa     Other              78\n",
       "Renault  Espace    Station wagon      65\n",
       "Opel     Astra     Other              58\n",
       "Renault  Espace    Transporter        44\n",
       "Opel     Insignia  Other              42\n",
       "Renault  Clio      Other              31\n",
       "         Duster    Off-Road           25\n",
       "         Clio      Transporter        24\n",
       "Audi     A1        Station wagon      16\n",
       "Opel     Insignia  Compact            16\n",
       "Renault  Espace    Sedans             15\n",
       "Audi     A3        Other              14\n",
       "Opel     Corsa     Coupe              10\n",
       "Audi     A1        Other               7\n",
       "Renault  Espace    Compact             6\n",
       "Opel     Insignia  Off-Road            5\n",
       "Renault  Espace    Other               5\n",
       "Audi     A3        Convertible         4\n",
       "Renault  Espace    Off-Road            4\n",
       "Opel     Corsa     Off-Road            3\n",
       "Renault  Espace    Coupe               2\n",
       "         Clio      Van                 2\n",
       "Audi     A3        Coupe               2\n",
       "         A1        Coupe               2\n",
       "Opel     Corsa     Transporter         2\n",
       "         Insignia  Coupe               1\n",
       "Renault  Clio      Off-Road            1\n",
       "Audi     A1        Van                 1\n",
       "Opel     Astra     Off-Road            1\n",
       "dtype: int64"
      ]
     },
     "execution_count": 173,
     "metadata": {},
     "output_type": "execute_result"
    }
   ],
   "source": [
    "df[df.country_version.isnull()][[\"make\", \"model\", \"body_type\"]].value_counts(dropna=False)"
   ]
  },
  {
   "cell_type": "code",
   "execution_count": 174,
   "metadata": {
    "ExecuteTime": {
     "end_time": "2022-08-03T08:59:30.434927Z",
     "start_time": "2022-08-03T08:59:30.393041Z"
    }
   },
   "outputs": [
    {
     "data": {
      "text/plain": [
       "make  model  body_type      country_version\n",
       "Audi  A1     Compact        Germany             448\n",
       "                            NaN                 426\n",
       "                            Netherlands          68\n",
       "                            European Union       58\n",
       "                            Denmark              15\n",
       "                            Italy                 8\n",
       "                            Austria               5\n",
       "                            Belgium               5\n",
       "                            France                2\n",
       "                            Poland                2\n",
       "                            Romania               1\n",
       "                            Spain                 1\n",
       "             Coupe          NaN                   2\n",
       "             Other          NaN                   7\n",
       "                            Italy                 5\n",
       "                            Germany               1\n",
       "             Sedans         NaN                 948\n",
       "                            Germany             314\n",
       "                            Italy               143\n",
       "                            Spain                61\n",
       "                            Belgium              43\n",
       "                            Austria              14\n",
       "                            European Union        9\n",
       "                            France                3\n",
       "                            Luxembourg            1\n",
       "                            Slovakia              1\n",
       "                            Switzerland           1\n",
       "             Station wagon  NaN                  16\n",
       "                            Germany               4\n",
       "                            Spain                 1\n",
       "             Van            NaN                   1\n",
       "      A2     Off-Road       Germany               1\n",
       "      A3     Compact        NaN                 131\n",
       "                            Netherlands          33\n",
       "                            Belgium              12\n",
       "                            Germany               3\n",
       "                            Austria               2\n",
       "                            Italy                 1\n",
       "             Convertible    NaN                   4\n",
       "                            Italy                 2\n",
       "                            Netherlands           2\n",
       "             Coupe          NaN                   2\n",
       "                            Belgium               1\n",
       "                            Italy                 1\n",
       "             Other          NaN                  14\n",
       "                            Italy                 2\n",
       "             Sedans         NaN                1624\n",
       "                            Italy               334\n",
       "                            Germany             306\n",
       "                            European Union      173\n",
       "Name: country_version, dtype: int64"
      ]
     },
     "execution_count": 174,
     "metadata": {},
     "output_type": "execute_result"
    }
   ],
   "source": [
    "df.groupby([\"make\", \"model\", \"body_type\"])[\"country_version\"].value_counts(dropna=False).head(50)"
   ]
  },
  {
   "cell_type": "code",
   "execution_count": 175,
   "metadata": {
    "ExecuteTime": {
     "end_time": "2022-08-03T08:59:30.464849Z",
     "start_time": "2022-08-03T08:59:30.436923Z"
    }
   },
   "outputs": [
    {
     "data": {
      "text/plain": [
       "body_type                    0\n",
       "price_€                      0\n",
       "vat                          0\n",
       "km                           0\n",
       "hp_kW                        0\n",
       "type                         0\n",
       "previous_owners              0\n",
       "warranty                     0\n",
       "make                         0\n",
       "model                        0\n",
       "body_color                   0\n",
       "paint_type                   0\n",
       "upholstery                   0\n",
       "nr_of_doors                  0\n",
       "nr_of_seats                  0\n",
       "gearing_type                 0\n",
       "engine_displacement_cc       0\n",
       "cylinders                    0\n",
       "weight_kg                    0\n",
       "drive_chain                  0\n",
       "fuel                         0\n",
       "co2e_g                       0\n",
       "emission_class               0\n",
       "comfort&convenience          0\n",
       "entertainment&media          0\n",
       "extras                       0\n",
       "safety&security              0\n",
       "gears                        0\n",
       "country_version           8333\n",
       "consumption_comb          3790\n",
       "consumption_city          4039\n",
       "consumption_cuntry        3365\n",
       "age                          0\n",
       "dtype: int64"
      ]
     },
     "execution_count": 175,
     "metadata": {},
     "output_type": "execute_result"
    }
   ],
   "source": [
    "df.isnull().sum()"
   ]
  },
  {
   "cell_type": "code",
   "execution_count": 176,
   "metadata": {
    "ExecuteTime": {
     "end_time": "2022-08-03T08:59:30.480805Z",
     "start_time": "2022-08-03T08:59:30.469840Z"
    }
   },
   "outputs": [
    {
     "data": {
      "text/plain": [
       "0"
      ]
     },
     "execution_count": 176,
     "metadata": {},
     "output_type": "execute_result"
    }
   ],
   "source": [
    "df.country_version.fillna(value=\"Unknown\").isnull().sum()"
   ]
  },
  {
   "cell_type": "code",
   "execution_count": 177,
   "metadata": {
    "ExecuteTime": {
     "end_time": "2022-08-03T08:59:30.511722Z",
     "start_time": "2022-08-03T08:59:30.482800Z"
    }
   },
   "outputs": [],
   "source": [
    "df.country_version = df.country_version.fillna(value=\"Unknown\")"
   ]
  },
  {
   "cell_type": "code",
   "execution_count": 178,
   "metadata": {
    "ExecuteTime": {
     "end_time": "2022-08-03T08:59:30.527679Z",
     "start_time": "2022-08-03T08:59:30.513717Z"
    }
   },
   "outputs": [
    {
     "data": {
      "text/plain": [
       "0"
      ]
     },
     "execution_count": 178,
     "metadata": {},
     "output_type": "execute_result"
    }
   ],
   "source": [
    "df.country_version.isnull().sum()"
   ]
  },
  {
   "cell_type": "code",
   "execution_count": 179,
   "metadata": {
    "ExecuteTime": {
     "end_time": "2022-08-03T08:59:30.543637Z",
     "start_time": "2022-08-03T08:59:30.530672Z"
    }
   },
   "outputs": [],
   "source": [
    "## 27 consumption_comb, city, cuntry"
   ]
  },
  {
   "cell_type": "code",
   "execution_count": 180,
   "metadata": {
    "ExecuteTime": {
     "end_time": "2022-08-03T08:59:30.575562Z",
     "start_time": "2022-08-03T08:59:30.545632Z"
    }
   },
   "outputs": [
    {
     "name": "stdout",
     "output_type": "stream",
     "text": [
      "column name :  consumption_comb\n",
      "-+--+--+--+--+--+--+--+--+--+--+--+--+--+--+--+--+--+--+--+--+--+--+--+--+-\n",
      "Per_of_Nulls   :  % 23.81\n",
      "Num_of_Nulls   :  3790\n",
      "NaN       3790\n",
      "5.400      769\n",
      "3.900      733\n",
      "5.100      654\n",
      "4.400      623\n",
      "5.600      618\n",
      "4.700      602\n",
      "3.800      585\n",
      "4.800      546\n",
      "4.500      523\n",
      "5.200      454\n",
      "4.200      435\n",
      "4.600      426\n",
      "4.900      393\n",
      "5.500      380\n",
      "5.300      379\n",
      "5.900      369\n",
      "3.700      369\n",
      "5.700      342\n",
      "4.100      342\n",
      "4.300      307\n",
      "3.300      298\n",
      "3.500      285\n",
      "6.200      216\n",
      "3.600      193\n",
      "6.300      181\n",
      "6.100      175\n",
      "5.800      164\n",
      "6.600      148\n",
      "6.800      136\n",
      "3.400       94\n",
      "6.400       75\n",
      "7.400       66\n",
      "6.500       43\n",
      "6.700       43\n",
      "7.100       38\n",
      "6.900       27\n",
      "3.200       25\n",
      "8.300       19\n",
      "7.600       14\n",
      "3.100        7\n",
      "7.800        6\n",
      "7.200        6\n",
      "8.600        4\n",
      "1.600        3\n",
      "8.700        3\n",
      "7.900        3\n",
      "7.300        2\n",
      "8.100        2\n",
      "7.500        1\n",
      "9.100        1\n",
      "1.200        1\n",
      "13.800       1\n",
      "Name: consumption_comb, dtype: int64\n",
      "******************************\n",
      "\n",
      "\n",
      "\n"
     ]
    }
   ],
   "source": [
    "check_df(\"consumption_comb\")"
   ]
  },
  {
   "cell_type": "code",
   "execution_count": 181,
   "metadata": {
    "ExecuteTime": {
     "end_time": "2022-08-03T08:59:30.608474Z",
     "start_time": "2022-08-03T08:59:30.577546Z"
    }
   },
   "outputs": [
    {
     "data": {
      "text/plain": [
       "consumption_city  consumption_cuntry\n",
       "6.300             4.200                 210\n",
       "4.500             3.700                 201\n",
       "4.700             3.600                 118\n",
       "7.800             4.900                 115\n",
       "4.200             3.900                  69\n",
       "                                       ... \n",
       "5.100             3.300                   1\n",
       "6.400             4.300                   1\n",
       "5.100             3.800                   1\n",
       "5.200             3.900                   1\n",
       "9.800             5.900                   1\n",
       "Length: 63, dtype: int64"
      ]
     },
     "execution_count": 181,
     "metadata": {},
     "output_type": "execute_result"
    }
   ],
   "source": [
    "df[df.consumption_comb.isnull()][[\"consumption_city\", \"consumption_cuntry\"]].value_counts()"
   ]
  },
  {
   "cell_type": "code",
   "execution_count": 182,
   "metadata": {
    "ExecuteTime": {
     "end_time": "2022-08-03T08:59:30.639382Z",
     "start_time": "2022-08-03T08:59:30.620433Z"
    }
   },
   "outputs": [],
   "source": [
    "df[\"consumption_comb\"] = df[\"consumption_comb\"].fillna(abs(df[\"consumption_cuntry\"]*0.62 + df[\"consumption_city\"]*0.38))"
   ]
  },
  {
   "cell_type": "code",
   "execution_count": 183,
   "metadata": {
    "ExecuteTime": {
     "end_time": "2022-08-03T08:59:30.655351Z",
     "start_time": "2022-08-03T08:59:30.641375Z"
    }
   },
   "outputs": [],
   "source": [
    "df[\"consumption_cuntry\"] = df[\"consumption_cuntry\"].fillna(abs((df[\"consumption_comb\"] - df[\"consumption_city\"]*0.38)/0.62))"
   ]
  },
  {
   "cell_type": "code",
   "execution_count": 184,
   "metadata": {
    "ExecuteTime": {
     "end_time": "2022-08-03T08:59:30.671295Z",
     "start_time": "2022-08-03T08:59:30.657333Z"
    }
   },
   "outputs": [],
   "source": [
    "df[\"consumption_city\"] = df[\"consumption_city\"].fillna(abs(df[\"consumption_comb\"] - df[\"consumption_cuntry\"]*0.62)/0.38)"
   ]
  },
  {
   "cell_type": "code",
   "execution_count": 185,
   "metadata": {
    "ExecuteTime": {
     "end_time": "2022-08-03T08:59:30.703222Z",
     "start_time": "2022-08-03T08:59:30.673290Z"
    }
   },
   "outputs": [
    {
     "data": {
      "text/plain": [
       "make     model   cylinders  weight_kg  body_type  \n",
       "Audi     A1      3.000      102.000    Compact       4.600\n",
       "                            1010.000   Compact       4.200\n",
       "                                       Coupe         4.200\n",
       "                            1035.000   Compact       4.200\n",
       "                                       Sedans        4.200\n",
       "                                                      ... \n",
       "Renault  Espace  4.000      2410.000   Transporter   6.200\n",
       "                                       Van           6.200\n",
       "                            2471.000   Van           4.700\n",
       "                 8.000      1685.000   Van             NaN\n",
       "                            1734.000   Other           NaN\n",
       "Name: consumption_comb, Length: 997, dtype: float64"
      ]
     },
     "execution_count": 185,
     "metadata": {},
     "output_type": "execute_result"
    }
   ],
   "source": [
    "df.groupby([\"make\",\"model\",\"cylinders\",\"weight_kg\", \"body_type\"])[\"consumption_comb\"].mean()"
   ]
  },
  {
   "cell_type": "code",
   "execution_count": null,
   "metadata": {},
   "outputs": [],
   "source": []
  },
  {
   "cell_type": "code",
   "execution_count": 186,
   "metadata": {
    "ExecuteTime": {
     "end_time": "2022-08-03T08:59:30.733130Z",
     "start_time": "2022-08-03T08:59:30.706203Z"
    }
   },
   "outputs": [
    {
     "data": {
      "text/plain": [
       "make  model  cylinders  weight_kg  body_type      consumption_comb\n",
       "Audi  A1     3.000      102.000    Compact        4.600                1\n",
       "                        1010.000   Compact        4.200                2\n",
       "                                   Coupe          NaN                  1\n",
       "                                                  4.200                1\n",
       "                        1035.000   Compact        4.200                6\n",
       "                                   Sedans         4.200                5\n",
       "                        1040.000   Compact        4.200                1\n",
       "                                                  4.400                1\n",
       "                        1060.000   Sedans         4.200                2\n",
       "                        1065.000   Compact        4.400               25\n",
       "                                                  4.500                7\n",
       "                                                  NaN                  3\n",
       "                                                  4.600                1\n",
       "                                   Sedans         4.400                1\n",
       "                        1088.000   Sedans         4.200                1\n",
       "                        1090.000   Compact        4.400                7\n",
       "                                                  4.200                2\n",
       "                                   Sedans         NaN                  2\n",
       "                                                  4.400                2\n",
       "                        1094.000   Sedans         4.200                1\n",
       "                        1097.000   Sedans         4.200                4\n",
       "                        1100.000   Compact        4.400                2\n",
       "                        1105.000   Compact        3.700               10\n",
       "                                                  3.400                2\n",
       "                                   Sedans         4.300                1\n",
       "                        1110.000   Compact        4.200               10\n",
       "                                                  4.400                6\n",
       "                                                  NaN                  5\n",
       "                                   Sedans         4.200               35\n",
       "                                                  4.400                4\n",
       "                                                  5.100                3\n",
       "                                                  4.300                2\n",
       "                                                  3.900                1\n",
       "                                                  4.600                1\n",
       "                                                  4.800                1\n",
       "                        1114.000   Sedans         4.300                1\n",
       "                        1115.000   Sedans         5.100                1\n",
       "                        1118.000   Sedans         5.100                2\n",
       "                        1120.000   Sedans         3.400                4\n",
       "                                                  3.600                1\n",
       "                                                  3.700                1\n",
       "                        1125.000   Sedans         4.200                1\n",
       "                                   Station wagon  5.800                1\n",
       "                        1130.000   Sedans         3.400                3\n",
       "                                                  3.700                1\n",
       "                        1133.000   Compact        4.600                3\n",
       "                                   Sedans         4.800                4\n",
       "                                                  NaN                  2\n",
       "                        1134.000   Compact        4.200                6\n",
       "                                   Sedans         4.200                1\n",
       "                                                  4.300                1\n",
       "                                                  4.400                1\n",
       "                                                  4.600                1\n",
       "                        1135.000   Compact        4.400               29\n",
       "                                                  4.300               10\n",
       "                                                  4.200                7\n",
       "                                                  NaN                  4\n",
       "                                                  4.500                1\n",
       "                                                  5.100                1\n",
       "                                   Sedans         4.200               59\n",
       "Name: consumption_comb, dtype: int64"
      ]
     },
     "execution_count": 186,
     "metadata": {},
     "output_type": "execute_result"
    }
   ],
   "source": [
    "df.groupby(['make','model','cylinders','weight_kg', 'body_type'])['consumption_comb'].value_counts(dropna=False).head(60)"
   ]
  },
  {
   "cell_type": "code",
   "execution_count": 187,
   "metadata": {
    "ExecuteTime": {
     "end_time": "2022-08-03T08:59:31.140041Z",
     "start_time": "2022-08-03T08:59:30.735126Z"
    }
   },
   "outputs": [
    {
     "data": {
      "text/plain": [
       "429"
      ]
     },
     "execution_count": 187,
     "metadata": {},
     "output_type": "execute_result"
    }
   ],
   "source": [
    "df.groupby(['make','model','cylinders','weight_kg', 'body_type'])[\"consumption_city\"].apply(lambda x: x.fillna(x.mean())).isnull().sum()"
   ]
  },
  {
   "cell_type": "code",
   "execution_count": 188,
   "metadata": {
    "ExecuteTime": {
     "end_time": "2022-08-03T08:59:31.485664Z",
     "start_time": "2022-08-03T08:59:31.142036Z"
    }
   },
   "outputs": [],
   "source": [
    "df.consumption_city = df.groupby([\"make\", \"model\", \"body_type\" ,\"weight_kg\", \"cylinders\", \"fuel\"])[\"consumption_city\"].fillna(method=\"ffill\").fillna(method=\"bfill\")"
   ]
  },
  {
   "cell_type": "code",
   "execution_count": 189,
   "metadata": {
    "ExecuteTime": {
     "end_time": "2022-08-03T08:59:31.863811Z",
     "start_time": "2022-08-03T08:59:31.488646Z"
    }
   },
   "outputs": [],
   "source": [
    "df.consumption_cuntry = df.groupby([\"make\", \"model\", \"body_type\" ,\"weight_kg\", \"cylinders\", \"fuel\"])[\"consumption_cuntry\"].fillna(method=\"ffill\").fillna(method=\"bfill\")"
   ]
  },
  {
   "cell_type": "code",
   "execution_count": 190,
   "metadata": {
    "ExecuteTime": {
     "end_time": "2022-08-03T08:59:31.879770Z",
     "start_time": "2022-08-03T08:59:31.868799Z"
    }
   },
   "outputs": [],
   "source": [
    "df[\"consumption_comb\"] = df[\"consumption_comb\"].fillna(abs(df[\"consumption_cuntry\"]*0.62 + df[\"consumption_city\"]*0.38))"
   ]
  },
  {
   "cell_type": "code",
   "execution_count": 191,
   "metadata": {
    "ExecuteTime": {
     "end_time": "2022-08-03T08:59:31.927639Z",
     "start_time": "2022-08-03T08:59:31.881762Z"
    }
   },
   "outputs": [
    {
     "data": {
      "text/plain": [
       "body_type                 0\n",
       "price_€                   0\n",
       "vat                       0\n",
       "km                        0\n",
       "hp_kW                     0\n",
       "type                      0\n",
       "previous_owners           0\n",
       "warranty                  0\n",
       "make                      0\n",
       "model                     0\n",
       "body_color                0\n",
       "paint_type                0\n",
       "upholstery                0\n",
       "nr_of_doors               0\n",
       "nr_of_seats               0\n",
       "gearing_type              0\n",
       "engine_displacement_cc    0\n",
       "cylinders                 0\n",
       "weight_kg                 0\n",
       "drive_chain               0\n",
       "fuel                      0\n",
       "co2e_g                    0\n",
       "emission_class            0\n",
       "comfort&convenience       0\n",
       "entertainment&media       0\n",
       "extras                    0\n",
       "safety&security           0\n",
       "gears                     0\n",
       "country_version           0\n",
       "consumption_comb          0\n",
       "consumption_city          0\n",
       "consumption_cuntry        0\n",
       "age                       0\n",
       "dtype: int64"
      ]
     },
     "execution_count": 191,
     "metadata": {},
     "output_type": "execute_result"
    }
   ],
   "source": [
    "df.isnull().sum()"
   ]
  },
  {
   "cell_type": "code",
   "execution_count": 192,
   "metadata": {
    "ExecuteTime": {
     "end_time": "2022-08-03T08:59:31.975024Z",
     "start_time": "2022-08-03T08:59:31.930144Z"
    }
   },
   "outputs": [
    {
     "name": "stdout",
     "output_type": "stream",
     "text": [
      "<class 'pandas.core.frame.DataFrame'>\n",
      "RangeIndex: 15919 entries, 0 to 15918\n",
      "Data columns (total 33 columns):\n",
      " #   Column                  Non-Null Count  Dtype  \n",
      "---  ------                  --------------  -----  \n",
      " 0   body_type               15919 non-null  object \n",
      " 1   price_€                 15919 non-null  float64\n",
      " 2   vat                     15919 non-null  object \n",
      " 3   km                      15919 non-null  float64\n",
      " 4   hp_kW                   15919 non-null  float64\n",
      " 5   type                    15919 non-null  object \n",
      " 6   previous_owners         15919 non-null  float64\n",
      " 7   warranty                15919 non-null  float64\n",
      " 8   make                    15919 non-null  object \n",
      " 9   model                   15919 non-null  object \n",
      " 10  body_color              15919 non-null  object \n",
      " 11  paint_type              15919 non-null  object \n",
      " 12  upholstery              15919 non-null  object \n",
      " 13  nr_of_doors             15919 non-null  float64\n",
      " 14  nr_of_seats             15919 non-null  float64\n",
      " 15  gearing_type            15919 non-null  object \n",
      " 16  engine_displacement_cc  15919 non-null  float64\n",
      " 17  cylinders               15919 non-null  float64\n",
      " 18  weight_kg               15919 non-null  float64\n",
      " 19  drive_chain             15919 non-null  object \n",
      " 20  fuel                    15919 non-null  object \n",
      " 21  co2e_g                  15919 non-null  float64\n",
      " 22  emission_class          15919 non-null  object \n",
      " 23  comfort&convenience     15919 non-null  object \n",
      " 24  entertainment&media     15919 non-null  object \n",
      " 25  extras                  15919 non-null  object \n",
      " 26  safety&security         15919 non-null  object \n",
      " 27  gears                   15919 non-null  float64\n",
      " 28  country_version         15919 non-null  object \n",
      " 29  consumption_comb        15919 non-null  float64\n",
      " 30  consumption_city        15919 non-null  float64\n",
      " 31  consumption_cuntry      15919 non-null  float64\n",
      " 32  age                     15919 non-null  float64\n",
      "dtypes: float64(16), object(17)\n",
      "memory usage: 4.0+ MB\n"
     ]
    }
   ],
   "source": [
    "df.info()"
   ]
  },
  {
   "cell_type": "markdown",
   "metadata": {},
   "source": [
    "## 27 to_csv"
   ]
  },
  {
   "cell_type": "code",
   "execution_count": 196,
   "metadata": {
    "ExecuteTime": {
     "end_time": "2022-08-03T09:00:30.720191Z",
     "start_time": "2022-08-03T09:00:30.121164Z"
    }
   },
   "outputs": [],
   "source": [
    "df.to_csv(\"filled_autoscout.csv\", index=False)"
   ]
  },
  {
   "cell_type": "markdown",
   "metadata": {
    "id": "gPPdPAu5s1ME"
   },
   "source": [
    "# PART- 3 `( Handling With Outliers )`"
   ]
  },
  {
   "cell_type": "code",
   "execution_count": null,
   "metadata": {
    "id": "Is4HLjHWs1MF"
   },
   "outputs": [],
   "source": []
  },
  {
   "cell_type": "markdown",
   "metadata": {
    "id": "EKxmsgfts1MG"
   },
   "source": [
    "# Final Step (Checking final situation of data via graphs)"
   ]
  },
  {
   "cell_type": "code",
   "execution_count": null,
   "metadata": {
    "id": "8mgL_Bd0s1MG"
   },
   "outputs": [],
   "source": []
  },
  {
   "cell_type": "markdown",
   "metadata": {
    "id": "2PgUVPoes1MH"
   },
   "source": [
    "## Export dataframe to csv file (without dummy)"
   ]
  },
  {
   "cell_type": "code",
   "execution_count": 194,
   "metadata": {
    "ExecuteTime": {
     "end_time": "2022-08-03T08:59:32.006939Z",
     "start_time": "2022-08-03T08:59:31.992976Z"
    },
    "id": "Byg_o2ZMs1MI"
   },
   "outputs": [],
   "source": [
    "# df.to_csv(\"final_scout_not_dummy.csv\", index=False)"
   ]
  },
  {
   "cell_type": "markdown",
   "metadata": {
    "id": "hrw9hr-3s1MJ"
   },
   "source": [
    "# Dummy Operation"
   ]
  },
  {
   "cell_type": "code",
   "execution_count": null,
   "metadata": {
    "id": "faDyWTC9s1MJ"
   },
   "outputs": [],
   "source": []
  },
  {
   "cell_type": "markdown",
   "metadata": {
    "id": "DUOdihlqs1MJ"
   },
   "source": [
    "## Export dataframe to csv file (dummy)"
   ]
  },
  {
   "cell_type": "code",
   "execution_count": 195,
   "metadata": {
    "ExecuteTime": {
     "end_time": "2022-08-03T08:59:32.022895Z",
     "start_time": "2022-08-03T08:59:32.008933Z"
    },
    "id": "IJT7Yl1Us1MK"
   },
   "outputs": [],
   "source": [
    "#df_dummied.to_csv(\"final_scout_dummy.csv\", index=False)"
   ]
  }
 ],
 "metadata": {
  "colab": {
   "name": "DAwPy-Capstone_Project_(AutoScout)_Student.ipynb",
   "provenance": []
  },
  "hide_input": false,
  "kernelspec": {
   "display_name": "Python 3 (ipykernel)",
   "language": "python",
   "name": "python3"
  },
  "language_info": {
   "codemirror_mode": {
    "name": "ipython",
    "version": 3
   },
   "file_extension": ".py",
   "mimetype": "text/x-python",
   "name": "python",
   "nbconvert_exporter": "python",
   "pygments_lexer": "ipython3",
   "version": "3.9.7"
  },
  "toc": {
   "base_numbering": 1,
   "nav_menu": {},
   "number_sections": false,
   "sideBar": true,
   "skip_h1_title": false,
   "title_cell": "Table of Contents",
   "title_sidebar": "Contents",
   "toc_cell": false,
   "toc_position": {},
   "toc_section_display": true,
   "toc_window_display": true
  }
 },
 "nbformat": 4,
 "nbformat_minor": 1
}
