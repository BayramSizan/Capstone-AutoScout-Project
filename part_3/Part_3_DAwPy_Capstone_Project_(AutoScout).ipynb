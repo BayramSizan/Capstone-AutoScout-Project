{
 "cells": [
  {
   "cell_type": "markdown",
   "metadata": {
    "id": "Bv1I7_aas1L3"
   },
   "source": [
    "___\n",
    "\n",
    "<p style=\"text-align: center;\"><img src=\"https://docs.google.com/uc?id=1lY0Uj5R04yMY3-ZppPWxqCr5pvBLYPnV\" class=\"img-fluid\" \n",
    "alt=\"CLRSWY\"></p>\n",
    "\n",
    "## <p style=\"background-color:#FDFEFE; font-family:newtimeroman; color:#9d4f8c; font-size:100%; text-align:center; border-radius:10px 10px;\">WAY TO REINVENT YOURSELF</p>"
   ]
  },
  {
   "cell_type": "markdown",
   "metadata": {
    "id": "Bkw3_pB0s1L-"
   },
   "source": [
    "<img src=https://i.ibb.co/wJW61Y2/Used-cars.jpg width=\"700\" height=\"200\">\n",
    "\n",
    "## <p style=\"background-color:#FDFEFE; font-family:newtimeroman; color:#060108; font-size:200%; text-align:center; border-radius:10px 10px;\">The Capstone Project of Data Analytics Module</p>\n",
    "\n",
    "## <p style=\"background-color:#FDFEFE; font-family:newtimeroman; color:#060108; font-size:150%; text-align:center; border-radius:10px 10px;\">Car Price Prediction EDA</p>"
   ]
  },
  {
   "cell_type": "markdown",
   "metadata": {
    "id": "Z_oWczxZs1MA"
   },
   "source": [
    "## Introduction\n",
    "Welcome to \"***AutoScout Data Analysis Project***\". This is the capstone project of ***Data Analysis*** Module. **Auto Scout** data which using for this project, scraped from the on-line car trading company in 2019, contains many features of 9 different car models. In this project, you will have the opportunity to apply many commonly used algorithms for Data Cleaning and Exploratory Data Analysis by using many Python libraries such as Numpy, Pandas, Matplotlib, Seaborn, Scipy you will analyze clean dataset.\n",
    "\n",
    "### Some Reminders on Exploratory data analysis (EDA)\n",
    "\n",
    "Exploratory data analysis (EDA) is an especially important activity in the routine of a data analyst or scientist. It enables an in depth understanding of the dataset, define or discard hypotheses and create predictive models on a solid basis. It uses data manipulation techniques and several statistical tools to describe and understand the relationship between variables and how these can impact business. By means of EDA, we can obtain meaningful insights that can impact analysis under the following questions (If a checklist is good enough for pilots to use every flight, it’s good enough for data scientists to use with every dataset).\n",
    "1. What question are you trying to solve (or prove wrong)?\n",
    "2. What kind of data do you have?\n",
    "3. What’s missing from the data?\n",
    "4. Where are the outliers?\n",
    "5. How can you add, change or remove features to get more out of your data?\n",
    "\n",
    "**``Exploratory data analysis (EDA)``** is often an **iterative brainstorming process** where you pose a question, review the data, and develop further questions to investigate before beginning model development work. The image below shows how the brainstorming phase is connected with that of understanding the variables and how this in turn is connected again with the brainstorming phase.<br>\n",
    "\n",
    "<img src=https://i.ibb.co/k0MC950/EDA-Process.png width=\"300\" height=\"100\">\n",
    "\n",
    "[Image Credit: Andrew D.](https://towardsdatascience.com/exploratory-data-analysis-in-python-a-step-by-step-process-d0dfa6bf94ee)\n",
    "\n",
    "**``In this context, the project consists of 3 parts in general:``**\n",
    "* **The first part** is related to 'Data Cleaning'. It deals with Incorrect Headers, Incorrect Format, Anomalies, and Dropping useless columns.\n",
    "* **The second part** is related to 'Filling Data', in other words 'Imputation'. It deals with Missing Values. Categorical to numeric transformation is done as well.\n",
    "* **The third part** is related to 'Handling Outliers of Data' via Visualization libraries. So, some insights will be extracted.\n",
    "\n",
    "**``NOTE:``**  However, you are free to create your own style. You do NOT have to stick to the steps above. We, the DA & DV instructors, recommend you study each part separately to create a source notebook for each part title for your further studies. "
   ]
  },
  {
   "cell_type": "markdown",
   "metadata": {
    "id": "vvgJ5KWTs1MB"
   },
   "source": [
    "# PART- 1 `( Data Cleaning )`"
   ]
  },
  {
   "cell_type": "code",
   "execution_count": null,
   "metadata": {},
   "outputs": [],
   "source": []
  },
  {
   "cell_type": "markdown",
   "metadata": {
    "id": "uGeKSdYds1MD"
   },
   "source": [
    "# PART- 2 `( Handling With Missing Vales )`"
   ]
  },
  {
   "cell_type": "code",
   "execution_count": null,
   "metadata": {
    "id": "WDZnqBhbs1ME"
   },
   "outputs": [],
   "source": []
  },
  {
   "cell_type": "markdown",
   "metadata": {
    "id": "gPPdPAu5s1ME"
   },
   "source": [
    "# PART- 3 `( Handling With Outliers )`"
   ]
  },
  {
   "cell_type": "code",
   "execution_count": 1,
   "metadata": {
    "ExecuteTime": {
     "end_time": "2022-08-03T09:01:56.108226Z",
     "start_time": "2022-08-03T09:01:54.317346Z"
    },
    "id": "Y13_gId7s1MC"
   },
   "outputs": [
    {
     "name": "stderr",
     "output_type": "stream",
     "text": [
      "C:\\Users\\Elitebook\\anaconda3\\lib\\site-packages\\scipy\\__init__.py:146: UserWarning: A NumPy version >=1.16.5 and <1.23.0 is required for this version of SciPy (detected version 1.23.1\n",
      "  warnings.warn(f\"A NumPy version >={np_minversion} and <{np_maxversion}\"\n"
     ]
    }
   ],
   "source": [
    "import numpy as np\n",
    "import pandas as pd\n",
    "import matplotlib.pyplot as plt\n",
    "import seaborn as sns\n",
    "import warnings\n",
    "warnings.filterwarnings(\"ignore\")\n",
    "warnings.warn(\"this will not show\")\n",
    "plt.rcParams[\"figure.figsize\"] = (10, 6)\n",
    "sns.set_style(\"whitegrid\")\n",
    "pd.set_option(\"display.float_format\", lambda x: \"%.3f\" % x)\n",
    "# Set it None to display all rows in the dataframe\n",
    "# pd.set_option(\"display.max_rows\", None)\n",
    "# Set it to None to display all columns in the dataframe\n",
    "pd.set_option(\"display.max_columns\", None)"
   ]
  },
  {
   "cell_type": "code",
   "execution_count": 2,
   "metadata": {
    "ExecuteTime": {
     "end_time": "2022-08-03T09:01:56.124179Z",
     "start_time": "2022-08-03T09:01:56.110186Z"
    }
   },
   "outputs": [],
   "source": [
    "pd.set_option(\"display.max_rows\", 200)"
   ]
  },
  {
   "cell_type": "code",
   "execution_count": 3,
   "metadata": {
    "ExecuteTime": {
     "end_time": "2022-08-03T09:01:56.532569Z",
     "start_time": "2022-08-03T09:01:56.131131Z"
    }
   },
   "outputs": [
    {
     "data": {
      "text/html": [
       "<div>\n",
       "<style scoped>\n",
       "    .dataframe tbody tr th:only-of-type {\n",
       "        vertical-align: middle;\n",
       "    }\n",
       "\n",
       "    .dataframe tbody tr th {\n",
       "        vertical-align: top;\n",
       "    }\n",
       "\n",
       "    .dataframe thead th {\n",
       "        text-align: right;\n",
       "    }\n",
       "</style>\n",
       "<table border=\"1\" class=\"dataframe\">\n",
       "  <thead>\n",
       "    <tr style=\"text-align: right;\">\n",
       "      <th></th>\n",
       "      <th>body_type</th>\n",
       "      <th>price_€</th>\n",
       "      <th>vat</th>\n",
       "      <th>km</th>\n",
       "      <th>hp_kW</th>\n",
       "      <th>type</th>\n",
       "      <th>previous_owners</th>\n",
       "      <th>warranty</th>\n",
       "      <th>make</th>\n",
       "      <th>model</th>\n",
       "      <th>body_color</th>\n",
       "      <th>paint_type</th>\n",
       "      <th>upholstery</th>\n",
       "      <th>nr_of_doors</th>\n",
       "      <th>nr_of_seats</th>\n",
       "      <th>gearing_type</th>\n",
       "      <th>engine_displacement_cc</th>\n",
       "      <th>cylinders</th>\n",
       "      <th>weight_kg</th>\n",
       "      <th>drive_chain</th>\n",
       "      <th>fuel</th>\n",
       "      <th>co2e_g</th>\n",
       "      <th>emission_class</th>\n",
       "      <th>comfort&amp;convenience</th>\n",
       "      <th>entertainment&amp;media</th>\n",
       "      <th>extras</th>\n",
       "      <th>safety&amp;security</th>\n",
       "      <th>gears</th>\n",
       "      <th>country_version</th>\n",
       "      <th>consumption_comb</th>\n",
       "      <th>consumption_city</th>\n",
       "      <th>consumption_cuntry</th>\n",
       "      <th>age</th>\n",
       "    </tr>\n",
       "  </thead>\n",
       "  <tbody>\n",
       "    <tr>\n",
       "      <th>0</th>\n",
       "      <td>Sedans</td>\n",
       "      <td>15770.000</td>\n",
       "      <td>VAT deductible</td>\n",
       "      <td>56013.000</td>\n",
       "      <td>66.000</td>\n",
       "      <td>Used</td>\n",
       "      <td>2.000</td>\n",
       "      <td>0.000</td>\n",
       "      <td>Audi</td>\n",
       "      <td>A1</td>\n",
       "      <td>Black</td>\n",
       "      <td>Metallic</td>\n",
       "      <td>Cloth</td>\n",
       "      <td>5.000</td>\n",
       "      <td>5.000</td>\n",
       "      <td>Automatic</td>\n",
       "      <td>1422.000</td>\n",
       "      <td>3.000</td>\n",
       "      <td>1220.000</td>\n",
       "      <td>front</td>\n",
       "      <td>Diesel</td>\n",
       "      <td>99.000</td>\n",
       "      <td>Euro 6</td>\n",
       "      <td>Air conditioning,Armrest,Automatic climate con...</td>\n",
       "      <td>Bluetooth,Hands-free equipment,On-board comput...</td>\n",
       "      <td>Alloy wheels,Catalytic Converter,Voice Control</td>\n",
       "      <td>ABS,Central door lock,Daytime running lights,D...</td>\n",
       "      <td>7.000</td>\n",
       "      <td>Unknown</td>\n",
       "      <td>3.800</td>\n",
       "      <td>4.300</td>\n",
       "      <td>3.500</td>\n",
       "      <td>3.000</td>\n",
       "    </tr>\n",
       "    <tr>\n",
       "      <th>1</th>\n",
       "      <td>Sedans</td>\n",
       "      <td>14500.000</td>\n",
       "      <td>Price negotiable</td>\n",
       "      <td>80000.000</td>\n",
       "      <td>141.000</td>\n",
       "      <td>Used</td>\n",
       "      <td>1.000</td>\n",
       "      <td>0.000</td>\n",
       "      <td>Audi</td>\n",
       "      <td>A1</td>\n",
       "      <td>Red</td>\n",
       "      <td>Metallic</td>\n",
       "      <td>Cloth</td>\n",
       "      <td>3.000</td>\n",
       "      <td>4.000</td>\n",
       "      <td>Automatic</td>\n",
       "      <td>1798.000</td>\n",
       "      <td>4.000</td>\n",
       "      <td>1255.000</td>\n",
       "      <td>front</td>\n",
       "      <td>Gasoline</td>\n",
       "      <td>129.000</td>\n",
       "      <td>Euro 6</td>\n",
       "      <td>Air conditioning,Automatic climate control,Hil...</td>\n",
       "      <td>Bluetooth,Hands-free equipment,On-board comput...</td>\n",
       "      <td>Alloy wheels,Sport seats,Sport suspension,Voic...</td>\n",
       "      <td>ABS,Central door lock,Central door lock with r...</td>\n",
       "      <td>7.000</td>\n",
       "      <td>Unknown</td>\n",
       "      <td>5.600</td>\n",
       "      <td>7.100</td>\n",
       "      <td>4.700</td>\n",
       "      <td>2.000</td>\n",
       "    </tr>\n",
       "    <tr>\n",
       "      <th>2</th>\n",
       "      <td>Sedans</td>\n",
       "      <td>14640.000</td>\n",
       "      <td>VAT deductible</td>\n",
       "      <td>83450.000</td>\n",
       "      <td>85.000</td>\n",
       "      <td>Used</td>\n",
       "      <td>1.000</td>\n",
       "      <td>0.000</td>\n",
       "      <td>Audi</td>\n",
       "      <td>A1</td>\n",
       "      <td>Black</td>\n",
       "      <td>Metallic</td>\n",
       "      <td>Cloth</td>\n",
       "      <td>4.000</td>\n",
       "      <td>4.000</td>\n",
       "      <td>Automatic</td>\n",
       "      <td>1598.000</td>\n",
       "      <td>3.000</td>\n",
       "      <td>1195.000</td>\n",
       "      <td>front</td>\n",
       "      <td>Diesel</td>\n",
       "      <td>99.000</td>\n",
       "      <td>Euro 6</td>\n",
       "      <td>Air conditioning,Cruise control,Electrical sid...</td>\n",
       "      <td>MP3,On-board computer</td>\n",
       "      <td>Alloy wheels,Voice Control</td>\n",
       "      <td>ABS,Central door lock,Daytime running lights,D...</td>\n",
       "      <td>7.000</td>\n",
       "      <td>Unknown</td>\n",
       "      <td>3.800</td>\n",
       "      <td>4.400</td>\n",
       "      <td>3.400</td>\n",
       "      <td>3.000</td>\n",
       "    </tr>\n",
       "    <tr>\n",
       "      <th>3</th>\n",
       "      <td>Sedans</td>\n",
       "      <td>14500.000</td>\n",
       "      <td>VAT deductible</td>\n",
       "      <td>73000.000</td>\n",
       "      <td>66.000</td>\n",
       "      <td>Used</td>\n",
       "      <td>1.000</td>\n",
       "      <td>0.000</td>\n",
       "      <td>Audi</td>\n",
       "      <td>A1</td>\n",
       "      <td>Brown</td>\n",
       "      <td>Metallic</td>\n",
       "      <td>Cloth</td>\n",
       "      <td>3.000</td>\n",
       "      <td>4.000</td>\n",
       "      <td>Automatic</td>\n",
       "      <td>1422.000</td>\n",
       "      <td>3.000</td>\n",
       "      <td>1195.000</td>\n",
       "      <td>front</td>\n",
       "      <td>Diesel</td>\n",
       "      <td>99.000</td>\n",
       "      <td>Euro 6</td>\n",
       "      <td>Air suspension,Armrest,Auxiliary heating,Elect...</td>\n",
       "      <td>Bluetooth,CD player,Hands-free equipment,MP3,O...</td>\n",
       "      <td>Alloy wheels,Sport seats,Voice Control</td>\n",
       "      <td>ABS,Alarm system,Central door lock with remote...</td>\n",
       "      <td>6.000</td>\n",
       "      <td>Unknown</td>\n",
       "      <td>3.800</td>\n",
       "      <td>4.300</td>\n",
       "      <td>3.500</td>\n",
       "      <td>3.000</td>\n",
       "    </tr>\n",
       "    <tr>\n",
       "      <th>4</th>\n",
       "      <td>Sedans</td>\n",
       "      <td>16790.000</td>\n",
       "      <td>VAT deductible</td>\n",
       "      <td>16200.000</td>\n",
       "      <td>66.000</td>\n",
       "      <td>Used</td>\n",
       "      <td>1.000</td>\n",
       "      <td>0.000</td>\n",
       "      <td>Audi</td>\n",
       "      <td>A1</td>\n",
       "      <td>Black</td>\n",
       "      <td>Metallic</td>\n",
       "      <td>Cloth</td>\n",
       "      <td>5.000</td>\n",
       "      <td>5.000</td>\n",
       "      <td>Automatic</td>\n",
       "      <td>1422.000</td>\n",
       "      <td>3.000</td>\n",
       "      <td>1195.000</td>\n",
       "      <td>front</td>\n",
       "      <td>Diesel</td>\n",
       "      <td>109.000</td>\n",
       "      <td>Euro 6</td>\n",
       "      <td>Air conditioning,Armrest,Automatic climate con...</td>\n",
       "      <td>Bluetooth,CD player,Hands-free equipment,MP3,O...</td>\n",
       "      <td>Alloy wheels,Sport package,Sport suspension,Vo...</td>\n",
       "      <td>ABS,Central door lock,Driver-side airbag,Elect...</td>\n",
       "      <td>6.000</td>\n",
       "      <td>Germany</td>\n",
       "      <td>4.100</td>\n",
       "      <td>4.600</td>\n",
       "      <td>3.800</td>\n",
       "      <td>3.000</td>\n",
       "    </tr>\n",
       "    <tr>\n",
       "      <th>...</th>\n",
       "      <td>...</td>\n",
       "      <td>...</td>\n",
       "      <td>...</td>\n",
       "      <td>...</td>\n",
       "      <td>...</td>\n",
       "      <td>...</td>\n",
       "      <td>...</td>\n",
       "      <td>...</td>\n",
       "      <td>...</td>\n",
       "      <td>...</td>\n",
       "      <td>...</td>\n",
       "      <td>...</td>\n",
       "      <td>...</td>\n",
       "      <td>...</td>\n",
       "      <td>...</td>\n",
       "      <td>...</td>\n",
       "      <td>...</td>\n",
       "      <td>...</td>\n",
       "      <td>...</td>\n",
       "      <td>...</td>\n",
       "      <td>...</td>\n",
       "      <td>...</td>\n",
       "      <td>...</td>\n",
       "      <td>...</td>\n",
       "      <td>...</td>\n",
       "      <td>...</td>\n",
       "      <td>...</td>\n",
       "      <td>...</td>\n",
       "      <td>...</td>\n",
       "      <td>...</td>\n",
       "      <td>...</td>\n",
       "      <td>...</td>\n",
       "      <td>...</td>\n",
       "    </tr>\n",
       "    <tr>\n",
       "      <th>15914</th>\n",
       "      <td>Van</td>\n",
       "      <td>39950.000</td>\n",
       "      <td>VAT deductible</td>\n",
       "      <td>16.987</td>\n",
       "      <td>147.000</td>\n",
       "      <td>New</td>\n",
       "      <td>0.000</td>\n",
       "      <td>1.000</td>\n",
       "      <td>Renault</td>\n",
       "      <td>Espace</td>\n",
       "      <td>Grey</td>\n",
       "      <td>Metallic</td>\n",
       "      <td>Full leather</td>\n",
       "      <td>5.000</td>\n",
       "      <td>5.000</td>\n",
       "      <td>Automatic</td>\n",
       "      <td>1997.000</td>\n",
       "      <td>4.000</td>\n",
       "      <td>1758.000</td>\n",
       "      <td>front</td>\n",
       "      <td>Diesel</td>\n",
       "      <td>139.000</td>\n",
       "      <td>Euro 6d-TEMP</td>\n",
       "      <td>Air conditioning,Automatic climate control,Cru...</td>\n",
       "      <td>Bluetooth,Digital radio,Hands-free equipment,O...</td>\n",
       "      <td>Alloy wheels,Touch screen</td>\n",
       "      <td>ABS,Central door lock,Central door lock with r...</td>\n",
       "      <td>6.000</td>\n",
       "      <td>Unknown</td>\n",
       "      <td>5.300</td>\n",
       "      <td>6.200</td>\n",
       "      <td>4.700</td>\n",
       "      <td>0.000</td>\n",
       "    </tr>\n",
       "    <tr>\n",
       "      <th>15915</th>\n",
       "      <td>Van</td>\n",
       "      <td>39885.000</td>\n",
       "      <td>VAT deductible</td>\n",
       "      <td>9900.000</td>\n",
       "      <td>165.000</td>\n",
       "      <td>Used</td>\n",
       "      <td>1.000</td>\n",
       "      <td>0.000</td>\n",
       "      <td>Renault</td>\n",
       "      <td>Espace</td>\n",
       "      <td>Grey</td>\n",
       "      <td>Metallic</td>\n",
       "      <td>Cloth</td>\n",
       "      <td>5.000</td>\n",
       "      <td>5.000</td>\n",
       "      <td>Automatic</td>\n",
       "      <td>1798.000</td>\n",
       "      <td>4.000</td>\n",
       "      <td>1708.000</td>\n",
       "      <td>front</td>\n",
       "      <td>Benzine</td>\n",
       "      <td>168.000</td>\n",
       "      <td>Euro 6</td>\n",
       "      <td>Air conditioning,Automatic climate control,Cru...</td>\n",
       "      <td>Bluetooth,Digital radio,Hands-free equipment,R...</td>\n",
       "      <td>Alloy wheels,Touch screen,Voice Control</td>\n",
       "      <td>ABS,Adaptive Cruise Control,Blind spot monitor...</td>\n",
       "      <td>7.000</td>\n",
       "      <td>Germany</td>\n",
       "      <td>7.400</td>\n",
       "      <td>9.200</td>\n",
       "      <td>6.300</td>\n",
       "      <td>0.000</td>\n",
       "    </tr>\n",
       "    <tr>\n",
       "      <th>15916</th>\n",
       "      <td>Van</td>\n",
       "      <td>39875.000</td>\n",
       "      <td>VAT deductible</td>\n",
       "      <td>15.000</td>\n",
       "      <td>146.000</td>\n",
       "      <td>Pre-registered</td>\n",
       "      <td>1.000</td>\n",
       "      <td>0.000</td>\n",
       "      <td>Renault</td>\n",
       "      <td>Espace</td>\n",
       "      <td>White</td>\n",
       "      <td>Metallic</td>\n",
       "      <td>Full leather</td>\n",
       "      <td>5.000</td>\n",
       "      <td>7.000</td>\n",
       "      <td>Automatic</td>\n",
       "      <td>1997.000</td>\n",
       "      <td>4.000</td>\n",
       "      <td>1685.000</td>\n",
       "      <td>front</td>\n",
       "      <td>Diesel</td>\n",
       "      <td>139.000</td>\n",
       "      <td>Euro 6d-TEMP</td>\n",
       "      <td>Air conditioning,Armrest,Automatic climate con...</td>\n",
       "      <td>Bluetooth,Hands-free equipment,On-board comput...</td>\n",
       "      <td>Alloy wheels</td>\n",
       "      <td>ABS,Adaptive Cruise Control,Blind spot monitor...</td>\n",
       "      <td>6.000</td>\n",
       "      <td>Austria</td>\n",
       "      <td>5.300</td>\n",
       "      <td>6.200</td>\n",
       "      <td>4.700</td>\n",
       "      <td>0.000</td>\n",
       "    </tr>\n",
       "    <tr>\n",
       "      <th>15917</th>\n",
       "      <td>Van</td>\n",
       "      <td>39700.000</td>\n",
       "      <td>VAT deductible</td>\n",
       "      <td>10.000</td>\n",
       "      <td>147.000</td>\n",
       "      <td>Pre-registered</td>\n",
       "      <td>1.000</td>\n",
       "      <td>0.000</td>\n",
       "      <td>Renault</td>\n",
       "      <td>Espace</td>\n",
       "      <td>Grey</td>\n",
       "      <td>Metallic</td>\n",
       "      <td>Part leather</td>\n",
       "      <td>5.000</td>\n",
       "      <td>7.000</td>\n",
       "      <td>Automatic</td>\n",
       "      <td>1997.000</td>\n",
       "      <td>4.000</td>\n",
       "      <td>1758.000</td>\n",
       "      <td>front</td>\n",
       "      <td>Diesel</td>\n",
       "      <td>139.000</td>\n",
       "      <td>Euro 6</td>\n",
       "      <td>Air conditioning,Automatic climate control,Cru...</td>\n",
       "      <td>Bluetooth,Digital radio,Radio,USB</td>\n",
       "      <td>Alloy wheels,Touch screen</td>\n",
       "      <td>ABS,Blind spot monitor,Driver-side airbag,Elec...</td>\n",
       "      <td>6.000</td>\n",
       "      <td>Unknown</td>\n",
       "      <td>5.300</td>\n",
       "      <td>6.200</td>\n",
       "      <td>4.700</td>\n",
       "      <td>0.000</td>\n",
       "    </tr>\n",
       "    <tr>\n",
       "      <th>15918</th>\n",
       "      <td>Van</td>\n",
       "      <td>40999.000</td>\n",
       "      <td>VAT deductible</td>\n",
       "      <td>3373.868</td>\n",
       "      <td>165.000</td>\n",
       "      <td>Demonstration</td>\n",
       "      <td>1.000</td>\n",
       "      <td>0.000</td>\n",
       "      <td>Renault</td>\n",
       "      <td>Espace</td>\n",
       "      <td>Grey</td>\n",
       "      <td>Metallic</td>\n",
       "      <td>Full leather</td>\n",
       "      <td>5.000</td>\n",
       "      <td>5.000</td>\n",
       "      <td>Automatic</td>\n",
       "      <td>1798.000</td>\n",
       "      <td>4.000</td>\n",
       "      <td>1685.000</td>\n",
       "      <td>4WD</td>\n",
       "      <td>Benzine</td>\n",
       "      <td>153.000</td>\n",
       "      <td>Euro 6</td>\n",
       "      <td>Air conditioning,Automatic climate control,Cru...</td>\n",
       "      <td>USB</td>\n",
       "      <td>Alloy wheels,Touch screen</td>\n",
       "      <td>ABS,Blind spot monitor,Daytime running lights,...</td>\n",
       "      <td>6.000</td>\n",
       "      <td>Germany</td>\n",
       "      <td>6.800</td>\n",
       "      <td>8.700</td>\n",
       "      <td>5.700</td>\n",
       "      <td>0.000</td>\n",
       "    </tr>\n",
       "  </tbody>\n",
       "</table>\n",
       "<p>15919 rows × 33 columns</p>\n",
       "</div>"
      ],
      "text/plain": [
       "      body_type   price_€               vat        km   hp_kW            type  \\\n",
       "0        Sedans 15770.000    VAT deductible 56013.000  66.000            Used   \n",
       "1        Sedans 14500.000  Price negotiable 80000.000 141.000            Used   \n",
       "2        Sedans 14640.000    VAT deductible 83450.000  85.000            Used   \n",
       "3        Sedans 14500.000    VAT deductible 73000.000  66.000            Used   \n",
       "4        Sedans 16790.000    VAT deductible 16200.000  66.000            Used   \n",
       "...         ...       ...               ...       ...     ...             ...   \n",
       "15914       Van 39950.000    VAT deductible    16.987 147.000             New   \n",
       "15915       Van 39885.000    VAT deductible  9900.000 165.000            Used   \n",
       "15916       Van 39875.000    VAT deductible    15.000 146.000  Pre-registered   \n",
       "15917       Van 39700.000    VAT deductible    10.000 147.000  Pre-registered   \n",
       "15918       Van 40999.000    VAT deductible  3373.868 165.000   Demonstration   \n",
       "\n",
       "       previous_owners  warranty     make   model body_color paint_type  \\\n",
       "0                2.000     0.000     Audi      A1      Black   Metallic   \n",
       "1                1.000     0.000     Audi      A1        Red   Metallic   \n",
       "2                1.000     0.000     Audi      A1      Black   Metallic   \n",
       "3                1.000     0.000     Audi      A1      Brown   Metallic   \n",
       "4                1.000     0.000     Audi      A1      Black   Metallic   \n",
       "...                ...       ...      ...     ...        ...        ...   \n",
       "15914            0.000     1.000  Renault  Espace       Grey   Metallic   \n",
       "15915            1.000     0.000  Renault  Espace       Grey   Metallic   \n",
       "15916            1.000     0.000  Renault  Espace      White   Metallic   \n",
       "15917            1.000     0.000  Renault  Espace       Grey   Metallic   \n",
       "15918            1.000     0.000  Renault  Espace       Grey   Metallic   \n",
       "\n",
       "         upholstery  nr_of_doors  nr_of_seats gearing_type  \\\n",
       "0             Cloth        5.000        5.000    Automatic   \n",
       "1             Cloth        3.000        4.000    Automatic   \n",
       "2             Cloth        4.000        4.000    Automatic   \n",
       "3             Cloth        3.000        4.000    Automatic   \n",
       "4             Cloth        5.000        5.000    Automatic   \n",
       "...             ...          ...          ...          ...   \n",
       "15914  Full leather        5.000        5.000    Automatic   \n",
       "15915         Cloth        5.000        5.000    Automatic   \n",
       "15916  Full leather        5.000        7.000    Automatic   \n",
       "15917  Part leather        5.000        7.000    Automatic   \n",
       "15918  Full leather        5.000        5.000    Automatic   \n",
       "\n",
       "       engine_displacement_cc  cylinders  weight_kg drive_chain      fuel  \\\n",
       "0                    1422.000      3.000   1220.000       front    Diesel   \n",
       "1                    1798.000      4.000   1255.000       front  Gasoline   \n",
       "2                    1598.000      3.000   1195.000       front    Diesel   \n",
       "3                    1422.000      3.000   1195.000       front    Diesel   \n",
       "4                    1422.000      3.000   1195.000       front    Diesel   \n",
       "...                       ...        ...        ...         ...       ...   \n",
       "15914                1997.000      4.000   1758.000       front    Diesel   \n",
       "15915                1798.000      4.000   1708.000       front   Benzine   \n",
       "15916                1997.000      4.000   1685.000       front    Diesel   \n",
       "15917                1997.000      4.000   1758.000       front    Diesel   \n",
       "15918                1798.000      4.000   1685.000         4WD   Benzine   \n",
       "\n",
       "       co2e_g emission_class  \\\n",
       "0      99.000         Euro 6   \n",
       "1     129.000         Euro 6   \n",
       "2      99.000         Euro 6   \n",
       "3      99.000         Euro 6   \n",
       "4     109.000         Euro 6   \n",
       "...       ...            ...   \n",
       "15914 139.000   Euro 6d-TEMP   \n",
       "15915 168.000         Euro 6   \n",
       "15916 139.000   Euro 6d-TEMP   \n",
       "15917 139.000         Euro 6   \n",
       "15918 153.000         Euro 6   \n",
       "\n",
       "                                     comfort&convenience  \\\n",
       "0      Air conditioning,Armrest,Automatic climate con...   \n",
       "1      Air conditioning,Automatic climate control,Hil...   \n",
       "2      Air conditioning,Cruise control,Electrical sid...   \n",
       "3      Air suspension,Armrest,Auxiliary heating,Elect...   \n",
       "4      Air conditioning,Armrest,Automatic climate con...   \n",
       "...                                                  ...   \n",
       "15914  Air conditioning,Automatic climate control,Cru...   \n",
       "15915  Air conditioning,Automatic climate control,Cru...   \n",
       "15916  Air conditioning,Armrest,Automatic climate con...   \n",
       "15917  Air conditioning,Automatic climate control,Cru...   \n",
       "15918  Air conditioning,Automatic climate control,Cru...   \n",
       "\n",
       "                                     entertainment&media  \\\n",
       "0      Bluetooth,Hands-free equipment,On-board comput...   \n",
       "1      Bluetooth,Hands-free equipment,On-board comput...   \n",
       "2                                  MP3,On-board computer   \n",
       "3      Bluetooth,CD player,Hands-free equipment,MP3,O...   \n",
       "4      Bluetooth,CD player,Hands-free equipment,MP3,O...   \n",
       "...                                                  ...   \n",
       "15914  Bluetooth,Digital radio,Hands-free equipment,O...   \n",
       "15915  Bluetooth,Digital radio,Hands-free equipment,R...   \n",
       "15916  Bluetooth,Hands-free equipment,On-board comput...   \n",
       "15917                  Bluetooth,Digital radio,Radio,USB   \n",
       "15918                                                USB   \n",
       "\n",
       "                                                  extras  \\\n",
       "0         Alloy wheels,Catalytic Converter,Voice Control   \n",
       "1      Alloy wheels,Sport seats,Sport suspension,Voic...   \n",
       "2                             Alloy wheels,Voice Control   \n",
       "3                 Alloy wheels,Sport seats,Voice Control   \n",
       "4      Alloy wheels,Sport package,Sport suspension,Vo...   \n",
       "...                                                  ...   \n",
       "15914                          Alloy wheels,Touch screen   \n",
       "15915            Alloy wheels,Touch screen,Voice Control   \n",
       "15916                                       Alloy wheels   \n",
       "15917                          Alloy wheels,Touch screen   \n",
       "15918                          Alloy wheels,Touch screen   \n",
       "\n",
       "                                         safety&security  gears  \\\n",
       "0      ABS,Central door lock,Daytime running lights,D...  7.000   \n",
       "1      ABS,Central door lock,Central door lock with r...  7.000   \n",
       "2      ABS,Central door lock,Daytime running lights,D...  7.000   \n",
       "3      ABS,Alarm system,Central door lock with remote...  6.000   \n",
       "4      ABS,Central door lock,Driver-side airbag,Elect...  6.000   \n",
       "...                                                  ...    ...   \n",
       "15914  ABS,Central door lock,Central door lock with r...  6.000   \n",
       "15915  ABS,Adaptive Cruise Control,Blind spot monitor...  7.000   \n",
       "15916  ABS,Adaptive Cruise Control,Blind spot monitor...  6.000   \n",
       "15917  ABS,Blind spot monitor,Driver-side airbag,Elec...  6.000   \n",
       "15918  ABS,Blind spot monitor,Daytime running lights,...  6.000   \n",
       "\n",
       "      country_version  consumption_comb  consumption_city  consumption_cuntry  \\\n",
       "0             Unknown             3.800             4.300               3.500   \n",
       "1             Unknown             5.600             7.100               4.700   \n",
       "2             Unknown             3.800             4.400               3.400   \n",
       "3             Unknown             3.800             4.300               3.500   \n",
       "4             Germany             4.100             4.600               3.800   \n",
       "...               ...               ...               ...                 ...   \n",
       "15914         Unknown             5.300             6.200               4.700   \n",
       "15915         Germany             7.400             9.200               6.300   \n",
       "15916         Austria             5.300             6.200               4.700   \n",
       "15917         Unknown             5.300             6.200               4.700   \n",
       "15918         Germany             6.800             8.700               5.700   \n",
       "\n",
       "        age  \n",
       "0     3.000  \n",
       "1     2.000  \n",
       "2     3.000  \n",
       "3     3.000  \n",
       "4     3.000  \n",
       "...     ...  \n",
       "15914 0.000  \n",
       "15915 0.000  \n",
       "15916 0.000  \n",
       "15917 0.000  \n",
       "15918 0.000  \n",
       "\n",
       "[15919 rows x 33 columns]"
      ]
     },
     "execution_count": 3,
     "metadata": {},
     "output_type": "execute_result"
    }
   ],
   "source": [
    "df = pd.read_csv(\"filled_autoscout.csv\")\n",
    "df"
   ]
  },
  {
   "cell_type": "code",
   "execution_count": 4,
   "metadata": {
    "ExecuteTime": {
     "end_time": "2022-08-03T09:01:56.578447Z",
     "start_time": "2022-08-03T09:01:56.538554Z"
    },
    "id": "Is4HLjHWs1MF"
   },
   "outputs": [
    {
     "name": "stdout",
     "output_type": "stream",
     "text": [
      "<class 'pandas.core.frame.DataFrame'>\n",
      "RangeIndex: 15919 entries, 0 to 15918\n",
      "Data columns (total 33 columns):\n",
      " #   Column                  Non-Null Count  Dtype  \n",
      "---  ------                  --------------  -----  \n",
      " 0   body_type               15919 non-null  object \n",
      " 1   price_€                 15919 non-null  float64\n",
      " 2   vat                     15919 non-null  object \n",
      " 3   km                      15919 non-null  float64\n",
      " 4   hp_kW                   15919 non-null  float64\n",
      " 5   type                    15919 non-null  object \n",
      " 6   previous_owners         15919 non-null  float64\n",
      " 7   warranty                15919 non-null  float64\n",
      " 8   make                    15919 non-null  object \n",
      " 9   model                   15919 non-null  object \n",
      " 10  body_color              15919 non-null  object \n",
      " 11  paint_type              15919 non-null  object \n",
      " 12  upholstery              15919 non-null  object \n",
      " 13  nr_of_doors             15919 non-null  float64\n",
      " 14  nr_of_seats             15919 non-null  float64\n",
      " 15  gearing_type            15919 non-null  object \n",
      " 16  engine_displacement_cc  15919 non-null  float64\n",
      " 17  cylinders               15919 non-null  float64\n",
      " 18  weight_kg               15919 non-null  float64\n",
      " 19  drive_chain             15919 non-null  object \n",
      " 20  fuel                    15919 non-null  object \n",
      " 21  co2e_g                  15919 non-null  float64\n",
      " 22  emission_class          15919 non-null  object \n",
      " 23  comfort&convenience     15919 non-null  object \n",
      " 24  entertainment&media     15919 non-null  object \n",
      " 25  extras                  15919 non-null  object \n",
      " 26  safety&security         15919 non-null  object \n",
      " 27  gears                   15919 non-null  float64\n",
      " 28  country_version         15919 non-null  object \n",
      " 29  consumption_comb        15919 non-null  float64\n",
      " 30  consumption_city        15919 non-null  float64\n",
      " 31  consumption_cuntry      15919 non-null  float64\n",
      " 32  age                     15919 non-null  float64\n",
      "dtypes: float64(16), object(17)\n",
      "memory usage: 4.0+ MB\n"
     ]
    }
   ],
   "source": [
    "df.info()"
   ]
  },
  {
   "cell_type": "code",
   "execution_count": 5,
   "metadata": {
    "ExecuteTime": {
     "end_time": "2022-08-03T09:01:56.624325Z",
     "start_time": "2022-08-03T09:01:56.580441Z"
    }
   },
   "outputs": [
    {
     "data": {
      "text/plain": [
       "body_type                 0\n",
       "price_€                   0\n",
       "vat                       0\n",
       "km                        0\n",
       "hp_kW                     0\n",
       "type                      0\n",
       "previous_owners           0\n",
       "warranty                  0\n",
       "make                      0\n",
       "model                     0\n",
       "body_color                0\n",
       "paint_type                0\n",
       "upholstery                0\n",
       "nr_of_doors               0\n",
       "nr_of_seats               0\n",
       "gearing_type              0\n",
       "engine_displacement_cc    0\n",
       "cylinders                 0\n",
       "weight_kg                 0\n",
       "drive_chain               0\n",
       "fuel                      0\n",
       "co2e_g                    0\n",
       "emission_class            0\n",
       "comfort&convenience       0\n",
       "entertainment&media       0\n",
       "extras                    0\n",
       "safety&security           0\n",
       "gears                     0\n",
       "country_version           0\n",
       "consumption_comb          0\n",
       "consumption_city          0\n",
       "consumption_cuntry        0\n",
       "age                       0\n",
       "dtype: int64"
      ]
     },
     "execution_count": 5,
     "metadata": {},
     "output_type": "execute_result"
    }
   ],
   "source": [
    "df.isnull().sum()"
   ]
  },
  {
   "cell_type": "code",
   "execution_count": 6,
   "metadata": {
    "ExecuteTime": {
     "end_time": "2022-08-03T09:01:56.640282Z",
     "start_time": "2022-08-03T09:01:56.629314Z"
    }
   },
   "outputs": [],
   "source": [
    "def check_df(col):\n",
    "    print('column name : ', col)\n",
    "    print('-+-'*25)\n",
    "    print('Per_of_Nulls   : ', '%', round(df[col].isnull().sum() / df.shape[0]*100, 2))\n",
    "    print('Num_of_Nulls   : ', df[col].isnull().sum())\n",
    "    print(df[col].value_counts(dropna = False))\n",
    "    print(\"*\"*30)\n",
    "    print(\"\\n\\n\")"
   ]
  },
  {
   "cell_type": "code",
   "execution_count": 7,
   "metadata": {
    "ExecuteTime": {
     "end_time": "2022-08-03T09:01:56.671198Z",
     "start_time": "2022-08-03T09:01:56.642276Z"
    }
   },
   "outputs": [],
   "source": [
    "def detect_outlier(col):\n",
    "    print('column name : ',col)\n",
    "    print(\"--\"*20)\n",
    "    Q1 = df[col].quantile(0.25)\n",
    "    print(\"Q1 : \", Q1)\n",
    "    Q3 = df[col].quantile(0.75)\n",
    "    print(\"Q3 : \", Q3)\n",
    "    IQR = Q3 - Q1\n",
    "    print(\"IQR : \", IQR )\n",
    "    lower_lim = Q1 - 1.5*IQR\n",
    "    print(\"lower limit : \", lower_lim)\n",
    "    print(\"mean : \", round(df[col].mean(), 2))\n",
    "    upper_lim = Q3 +1.5*IQR\n",
    "    print(\"upper limit : \", upper_lim)\n",
    "    cnt_of_low = (df[col] < lower_lim).sum()\n",
    "    print(\"count of lower values : \", cnt_of_low)\n",
    "    cnt_of_upper = (df[col] > upper_lim).sum()\n",
    "    print(\"count of upper values : \", cnt_of_upper)\n",
    "    print(\" \")\n",
    "    print(\"the smallest 10 values :\\n\", df[col].sort_values().head(10))\n",
    "    print(\" \")\n",
    "    print(\"the biggest 10 values :\\n\", df[col].sort_values(ascending = False).head(10))\n",
    "    \n",
    "    print(\"\\n\\n\")"
   ]
  },
  {
   "cell_type": "code",
   "execution_count": 8,
   "metadata": {
    "ExecuteTime": {
     "end_time": "2022-08-03T09:01:56.828779Z",
     "start_time": "2022-08-03T09:01:56.674191Z"
    }
   },
   "outputs": [
    {
     "name": "stdout",
     "output_type": "stream",
     "text": [
      "column name :  price_€\n",
      "----------------------------------------\n",
      "Q1 :  12850.0\n",
      "Q3 :  21900.0\n",
      "IQR :  9050.0\n",
      "lower limit :  -725.0\n",
      "mean :  18019.9\n",
      "upper limit :  35475.0\n",
      "count of lower values :  0\n",
      "count of upper values :  479\n",
      " \n",
      "the smallest 10 values :\n",
      " 8594      13.000\n",
      "8828     120.000\n",
      "6066     255.000\n",
      "8829     331.000\n",
      "8827    4950.000\n",
      "8825    4990.000\n",
      "8826    5250.000\n",
      "8824    5300.000\n",
      "13770   5445.000\n",
      "8823    5450.000\n",
      "Name: price_€, dtype: float64\n",
      " \n",
      "the biggest 10 values :\n",
      " 3648    74600.000\n",
      "15826   68320.000\n",
      "3649    67600.000\n",
      "3587    64900.000\n",
      "15828   64332.000\n",
      "15831   64298.000\n",
      "3595    63900.000\n",
      "15833   63477.000\n",
      "3590    62900.000\n",
      "3594    58990.000\n",
      "Name: price_€, dtype: float64\n",
      "\n",
      "\n",
      "\n",
      "column name :  km\n",
      "----------------------------------------\n",
      "Q1 :  2000.0\n",
      "Q3 :  46898.5\n",
      "IQR :  44898.5\n",
      "lower limit :  -65347.75\n",
      "mean :  31964.85\n",
      "upper limit :  114246.25\n",
      "count of lower values :  0\n",
      "count of upper values :  691\n",
      " \n",
      "the smallest 10 values :\n",
      " 14518   0.000\n",
      "9892    0.000\n",
      "2496    0.000\n",
      "9882    0.000\n",
      "15668   0.000\n",
      "5553    0.000\n",
      "12512   0.000\n",
      "5672    0.000\n",
      "9929    0.000\n",
      "7828    0.000\n",
      "Name: km, dtype: float64\n",
      " \n",
      "the biggest 10 values :\n",
      " 9279    317000.000\n",
      "3003    291800.000\n",
      "5712    260000.000\n",
      "6224    248000.000\n",
      "15277   240000.000\n",
      "10804   232000.000\n",
      "6380    231879.000\n",
      "6062    230928.000\n",
      "6399    229500.000\n",
      "10495   222346.000\n",
      "Name: km, dtype: float64\n",
      "\n",
      "\n",
      "\n",
      "column name :  hp_kW\n",
      "----------------------------------------\n",
      "Q1 :  66.0\n",
      "Q3 :  101.0\n",
      "IQR :  35.0\n",
      "lower limit :  13.5\n",
      "mean :  88.37\n",
      "upper limit :  153.5\n",
      "count of lower values :  22\n",
      "count of upper values :  406\n",
      " \n",
      "the smallest 10 values :\n",
      " 6034   1.000\n",
      "7019   1.000\n",
      "7014   1.000\n",
      "9285   1.000\n",
      "6005   1.000\n",
      "9287   1.000\n",
      "9288   1.000\n",
      "7018   1.000\n",
      "9289   1.000\n",
      "9290   1.000\n",
      "Name: hp_kW, dtype: float64\n",
      " \n",
      "the biggest 10 values :\n",
      " 3595   294.000\n",
      "3606   294.000\n",
      "3587   294.000\n",
      "3590   294.000\n",
      "3592   294.000\n",
      "3593   294.000\n",
      "3596   294.000\n",
      "3598   294.000\n",
      "3599   294.000\n",
      "3600   294.000\n",
      "Name: hp_kW, dtype: float64\n",
      "\n",
      "\n",
      "\n",
      "column name :  previous_owners\n",
      "----------------------------------------\n",
      "Q1 :  1.0\n",
      "Q3 :  1.0\n",
      "IQR :  0.0\n",
      "lower limit :  1.0\n",
      "mean :  0.95\n",
      "upper limit :  1.0\n",
      "count of lower values :  1659\n",
      "count of upper values :  797\n",
      " \n",
      "the smallest 10 values :\n",
      " 2295    0.000\n",
      "1697    0.000\n",
      "12697   0.000\n",
      "12696   0.000\n",
      "12694   0.000\n",
      "12693   0.000\n",
      "12692   0.000\n",
      "12691   0.000\n",
      "12690   0.000\n",
      "12689   0.000\n",
      "Name: previous_owners, dtype: float64\n",
      " \n",
      "the biggest 10 values :\n",
      " 15256   4.000\n",
      "972     4.000\n",
      "14994   3.000\n",
      "9478    3.000\n",
      "10770   3.000\n",
      "13560   3.000\n",
      "1290    3.000\n",
      "11443   3.000\n",
      "13568   3.000\n",
      "15007   3.000\n",
      "Name: previous_owners, dtype: float64\n",
      "\n",
      "\n",
      "\n",
      "column name :  warranty\n",
      "----------------------------------------\n",
      "Q1 :  0.0\n",
      "Q3 :  1.0\n",
      "IQR :  1.0\n",
      "lower limit :  -1.5\n",
      "mean :  0.3\n",
      "upper limit :  2.5\n",
      "count of lower values :  0\n",
      "count of upper values :  0\n",
      " \n",
      "the smallest 10 values :\n",
      " 0      0.000\n",
      "9659   0.000\n",
      "9660   0.000\n",
      "9661   0.000\n",
      "9662   0.000\n",
      "9663   0.000\n",
      "9664   0.000\n",
      "9665   0.000\n",
      "9666   0.000\n",
      "9667   0.000\n",
      "Name: warranty, dtype: float64\n",
      " \n",
      "the biggest 10 values :\n",
      " 7959    1.000\n",
      "12349   1.000\n",
      "5174    1.000\n",
      "5173    1.000\n",
      "5171    1.000\n",
      "5169    1.000\n",
      "12343   1.000\n",
      "5166    1.000\n",
      "12346   1.000\n",
      "5161    1.000\n",
      "Name: warranty, dtype: float64\n",
      "\n",
      "\n",
      "\n",
      "column name :  nr_of_doors\n",
      "----------------------------------------\n",
      "Q1 :  4.0\n",
      "Q3 :  5.0\n",
      "IQR :  1.0\n",
      "lower limit :  2.5\n",
      "mean :  4.66\n",
      "upper limit :  6.5\n",
      "count of lower values :  220\n",
      "count of upper values :  1\n",
      " \n",
      "the smallest 10 values :\n",
      " 13782   1.000\n",
      "1811    2.000\n",
      "1228    2.000\n",
      "1229    2.000\n",
      "1230    2.000\n",
      "1231    2.000\n",
      "303     2.000\n",
      "1233    2.000\n",
      "1234    2.000\n",
      "1235    2.000\n",
      "Name: nr_of_doors, dtype: float64\n",
      " \n",
      "the biggest 10 values :\n",
      " 15202   7.000\n",
      "0       5.000\n",
      "10023   5.000\n",
      "10012   5.000\n",
      "10013   5.000\n",
      "10014   5.000\n",
      "10015   5.000\n",
      "10016   5.000\n",
      "10017   5.000\n",
      "10018   5.000\n",
      "Name: nr_of_doors, dtype: float64\n",
      "\n",
      "\n",
      "\n",
      "column name :  nr_of_seats\n",
      "----------------------------------------\n",
      "Q1 :  5.0\n",
      "Q3 :  5.0\n",
      "IQR :  0.0\n",
      "lower limit :  5.0\n",
      "mean :  4.95\n",
      "upper limit :  5.0\n",
      "count of lower values :  1247\n",
      "count of upper values :  364\n",
      " \n",
      "the smallest 10 values :\n",
      " 13608   2.000\n",
      "13383   2.000\n",
      "14152   2.000\n",
      "13571   2.000\n",
      "13919   2.000\n",
      "13629   2.000\n",
      "13918   2.000\n",
      "13628   2.000\n",
      "13627   2.000\n",
      "13625   2.000\n",
      "Name: nr_of_seats, dtype: float64\n",
      " \n",
      "the biggest 10 values :\n",
      " 15125   7.000\n",
      "15274   7.000\n",
      "15010   7.000\n",
      "15011   7.000\n",
      "15012   7.000\n",
      "15656   7.000\n",
      "15657   7.000\n",
      "15013   7.000\n",
      "15014   7.000\n",
      "15660   7.000\n",
      "Name: nr_of_seats, dtype: float64\n",
      "\n",
      "\n",
      "\n",
      "column name :  engine_displacement_cc\n",
      "----------------------------------------\n",
      "Q1 :  1229.0\n",
      "Q3 :  1598.0\n",
      "IQR :  369.0\n",
      "lower limit :  675.5\n",
      "mean :  1424.82\n",
      "upper limit :  2151.5\n",
      "count of lower values :  51\n",
      "count of upper values :  23\n",
      " \n",
      "the smallest 10 values :\n",
      " 14315   1.000\n",
      "12473   1.000\n",
      "12484   1.000\n",
      "14328   1.000\n",
      "14327   1.000\n",
      "14326   1.000\n",
      "13904   1.000\n",
      "14325   1.000\n",
      "14324   1.000\n",
      "14322   1.000\n",
      "Name: engine_displacement_cc, dtype: float64\n",
      " \n",
      "the biggest 10 values :\n",
      " 10932   16000.000\n",
      "7169    15898.000\n",
      "10771    2967.000\n",
      "3609     2480.000\n",
      "3604     2480.000\n",
      "3602     2480.000\n",
      "3601     2480.000\n",
      "3600     2480.000\n",
      "3599     2480.000\n",
      "3598     2480.000\n",
      "Name: engine_displacement_cc, dtype: float64\n",
      "\n",
      "\n",
      "\n",
      "column name :  cylinders\n",
      "----------------------------------------\n",
      "Q1 :  4.0\n",
      "Q3 :  4.0\n",
      "IQR :  0.0\n",
      "lower limit :  4.0\n",
      "mean :  3.79\n",
      "upper limit :  4.0\n",
      "count of lower values :  3328\n",
      "count of upper values :  32\n",
      " \n",
      "the smallest 10 values :\n",
      " 9956    1.000\n",
      "15835   2.000\n",
      "11342   2.000\n",
      "0       3.000\n",
      "2544    3.000\n",
      "2545    3.000\n",
      "2546    3.000\n",
      "2547    3.000\n",
      "2548    3.000\n",
      "2549    3.000\n",
      "Name: cylinders, dtype: float64\n",
      " \n",
      "the biggest 10 values :\n",
      " 15151   8.000\n",
      "15197   8.000\n",
      "15186   8.000\n",
      "14989   8.000\n",
      "535     8.000\n",
      "15165   8.000\n",
      "15055   8.000\n",
      "10771   6.000\n",
      "10826   6.000\n",
      "12897   6.000\n",
      "Name: cylinders, dtype: float64\n",
      "\n",
      "\n",
      "\n",
      "column name :  weight_kg\n",
      "----------------------------------------\n",
      "Q1 :  1180.0\n",
      "Q3 :  1472.0\n",
      "IQR :  292.0\n",
      "lower limit :  742.0\n",
      "mean :  1345.4\n",
      "upper limit :  1910.0\n",
      "count of lower values :  3\n",
      "count of upper values :  89\n",
      " \n",
      "the smallest 10 values :\n",
      " 12779     1.000\n",
      "8355      1.000\n",
      "1143    102.000\n",
      "8857    840.000\n",
      "14313   900.000\n",
      "13555   977.000\n",
      "13513   977.000\n",
      "13937   980.000\n",
      "14105   980.000\n",
      "13996   980.000\n",
      "Name: weight_kg, dtype: float64\n",
      " \n",
      "the biggest 10 values :\n",
      " 15678   2471.000\n",
      "15185   2471.000\n",
      "15231   2471.000\n",
      "14975   2471.000\n",
      "15280   2471.000\n",
      "10646   2450.000\n",
      "10638   2450.000\n",
      "15133   2410.000\n",
      "15136   2410.000\n",
      "15143   2410.000\n",
      "Name: weight_kg, dtype: float64\n",
      "\n",
      "\n",
      "\n",
      "column name :  co2e_g\n",
      "----------------------------------------\n",
      "Q1 :  104.0\n",
      "Q3 :  129.0\n",
      "IQR :  25.0\n",
      "lower limit :  66.5\n",
      "mean :  122.58\n",
      "upper limit :  166.5\n",
      "count of lower values :  7\n",
      "count of upper values :  238\n",
      " \n",
      "the smallest 10 values :\n",
      " 8110    14.000\n",
      "3617    36.000\n",
      "3615    36.000\n",
      "3612    36.000\n",
      "3356    36.000\n",
      "12547   45.000\n",
      "9798    51.000\n",
      "7857    80.000\n",
      "13668   82.000\n",
      "8912    82.000\n",
      "Name: co2e_g, dtype: float64\n",
      " \n",
      "the biggest 10 values :\n",
      " 11888   14457.000\n",
      "12343   13983.000\n",
      "8542    12324.000\n",
      "6579    12087.000\n",
      "5818    12087.000\n",
      "6578    12087.000\n",
      "4089     1060.000\n",
      "4556      990.000\n",
      "535       331.000\n",
      "10513     253.000\n",
      "Name: co2e_g, dtype: float64\n",
      "\n",
      "\n",
      "\n",
      "column name :  gears\n",
      "----------------------------------------\n",
      "Q1 :  5.0\n",
      "Q3 :  6.0\n",
      "IQR :  1.0\n",
      "lower limit :  3.5\n",
      "mean :  5.94\n",
      "upper limit :  7.5\n",
      "count of lower values :  6\n",
      "count of upper values :  300\n",
      " \n",
      "the smallest 10 values :\n",
      " 14375   1.000\n",
      "8921    1.000\n",
      "9812    2.000\n",
      "15817   3.000\n",
      "15845   3.000\n",
      "15846   3.000\n",
      "15823   4.000\n",
      "15822   4.000\n",
      "10287   5.000\n",
      "10288   5.000\n",
      "Name: gears, dtype: float64\n",
      " \n",
      "the biggest 10 values :\n",
      " 14495   50.000\n",
      "15830    9.000\n",
      "15827    9.000\n",
      "15876    9.000\n",
      "15814    9.000\n",
      "15813    9.000\n",
      "15812    9.000\n",
      "15869    9.000\n",
      "15824    9.000\n",
      "15829    9.000\n",
      "Name: gears, dtype: float64\n",
      "\n",
      "\n",
      "\n",
      "column name :  consumption_comb\n",
      "----------------------------------------\n",
      "Q1 :  4.1\n",
      "Q3 :  5.4\n",
      "IQR :  1.3000000000000007\n",
      "lower limit :  2.1499999999999986\n",
      "mean :  4.83\n",
      "upper limit :  7.350000000000001\n",
      "count of lower values :  4\n",
      "count of upper values :  125\n",
      " \n",
      "the smallest 10 values :\n",
      " 13678   1.200\n",
      "3615    1.600\n",
      "3617    1.600\n",
      "3612    1.600\n",
      "13680   3.100\n",
      "13679   3.100\n",
      "8904    3.100\n",
      "8566    3.100\n",
      "8911    3.100\n",
      "8912    3.100\n",
      "Name: consumption_comb, dtype: float64\n",
      " \n",
      "the biggest 10 values :\n",
      " 535     13.800\n",
      "10513    9.714\n",
      "10771    9.100\n",
      "10817    8.700\n",
      "10819    8.700\n",
      "12529    8.700\n",
      "12054    8.700\n",
      "12553    8.600\n",
      "12530    8.600\n",
      "12422    8.600\n",
      "Name: consumption_comb, dtype: float64\n",
      "\n",
      "\n",
      "\n",
      "column name :  consumption_city\n",
      "----------------------------------------\n",
      "Q1 :  4.7\n",
      "Q3 :  6.905263157894736\n",
      "IQR :  2.205263157894736\n",
      "lower limit :  1.3921052631578963\n",
      "mean :  5.89\n",
      "upper limit :  10.21315789473684\n",
      "count of lower values :  2\n",
      "count of upper values :  34\n",
      " \n",
      "the smallest 10 values :\n",
      " 11553   0.321\n",
      "9756    0.711\n",
      "13008   1.589\n",
      "10759   1.663\n",
      "10758   1.663\n",
      "10755   1.663\n",
      "10860   1.674\n",
      "10870   1.674\n",
      "10866   1.674\n",
      "10764   1.674\n",
      "Name: consumption_city, dtype: float64\n",
      " \n",
      "the biggest 10 values :\n",
      " 535     19.900\n",
      "10513   16.100\n",
      "12553   11.500\n",
      "10515   11.500\n",
      "12054   11.500\n",
      "12529   11.500\n",
      "3599    11.300\n",
      "3600    11.300\n",
      "3601    11.300\n",
      "3604    11.300\n",
      "Name: consumption_city, dtype: float64\n",
      "\n",
      "\n",
      "\n",
      "column name :  consumption_cuntry\n",
      "----------------------------------------\n",
      "Q1 :  3.7\n",
      "Q3 :  4.6\n",
      "IQR :  0.8999999999999995\n",
      "lower limit :  2.350000000000001\n",
      "mean :  4.2\n",
      "upper limit :  5.949999999999999\n",
      "count of lower values :  0\n",
      "count of upper values :  166\n",
      " \n",
      "the smallest 10 values :\n",
      " 3290   2.832\n",
      "3268   2.832\n",
      "8946   2.894\n",
      "8856   2.894\n",
      "8855   2.894\n",
      "8878   2.894\n",
      "8854   2.894\n",
      "8944   2.894\n",
      "8982   2.894\n",
      "8947   2.894\n",
      "Name: consumption_cuntry, dtype: float64\n",
      " \n",
      "the biggest 10 values :\n",
      " 535     10.300\n",
      "10817   10.110\n",
      "10819   10.110\n",
      "10755    8.600\n",
      "10758    8.600\n",
      "10759    8.600\n",
      "10866    7.800\n",
      "10870    7.800\n",
      "10860    7.800\n",
      "10771    7.800\n",
      "Name: consumption_cuntry, dtype: float64\n",
      "\n",
      "\n",
      "\n",
      "column name :  age\n",
      "----------------------------------------\n",
      "Q1 :  0.0\n",
      "Q3 :  2.0\n",
      "IQR :  2.0\n",
      "lower limit :  -3.0\n",
      "mean :  1.39\n",
      "upper limit :  5.0\n",
      "count of lower values :  0\n",
      "count of upper values :  0\n",
      " \n",
      "the smallest 10 values :\n",
      " 7959   0.000\n",
      "7936   0.000\n",
      "7935   0.000\n",
      "7934   0.000\n",
      "7933   0.000\n",
      "7932   0.000\n",
      "7931   0.000\n",
      "7930   0.000\n",
      "7929   0.000\n",
      "7928   0.000\n",
      "Name: age, dtype: float64\n",
      " \n",
      "the biggest 10 values :\n",
      " 0      3.000\n",
      "5938   3.000\n",
      "5955   3.000\n",
      "5954   3.000\n",
      "5953   3.000\n",
      "5952   3.000\n",
      "5950   3.000\n",
      "5949   3.000\n",
      "5947   3.000\n",
      "5940   3.000\n",
      "Name: age, dtype: float64\n",
      "\n",
      "\n",
      "\n"
     ]
    }
   ],
   "source": [
    "for i in df.select_dtypes(exclude=\"O\").columns:\n",
    "    detect_outlier(i)"
   ]
  },
  {
   "cell_type": "markdown",
   "metadata": {},
   "source": [
    "## 1 price_€"
   ]
  },
  {
   "cell_type": "code",
   "execution_count": 9,
   "metadata": {
    "ExecuteTime": {
     "end_time": "2022-08-03T09:01:56.860694Z",
     "start_time": "2022-08-03T09:01:56.834761Z"
    }
   },
   "outputs": [
    {
     "name": "stdout",
     "output_type": "stream",
     "text": [
      "column name :  price_€\n",
      "----------------------------------------\n",
      "Q1 :  12850.0\n",
      "Q3 :  21900.0\n",
      "IQR :  9050.0\n",
      "lower limit :  -725.0\n",
      "mean :  18019.9\n",
      "upper limit :  35475.0\n",
      "count of lower values :  0\n",
      "count of upper values :  479\n",
      " \n",
      "the smallest 10 values :\n",
      " 8594      13.000\n",
      "8828     120.000\n",
      "6066     255.000\n",
      "8829     331.000\n",
      "8827    4950.000\n",
      "8825    4990.000\n",
      "8826    5250.000\n",
      "8824    5300.000\n",
      "13770   5445.000\n",
      "8823    5450.000\n",
      "Name: price_€, dtype: float64\n",
      " \n",
      "the biggest 10 values :\n",
      " 3648    74600.000\n",
      "15826   68320.000\n",
      "3649    67600.000\n",
      "3587    64900.000\n",
      "15828   64332.000\n",
      "15831   64298.000\n",
      "3595    63900.000\n",
      "15833   63477.000\n",
      "3590    62900.000\n",
      "3594    58990.000\n",
      "Name: price_€, dtype: float64\n",
      "\n",
      "\n",
      "\n"
     ]
    }
   ],
   "source": [
    "detect_outlier(\"price_€\")"
   ]
  },
  {
   "cell_type": "code",
   "execution_count": 10,
   "metadata": {
    "ExecuteTime": {
     "end_time": "2022-08-03T09:01:56.876649Z",
     "start_time": "2022-08-03T09:01:56.862686Z"
    }
   },
   "outputs": [
    {
     "data": {
      "text/plain": [
       "8594    13.000\n",
       "8828   120.000\n",
       "6066   255.000\n",
       "8829   331.000\n",
       "Name: price_€, dtype: float64"
      ]
     },
     "execution_count": 10,
     "metadata": {},
     "output_type": "execute_result"
    }
   ],
   "source": [
    "df.iloc[[8594, 8828, 6066, 8829]][\"price_€\"]"
   ]
  },
  {
   "cell_type": "code",
   "execution_count": 11,
   "metadata": {
    "ExecuteTime": {
     "end_time": "2022-08-03T09:01:56.892607Z",
     "start_time": "2022-08-03T09:01:56.878644Z"
    }
   },
   "outputs": [],
   "source": [
    "# df[\"price_€\"] = df[\"price_€\"].apply(lambda x: np.nan if x < 400 else x)"
   ]
  },
  {
   "cell_type": "code",
   "execution_count": 12,
   "metadata": {
    "ExecuteTime": {
     "end_time": "2022-08-03T09:01:56.972391Z",
     "start_time": "2022-08-03T09:01:56.894602Z"
    }
   },
   "outputs": [],
   "source": [
    "df[\"price_€\"] = df.groupby([\"make\", \"model\", \"body_type\", \"age\"])[\"price_€\"].apply(lambda x : x.fillna(round(x.mean(), 0)))"
   ]
  },
  {
   "cell_type": "code",
   "execution_count": 13,
   "metadata": {
    "ExecuteTime": {
     "end_time": "2022-08-03T09:01:57.004307Z",
     "start_time": "2022-08-03T09:01:56.974391Z"
    }
   },
   "outputs": [
    {
     "name": "stdout",
     "output_type": "stream",
     "text": [
      "column name :  price_€\n",
      "----------------------------------------\n",
      "Q1 :  12850.0\n",
      "Q3 :  21900.0\n",
      "IQR :  9050.0\n",
      "lower limit :  -725.0\n",
      "mean :  18019.9\n",
      "upper limit :  35475.0\n",
      "count of lower values :  0\n",
      "count of upper values :  479\n",
      " \n",
      "the smallest 10 values :\n",
      " 8594      13.000\n",
      "8828     120.000\n",
      "6066     255.000\n",
      "8829     331.000\n",
      "8827    4950.000\n",
      "8825    4990.000\n",
      "8826    5250.000\n",
      "8824    5300.000\n",
      "13770   5445.000\n",
      "8823    5450.000\n",
      "Name: price_€, dtype: float64\n",
      " \n",
      "the biggest 10 values :\n",
      " 3648    74600.000\n",
      "15826   68320.000\n",
      "3649    67600.000\n",
      "3587    64900.000\n",
      "15828   64332.000\n",
      "15831   64298.000\n",
      "3595    63900.000\n",
      "15833   63477.000\n",
      "3590    62900.000\n",
      "3594    58990.000\n",
      "Name: price_€, dtype: float64\n",
      "\n",
      "\n",
      "\n"
     ]
    }
   ],
   "source": [
    "detect_outlier(\"price_€\")"
   ]
  },
  {
   "cell_type": "markdown",
   "metadata": {},
   "source": [
    "## 2 km"
   ]
  },
  {
   "cell_type": "code",
   "execution_count": 14,
   "metadata": {
    "ExecuteTime": {
     "end_time": "2022-08-03T09:01:57.035224Z",
     "start_time": "2022-08-03T09:01:57.006309Z"
    }
   },
   "outputs": [
    {
     "name": "stdout",
     "output_type": "stream",
     "text": [
      "column name :  km\n",
      "----------------------------------------\n",
      "Q1 :  2000.0\n",
      "Q3 :  46898.5\n",
      "IQR :  44898.5\n",
      "lower limit :  -65347.75\n",
      "mean :  31964.85\n",
      "upper limit :  114246.25\n",
      "count of lower values :  0\n",
      "count of upper values :  691\n",
      " \n",
      "the smallest 10 values :\n",
      " 14518   0.000\n",
      "9892    0.000\n",
      "2496    0.000\n",
      "9882    0.000\n",
      "15668   0.000\n",
      "5553    0.000\n",
      "12512   0.000\n",
      "5672    0.000\n",
      "9929    0.000\n",
      "7828    0.000\n",
      "Name: km, dtype: float64\n",
      " \n",
      "the biggest 10 values :\n",
      " 9279    317000.000\n",
      "3003    291800.000\n",
      "5712    260000.000\n",
      "6224    248000.000\n",
      "15277   240000.000\n",
      "10804   232000.000\n",
      "6380    231879.000\n",
      "6062    230928.000\n",
      "6399    229500.000\n",
      "10495   222346.000\n",
      "Name: km, dtype: float64\n",
      "\n",
      "\n",
      "\n"
     ]
    }
   ],
   "source": [
    "detect_outlier(\"km\")"
   ]
  },
  {
   "cell_type": "code",
   "execution_count": 15,
   "metadata": {
    "ExecuteTime": {
     "end_time": "2022-08-03T09:01:57.050185Z",
     "start_time": "2022-08-03T09:01:57.038219Z"
    }
   },
   "outputs": [
    {
     "data": {
      "text/plain": [
       "age\n",
       "0.000    1328.472\n",
       "1.000   17922.140\n",
       "2.000   41525.294\n",
       "3.000   77442.521\n",
       "Name: km, dtype: float64"
      ]
     },
     "execution_count": 15,
     "metadata": {},
     "output_type": "execute_result"
    }
   ],
   "source": [
    "df.groupby(\"age\")[\"km\"].mean()"
   ]
  },
  {
   "cell_type": "code",
   "execution_count": 16,
   "metadata": {
    "ExecuteTime": {
     "end_time": "2022-08-03T09:01:57.081102Z",
     "start_time": "2022-08-03T09:01:57.052180Z"
    }
   },
   "outputs": [
    {
     "data": {
      "text/plain": [
       "age\n",
       "0.000    0.000\n",
       "1.000    1.000\n",
       "2.000    1.000\n",
       "3.000   10.000\n",
       "Name: km, dtype: float64"
      ]
     },
     "execution_count": 16,
     "metadata": {},
     "output_type": "execute_result"
    }
   ],
   "source": [
    "df.groupby(\"age\")[\"km\"].min()"
   ]
  },
  {
   "cell_type": "code",
   "execution_count": 17,
   "metadata": {
    "ExecuteTime": {
     "end_time": "2022-08-03T09:01:57.112021Z",
     "start_time": "2022-08-03T09:01:57.085098Z"
    }
   },
   "outputs": [
    {
     "data": {
      "text/plain": [
       "age\n",
       "0.000   127022.000\n",
       "1.000   136000.000\n",
       "2.000   317000.000\n",
       "3.000   291800.000\n",
       "Name: km, dtype: float64"
      ]
     },
     "execution_count": 17,
     "metadata": {},
     "output_type": "execute_result"
    }
   ],
   "source": [
    "df.groupby(\"age\")[\"km\"].max()"
   ]
  },
  {
   "cell_type": "code",
   "execution_count": 18,
   "metadata": {
    "ExecuteTime": {
     "end_time": "2022-08-03T09:01:57.377313Z",
     "start_time": "2022-08-03T09:01:57.114015Z"
    }
   },
   "outputs": [
    {
     "data": {
      "text/plain": [
       "<AxesSubplot:xlabel='km'>"
      ]
     },
     "execution_count": 18,
     "metadata": {},
     "output_type": "execute_result"
    },
    {
     "data": {
      "image/png": "[encoded data removed]",
      "text/plain": [
       "<Figure size 720x432 with 1 Axes>"
      ]
     },
     "metadata": {},
     "output_type": "display_data"
    }
   ],
   "source": [
    "sns.boxplot(x=df[df[\"age\"] == 1][\"km\"])"
   ]
  },
  {
   "cell_type": "code",
   "execution_count": null,
   "metadata": {},
   "outputs": [],
   "source": []
  },
  {
   "cell_type": "code",
   "execution_count": null,
   "metadata": {},
   "outputs": [],
   "source": []
  },
  {
   "cell_type": "code",
   "execution_count": null,
   "metadata": {},
   "outputs": [],
   "source": []
  },
  {
   "cell_type": "markdown",
   "metadata": {},
   "source": [
    "## 3. hp_kw"
   ]
  },
  {
   "cell_type": "code",
   "execution_count": 19,
   "metadata": {
    "ExecuteTime": {
     "end_time": "2022-08-03T09:01:57.409226Z",
     "start_time": "2022-08-03T09:01:57.381301Z"
    }
   },
   "outputs": [
    {
     "name": "stdout",
     "output_type": "stream",
     "text": [
      "column name :  hp_kW\n",
      "----------------------------------------\n",
      "Q1 :  66.0\n",
      "Q3 :  101.0\n",
      "IQR :  35.0\n",
      "lower limit :  13.5\n",
      "mean :  88.37\n",
      "upper limit :  153.5\n",
      "count of lower values :  22\n",
      "count of upper values :  406\n",
      " \n",
      "the smallest 10 values :\n",
      " 6034   1.000\n",
      "7019   1.000\n",
      "7014   1.000\n",
      "9285   1.000\n",
      "6005   1.000\n",
      "9287   1.000\n",
      "9288   1.000\n",
      "7018   1.000\n",
      "9289   1.000\n",
      "9290   1.000\n",
      "Name: hp_kW, dtype: float64\n",
      " \n",
      "the biggest 10 values :\n",
      " 3595   294.000\n",
      "3606   294.000\n",
      "3587   294.000\n",
      "3590   294.000\n",
      "3592   294.000\n",
      "3593   294.000\n",
      "3596   294.000\n",
      "3598   294.000\n",
      "3599   294.000\n",
      "3600   294.000\n",
      "Name: hp_kW, dtype: float64\n",
      "\n",
      "\n",
      "\n"
     ]
    }
   ],
   "source": [
    "detect_outlier(\"hp_kW\")"
   ]
  },
  {
   "cell_type": "code",
   "execution_count": 20,
   "metadata": {
    "ExecuteTime": {
     "end_time": "2022-08-03T09:01:57.441139Z",
     "start_time": "2022-08-03T09:01:57.411219Z"
    }
   },
   "outputs": [
    {
     "data": {
      "text/plain": [
       "make     model     drive_chain\n",
       "Audi     A1        4WD            85.000\n",
       "                   front          70.000\n",
       "         A2        front          85.000\n",
       "         A3        4WD           135.000\n",
       "                   front          85.000\n",
       "Opel     Astra     4WD           100.000\n",
       "                   front          92.000\n",
       "         Corsa     front          66.000\n",
       "         Insignia  4WD           154.000\n",
       "                   front         121.000\n",
       "                   rear          125.000\n",
       "Renault  Clio      4WD           162.000\n",
       "                   front          56.000\n",
       "                   rear           55.000\n",
       "         Duster    4WD            77.000\n",
       "         Espace    4WD           118.000\n",
       "                   front         118.000\n",
       "Name: hp_kW, dtype: float64"
      ]
     },
     "execution_count": 20,
     "metadata": {},
     "output_type": "execute_result"
    }
   ],
   "source": [
    "df.groupby([\"make\", \"model\", \"drive_chain\"])[\"hp_kW\"].median()"
   ]
  },
  {
   "cell_type": "code",
   "execution_count": 21,
   "metadata": {
    "ExecuteTime": {
     "end_time": "2022-08-03T09:01:57.457096Z",
     "start_time": "2022-08-03T09:01:57.443134Z"
    }
   },
   "outputs": [
    {
     "data": {
      "text/plain": [
       "make     model   \n",
       "Opel     Astra       7\n",
       "         Corsa       7\n",
       "         Insignia    4\n",
       "Renault  Espace      2\n",
       "Audi     A3          1\n",
       "Renault  Clio        1\n",
       "dtype: int64"
      ]
     },
     "execution_count": 21,
     "metadata": {},
     "output_type": "execute_result"
    }
   ],
   "source": [
    "df[df[\"hp_kW\"] < 33.0][[\"make\", \"model\"]].value_counts()"
   ]
  },
  {
   "cell_type": "code",
   "execution_count": 22,
   "metadata": {
    "ExecuteTime": {
     "end_time": "2022-08-03T09:01:57.489013Z",
     "start_time": "2022-08-03T09:01:57.460089Z"
    }
   },
   "outputs": [
    {
     "data": {
      "text/plain": [
       "3595    294.000\n",
       "3606    294.000\n",
       "3587    294.000\n",
       "3590    294.000\n",
       "3592    294.000\n",
       "3593    294.000\n",
       "3596    294.000\n",
       "3598    294.000\n",
       "3599    294.000\n",
       "3600    294.000\n",
       "3601    294.000\n",
       "3602    294.000\n",
       "3604    294.000\n",
       "3605    294.000\n",
       "3603    294.000\n",
       "3610    294.000\n",
       "3648    294.000\n",
       "3649    294.000\n",
       "3608    270.000\n",
       "3609    270.000\n",
       "10513   239.000\n",
       "3594    228.000\n",
       "3597    228.000\n",
       "11117   195.000\n",
       "12529   191.000\n",
       "12422   191.000\n",
       "12417   191.000\n",
       "12553   191.000\n",
       "12654   191.000\n",
       "12530   191.000\n",
       "10789   191.000\n",
       "11432   184.000\n",
       "10507   184.000\n",
       "10571   184.000\n",
       "10515   184.000\n",
       "10548   184.000\n",
       "15718   168.000\n",
       "15903   168.000\n",
       "15688   168.000\n",
       "15767   167.000\n",
       "15908   167.000\n",
       "15747   165.000\n",
       "15763   165.000\n",
       "15755   165.000\n",
       "15753   165.000\n",
       "15444   165.000\n",
       "15734   165.000\n",
       "15434   165.000\n",
       "15749   165.000\n",
       "15745   165.000\n",
       "Name: hp_kW, dtype: float64"
      ]
     },
     "execution_count": 22,
     "metadata": {},
     "output_type": "execute_result"
    }
   ],
   "source": [
    "df[\"hp_kW\"].sort_values(ascending=False).head(50)"
   ]
  },
  {
   "cell_type": "code",
   "execution_count": 23,
   "metadata": {
    "ExecuteTime": {
     "end_time": "2022-08-03T09:01:57.519928Z",
     "start_time": "2022-08-03T09:01:57.492003Z"
    }
   },
   "outputs": [
    {
     "data": {
      "text/plain": [
       "make  model   \n",
       "Audi  A3          22\n",
       "Opel  Insignia     1\n",
       "dtype: int64"
      ]
     },
     "execution_count": 23,
     "metadata": {},
     "output_type": "execute_result"
    }
   ],
   "source": [
    "df[df[\"hp_kW\"] > 195][[\"make\", \"model\"]].value_counts()"
   ]
  },
  {
   "cell_type": "code",
   "execution_count": null,
   "metadata": {},
   "outputs": [],
   "source": []
  },
  {
   "cell_type": "code",
   "execution_count": 24,
   "metadata": {
    "ExecuteTime": {
     "end_time": "2022-08-03T09:01:57.534909Z",
     "start_time": "2022-08-03T09:01:57.521924Z"
    }
   },
   "outputs": [],
   "source": [
    "def detect_values(col, col2):\n",
    "    my_list = df[col].unique()\n",
    "    for i in my_list:\n",
    "        a = df[df[col] == i][col2].max()\n",
    "        b = df[df[col] == i][col2].min()\n",
    "        c = df[df[col] == i][col2].mean()\n",
    "        print(f\"{i} max : {a}   min : {b}   mean : {c}\")\n"
   ]
  },
  {
   "cell_type": "code",
   "execution_count": 25,
   "metadata": {
    "ExecuteTime": {
     "end_time": "2022-08-03T09:01:57.566803Z",
     "start_time": "2022-08-03T09:01:57.538880Z"
    }
   },
   "outputs": [],
   "source": [
    "my_list = df[\"make\"].unique()"
   ]
  },
  {
   "cell_type": "code",
   "execution_count": 26,
   "metadata": {
    "ExecuteTime": {
     "end_time": "2022-08-03T09:01:57.614676Z",
     "start_time": "2022-08-03T09:01:57.568796Z"
    }
   },
   "outputs": [
    {
     "name": "stdout",
     "output_type": "stream",
     "text": [
      "Audi max : 294.0   min : 9.0   mean : 83.99929971988796\n",
      "Opel max : 239.0   min : 1.0   mean : 90.53247991284216\n",
      "Renault max : 168.0   min : 1.0   mean : 91.55586592178771\n"
     ]
    }
   ],
   "source": [
    "for i in my_list:\n",
    "    a = df[df[\"make\"] == i][\"hp_kW\"].max()\n",
    "    b = df[df[\"make\"] == i][\"hp_kW\"].min()\n",
    "    c = df[df[\"make\"] == i][\"hp_kW\"].mean()\n",
    "    print(f\"{i} max : {a}   min : {b}   mean : {c}\")\n",
    "    "
   ]
  },
  {
   "cell_type": "code",
   "execution_count": 27,
   "metadata": {
    "ExecuteTime": {
     "end_time": "2022-08-03T09:01:57.678505Z",
     "start_time": "2022-08-03T09:01:57.626648Z"
    }
   },
   "outputs": [
    {
     "name": "stdout",
     "output_type": "stream",
     "text": [
      "Audi max : 294.0   min : 9.0   mean : 83.99929971988796\n",
      "Opel max : 239.0   min : 1.0   mean : 90.53247991284216\n",
      "Renault max : 168.0   min : 1.0   mean : 91.55586592178771\n"
     ]
    }
   ],
   "source": [
    "detect_values(\"make\", col2=\"hp_kW\")"
   ]
  },
  {
   "cell_type": "code",
   "execution_count": 28,
   "metadata": {
    "ExecuteTime": {
     "end_time": "2022-08-03T09:01:57.693465Z",
     "start_time": "2022-08-03T09:01:57.680499Z"
    }
   },
   "outputs": [
    {
     "data": {
      "text/plain": [
       "3913    9.000\n",
       "6005    1.000\n",
       "6034    1.000\n",
       "6946    1.000\n",
       "7014    1.000\n",
       "7016    1.000\n",
       "7018    1.000\n",
       "7019    1.000\n",
       "9285    1.000\n",
       "9287    1.000\n",
       "9288    1.000\n",
       "9289    1.000\n",
       "9290    1.000\n",
       "9292    1.000\n",
       "9299    1.000\n",
       "10468   1.000\n",
       "10579   1.000\n",
       "10580   1.000\n",
       "10610   1.000\n",
       "13885   4.000\n",
       "15155   1.000\n",
       "15156   1.000\n",
       "Name: hp_kW, dtype: float64"
      ]
     },
     "execution_count": 28,
     "metadata": {},
     "output_type": "execute_result"
    }
   ],
   "source": [
    "df[df[\"hp_kW\"] < 33.0][\"hp_kW\"]"
   ]
  },
  {
   "cell_type": "code",
   "execution_count": 29,
   "metadata": {
    "ExecuteTime": {
     "end_time": "2022-08-03T09:01:57.739861Z",
     "start_time": "2022-08-03T09:01:57.697982Z"
    }
   },
   "outputs": [
    {
     "data": {
      "text/plain": [
       "22"
      ]
     },
     "execution_count": 29,
     "metadata": {},
     "output_type": "execute_result"
    }
   ],
   "source": [
    "df[\"hp_kW\"].apply(lambda x: np.nan if x < 33 else x).isnull().sum()"
   ]
  },
  {
   "cell_type": "code",
   "execution_count": 30,
   "metadata": {
    "ExecuteTime": {
     "end_time": "2022-08-03T09:01:57.754820Z",
     "start_time": "2022-08-03T09:01:57.741855Z"
    }
   },
   "outputs": [],
   "source": [
    "df[\"hp_kW\"] = df[\"hp_kW\"].apply(lambda x: np.nan if x < 33 else x)"
   ]
  },
  {
   "cell_type": "code",
   "execution_count": 31,
   "metadata": {
    "ExecuteTime": {
     "end_time": "2022-08-03T09:01:57.786735Z",
     "start_time": "2022-08-03T09:01:57.756814Z"
    }
   },
   "outputs": [
    {
     "data": {
      "text/plain": [
       "22"
      ]
     },
     "execution_count": 31,
     "metadata": {},
     "output_type": "execute_result"
    }
   ],
   "source": [
    "df[\"hp_kW\"].isnull().sum()"
   ]
  },
  {
   "cell_type": "code",
   "execution_count": 32,
   "metadata": {
    "ExecuteTime": {
     "end_time": "2022-08-03T09:01:57.881482Z",
     "start_time": "2022-08-03T09:01:57.789725Z"
    }
   },
   "outputs": [
    {
     "data": {
      "text/plain": [
       "0"
      ]
     },
     "execution_count": 32,
     "metadata": {},
     "output_type": "execute_result"
    }
   ],
   "source": [
    "df.groupby([\"make\", \"model\", \"drive_chain\", \"engine_displacement_cc\"])[\"hp_kW\"].apply(lambda x: x.fillna(x.median() if  x.median() > 1 else df[\"hp_kW\"].median())).isnull().sum()"
   ]
  },
  {
   "cell_type": "code",
   "execution_count": 33,
   "metadata": {
    "ExecuteTime": {
     "end_time": "2022-08-03T09:01:57.974234Z",
     "start_time": "2022-08-03T09:01:57.884474Z"
    }
   },
   "outputs": [],
   "source": [
    "df[\"hp_kW\"] = df.groupby([\"make\", \"model\", \"drive_chain\", \"engine_displacement_cc\"])[\"hp_kW\"].apply(lambda x: x.fillna(x.median() if  x.median() > 1 else df[\"hp_kW\"].median()))"
   ]
  },
  {
   "cell_type": "code",
   "execution_count": 34,
   "metadata": {
    "ExecuteTime": {
     "end_time": "2022-08-03T09:01:57.990190Z",
     "start_time": "2022-08-03T09:01:57.976227Z"
    }
   },
   "outputs": [
    {
     "data": {
      "text/plain": [
       "13759   40.000\n",
       "8857    40.000\n",
       "8408    44.000\n",
       "10286   51.000\n",
       "9160    51.000\n",
       "9376    51.000\n",
       "9159    51.000\n",
       "10287   51.000\n",
       "10288   51.000\n",
       "10289   51.000\n",
       "10290   51.000\n",
       "10291   51.000\n",
       "10292   51.000\n",
       "10294   51.000\n",
       "10295   51.000\n",
       "10296   51.000\n",
       "10297   51.000\n",
       "10298   51.000\n",
       "9621    51.000\n",
       "9158    51.000\n",
       "10300   51.000\n",
       "10301   51.000\n",
       "10302   51.000\n",
       "10303   51.000\n",
       "10285   51.000\n",
       "10304   51.000\n",
       "10284   51.000\n",
       "10282   51.000\n",
       "10259   51.000\n",
       "10263   51.000\n",
       "9166    51.000\n",
       "9165    51.000\n",
       "10264   51.000\n",
       "10266   51.000\n",
       "9164    51.000\n",
       "10268   51.000\n",
       "10269   51.000\n",
       "10270   51.000\n",
       "10271   51.000\n",
       "10272   51.000\n",
       "10273   51.000\n",
       "10274   51.000\n",
       "9371    51.000\n",
       "10275   51.000\n",
       "10276   51.000\n",
       "10277   51.000\n",
       "10278   51.000\n",
       "10279   51.000\n",
       "10280   51.000\n",
       "10281   51.000\n",
       "Name: hp_kW, dtype: float64"
      ]
     },
     "execution_count": 34,
     "metadata": {},
     "output_type": "execute_result"
    }
   ],
   "source": [
    "df[\"hp_kW\"].sort_values(ascending=True).head(50)"
   ]
  },
  {
   "cell_type": "markdown",
   "metadata": {},
   "source": [
    "## 4. previous_owners"
   ]
  },
  {
   "cell_type": "code",
   "execution_count": 35,
   "metadata": {
    "ExecuteTime": {
     "end_time": "2022-08-03T09:01:58.022103Z",
     "start_time": "2022-08-03T09:01:57.992184Z"
    }
   },
   "outputs": [
    {
     "name": "stdout",
     "output_type": "stream",
     "text": [
      "column name :  previous_owners\n",
      "----------------------------------------\n",
      "Q1 :  1.0\n",
      "Q3 :  1.0\n",
      "IQR :  0.0\n",
      "lower limit :  1.0\n",
      "mean :  0.95\n",
      "upper limit :  1.0\n",
      "count of lower values :  1659\n",
      "count of upper values :  797\n",
      " \n",
      "the smallest 10 values :\n",
      " 2295    0.000\n",
      "1697    0.000\n",
      "12697   0.000\n",
      "12696   0.000\n",
      "12694   0.000\n",
      "12693   0.000\n",
      "12692   0.000\n",
      "12691   0.000\n",
      "12690   0.000\n",
      "12689   0.000\n",
      "Name: previous_owners, dtype: float64\n",
      " \n",
      "the biggest 10 values :\n",
      " 15256   4.000\n",
      "972     4.000\n",
      "14994   3.000\n",
      "9478    3.000\n",
      "10770   3.000\n",
      "13560   3.000\n",
      "1290    3.000\n",
      "11443   3.000\n",
      "13568   3.000\n",
      "15007   3.000\n",
      "Name: previous_owners, dtype: float64\n",
      "\n",
      "\n",
      "\n"
     ]
    }
   ],
   "source": [
    "detect_outlier(\"previous_owners\")"
   ]
  },
  {
   "cell_type": "code",
   "execution_count": 36,
   "metadata": {
    "ExecuteTime": {
     "end_time": "2022-08-03T09:01:58.084937Z",
     "start_time": "2022-08-03T09:01:58.024098Z"
    }
   },
   "outputs": [
    {
     "name": "stdout",
     "output_type": "stream",
     "text": [
      "3.0 max : 4.0   min : 0.0   mean : 1.1115949918345127\n",
      "2.0 max : 4.0   min : 0.0   mean : 1.0928053204353083\n",
      "1.0 max : 2.0   min : 0.0   mean : 1.014364640883978\n",
      "0.0 max : 2.0   min : 0.0   mean : 0.6321396192203083\n"
     ]
    }
   ],
   "source": [
    "detect_values(\"age\", \"previous_owners\")"
   ]
  },
  {
   "cell_type": "code",
   "execution_count": 37,
   "metadata": {
    "ExecuteTime": {
     "end_time": "2022-08-03T09:01:58.115854Z",
     "start_time": "2022-08-03T09:01:58.088926Z"
    }
   },
   "outputs": [
    {
     "data": {
      "text/plain": [
       "2295    0.000\n",
       "1697    0.000\n",
       "12697   0.000\n",
       "12696   0.000\n",
       "12694   0.000\n",
       "12693   0.000\n",
       "12692   0.000\n",
       "12691   0.000\n",
       "12690   0.000\n",
       "12689   0.000\n",
       "5577    0.000\n",
       "12687   0.000\n",
       "12686   0.000\n",
       "5576    0.000\n",
       "12684   0.000\n",
       "1698    0.000\n",
       "5575    0.000\n",
       "12682   0.000\n",
       "12681   0.000\n",
       "12680   0.000\n",
       "12678   0.000\n",
       "12677   0.000\n",
       "5573    0.000\n",
       "12675   0.000\n",
       "12674   0.000\n",
       "12673   0.000\n",
       "12672   0.000\n",
       "5572    0.000\n",
       "5571    0.000\n",
       "5567    0.000\n",
       "5566    0.000\n",
       "1680    0.000\n",
       "5580    0.000\n",
       "12700   0.000\n",
       "12701   0.000\n",
       "12731   0.000\n",
       "12730   0.000\n",
       "12729   0.000\n",
       "14146   0.000\n",
       "12728   0.000\n",
       "14148   0.000\n",
       "12727   0.000\n",
       "5586    0.000\n",
       "5584    0.000\n",
       "5583    0.000\n",
       "12722   0.000\n",
       "12721   0.000\n",
       "12720   0.000\n",
       "5582    0.000\n",
       "14158   0.000\n",
       "Name: previous_owners, dtype: float64"
      ]
     },
     "execution_count": 37,
     "metadata": {},
     "output_type": "execute_result"
    }
   ],
   "source": [
    "df[\"previous_owners\"].sort_values(ascending=True).head(50)"
   ]
  },
  {
   "cell_type": "code",
   "execution_count": 38,
   "metadata": {
    "ExecuteTime": {
     "end_time": "2022-08-03T09:01:58.131814Z",
     "start_time": "2022-08-03T09:01:58.118845Z"
    }
   },
   "outputs": [
    {
     "data": {
      "text/plain": [
       "1.000    13463\n",
       "0.000     1659\n",
       "2.000      778\n",
       "3.000       17\n",
       "4.000        2\n",
       "Name: previous_owners, dtype: int64"
      ]
     },
     "execution_count": 38,
     "metadata": {},
     "output_type": "execute_result"
    }
   ],
   "source": [
    "df[\"previous_owners\"].value_counts(dropna=False)"
   ]
  },
  {
   "cell_type": "markdown",
   "metadata": {},
   "source": [
    "## 5 nr_of_doors"
   ]
  },
  {
   "cell_type": "code",
   "execution_count": 39,
   "metadata": {
    "ExecuteTime": {
     "end_time": "2022-08-03T09:01:58.163725Z",
     "start_time": "2022-08-03T09:01:58.133805Z"
    }
   },
   "outputs": [
    {
     "data": {
      "text/plain": [
       "5.000    11787\n",
       "4.000     3079\n",
       "3.000      832\n",
       "2.000      219\n",
       "1.000        1\n",
       "7.000        1\n",
       "Name: nr_of_doors, dtype: int64"
      ]
     },
     "execution_count": 39,
     "metadata": {},
     "output_type": "execute_result"
    }
   ],
   "source": [
    "df[\"nr_of_doors\"].value_counts(dropna=False)"
   ]
  },
  {
   "cell_type": "code",
   "execution_count": 40,
   "metadata": {
    "ExecuteTime": {
     "end_time": "2022-08-03T09:01:58.195640Z",
     "start_time": "2022-08-03T09:01:58.167715Z"
    }
   },
   "outputs": [
    {
     "data": {
      "text/plain": [
       "15202   7.000\n",
       "0       5.000\n",
       "10023   5.000\n",
       "10012   5.000\n",
       "10013   5.000\n",
       "         ... \n",
       "688     2.000\n",
       "691     2.000\n",
       "699     2.000\n",
       "9809    2.000\n",
       "13782   1.000\n",
       "Name: nr_of_doors, Length: 15919, dtype: float64"
      ]
     },
     "execution_count": 40,
     "metadata": {},
     "output_type": "execute_result"
    }
   ],
   "source": [
    "df[\"nr_of_doors\"].sort_values(ascending=False)"
   ]
  },
  {
   "cell_type": "code",
   "execution_count": 41,
   "metadata": {
    "ExecuteTime": {
     "end_time": "2022-08-03T09:01:58.211597Z",
     "start_time": "2022-08-03T09:01:58.197635Z"
    }
   },
   "outputs": [
    {
     "data": {
      "text/plain": [
       "body_type                                                           Compact\n",
       "price_€                                                            8500.000\n",
       "vat                                                          VAT deductible\n",
       "km                                                                41493.000\n",
       "hp_kW                                                                55.000\n",
       "type                                                                   Used\n",
       "previous_owners                                                       1.000\n",
       "warranty                                                              1.000\n",
       "make                                                                Renault\n",
       "model                                                                  Clio\n",
       "body_color                                                            White\n",
       "paint_type                                                         Metallic\n",
       "upholstery                                                            Cloth\n",
       "nr_of_doors                                                           1.000\n",
       "nr_of_seats                                                           5.000\n",
       "gearing_type                                                         Manual\n",
       "engine_displacement_cc                                             1461.000\n",
       "cylinders                                                             4.000\n",
       "weight_kg                                                          1090.000\n",
       "drive_chain                                                           front\n",
       "fuel                                                                 Diesel\n",
       "co2e_g                                                               85.000\n",
       "emission_class                                                       Euro 6\n",
       "comfort&convenience       Air conditioning,Automatic climate control,Cru...\n",
       "entertainment&media       Bluetooth,Hands-free equipment,On-board comput...\n",
       "extras                    Alloy wheels,Shift paddles,Sport package,Sport...\n",
       "safety&security           ABS,Adaptive headlights,Central door lock,Dayt...\n",
       "gears                                                                 6.000\n",
       "country_version                                                     Unknown\n",
       "consumption_comb                                                      3.252\n",
       "consumption_city                                                      3.500\n",
       "consumption_cuntry                                                    3.100\n",
       "age                                                                   3.000\n",
       "Name: 13782, dtype: object"
      ]
     },
     "execution_count": 41,
     "metadata": {},
     "output_type": "execute_result"
    }
   ],
   "source": [
    "df.iloc[13782]"
   ]
  },
  {
   "cell_type": "code",
   "execution_count": 42,
   "metadata": {
    "ExecuteTime": {
     "end_time": "2022-08-03T09:01:58.243513Z",
     "start_time": "2022-08-03T09:01:58.213597Z"
    }
   },
   "outputs": [
    {
     "data": {
      "text/plain": [
       "make  model  body_type    \n",
       "Opel  Corsa  Compact          88\n",
       "Audi  A1     Compact          69\n",
       "             Sedans           29\n",
       "      A3     Sedans           17\n",
       "             Convertible       7\n",
       "Opel  Corsa  Sedans            4\n",
       "Audi  A3     Other             2\n",
       "      A1     Coupe             1\n",
       "      A3     Station wagon     1\n",
       "Opel  Corsa  Other             1\n",
       "dtype: int64"
      ]
     },
     "execution_count": 42,
     "metadata": {},
     "output_type": "execute_result"
    }
   ],
   "source": [
    "df[df[\"nr_of_doors\"] == 2][[\"make\", \"model\", \"body_type\"]].value_counts()"
   ]
  },
  {
   "cell_type": "code",
   "execution_count": 43,
   "metadata": {
    "ExecuteTime": {
     "end_time": "2022-08-03T09:01:58.259470Z",
     "start_time": "2022-08-03T09:01:58.247501Z"
    }
   },
   "outputs": [],
   "source": [
    "df.loc[(df.nr_of_doors == 1) | (df.nr_of_doors == 7), \"nr_of_doors\"] = 5"
   ]
  },
  {
   "cell_type": "code",
   "execution_count": 44,
   "metadata": {
    "ExecuteTime": {
     "end_time": "2022-08-03T09:01:58.291385Z",
     "start_time": "2022-08-03T09:01:58.261464Z"
    }
   },
   "outputs": [
    {
     "data": {
      "text/plain": [
       "0       5.000\n",
       "10008   5.000\n",
       "10010   5.000\n",
       "10012   5.000\n",
       "10013   5.000\n",
       "         ... \n",
       "308     2.000\n",
       "649     2.000\n",
       "8399    2.000\n",
       "330     2.000\n",
       "1374    2.000\n",
       "Name: nr_of_doors, Length: 15919, dtype: float64"
      ]
     },
     "execution_count": 44,
     "metadata": {},
     "output_type": "execute_result"
    }
   ],
   "source": [
    "df[\"nr_of_doors\"].sort_values(ascending=False)"
   ]
  },
  {
   "cell_type": "markdown",
   "metadata": {},
   "source": [
    "## 6 nr_of_seats "
   ]
  },
  {
   "cell_type": "code",
   "execution_count": 45,
   "metadata": {
    "ExecuteTime": {
     "end_time": "2022-08-03T09:01:58.322302Z",
     "start_time": "2022-08-03T09:01:58.293378Z"
    }
   },
   "outputs": [
    {
     "data": {
      "text/plain": [
       "5.000    14308\n",
       "4.000     1127\n",
       "7.000      362\n",
       "2.000      119\n",
       "6.000        2\n",
       "3.000        1\n",
       "Name: nr_of_seats, dtype: int64"
      ]
     },
     "execution_count": 45,
     "metadata": {},
     "output_type": "execute_result"
    }
   ],
   "source": [
    "df[\"nr_of_seats\"].value_counts()"
   ]
  },
  {
   "cell_type": "code",
   "execution_count": 46,
   "metadata": {
    "ExecuteTime": {
     "end_time": "2022-08-03T09:01:58.353221Z",
     "start_time": "2022-08-03T09:01:58.325292Z"
    }
   },
   "outputs": [
    {
     "data": {
      "text/plain": [
       "make     model   body_type    \n",
       "Renault  Espace  Van              315\n",
       "                 Station wagon     19\n",
       "                 Transporter       16\n",
       "                 Sedans             4\n",
       "                 Off-Road           3\n",
       "                 Other              3\n",
       "                 Compact            2\n",
       "dtype: int64"
      ]
     },
     "execution_count": 46,
     "metadata": {},
     "output_type": "execute_result"
    }
   ],
   "source": [
    "df[df[\"nr_of_seats\"] == 7][[\"make\", \"model\", \"body_type\"]].value_counts()"
   ]
  },
  {
   "cell_type": "code",
   "execution_count": 47,
   "metadata": {
    "ExecuteTime": {
     "end_time": "2022-08-03T09:01:58.385134Z",
     "start_time": "2022-08-03T09:01:58.355214Z"
    }
   },
   "outputs": [
    {
     "data": {
      "text/plain": [
       "make     model     body_type    \n",
       "Renault  Clio      Sedans           71\n",
       "                   Transporter      29\n",
       "                   Compact           8\n",
       "Opel     Corsa     Transporter       4\n",
       "Renault  Clio      Other             4\n",
       "Opel     Corsa     Coupe             1\n",
       "         Insignia  Station wagon     1\n",
       "Renault  Clio      Van               1\n",
       "dtype: int64"
      ]
     },
     "execution_count": 47,
     "metadata": {},
     "output_type": "execute_result"
    }
   ],
   "source": [
    "df[df[\"nr_of_seats\"] == 2][[\"make\", \"model\", \"body_type\"]].value_counts()"
   ]
  },
  {
   "cell_type": "markdown",
   "metadata": {},
   "source": [
    "## 7 engine_displacement_cc"
   ]
  },
  {
   "cell_type": "code",
   "execution_count": 48,
   "metadata": {
    "ExecuteTime": {
     "end_time": "2022-08-03T09:01:58.400093Z",
     "start_time": "2022-08-03T09:01:58.388125Z"
    }
   },
   "outputs": [
    {
     "data": {
      "text/plain": [
       "10932   16000.000\n",
       "7169    15898.000\n",
       "10771    2967.000\n",
       "3609     2480.000\n",
       "3604     2480.000\n",
       "           ...   \n",
       "13904       1.000\n",
       "12467       1.000\n",
       "12473       1.000\n",
       "12484       1.000\n",
       "14314       1.000\n",
       "Name: engine_displacement_cc, Length: 15919, dtype: float64"
      ]
     },
     "execution_count": 48,
     "metadata": {},
     "output_type": "execute_result"
    }
   ],
   "source": [
    "df[\"engine_displacement_cc\"].sort_values(ascending=False)"
   ]
  },
  {
   "cell_type": "code",
   "execution_count": 49,
   "metadata": {
    "ExecuteTime": {
     "end_time": "2022-08-03T09:01:58.431010Z",
     "start_time": "2022-08-03T09:01:58.403085Z"
    }
   },
   "outputs": [
    {
     "data": {
      "text/plain": [
       "7169    15898.000\n",
       "10932   16000.000\n",
       "Name: engine_displacement_cc, dtype: float64"
      ]
     },
     "execution_count": 49,
     "metadata": {},
     "output_type": "execute_result"
    }
   ],
   "source": [
    "df[df[\"engine_displacement_cc\"] > 3000][\"engine_displacement_cc\"]"
   ]
  },
  {
   "cell_type": "code",
   "execution_count": 50,
   "metadata": {
    "ExecuteTime": {
     "end_time": "2022-08-03T09:01:58.446968Z",
     "start_time": "2022-08-03T09:01:58.433005Z"
    }
   },
   "outputs": [],
   "source": [
    "df.loc[(df.engine_displacement_cc > 3000), \"engine_displacement_cc\"] = df.engine_displacement_cc/10"
   ]
  },
  {
   "cell_type": "code",
   "execution_count": 51,
   "metadata": {
    "ExecuteTime": {
     "end_time": "2022-08-03T09:01:58.510799Z",
     "start_time": "2022-08-03T09:01:58.449959Z"
    }
   },
   "outputs": [
    {
     "data": {
      "text/html": [
       "<div>\n",
       "<style scoped>\n",
       "    .dataframe tbody tr th:only-of-type {\n",
       "        vertical-align: middle;\n",
       "    }\n",
       "\n",
       "    .dataframe tbody tr th {\n",
       "        vertical-align: top;\n",
       "    }\n",
       "\n",
       "    .dataframe thead th {\n",
       "        text-align: right;\n",
       "    }\n",
       "</style>\n",
       "<table border=\"1\" class=\"dataframe\">\n",
       "  <thead>\n",
       "    <tr style=\"text-align: right;\">\n",
       "      <th></th>\n",
       "      <th>body_type</th>\n",
       "      <th>price_€</th>\n",
       "      <th>vat</th>\n",
       "      <th>km</th>\n",
       "      <th>hp_kW</th>\n",
       "      <th>type</th>\n",
       "      <th>previous_owners</th>\n",
       "      <th>warranty</th>\n",
       "      <th>make</th>\n",
       "      <th>model</th>\n",
       "      <th>body_color</th>\n",
       "      <th>paint_type</th>\n",
       "      <th>upholstery</th>\n",
       "      <th>nr_of_doors</th>\n",
       "      <th>nr_of_seats</th>\n",
       "      <th>gearing_type</th>\n",
       "      <th>engine_displacement_cc</th>\n",
       "      <th>cylinders</th>\n",
       "      <th>weight_kg</th>\n",
       "      <th>drive_chain</th>\n",
       "      <th>fuel</th>\n",
       "      <th>co2e_g</th>\n",
       "      <th>emission_class</th>\n",
       "      <th>comfort&amp;convenience</th>\n",
       "      <th>entertainment&amp;media</th>\n",
       "      <th>extras</th>\n",
       "      <th>safety&amp;security</th>\n",
       "      <th>gears</th>\n",
       "      <th>country_version</th>\n",
       "      <th>consumption_comb</th>\n",
       "      <th>consumption_city</th>\n",
       "      <th>consumption_cuntry</th>\n",
       "      <th>age</th>\n",
       "    </tr>\n",
       "  </thead>\n",
       "  <tbody>\n",
       "    <tr>\n",
       "      <th>10932</th>\n",
       "      <td>Station wagon</td>\n",
       "      <td>14300.000</td>\n",
       "      <td>Price negotiable</td>\n",
       "      <td>76500.000</td>\n",
       "      <td>88.000</td>\n",
       "      <td>Used</td>\n",
       "      <td>1.000</td>\n",
       "      <td>0.000</td>\n",
       "      <td>Opel</td>\n",
       "      <td>Insignia</td>\n",
       "      <td>Grey</td>\n",
       "      <td>Metallic</td>\n",
       "      <td>Full leather</td>\n",
       "      <td>5.000</td>\n",
       "      <td>5.000</td>\n",
       "      <td>Manual</td>\n",
       "      <td>1600.000</td>\n",
       "      <td>4.000</td>\n",
       "      <td>1623.000</td>\n",
       "      <td>front</td>\n",
       "      <td>Diesel</td>\n",
       "      <td>135.000</td>\n",
       "      <td>Euro 6</td>\n",
       "      <td>Air conditioning,Automatic climate control,Cru...</td>\n",
       "      <td>Bluetooth,Hands-free equipment,MP3,On-board co...</td>\n",
       "      <td>Alloy wheels,Touch screen,Voice Control</td>\n",
       "      <td>ABS,Central door lock,Daytime running lights,D...</td>\n",
       "      <td>6.000</td>\n",
       "      <td>Unknown</td>\n",
       "      <td>4.500</td>\n",
       "      <td>5.700</td>\n",
       "      <td>3.765</td>\n",
       "      <td>3.000</td>\n",
       "    </tr>\n",
       "    <tr>\n",
       "      <th>7169</th>\n",
       "      <td>Station wagon</td>\n",
       "      <td>18490.000</td>\n",
       "      <td>VAT deductible</td>\n",
       "      <td>22327.000</td>\n",
       "      <td>100.000</td>\n",
       "      <td>Employee's car</td>\n",
       "      <td>1.000</td>\n",
       "      <td>0.000</td>\n",
       "      <td>Opel</td>\n",
       "      <td>Astra</td>\n",
       "      <td>Green</td>\n",
       "      <td>Metallic</td>\n",
       "      <td>Cloth</td>\n",
       "      <td>5.000</td>\n",
       "      <td>5.000</td>\n",
       "      <td>Automatic</td>\n",
       "      <td>1589.800</td>\n",
       "      <td>4.000</td>\n",
       "      <td>1393.000</td>\n",
       "      <td>front</td>\n",
       "      <td>Benzine</td>\n",
       "      <td>119.000</td>\n",
       "      <td>Euro 6</td>\n",
       "      <td>Air conditioning,Armrest,Automatic climate con...</td>\n",
       "      <td>Bluetooth,Hands-free equipment,MP3,On-board co...</td>\n",
       "      <td>Alloy wheels,Touch screen,Voice Control</td>\n",
       "      <td>ABS,Central door lock,Daytime running lights,D...</td>\n",
       "      <td>6.000</td>\n",
       "      <td>Unknown</td>\n",
       "      <td>4.500</td>\n",
       "      <td>5.700</td>\n",
       "      <td>3.800</td>\n",
       "      <td>1.000</td>\n",
       "    </tr>\n",
       "  </tbody>\n",
       "</table>\n",
       "</div>"
      ],
      "text/plain": [
       "           body_type   price_€               vat        km   hp_kW  \\\n",
       "10932  Station wagon 14300.000  Price negotiable 76500.000  88.000   \n",
       "7169   Station wagon 18490.000    VAT deductible 22327.000 100.000   \n",
       "\n",
       "                 type  previous_owners  warranty  make     model body_color  \\\n",
       "10932            Used            1.000     0.000  Opel  Insignia       Grey   \n",
       "7169   Employee's car            1.000     0.000  Opel     Astra      Green   \n",
       "\n",
       "      paint_type    upholstery  nr_of_doors  nr_of_seats gearing_type  \\\n",
       "10932   Metallic  Full leather        5.000        5.000       Manual   \n",
       "7169    Metallic         Cloth        5.000        5.000    Automatic   \n",
       "\n",
       "       engine_displacement_cc  cylinders  weight_kg drive_chain     fuel  \\\n",
       "10932                1600.000      4.000   1623.000       front   Diesel   \n",
       "7169                 1589.800      4.000   1393.000       front  Benzine   \n",
       "\n",
       "       co2e_g emission_class  \\\n",
       "10932 135.000         Euro 6   \n",
       "7169  119.000         Euro 6   \n",
       "\n",
       "                                     comfort&convenience  \\\n",
       "10932  Air conditioning,Automatic climate control,Cru...   \n",
       "7169   Air conditioning,Armrest,Automatic climate con...   \n",
       "\n",
       "                                     entertainment&media  \\\n",
       "10932  Bluetooth,Hands-free equipment,MP3,On-board co...   \n",
       "7169   Bluetooth,Hands-free equipment,MP3,On-board co...   \n",
       "\n",
       "                                        extras  \\\n",
       "10932  Alloy wheels,Touch screen,Voice Control   \n",
       "7169   Alloy wheels,Touch screen,Voice Control   \n",
       "\n",
       "                                         safety&security  gears  \\\n",
       "10932  ABS,Central door lock,Daytime running lights,D...  6.000   \n",
       "7169   ABS,Central door lock,Daytime running lights,D...  6.000   \n",
       "\n",
       "      country_version  consumption_comb  consumption_city  consumption_cuntry  \\\n",
       "10932         Unknown             4.500             5.700               3.765   \n",
       "7169          Unknown             4.500             5.700               3.800   \n",
       "\n",
       "        age  \n",
       "10932 3.000  \n",
       "7169  1.000  "
      ]
     },
     "execution_count": 51,
     "metadata": {},
     "output_type": "execute_result"
    }
   ],
   "source": [
    "df.iloc[[10932, 7169]]"
   ]
  },
  {
   "cell_type": "code",
   "execution_count": 52,
   "metadata": {
    "ExecuteTime": {
     "end_time": "2022-08-03T09:01:58.526755Z",
     "start_time": "2022-08-03T09:01:58.513789Z"
    }
   },
   "outputs": [
    {
     "data": {
      "text/plain": [
       "14315     1.000\n",
       "12473     1.000\n",
       "12484     1.000\n",
       "14328     1.000\n",
       "14327     1.000\n",
       "14326     1.000\n",
       "13904     1.000\n",
       "14325     1.000\n",
       "14324     1.000\n",
       "14322     1.000\n",
       "14321     1.000\n",
       "14320     1.000\n",
       "14319     1.000\n",
       "12499     1.000\n",
       "12501     1.000\n",
       "12554     1.000\n",
       "12604     1.000\n",
       "14314     1.000\n",
       "12768     1.000\n",
       "12769     1.000\n",
       "12781     1.000\n",
       "12783     1.000\n",
       "12786     1.000\n",
       "12790     1.000\n",
       "12467     1.000\n",
       "12796     1.000\n",
       "12800     1.000\n",
       "12815     1.000\n",
       "12823     1.000\n",
       "12835     1.000\n",
       "12848     1.000\n",
       "12849     1.000\n",
       "12798     1.000\n",
       "12750     1.000\n",
       "12670     1.000\n",
       "14284     1.000\n",
       "10559     2.000\n",
       "14198     2.000\n",
       "13912    54.000\n",
       "10194   122.000\n",
       "7811    139.000\n",
       "7810    139.000\n",
       "7809    139.000\n",
       "7812    139.000\n",
       "8128    140.000\n",
       "15574   160.000\n",
       "15576   160.000\n",
       "15577   160.000\n",
       "15578   160.000\n",
       "15579   160.000\n",
       "15575   160.000\n",
       "13653   890.000\n",
       "14668   898.000\n",
       "14667   898.000\n",
       "14666   898.000\n",
       "14665   898.000\n",
       "14620   898.000\n",
       "14663   898.000\n",
       "14619   898.000\n",
       "14661   898.000\n",
       "14660   898.000\n",
       "14655   898.000\n",
       "14651   898.000\n",
       "14649   898.000\n",
       "14648   898.000\n",
       "14646   898.000\n",
       "14645   898.000\n",
       "14643   898.000\n",
       "14642   898.000\n",
       "14641   898.000\n",
       "14664   898.000\n",
       "14610   898.000\n",
       "13260   898.000\n",
       "14608   898.000\n",
       "14551   898.000\n",
       "14540   898.000\n",
       "14538   898.000\n",
       "14536   898.000\n",
       "14535   898.000\n",
       "14533   898.000\n",
       "Name: engine_displacement_cc, dtype: float64"
      ]
     },
     "execution_count": 52,
     "metadata": {},
     "output_type": "execute_result"
    }
   ],
   "source": [
    "df[\"engine_displacement_cc\"].sort_values(ascending=True).head(80)"
   ]
  },
  {
   "cell_type": "code",
   "execution_count": 53,
   "metadata": {
    "ExecuteTime": {
     "end_time": "2022-08-03T09:01:58.558670Z",
     "start_time": "2022-08-03T09:01:58.528754Z"
    }
   },
   "outputs": [
    {
     "data": {
      "text/plain": [
       "make     model   \n",
       "Opel     Insignia    24\n",
       "Renault  Clio        15\n",
       "         Espace       6\n",
       "Opel     Astra        5\n",
       "         Corsa        1\n",
       "dtype: int64"
      ]
     },
     "execution_count": 53,
     "metadata": {},
     "output_type": "execute_result"
    }
   ],
   "source": [
    "df[df[\"engine_displacement_cc\"]<800][[\"make\", \"model\"]].value_counts()"
   ]
  },
  {
   "cell_type": "code",
   "execution_count": 54,
   "metadata": {
    "ExecuteTime": {
     "end_time": "2022-08-03T09:01:58.574626Z",
     "start_time": "2022-08-03T09:01:58.561662Z"
    }
   },
   "outputs": [],
   "source": [
    "df.loc[(df.engine_displacement_cc < 800), \"engine_displacement_cc\"] = np.nan"
   ]
  },
  {
   "cell_type": "code",
   "execution_count": 55,
   "metadata": {
    "ExecuteTime": {
     "end_time": "2022-08-03T09:01:58.606540Z",
     "start_time": "2022-08-03T09:01:58.577618Z"
    }
   },
   "outputs": [
    {
     "data": {
      "text/plain": [
       "Series([], dtype: int64)"
      ]
     },
     "execution_count": 55,
     "metadata": {},
     "output_type": "execute_result"
    }
   ],
   "source": [
    "df[df[\"engine_displacement_cc\"]<800][[\"make\", \"model\"]].value_counts()"
   ]
  },
  {
   "cell_type": "code",
   "execution_count": 56,
   "metadata": {
    "ExecuteTime": {
     "end_time": "2022-08-03T09:01:58.700290Z",
     "start_time": "2022-08-03T09:01:58.608535Z"
    }
   },
   "outputs": [],
   "source": [
    "df[\"engine_displacement_cc\"] = df.groupby([\"make\", \"model\",\"cylinders\", \"hp_kW\"])[\"engine_displacement_cc\"].apply(lambda x : x.fillna(x.median()) if x.median() > 0 else df[\"engine_displacement_cc\"].median())"
   ]
  },
  {
   "cell_type": "code",
   "execution_count": 57,
   "metadata": {
    "ExecuteTime": {
     "end_time": "2022-08-03T09:01:58.715250Z",
     "start_time": "2022-08-03T09:01:58.702285Z"
    }
   },
   "outputs": [
    {
     "data": {
      "text/plain": [
       "13653    890.000\n",
       "14706    898.000\n",
       "14707    898.000\n",
       "14708    898.000\n",
       "14494    898.000\n",
       "          ...   \n",
       "3593    2480.000\n",
       "3592    2480.000\n",
       "3601    2480.000\n",
       "3595    2480.000\n",
       "10771   2967.000\n",
       "Name: engine_displacement_cc, Length: 15919, dtype: float64"
      ]
     },
     "execution_count": 57,
     "metadata": {},
     "output_type": "execute_result"
    }
   ],
   "source": [
    "df[\"engine_displacement_cc\"].sort_values(ascending=True)"
   ]
  },
  {
   "cell_type": "code",
   "execution_count": 58,
   "metadata": {
    "ExecuteTime": {
     "end_time": "2022-08-03T09:01:58.762124Z",
     "start_time": "2022-08-03T09:01:58.719240Z"
    }
   },
   "outputs": [],
   "source": [
    "df.loc[df.engine_displacement_cc > 2500, \"engine_displacement_cc\" ] = 3.0\n",
    "df.loc[df.engine_displacement_cc > 2000, \"engine_displacement_cc\" ] = 2.5\n",
    "df.loc[df.engine_displacement_cc > 1800, \"engine_displacement_cc\" ] = 2.0\n",
    "df.loc[df.engine_displacement_cc > 1600, \"engine_displacement_cc\" ] = 1.8\n",
    "df.loc[df.engine_displacement_cc > 1500, \"engine_displacement_cc\" ] = 1.6\n",
    "df.loc[df.engine_displacement_cc > 1400, \"engine_displacement_cc\" ] = 1.5\n",
    "df.loc[df.engine_displacement_cc > 1300, \"engine_displacement_cc\" ] = 1.4\n",
    "df.loc[df.engine_displacement_cc > 1200, \"engine_displacement_cc\" ] = 1.3\n",
    "df.loc[df.engine_displacement_cc > 1100, \"engine_displacement_cc\" ] = 1.2\n",
    "df.loc[df.engine_displacement_cc > 800, \"engine_displacement_cc\" ] = 1.0"
   ]
  },
  {
   "cell_type": "code",
   "execution_count": 59,
   "metadata": {
    "ExecuteTime": {
     "end_time": "2022-08-03T09:01:58.778082Z",
     "start_time": "2022-08-03T09:01:58.764119Z"
    }
   },
   "outputs": [
    {
     "data": {
      "text/plain": [
       "1.600    5162\n",
       "1.000    2992\n",
       "1.400    2656\n",
       "1.500    1950\n",
       "2.000    1195\n",
       "1.300     829\n",
       "1.200     682\n",
       "1.800     432\n",
       "2.500      20\n",
       "3.000       1\n",
       "Name: engine_displacement_cc, dtype: int64"
      ]
     },
     "execution_count": 59,
     "metadata": {},
     "output_type": "execute_result"
    }
   ],
   "source": [
    "df[\"engine_displacement_cc\"].value_counts(dropna=False)"
   ]
  },
  {
   "cell_type": "markdown",
   "metadata": {},
   "source": [
    "## 8 cylinders "
   ]
  },
  {
   "cell_type": "code",
   "execution_count": 60,
   "metadata": {
    "ExecuteTime": {
     "end_time": "2022-08-03T09:01:58.823959Z",
     "start_time": "2022-08-03T09:01:58.780077Z"
    }
   },
   "outputs": [
    {
     "data": {
      "text/html": [
       "<div>\n",
       "<style scoped>\n",
       "    .dataframe tbody tr th:only-of-type {\n",
       "        vertical-align: middle;\n",
       "    }\n",
       "\n",
       "    .dataframe tbody tr th {\n",
       "        vertical-align: top;\n",
       "    }\n",
       "\n",
       "    .dataframe thead th {\n",
       "        text-align: right;\n",
       "    }\n",
       "</style>\n",
       "<table border=\"1\" class=\"dataframe\">\n",
       "  <thead>\n",
       "    <tr style=\"text-align: right;\">\n",
       "      <th></th>\n",
       "      <th>body_type</th>\n",
       "      <th>price_€</th>\n",
       "      <th>vat</th>\n",
       "      <th>km</th>\n",
       "      <th>hp_kW</th>\n",
       "      <th>type</th>\n",
       "      <th>previous_owners</th>\n",
       "      <th>warranty</th>\n",
       "      <th>make</th>\n",
       "      <th>model</th>\n",
       "      <th>body_color</th>\n",
       "      <th>paint_type</th>\n",
       "      <th>upholstery</th>\n",
       "      <th>nr_of_doors</th>\n",
       "      <th>nr_of_seats</th>\n",
       "      <th>gearing_type</th>\n",
       "      <th>engine_displacement_cc</th>\n",
       "      <th>cylinders</th>\n",
       "      <th>weight_kg</th>\n",
       "      <th>drive_chain</th>\n",
       "      <th>fuel</th>\n",
       "      <th>co2e_g</th>\n",
       "      <th>emission_class</th>\n",
       "      <th>comfort&amp;convenience</th>\n",
       "      <th>entertainment&amp;media</th>\n",
       "      <th>extras</th>\n",
       "      <th>safety&amp;security</th>\n",
       "      <th>gears</th>\n",
       "      <th>country_version</th>\n",
       "      <th>consumption_comb</th>\n",
       "      <th>consumption_city</th>\n",
       "      <th>consumption_cuntry</th>\n",
       "      <th>age</th>\n",
       "    </tr>\n",
       "  </thead>\n",
       "  <tbody>\n",
       "    <tr>\n",
       "      <th>9956</th>\n",
       "      <td>Compact</td>\n",
       "      <td>16625.000</td>\n",
       "      <td>VAT deductible</td>\n",
       "      <td>100.000</td>\n",
       "      <td>66.000</td>\n",
       "      <td>Pre-registered</td>\n",
       "      <td>1.000</td>\n",
       "      <td>0.000</td>\n",
       "      <td>Opel</td>\n",
       "      <td>Corsa</td>\n",
       "      <td>Black</td>\n",
       "      <td>Metallic</td>\n",
       "      <td>Cloth</td>\n",
       "      <td>3.000</td>\n",
       "      <td>5.000</td>\n",
       "      <td>Automatic</td>\n",
       "      <td>1.400</td>\n",
       "      <td>1.000</td>\n",
       "      <td>1163.000</td>\n",
       "      <td>front</td>\n",
       "      <td>Benzine</td>\n",
       "      <td>140.000</td>\n",
       "      <td>Euro 6d-TEMP</td>\n",
       "      <td>Air conditioning,Automatic climate control,Cru...</td>\n",
       "      <td>Bluetooth,Digital radio,Hands-free equipment,M...</td>\n",
       "      <td>Alloy wheels,Sport suspension</td>\n",
       "      <td>ABS,Central door lock,Daytime running lights,D...</td>\n",
       "      <td>6.000</td>\n",
       "      <td>Germany</td>\n",
       "      <td>6.002</td>\n",
       "      <td>7.800</td>\n",
       "      <td>4.900</td>\n",
       "      <td>0.000</td>\n",
       "    </tr>\n",
       "    <tr>\n",
       "      <th>11342</th>\n",
       "      <td>Station wagon</td>\n",
       "      <td>21900.000</td>\n",
       "      <td>VAT deductible</td>\n",
       "      <td>13600.000</td>\n",
       "      <td>100.000</td>\n",
       "      <td>Employee's car</td>\n",
       "      <td>1.000</td>\n",
       "      <td>0.000</td>\n",
       "      <td>Opel</td>\n",
       "      <td>Insignia</td>\n",
       "      <td>Grey</td>\n",
       "      <td>Metallic</td>\n",
       "      <td>Part leather</td>\n",
       "      <td>5.000</td>\n",
       "      <td>5.000</td>\n",
       "      <td>Automatic</td>\n",
       "      <td>1.600</td>\n",
       "      <td>2.000</td>\n",
       "      <td>1623.000</td>\n",
       "      <td>front</td>\n",
       "      <td>Diesel</td>\n",
       "      <td>135.000</td>\n",
       "      <td>Euro 6</td>\n",
       "      <td>Air conditioning,Armrest,Automatic climate con...</td>\n",
       "      <td>Bluetooth,Digital radio,Hands-free equipment,M...</td>\n",
       "      <td>Alloy wheels,Catalytic Converter,Touch screen,...</td>\n",
       "      <td>ABS,Central door lock with remote control,Driv...</td>\n",
       "      <td>6.000</td>\n",
       "      <td>Italy</td>\n",
       "      <td>5.012</td>\n",
       "      <td>6.500</td>\n",
       "      <td>4.100</td>\n",
       "      <td>1.000</td>\n",
       "    </tr>\n",
       "    <tr>\n",
       "      <th>15835</th>\n",
       "      <td>Van</td>\n",
       "      <td>47590.000</td>\n",
       "      <td>VAT deductible</td>\n",
       "      <td>6000.000</td>\n",
       "      <td>147.000</td>\n",
       "      <td>Employee's car</td>\n",
       "      <td>1.000</td>\n",
       "      <td>0.000</td>\n",
       "      <td>Renault</td>\n",
       "      <td>Espace</td>\n",
       "      <td>Black</td>\n",
       "      <td>Metallic</td>\n",
       "      <td>Full leather</td>\n",
       "      <td>5.000</td>\n",
       "      <td>7.000</td>\n",
       "      <td>Automatic</td>\n",
       "      <td>2.000</td>\n",
       "      <td>2.000</td>\n",
       "      <td>1840.000</td>\n",
       "      <td>front</td>\n",
       "      <td>Diesel</td>\n",
       "      <td>139.000</td>\n",
       "      <td>Euro 6d-TEMP</td>\n",
       "      <td>Air conditioning,Automatic climate control,Ele...</td>\n",
       "      <td>Bluetooth,Hands-free equipment,On-board comput...</td>\n",
       "      <td>Voice Control</td>\n",
       "      <td>ABS,Alarm system,Blind spot monitor,Central do...</td>\n",
       "      <td>6.000</td>\n",
       "      <td>Germany</td>\n",
       "      <td>5.300</td>\n",
       "      <td>6.200</td>\n",
       "      <td>4.700</td>\n",
       "      <td>0.000</td>\n",
       "    </tr>\n",
       "  </tbody>\n",
       "</table>\n",
       "</div>"
      ],
      "text/plain": [
       "           body_type   price_€             vat        km   hp_kW  \\\n",
       "9956         Compact 16625.000  VAT deductible   100.000  66.000   \n",
       "11342  Station wagon 21900.000  VAT deductible 13600.000 100.000   \n",
       "15835            Van 47590.000  VAT deductible  6000.000 147.000   \n",
       "\n",
       "                 type  previous_owners  warranty     make     model  \\\n",
       "9956   Pre-registered            1.000     0.000     Opel     Corsa   \n",
       "11342  Employee's car            1.000     0.000     Opel  Insignia   \n",
       "15835  Employee's car            1.000     0.000  Renault    Espace   \n",
       "\n",
       "      body_color paint_type    upholstery  nr_of_doors  nr_of_seats  \\\n",
       "9956       Black   Metallic         Cloth        3.000        5.000   \n",
       "11342       Grey   Metallic  Part leather        5.000        5.000   \n",
       "15835      Black   Metallic  Full leather        5.000        7.000   \n",
       "\n",
       "      gearing_type  engine_displacement_cc  cylinders  weight_kg drive_chain  \\\n",
       "9956     Automatic                   1.400      1.000   1163.000       front   \n",
       "11342    Automatic                   1.600      2.000   1623.000       front   \n",
       "15835    Automatic                   2.000      2.000   1840.000       front   \n",
       "\n",
       "          fuel  co2e_g emission_class  \\\n",
       "9956   Benzine 140.000   Euro 6d-TEMP   \n",
       "11342   Diesel 135.000         Euro 6   \n",
       "15835   Diesel 139.000   Euro 6d-TEMP   \n",
       "\n",
       "                                     comfort&convenience  \\\n",
       "9956   Air conditioning,Automatic climate control,Cru...   \n",
       "11342  Air conditioning,Armrest,Automatic climate con...   \n",
       "15835  Air conditioning,Automatic climate control,Ele...   \n",
       "\n",
       "                                     entertainment&media  \\\n",
       "9956   Bluetooth,Digital radio,Hands-free equipment,M...   \n",
       "11342  Bluetooth,Digital radio,Hands-free equipment,M...   \n",
       "15835  Bluetooth,Hands-free equipment,On-board comput...   \n",
       "\n",
       "                                                  extras  \\\n",
       "9956                       Alloy wheels,Sport suspension   \n",
       "11342  Alloy wheels,Catalytic Converter,Touch screen,...   \n",
       "15835                                      Voice Control   \n",
       "\n",
       "                                         safety&security  gears  \\\n",
       "9956   ABS,Central door lock,Daytime running lights,D...  6.000   \n",
       "11342  ABS,Central door lock with remote control,Driv...  6.000   \n",
       "15835  ABS,Alarm system,Blind spot monitor,Central do...  6.000   \n",
       "\n",
       "      country_version  consumption_comb  consumption_city  consumption_cuntry  \\\n",
       "9956          Germany             6.002             7.800               4.900   \n",
       "11342           Italy             5.012             6.500               4.100   \n",
       "15835         Germany             5.300             6.200               4.700   \n",
       "\n",
       "        age  \n",
       "9956  0.000  \n",
       "11342 1.000  \n",
       "15835 0.000  "
      ]
     },
     "execution_count": 60,
     "metadata": {},
     "output_type": "execute_result"
    }
   ],
   "source": [
    "df[(df.cylinders == 1) | (df.cylinders==2)]"
   ]
  },
  {
   "cell_type": "code",
   "execution_count": 61,
   "metadata": {
    "ExecuteTime": {
     "end_time": "2022-08-03T09:01:58.839918Z",
     "start_time": "2022-08-03T09:01:58.825954Z"
    }
   },
   "outputs": [],
   "source": [
    "df.loc[(df.cylinders ==1)|(df.cylinders ==2), \"cylinders\"] = 4.0"
   ]
  },
  {
   "cell_type": "markdown",
   "metadata": {},
   "source": [
    "## 9 weight_kg"
   ]
  },
  {
   "cell_type": "code",
   "execution_count": 62,
   "metadata": {
    "ExecuteTime": {
     "end_time": "2022-08-03T09:01:58.855874Z",
     "start_time": "2022-08-03T09:01:58.841911Z"
    }
   },
   "outputs": [
    {
     "data": {
      "text/plain": [
       "12779      1.000\n",
       "8355       1.000\n",
       "1143     102.000\n",
       "8857     840.000\n",
       "14313    900.000\n",
       "          ...   \n",
       "15280   2471.000\n",
       "15678   2471.000\n",
       "14975   2471.000\n",
       "15231   2471.000\n",
       "15185   2471.000\n",
       "Name: weight_kg, Length: 15919, dtype: float64"
      ]
     },
     "execution_count": 62,
     "metadata": {},
     "output_type": "execute_result"
    }
   ],
   "source": [
    "df[\"weight_kg\"].sort_values(ascending=True)"
   ]
  },
  {
   "cell_type": "code",
   "execution_count": 63,
   "metadata": {
    "ExecuteTime": {
     "end_time": "2022-08-03T09:01:58.887790Z",
     "start_time": "2022-08-03T09:01:58.857868Z"
    }
   },
   "outputs": [
    {
     "data": {
      "text/plain": [
       "make     model   \n",
       "Renault  Clio        14\n",
       "Opel     Corsa        2\n",
       "Audi     A1           1\n",
       "Opel     Insignia     1\n",
       "dtype: int64"
      ]
     },
     "execution_count": 63,
     "metadata": {},
     "output_type": "execute_result"
    }
   ],
   "source": [
    "df[df[\"weight_kg\"] < 1000][[\"make\", \"model\"]].value_counts()"
   ]
  },
  {
   "cell_type": "code",
   "execution_count": 64,
   "metadata": {
    "ExecuteTime": {
     "end_time": "2022-08-03T09:01:58.902747Z",
     "start_time": "2022-08-03T09:01:58.889783Z"
    }
   },
   "outputs": [],
   "source": [
    "df.loc[df.weight_kg < 103, \"weight_kg\"] = np.nan"
   ]
  },
  {
   "cell_type": "code",
   "execution_count": 65,
   "metadata": {
    "ExecuteTime": {
     "end_time": "2022-08-03T09:01:58.933665Z",
     "start_time": "2022-08-03T09:01:58.905739Z"
    }
   },
   "outputs": [
    {
     "data": {
      "text/plain": [
       "3"
      ]
     },
     "execution_count": 65,
     "metadata": {},
     "output_type": "execute_result"
    }
   ],
   "source": [
    "df[\"weight_kg\"].isnull().sum()"
   ]
  },
  {
   "cell_type": "code",
   "execution_count": 66,
   "metadata": {
    "ExecuteTime": {
     "end_time": "2022-08-03T09:01:58.996498Z",
     "start_time": "2022-08-03T09:01:58.937655Z"
    }
   },
   "outputs": [],
   "source": [
    "df.weight_kg=df.groupby([\"make\", \"model\", \"body_type\"])[\"weight_kg\"].apply(lambda x:x.fillna(x.mean()))"
   ]
  },
  {
   "cell_type": "code",
   "execution_count": 67,
   "metadata": {
    "ExecuteTime": {
     "end_time": "2022-08-03T09:01:59.012148Z",
     "start_time": "2022-08-03T09:01:58.998492Z"
    }
   },
   "outputs": [
    {
     "data": {
      "text/plain": [
       "8857     840.000\n",
       "14313    900.000\n",
       "13555    977.000\n",
       "13513    977.000\n",
       "14158    980.000\n",
       "          ...   \n",
       "15280   2471.000\n",
       "15231   2471.000\n",
       "15678   2471.000\n",
       "15185   2471.000\n",
       "14975   2471.000\n",
       "Name: weight_kg, Length: 15919, dtype: float64"
      ]
     },
     "execution_count": 67,
     "metadata": {},
     "output_type": "execute_result"
    }
   ],
   "source": [
    "df[\"weight_kg\"].sort_values(ascending=True)"
   ]
  },
  {
   "cell_type": "markdown",
   "metadata": {},
   "source": [
    "## 10 co2e_g"
   ]
  },
  {
   "cell_type": "code",
   "execution_count": 68,
   "metadata": {
    "ExecuteTime": {
     "end_time": "2022-08-03T09:01:59.044063Z",
     "start_time": "2022-08-03T09:01:59.014140Z"
    }
   },
   "outputs": [
    {
     "data": {
      "text/plain": [
       "8110       14.000\n",
       "3617       36.000\n",
       "3615       36.000\n",
       "3612       36.000\n",
       "3356       36.000\n",
       "           ...   \n",
       "5818    12087.000\n",
       "6578    12087.000\n",
       "8542    12324.000\n",
       "12343   13983.000\n",
       "11888   14457.000\n",
       "Name: co2e_g, Length: 15919, dtype: float64"
      ]
     },
     "execution_count": 68,
     "metadata": {},
     "output_type": "execute_result"
    }
   ],
   "source": [
    "df[\"co2e_g\"].sort_values(ascending=True)"
   ]
  },
  {
   "cell_type": "code",
   "execution_count": 69,
   "metadata": {
    "ExecuteTime": {
     "end_time": "2022-08-03T09:01:59.075975Z",
     "start_time": "2022-08-03T09:01:59.047053Z"
    }
   },
   "outputs": [
    {
     "name": "stdout",
     "output_type": "stream",
     "text": [
      "column name :  co2e_g\n",
      "----------------------------------------\n",
      "Q1 :  104.0\n",
      "Q3 :  129.0\n",
      "IQR :  25.0\n",
      "lower limit :  66.5\n",
      "mean :  122.58\n",
      "upper limit :  166.5\n",
      "count of lower values :  7\n",
      "count of upper values :  238\n",
      " \n",
      "the smallest 10 values :\n",
      " 8110    14.000\n",
      "3617    36.000\n",
      "3615    36.000\n",
      "3612    36.000\n",
      "3356    36.000\n",
      "12547   45.000\n",
      "9798    51.000\n",
      "7857    80.000\n",
      "13668   82.000\n",
      "8912    82.000\n",
      "Name: co2e_g, dtype: float64\n",
      " \n",
      "the biggest 10 values :\n",
      " 11888   14457.000\n",
      "12343   13983.000\n",
      "8542    12324.000\n",
      "6579    12087.000\n",
      "5818    12087.000\n",
      "6578    12087.000\n",
      "4089     1060.000\n",
      "4556      990.000\n",
      "535       331.000\n",
      "10513     253.000\n",
      "Name: co2e_g, dtype: float64\n",
      "\n",
      "\n",
      "\n"
     ]
    }
   ],
   "source": [
    "detect_outlier(\"co2e_g\")"
   ]
  },
  {
   "cell_type": "code",
   "execution_count": 70,
   "metadata": {
    "ExecuteTime": {
     "end_time": "2022-08-03T09:01:59.136812Z",
     "start_time": "2022-08-03T09:01:59.079965Z"
    }
   },
   "outputs": [
    {
     "data": {
      "text/html": [
       "<div>\n",
       "<style scoped>\n",
       "    .dataframe tbody tr th:only-of-type {\n",
       "        vertical-align: middle;\n",
       "    }\n",
       "\n",
       "    .dataframe tbody tr th {\n",
       "        vertical-align: top;\n",
       "    }\n",
       "\n",
       "    .dataframe thead th {\n",
       "        text-align: right;\n",
       "    }\n",
       "</style>\n",
       "<table border=\"1\" class=\"dataframe\">\n",
       "  <thead>\n",
       "    <tr style=\"text-align: right;\">\n",
       "      <th></th>\n",
       "      <th>body_type</th>\n",
       "      <th>price_€</th>\n",
       "      <th>vat</th>\n",
       "      <th>km</th>\n",
       "      <th>hp_kW</th>\n",
       "      <th>type</th>\n",
       "      <th>previous_owners</th>\n",
       "      <th>warranty</th>\n",
       "      <th>make</th>\n",
       "      <th>model</th>\n",
       "      <th>body_color</th>\n",
       "      <th>paint_type</th>\n",
       "      <th>upholstery</th>\n",
       "      <th>nr_of_doors</th>\n",
       "      <th>nr_of_seats</th>\n",
       "      <th>gearing_type</th>\n",
       "      <th>engine_displacement_cc</th>\n",
       "      <th>cylinders</th>\n",
       "      <th>weight_kg</th>\n",
       "      <th>drive_chain</th>\n",
       "      <th>fuel</th>\n",
       "      <th>co2e_g</th>\n",
       "      <th>emission_class</th>\n",
       "      <th>comfort&amp;convenience</th>\n",
       "      <th>entertainment&amp;media</th>\n",
       "      <th>extras</th>\n",
       "      <th>safety&amp;security</th>\n",
       "      <th>gears</th>\n",
       "      <th>country_version</th>\n",
       "      <th>consumption_comb</th>\n",
       "      <th>consumption_city</th>\n",
       "      <th>consumption_cuntry</th>\n",
       "      <th>age</th>\n",
       "    </tr>\n",
       "  </thead>\n",
       "  <tbody>\n",
       "    <tr>\n",
       "      <th>5818</th>\n",
       "      <td>Sedans</td>\n",
       "      <td>14990.000</td>\n",
       "      <td>VAT deductible</td>\n",
       "      <td>85182.000</td>\n",
       "      <td>110.000</td>\n",
       "      <td>Used</td>\n",
       "      <td>1.000</td>\n",
       "      <td>0.000</td>\n",
       "      <td>Opel</td>\n",
       "      <td>Astra</td>\n",
       "      <td>Brown</td>\n",
       "      <td>Metallic</td>\n",
       "      <td>Cloth</td>\n",
       "      <td>5.000</td>\n",
       "      <td>5.000</td>\n",
       "      <td>Automatic</td>\n",
       "      <td>1.400</td>\n",
       "      <td>4.000</td>\n",
       "      <td>1308.000</td>\n",
       "      <td>front</td>\n",
       "      <td>Gasoline</td>\n",
       "      <td>12087.000</td>\n",
       "      <td>Euro 6</td>\n",
       "      <td>Air conditioning,Armrest,Automatic climate con...</td>\n",
       "      <td>Bluetooth,Hands-free equipment,MP3,On-board co...</td>\n",
       "      <td>Alloy wheels,Catalytic Converter</td>\n",
       "      <td>ABS,Central door lock,Daytime running lights,D...</td>\n",
       "      <td>6.000</td>\n",
       "      <td>Germany</td>\n",
       "      <td>5.100</td>\n",
       "      <td>6.300</td>\n",
       "      <td>4.300</td>\n",
       "      <td>3.000</td>\n",
       "    </tr>\n",
       "    <tr>\n",
       "      <th>6578</th>\n",
       "      <td>Station wagon</td>\n",
       "      <td>17850.000</td>\n",
       "      <td>VAT deductible</td>\n",
       "      <td>29900.000</td>\n",
       "      <td>110.000</td>\n",
       "      <td>Used</td>\n",
       "      <td>1.000</td>\n",
       "      <td>0.000</td>\n",
       "      <td>Opel</td>\n",
       "      <td>Astra</td>\n",
       "      <td>Green</td>\n",
       "      <td>Metallic</td>\n",
       "      <td>Cloth</td>\n",
       "      <td>5.000</td>\n",
       "      <td>5.000</td>\n",
       "      <td>Automatic</td>\n",
       "      <td>1.400</td>\n",
       "      <td>4.000</td>\n",
       "      <td>1393.000</td>\n",
       "      <td>front</td>\n",
       "      <td>Gasoline</td>\n",
       "      <td>12087.000</td>\n",
       "      <td>Euro 6</td>\n",
       "      <td>Air conditioning,Armrest,Automatic climate con...</td>\n",
       "      <td>Bluetooth,Hands-free equipment,On-board comput...</td>\n",
       "      <td>Alloy wheels,Catalytic Converter,Roof rack,Voi...</td>\n",
       "      <td>ABS,Central door lock,Daytime running lights,D...</td>\n",
       "      <td>6.000</td>\n",
       "      <td>Germany</td>\n",
       "      <td>5.100</td>\n",
       "      <td>6.300</td>\n",
       "      <td>4.300</td>\n",
       "      <td>1.000</td>\n",
       "    </tr>\n",
       "    <tr>\n",
       "      <th>6579</th>\n",
       "      <td>Station wagon</td>\n",
       "      <td>17850.000</td>\n",
       "      <td>VAT deductible</td>\n",
       "      <td>29900.000</td>\n",
       "      <td>110.000</td>\n",
       "      <td>Used</td>\n",
       "      <td>1.000</td>\n",
       "      <td>0.000</td>\n",
       "      <td>Opel</td>\n",
       "      <td>Astra</td>\n",
       "      <td>Green</td>\n",
       "      <td>Metallic</td>\n",
       "      <td>Cloth</td>\n",
       "      <td>5.000</td>\n",
       "      <td>5.000</td>\n",
       "      <td>Automatic</td>\n",
       "      <td>1.400</td>\n",
       "      <td>4.000</td>\n",
       "      <td>1393.000</td>\n",
       "      <td>front</td>\n",
       "      <td>Gasoline</td>\n",
       "      <td>12087.000</td>\n",
       "      <td>Euro 6</td>\n",
       "      <td>Air conditioning,Armrest,Automatic climate con...</td>\n",
       "      <td>Bluetooth,Hands-free equipment,On-board comput...</td>\n",
       "      <td>Alloy wheels,Catalytic Converter,Roof rack,Voi...</td>\n",
       "      <td>ABS,Central door lock,Daytime running lights,D...</td>\n",
       "      <td>6.000</td>\n",
       "      <td>Germany</td>\n",
       "      <td>5.100</td>\n",
       "      <td>6.300</td>\n",
       "      <td>4.300</td>\n",
       "      <td>1.000</td>\n",
       "    </tr>\n",
       "    <tr>\n",
       "      <th>8542</th>\n",
       "      <td>Compact</td>\n",
       "      <td>10950.000</td>\n",
       "      <td>VAT deductible</td>\n",
       "      <td>34800.000</td>\n",
       "      <td>66.000</td>\n",
       "      <td>Used</td>\n",
       "      <td>2.000</td>\n",
       "      <td>1.000</td>\n",
       "      <td>Opel</td>\n",
       "      <td>Corsa</td>\n",
       "      <td>Blue</td>\n",
       "      <td>Metallic</td>\n",
       "      <td>Cloth</td>\n",
       "      <td>3.000</td>\n",
       "      <td>5.000</td>\n",
       "      <td>Automatic</td>\n",
       "      <td>1.400</td>\n",
       "      <td>4.000</td>\n",
       "      <td>1163.000</td>\n",
       "      <td>front</td>\n",
       "      <td>Gasoline</td>\n",
       "      <td>12324.000</td>\n",
       "      <td>Euro 6</td>\n",
       "      <td>Air conditioning,Cruise control,Electrical sid...</td>\n",
       "      <td>Bluetooth,Hands-free equipment,MP3,On-board co...</td>\n",
       "      <td>Alloy wheels,Catalytic Converter</td>\n",
       "      <td>ABS,Central door lock,Daytime running lights,D...</td>\n",
       "      <td>6.000</td>\n",
       "      <td>Germany</td>\n",
       "      <td>5.200</td>\n",
       "      <td>6.700</td>\n",
       "      <td>4.200</td>\n",
       "      <td>3.000</td>\n",
       "    </tr>\n",
       "    <tr>\n",
       "      <th>11888</th>\n",
       "      <td>Station wagon</td>\n",
       "      <td>22990.000</td>\n",
       "      <td>VAT deductible</td>\n",
       "      <td>25583.000</td>\n",
       "      <td>121.000</td>\n",
       "      <td>Used</td>\n",
       "      <td>1.000</td>\n",
       "      <td>1.000</td>\n",
       "      <td>Opel</td>\n",
       "      <td>Insignia</td>\n",
       "      <td>Grey</td>\n",
       "      <td>Metallic</td>\n",
       "      <td>Cloth</td>\n",
       "      <td>5.000</td>\n",
       "      <td>5.000</td>\n",
       "      <td>Automatic</td>\n",
       "      <td>1.500</td>\n",
       "      <td>4.000</td>\n",
       "      <td>1623.000</td>\n",
       "      <td>front</td>\n",
       "      <td>Benzine</td>\n",
       "      <td>14457.000</td>\n",
       "      <td>Euro 6</td>\n",
       "      <td>Air conditioning,Armrest,Automatic climate con...</td>\n",
       "      <td>Bluetooth,Hands-free equipment,On-board comput...</td>\n",
       "      <td>Alloy wheels,Voice Control</td>\n",
       "      <td>ABS,Blind spot monitor,Central door lock,Dayti...</td>\n",
       "      <td>6.000</td>\n",
       "      <td>Germany</td>\n",
       "      <td>6.100</td>\n",
       "      <td>7.500</td>\n",
       "      <td>5.300</td>\n",
       "      <td>1.000</td>\n",
       "    </tr>\n",
       "    <tr>\n",
       "      <th>12343</th>\n",
       "      <td>Sedans</td>\n",
       "      <td>19950.000</td>\n",
       "      <td>VAT deductible</td>\n",
       "      <td>15018.000</td>\n",
       "      <td>103.000</td>\n",
       "      <td>Used</td>\n",
       "      <td>1.000</td>\n",
       "      <td>1.000</td>\n",
       "      <td>Opel</td>\n",
       "      <td>Insignia</td>\n",
       "      <td>White</td>\n",
       "      <td>Metallic</td>\n",
       "      <td>Cloth</td>\n",
       "      <td>5.000</td>\n",
       "      <td>5.000</td>\n",
       "      <td>Manual</td>\n",
       "      <td>1.500</td>\n",
       "      <td>4.000</td>\n",
       "      <td>1503.000</td>\n",
       "      <td>front</td>\n",
       "      <td>Benzine</td>\n",
       "      <td>13983.000</td>\n",
       "      <td>Euro 6</td>\n",
       "      <td>Air conditioning,Armrest,Automatic climate con...</td>\n",
       "      <td>Bluetooth,Hands-free equipment,On-board comput...</td>\n",
       "      <td>Alloy wheels,Catalytic Converter,Touch screen,...</td>\n",
       "      <td>ABS,Central door lock,Daytime running lights,D...</td>\n",
       "      <td>6.000</td>\n",
       "      <td>Germany</td>\n",
       "      <td>5.900</td>\n",
       "      <td>7.500</td>\n",
       "      <td>4.900</td>\n",
       "      <td>1.000</td>\n",
       "    </tr>\n",
       "  </tbody>\n",
       "</table>\n",
       "</div>"
      ],
      "text/plain": [
       "           body_type   price_€             vat        km   hp_kW  type  \\\n",
       "5818          Sedans 14990.000  VAT deductible 85182.000 110.000  Used   \n",
       "6578   Station wagon 17850.000  VAT deductible 29900.000 110.000  Used   \n",
       "6579   Station wagon 17850.000  VAT deductible 29900.000 110.000  Used   \n",
       "8542         Compact 10950.000  VAT deductible 34800.000  66.000  Used   \n",
       "11888  Station wagon 22990.000  VAT deductible 25583.000 121.000  Used   \n",
       "12343         Sedans 19950.000  VAT deductible 15018.000 103.000  Used   \n",
       "\n",
       "       previous_owners  warranty  make     model body_color paint_type  \\\n",
       "5818             1.000     0.000  Opel     Astra      Brown   Metallic   \n",
       "6578             1.000     0.000  Opel     Astra      Green   Metallic   \n",
       "6579             1.000     0.000  Opel     Astra      Green   Metallic   \n",
       "8542             2.000     1.000  Opel     Corsa       Blue   Metallic   \n",
       "11888            1.000     1.000  Opel  Insignia       Grey   Metallic   \n",
       "12343            1.000     1.000  Opel  Insignia      White   Metallic   \n",
       "\n",
       "      upholstery  nr_of_doors  nr_of_seats gearing_type  \\\n",
       "5818       Cloth        5.000        5.000    Automatic   \n",
       "6578       Cloth        5.000        5.000    Automatic   \n",
       "6579       Cloth        5.000        5.000    Automatic   \n",
       "8542       Cloth        3.000        5.000    Automatic   \n",
       "11888      Cloth        5.000        5.000    Automatic   \n",
       "12343      Cloth        5.000        5.000       Manual   \n",
       "\n",
       "       engine_displacement_cc  cylinders  weight_kg drive_chain      fuel  \\\n",
       "5818                    1.400      4.000   1308.000       front  Gasoline   \n",
       "6578                    1.400      4.000   1393.000       front  Gasoline   \n",
       "6579                    1.400      4.000   1393.000       front  Gasoline   \n",
       "8542                    1.400      4.000   1163.000       front  Gasoline   \n",
       "11888                   1.500      4.000   1623.000       front   Benzine   \n",
       "12343                   1.500      4.000   1503.000       front   Benzine   \n",
       "\n",
       "         co2e_g emission_class  \\\n",
       "5818  12087.000         Euro 6   \n",
       "6578  12087.000         Euro 6   \n",
       "6579  12087.000         Euro 6   \n",
       "8542  12324.000         Euro 6   \n",
       "11888 14457.000         Euro 6   \n",
       "12343 13983.000         Euro 6   \n",
       "\n",
       "                                     comfort&convenience  \\\n",
       "5818   Air conditioning,Armrest,Automatic climate con...   \n",
       "6578   Air conditioning,Armrest,Automatic climate con...   \n",
       "6579   Air conditioning,Armrest,Automatic climate con...   \n",
       "8542   Air conditioning,Cruise control,Electrical sid...   \n",
       "11888  Air conditioning,Armrest,Automatic climate con...   \n",
       "12343  Air conditioning,Armrest,Automatic climate con...   \n",
       "\n",
       "                                     entertainment&media  \\\n",
       "5818   Bluetooth,Hands-free equipment,MP3,On-board co...   \n",
       "6578   Bluetooth,Hands-free equipment,On-board comput...   \n",
       "6579   Bluetooth,Hands-free equipment,On-board comput...   \n",
       "8542   Bluetooth,Hands-free equipment,MP3,On-board co...   \n",
       "11888  Bluetooth,Hands-free equipment,On-board comput...   \n",
       "12343  Bluetooth,Hands-free equipment,On-board comput...   \n",
       "\n",
       "                                                  extras  \\\n",
       "5818                    Alloy wheels,Catalytic Converter   \n",
       "6578   Alloy wheels,Catalytic Converter,Roof rack,Voi...   \n",
       "6579   Alloy wheels,Catalytic Converter,Roof rack,Voi...   \n",
       "8542                    Alloy wheels,Catalytic Converter   \n",
       "11888                         Alloy wheels,Voice Control   \n",
       "12343  Alloy wheels,Catalytic Converter,Touch screen,...   \n",
       "\n",
       "                                         safety&security  gears  \\\n",
       "5818   ABS,Central door lock,Daytime running lights,D...  6.000   \n",
       "6578   ABS,Central door lock,Daytime running lights,D...  6.000   \n",
       "6579   ABS,Central door lock,Daytime running lights,D...  6.000   \n",
       "8542   ABS,Central door lock,Daytime running lights,D...  6.000   \n",
       "11888  ABS,Blind spot monitor,Central door lock,Dayti...  6.000   \n",
       "12343  ABS,Central door lock,Daytime running lights,D...  6.000   \n",
       "\n",
       "      country_version  consumption_comb  consumption_city  consumption_cuntry  \\\n",
       "5818          Germany             5.100             6.300               4.300   \n",
       "6578          Germany             5.100             6.300               4.300   \n",
       "6579          Germany             5.100             6.300               4.300   \n",
       "8542          Germany             5.200             6.700               4.200   \n",
       "11888         Germany             6.100             7.500               5.300   \n",
       "12343         Germany             5.900             7.500               4.900   \n",
       "\n",
       "        age  \n",
       "5818  3.000  \n",
       "6578  1.000  \n",
       "6579  1.000  \n",
       "8542  3.000  \n",
       "11888 1.000  \n",
       "12343 1.000  "
      ]
     },
     "execution_count": 70,
     "metadata": {},
     "output_type": "execute_result"
    }
   ],
   "source": [
    "df[df[\"co2e_g\"] > 2000]"
   ]
  },
  {
   "cell_type": "code",
   "execution_count": 71,
   "metadata": {
    "ExecuteTime": {
     "end_time": "2022-08-03T09:01:59.151771Z",
     "start_time": "2022-08-03T09:01:59.139804Z"
    }
   },
   "outputs": [],
   "source": [
    "from scipy.stats.mstats import winsorize"
   ]
  },
  {
   "cell_type": "code",
   "execution_count": 72,
   "metadata": {
    "ExecuteTime": {
     "end_time": "2022-08-03T09:01:59.183688Z",
     "start_time": "2022-08-03T09:01:59.153767Z"
    }
   },
   "outputs": [],
   "source": [
    "Q1 = df.co2e_g.quantile(0.25)\n",
    "Q3 = df.co2e_g.quantile(0.75)\n",
    "IQR = Q3 - Q1\n",
    "lower_limit = Q1 - 1.5*IQR\n",
    "upper_limit = Q3 + 1.5*IQR"
   ]
  },
  {
   "cell_type": "code",
   "execution_count": 73,
   "metadata": {
    "ExecuteTime": {
     "end_time": "2022-08-03T09:01:59.199646Z",
     "start_time": "2022-08-03T09:01:59.188674Z"
    }
   },
   "outputs": [
    {
     "data": {
      "text/plain": [
       "0.00043972611344933726"
      ]
     },
     "execution_count": 73,
     "metadata": {},
     "output_type": "execute_result"
    }
   ],
   "source": [
    "a = len(df.co2e_g[df.co2e_g < lower_limit])/len(df)\n",
    "a"
   ]
  },
  {
   "cell_type": "code",
   "execution_count": 74,
   "metadata": {
    "ExecuteTime": {
     "end_time": "2022-08-03T09:01:59.231557Z",
     "start_time": "2022-08-03T09:01:59.204631Z"
    }
   },
   "outputs": [
    {
     "data": {
      "text/plain": [
       "0.014950687857277467"
      ]
     },
     "execution_count": 74,
     "metadata": {},
     "output_type": "execute_result"
    }
   ],
   "source": [
    "b = len(df.co2e_g[df.co2e_g>upper_limit])/len(df)\n",
    "b"
   ]
  },
  {
   "cell_type": "code",
   "execution_count": 75,
   "metadata": {
    "ExecuteTime": {
     "end_time": "2022-08-03T09:01:59.263473Z",
     "start_time": "2022-08-03T09:01:59.234558Z"
    }
   },
   "outputs": [
    {
     "data": {
      "text/plain": [
       "masked_array(data=[ 99., 129.,  99., ..., 139., 139., 153.],\n",
       "             mask=False,\n",
       "       fill_value=1e+20)"
      ]
     },
     "execution_count": 75,
     "metadata": {},
     "output_type": "execute_result"
    }
   ],
   "source": [
    "winsorize(df.co2e_g, (a, b))"
   ]
  },
  {
   "cell_type": "code",
   "execution_count": 76,
   "metadata": {
    "ExecuteTime": {
     "end_time": "2022-08-03T09:01:59.294390Z",
     "start_time": "2022-08-03T09:01:59.267463Z"
    }
   },
   "outputs": [
    {
     "data": {
      "text/plain": [
       "masked_array(data=[ 99., 129.,  99., ..., 139., 139., 153.],\n",
       "             mask=False,\n",
       "       fill_value=1e+20)"
      ]
     },
     "execution_count": 76,
     "metadata": {},
     "output_type": "execute_result"
    }
   ],
   "source": [
    "table_win = winsorize(df.co2e_g, (a,b))\n",
    "table_win"
   ]
  },
  {
   "cell_type": "code",
   "execution_count": 77,
   "metadata": {
    "ExecuteTime": {
     "end_time": "2022-08-03T09:01:59.309351Z",
     "start_time": "2022-08-03T09:01:59.296385Z"
    }
   },
   "outputs": [
    {
     "data": {
      "text/plain": [
       "0        99.000\n",
       "1       129.000\n",
       "2        99.000\n",
       "3        99.000\n",
       "4       109.000\n",
       "          ...  \n",
       "15914   139.000\n",
       "15915   166.000\n",
       "15916   139.000\n",
       "15917   139.000\n",
       "15918   153.000\n",
       "Length: 15919, dtype: float64"
      ]
     },
     "execution_count": 77,
     "metadata": {},
     "output_type": "execute_result"
    }
   ],
   "source": [
    "table_win_ser = pd.Series(table_win)\n",
    "table_win_ser"
   ]
  },
  {
   "cell_type": "code",
   "execution_count": 78,
   "metadata": {
    "ExecuteTime": {
     "end_time": "2022-08-03T09:01:59.340268Z",
     "start_time": "2022-08-03T09:01:59.311346Z"
    }
   },
   "outputs": [],
   "source": [
    "df.co2e_g = table_win_ser"
   ]
  },
  {
   "cell_type": "code",
   "execution_count": 79,
   "metadata": {
    "ExecuteTime": {
     "end_time": "2022-08-03T09:01:59.386145Z",
     "start_time": "2022-08-03T09:01:59.359219Z"
    }
   },
   "outputs": [
    {
     "data": {
      "text/plain": [
       "15669   166.000\n",
       "12959   166.000\n",
       "12946   166.000\n",
       "15672   166.000\n",
       "15673   166.000\n",
       "          ...  \n",
       "7857     80.000\n",
       "3615     80.000\n",
       "3612     80.000\n",
       "3356     80.000\n",
       "9798     80.000\n",
       "Name: co2e_g, Length: 15919, dtype: float64"
      ]
     },
     "execution_count": 79,
     "metadata": {},
     "output_type": "execute_result"
    }
   ],
   "source": [
    "df.co2e_g.sort_values(ascending=False)"
   ]
  },
  {
   "cell_type": "code",
   "execution_count": 80,
   "metadata": {
    "ExecuteTime": {
     "end_time": "2022-08-03T09:01:59.417062Z",
     "start_time": "2022-08-03T09:01:59.388140Z"
    }
   },
   "outputs": [
    {
     "name": "stdout",
     "output_type": "stream",
     "text": [
      "column name :  co2e_g\n",
      "----------------------------------------\n",
      "Q1 :  104.0\n",
      "Q3 :  129.0\n",
      "IQR :  25.0\n",
      "lower limit :  66.5\n",
      "mean :  117.53\n",
      "upper limit :  166.5\n",
      "count of lower values :  0\n",
      "count of upper values :  0\n",
      " \n",
      "the smallest 10 values :\n",
      " 3617    80.000\n",
      "9798    80.000\n",
      "12547   80.000\n",
      "7857    80.000\n",
      "8110    80.000\n",
      "3612    80.000\n",
      "3356    80.000\n",
      "3615    80.000\n",
      "13706   82.000\n",
      "8912    82.000\n",
      "Name: co2e_g, dtype: float64\n",
      " \n",
      "the biggest 10 values :\n",
      " 15669   166.000\n",
      "12959   166.000\n",
      "12946   166.000\n",
      "15672   166.000\n",
      "15673   166.000\n",
      "12945   166.000\n",
      "12942   166.000\n",
      "10539   166.000\n",
      "15679   166.000\n",
      "15681   166.000\n",
      "Name: co2e_g, dtype: float64\n",
      "\n",
      "\n",
      "\n"
     ]
    }
   ],
   "source": [
    "detect_outlier(\"co2e_g\")"
   ]
  },
  {
   "cell_type": "markdown",
   "metadata": {},
   "source": [
    "## 11 gears"
   ]
  },
  {
   "cell_type": "code",
   "execution_count": 81,
   "metadata": {
    "ExecuteTime": {
     "end_time": "2022-08-03T09:01:59.448977Z",
     "start_time": "2022-08-03T09:01:59.432029Z"
    }
   },
   "outputs": [
    {
     "data": {
      "text/plain": [
       "14375    1.000\n",
       "8921     1.000\n",
       "9812     2.000\n",
       "15817    3.000\n",
       "15845    3.000\n",
       "         ...  \n",
       "15812    9.000\n",
       "15813    9.000\n",
       "15814    9.000\n",
       "15877    9.000\n",
       "14495   50.000\n",
       "Name: gears, Length: 15919, dtype: float64"
      ]
     },
     "execution_count": 81,
     "metadata": {},
     "output_type": "execute_result"
    }
   ],
   "source": [
    "df.gears.sort_values(ascending=True)"
   ]
  },
  {
   "cell_type": "code",
   "execution_count": 82,
   "metadata": {
    "ExecuteTime": {
     "end_time": "2022-08-03T09:01:59.478898Z",
     "start_time": "2022-08-03T09:01:59.451969Z"
    }
   },
   "outputs": [
    {
     "data": {
      "text/plain": [
       "6.000     8370\n",
       "5.000     4398\n",
       "7.000     2843\n",
       "8.000      288\n",
       "9.000       11\n",
       "3.000        3\n",
       "1.000        2\n",
       "4.000        2\n",
       "2.000        1\n",
       "50.000       1\n",
       "Name: gears, dtype: int64"
      ]
     },
     "execution_count": 82,
     "metadata": {},
     "output_type": "execute_result"
    }
   ],
   "source": [
    "df.gears.value_counts(dropna=False)"
   ]
  },
  {
   "cell_type": "code",
   "execution_count": 83,
   "metadata": {
    "ExecuteTime": {
     "end_time": "2022-08-03T09:01:59.510812Z",
     "start_time": "2022-08-03T09:01:59.483884Z"
    }
   },
   "outputs": [
    {
     "data": {
      "text/html": [
       "<div>\n",
       "<style scoped>\n",
       "    .dataframe tbody tr th:only-of-type {\n",
       "        vertical-align: middle;\n",
       "    }\n",
       "\n",
       "    .dataframe tbody tr th {\n",
       "        vertical-align: top;\n",
       "    }\n",
       "\n",
       "    .dataframe thead th {\n",
       "        text-align: right;\n",
       "    }\n",
       "</style>\n",
       "<table border=\"1\" class=\"dataframe\">\n",
       "  <thead>\n",
       "    <tr style=\"text-align: right;\">\n",
       "      <th></th>\n",
       "      <th>make</th>\n",
       "      <th>model</th>\n",
       "    </tr>\n",
       "  </thead>\n",
       "  <tbody>\n",
       "    <tr>\n",
       "      <th>15812</th>\n",
       "      <td>Renault</td>\n",
       "      <td>Espace</td>\n",
       "    </tr>\n",
       "    <tr>\n",
       "      <th>15813</th>\n",
       "      <td>Renault</td>\n",
       "      <td>Espace</td>\n",
       "    </tr>\n",
       "    <tr>\n",
       "      <th>15814</th>\n",
       "      <td>Renault</td>\n",
       "      <td>Espace</td>\n",
       "    </tr>\n",
       "    <tr>\n",
       "      <th>15824</th>\n",
       "      <td>Renault</td>\n",
       "      <td>Espace</td>\n",
       "    </tr>\n",
       "    <tr>\n",
       "      <th>15827</th>\n",
       "      <td>Renault</td>\n",
       "      <td>Espace</td>\n",
       "    </tr>\n",
       "    <tr>\n",
       "      <th>15828</th>\n",
       "      <td>Renault</td>\n",
       "      <td>Espace</td>\n",
       "    </tr>\n",
       "    <tr>\n",
       "      <th>15829</th>\n",
       "      <td>Renault</td>\n",
       "      <td>Espace</td>\n",
       "    </tr>\n",
       "    <tr>\n",
       "      <th>15830</th>\n",
       "      <td>Renault</td>\n",
       "      <td>Espace</td>\n",
       "    </tr>\n",
       "    <tr>\n",
       "      <th>15869</th>\n",
       "      <td>Renault</td>\n",
       "      <td>Espace</td>\n",
       "    </tr>\n",
       "    <tr>\n",
       "      <th>15876</th>\n",
       "      <td>Renault</td>\n",
       "      <td>Espace</td>\n",
       "    </tr>\n",
       "    <tr>\n",
       "      <th>15877</th>\n",
       "      <td>Renault</td>\n",
       "      <td>Espace</td>\n",
       "    </tr>\n",
       "  </tbody>\n",
       "</table>\n",
       "</div>"
      ],
      "text/plain": [
       "          make   model\n",
       "15812  Renault  Espace\n",
       "15813  Renault  Espace\n",
       "15814  Renault  Espace\n",
       "15824  Renault  Espace\n",
       "15827  Renault  Espace\n",
       "15828  Renault  Espace\n",
       "15829  Renault  Espace\n",
       "15830  Renault  Espace\n",
       "15869  Renault  Espace\n",
       "15876  Renault  Espace\n",
       "15877  Renault  Espace"
      ]
     },
     "execution_count": 83,
     "metadata": {},
     "output_type": "execute_result"
    }
   ],
   "source": [
    "df[df.gears == 9][[\"make\", \"model\"]]"
   ]
  },
  {
   "cell_type": "code",
   "execution_count": 84,
   "metadata": {
    "ExecuteTime": {
     "end_time": "2022-08-03T09:01:59.556690Z",
     "start_time": "2022-08-03T09:01:59.513804Z"
    }
   },
   "outputs": [
    {
     "data": {
      "text/html": [
       "<div>\n",
       "<style scoped>\n",
       "    .dataframe tbody tr th:only-of-type {\n",
       "        vertical-align: middle;\n",
       "    }\n",
       "\n",
       "    .dataframe tbody tr th {\n",
       "        vertical-align: top;\n",
       "    }\n",
       "\n",
       "    .dataframe thead th {\n",
       "        text-align: right;\n",
       "    }\n",
       "</style>\n",
       "<table border=\"1\" class=\"dataframe\">\n",
       "  <thead>\n",
       "    <tr style=\"text-align: right;\">\n",
       "      <th></th>\n",
       "      <th>make</th>\n",
       "      <th>model</th>\n",
       "    </tr>\n",
       "  </thead>\n",
       "  <tbody>\n",
       "    <tr>\n",
       "      <th>8921</th>\n",
       "      <td>Opel</td>\n",
       "      <td>Corsa</td>\n",
       "    </tr>\n",
       "    <tr>\n",
       "      <th>9812</th>\n",
       "      <td>Opel</td>\n",
       "      <td>Corsa</td>\n",
       "    </tr>\n",
       "    <tr>\n",
       "      <th>14375</th>\n",
       "      <td>Renault</td>\n",
       "      <td>Clio</td>\n",
       "    </tr>\n",
       "    <tr>\n",
       "      <th>15817</th>\n",
       "      <td>Renault</td>\n",
       "      <td>Espace</td>\n",
       "    </tr>\n",
       "    <tr>\n",
       "      <th>15822</th>\n",
       "      <td>Renault</td>\n",
       "      <td>Espace</td>\n",
       "    </tr>\n",
       "    <tr>\n",
       "      <th>15823</th>\n",
       "      <td>Renault</td>\n",
       "      <td>Espace</td>\n",
       "    </tr>\n",
       "    <tr>\n",
       "      <th>15845</th>\n",
       "      <td>Renault</td>\n",
       "      <td>Espace</td>\n",
       "    </tr>\n",
       "    <tr>\n",
       "      <th>15846</th>\n",
       "      <td>Renault</td>\n",
       "      <td>Espace</td>\n",
       "    </tr>\n",
       "  </tbody>\n",
       "</table>\n",
       "</div>"
      ],
      "text/plain": [
       "          make   model\n",
       "8921      Opel   Corsa\n",
       "9812      Opel   Corsa\n",
       "14375  Renault    Clio\n",
       "15817  Renault  Espace\n",
       "15822  Renault  Espace\n",
       "15823  Renault  Espace\n",
       "15845  Renault  Espace\n",
       "15846  Renault  Espace"
      ]
     },
     "execution_count": 84,
     "metadata": {},
     "output_type": "execute_result"
    }
   ],
   "source": [
    "df[df.gears <= 4][[\"make\", \"model\"]]"
   ]
  },
  {
   "cell_type": "code",
   "execution_count": 85,
   "metadata": {
    "ExecuteTime": {
     "end_time": "2022-08-03T09:01:59.572646Z",
     "start_time": "2022-08-03T09:01:59.558684Z"
    }
   },
   "outputs": [],
   "source": [
    "df.loc[df.gears <= 4, \"gears\"] = np.nan"
   ]
  },
  {
   "cell_type": "code",
   "execution_count": 86,
   "metadata": {
    "ExecuteTime": {
     "end_time": "2022-08-03T09:01:59.604561Z",
     "start_time": "2022-08-03T09:01:59.575638Z"
    }
   },
   "outputs": [],
   "source": [
    "df.loc[df.gears == 50, \"gears\"] = 5"
   ]
  },
  {
   "cell_type": "code",
   "execution_count": 87,
   "metadata": {
    "ExecuteTime": {
     "end_time": "2022-08-03T09:01:59.666395Z",
     "start_time": "2022-08-03T09:01:59.607553Z"
    }
   },
   "outputs": [],
   "source": [
    "df.gears = df.groupby([\"make\", \"model\", \"body_type\"])[\"gears\"].apply(lambda x : x.fillna(x.mode()[0]))"
   ]
  },
  {
   "cell_type": "code",
   "execution_count": 88,
   "metadata": {
    "ExecuteTime": {
     "end_time": "2022-08-03T09:01:59.697313Z",
     "start_time": "2022-08-03T09:01:59.672380Z"
    }
   },
   "outputs": [
    {
     "data": {
      "text/plain": [
       "6.000    8375\n",
       "5.000    4402\n",
       "7.000    2843\n",
       "8.000     288\n",
       "9.000      11\n",
       "Name: gears, dtype: int64"
      ]
     },
     "execution_count": 88,
     "metadata": {},
     "output_type": "execute_result"
    }
   ],
   "source": [
    "df.gears.value_counts(dropna=False)"
   ]
  },
  {
   "cell_type": "markdown",
   "metadata": {},
   "source": [
    "## 12 consumption_comb"
   ]
  },
  {
   "cell_type": "code",
   "execution_count": 89,
   "metadata": {
    "ExecuteTime": {
     "end_time": "2022-08-03T09:01:59.712272Z",
     "start_time": "2022-08-03T09:01:59.700305Z"
    }
   },
   "outputs": [],
   "source": [
    "df.drop(columns=[\"consumption_city\", \"consumption_cuntry\"], inplace=True)"
   ]
  },
  {
   "cell_type": "code",
   "execution_count": 90,
   "metadata": {
    "ExecuteTime": {
     "end_time": "2022-08-03T09:01:59.744187Z",
     "start_time": "2022-08-03T09:01:59.714272Z"
    }
   },
   "outputs": [
    {
     "name": "stdout",
     "output_type": "stream",
     "text": [
      "column name :  consumption_comb\n",
      "----------------------------------------\n",
      "Q1 :  4.1\n",
      "Q3 :  5.4\n",
      "IQR :  1.3000000000000007\n",
      "lower limit :  2.1499999999999986\n",
      "mean :  4.83\n",
      "upper limit :  7.350000000000001\n",
      "count of lower values :  4\n",
      "count of upper values :  125\n",
      " \n",
      "the smallest 10 values :\n",
      " 13678   1.200\n",
      "3615    1.600\n",
      "3617    1.600\n",
      "3612    1.600\n",
      "13680   3.100\n",
      "13679   3.100\n",
      "8904    3.100\n",
      "8566    3.100\n",
      "8911    3.100\n",
      "8912    3.100\n",
      "Name: consumption_comb, dtype: float64\n",
      " \n",
      "the biggest 10 values :\n",
      " 535     13.800\n",
      "10513    9.714\n",
      "10771    9.100\n",
      "10817    8.700\n",
      "10819    8.700\n",
      "12529    8.700\n",
      "12054    8.700\n",
      "12553    8.600\n",
      "12530    8.600\n",
      "12422    8.600\n",
      "Name: consumption_comb, dtype: float64\n",
      "\n",
      "\n",
      "\n"
     ]
    }
   ],
   "source": [
    "detect_outlier(\"consumption_comb\")"
   ]
  },
  {
   "cell_type": "code",
   "execution_count": 91,
   "metadata": {
    "ExecuteTime": {
     "end_time": "2022-08-03T09:01:59.760145Z",
     "start_time": "2022-08-03T09:01:59.746182Z"
    }
   },
   "outputs": [
    {
     "data": {
      "text/plain": [
       "13678    1.200\n",
       "3615     1.600\n",
       "3617     1.600\n",
       "3612     1.600\n",
       "13680    3.100\n",
       "         ...  \n",
       "10819    8.700\n",
       "12054    8.700\n",
       "10771    9.100\n",
       "10513    9.714\n",
       "535     13.800\n",
       "Name: consumption_comb, Length: 15919, dtype: float64"
      ]
     },
     "execution_count": 91,
     "metadata": {},
     "output_type": "execute_result"
    }
   ],
   "source": [
    "df.consumption_comb.sort_values(ascending=True)"
   ]
  },
  {
   "cell_type": "code",
   "execution_count": 92,
   "metadata": {
    "ExecuteTime": {
     "end_time": "2022-08-03T09:01:59.792060Z",
     "start_time": "2022-08-03T09:01:59.762139Z"
    }
   },
   "outputs": [
    {
     "data": {
      "text/plain": [
       "make     model  fuel    \n",
       "Renault  Clio   Diesel      7\n",
       "Opel     Corsa  Diesel      6\n",
       "Audi     A3     Electric    3\n",
       "dtype: int64"
      ]
     },
     "execution_count": 92,
     "metadata": {},
     "output_type": "execute_result"
    }
   ],
   "source": [
    "df[df.consumption_comb < 3.2][[\"make\", \"model\", \"fuel\"]].value_counts()"
   ]
  },
  {
   "cell_type": "code",
   "execution_count": 93,
   "metadata": {
    "ExecuteTime": {
     "end_time": "2022-08-03T09:01:59.808016Z",
     "start_time": "2022-08-03T09:01:59.794054Z"
    }
   },
   "outputs": [
    {
     "data": {
      "text/plain": [
       "make  model     fuel    \n",
       "Opel  Insignia  Diesel      4\n",
       "                Benzine     3\n",
       "                Gasoline    3\n",
       "Audi  A1        Benzine     1\n",
       "dtype: int64"
      ]
     },
     "execution_count": 93,
     "metadata": {},
     "output_type": "execute_result"
    }
   ],
   "source": [
    "df[df.consumption_comb > 8.5][[\"make\", \"model\", \"fuel\"]].value_counts()"
   ]
  },
  {
   "cell_type": "code",
   "execution_count": 94,
   "metadata": {
    "ExecuteTime": {
     "end_time": "2022-08-03T09:01:59.839930Z",
     "start_time": "2022-08-03T09:01:59.811009Z"
    }
   },
   "outputs": [
    {
     "data": {
      "text/plain": [
       "make     model     body_type    \n",
       "Audi     A1        Compact         4.400\n",
       "                   Coupe           3.802\n",
       "                   Other           4.700\n",
       "                   Sedans          4.200\n",
       "                   Station wagon   4.200\n",
       "                   Van             5.074\n",
       "         A2        Off-Road        4.900\n",
       "         A3        Compact         4.100\n",
       "                   Convertible     4.800\n",
       "                   Coupe           3.900\n",
       "                   Other           4.150\n",
       "                   Sedans          4.018\n",
       "                   Station wagon   4.500\n",
       "Opel     Astra     Compact         4.100\n",
       "                   Coupe           6.200\n",
       "                   Off-Road        5.600\n",
       "                   Other           4.294\n",
       "                   Sedans          4.700\n",
       "                   Station wagon   4.500\n",
       "         Corsa     Compact         5.600\n",
       "                   Coupe           5.300\n",
       "                   Off-Road        5.200\n",
       "                   Other           5.200\n",
       "                   Sedans          5.300\n",
       "                   Transporter     5.300\n",
       "                   Van             5.226\n",
       "         Insignia  Compact         5.700\n",
       "                   Coupe           5.688\n",
       "                   Off-Road        6.400\n",
       "                   Other           4.300\n",
       "                   Sedans          5.300\n",
       "                   Station wagon   5.600\n",
       "                   Van             5.350\n",
       "Renault  Clio      Compact         5.337\n",
       "                   Coupe           5.900\n",
       "                   Off-Road        3.350\n",
       "                   Other           5.300\n",
       "                   Sedans          4.998\n",
       "                   Station wagon   4.998\n",
       "                   Transporter     4.998\n",
       "                   Van             5.386\n",
       "         Duster    Off-Road        4.600\n",
       "         Espace    Compact         4.683\n",
       "                   Coupe           6.015\n",
       "                   Off-Road        4.700\n",
       "                   Other           4.700\n",
       "                   Sedans          4.666\n",
       "                   Station wagon   4.700\n",
       "                   Transporter     4.700\n",
       "                   Van             4.700\n",
       "Name: consumption_comb, dtype: float64"
      ]
     },
     "execution_count": 94,
     "metadata": {},
     "output_type": "execute_result"
    }
   ],
   "source": [
    "df.groupby([\"make\", \"model\", \"body_type\"])[\"consumption_comb\"].median()"
   ]
  },
  {
   "cell_type": "code",
   "execution_count": 95,
   "metadata": {
    "ExecuteTime": {
     "end_time": "2022-08-03T09:01:59.855889Z",
     "start_time": "2022-08-03T09:01:59.841926Z"
    }
   },
   "outputs": [],
   "source": [
    "df.consumption_comb.iloc[[13678]] = 3.35"
   ]
  },
  {
   "cell_type": "code",
   "execution_count": 96,
   "metadata": {
    "ExecuteTime": {
     "end_time": "2022-08-03T09:01:59.871848Z",
     "start_time": "2022-08-03T09:01:59.857883Z"
    }
   },
   "outputs": [],
   "source": [
    "df.consumption_comb.iloc[[535]] = 4.400"
   ]
  },
  {
   "cell_type": "code",
   "execution_count": 97,
   "metadata": {
    "ExecuteTime": {
     "end_time": "2022-08-03T09:01:59.902779Z",
     "start_time": "2022-08-03T09:01:59.873848Z"
    }
   },
   "outputs": [
    {
     "data": {
      "text/plain": [
       "3612    1.600\n",
       "3615    1.600\n",
       "3617    1.600\n",
       "13680   3.100\n",
       "8874    3.100\n",
       "         ... \n",
       "12054   8.700\n",
       "10819   8.700\n",
       "12529   8.700\n",
       "10771   9.100\n",
       "10513   9.714\n",
       "Name: consumption_comb, Length: 15919, dtype: float64"
      ]
     },
     "execution_count": 97,
     "metadata": {},
     "output_type": "execute_result"
    }
   ],
   "source": [
    "df.consumption_comb.sort_values()"
   ]
  },
  {
   "cell_type": "markdown",
   "metadata": {},
   "source": [
    "## 13 age"
   ]
  },
  {
   "cell_type": "code",
   "execution_count": 98,
   "metadata": {
    "ExecuteTime": {
     "end_time": "2022-08-03T09:01:59.917724Z",
     "start_time": "2022-08-03T09:01:59.905756Z"
    }
   },
   "outputs": [
    {
     "data": {
      "text/plain": [
       "1.000    4525\n",
       "0.000    4412\n",
       "3.000    3674\n",
       "2.000    3308\n",
       "Name: age, dtype: int64"
      ]
     },
     "execution_count": 98,
     "metadata": {},
     "output_type": "execute_result"
    }
   ],
   "source": [
    "df.age.value_counts()"
   ]
  },
  {
   "cell_type": "code",
   "execution_count": 99,
   "metadata": {
    "ExecuteTime": {
     "end_time": "2022-08-03T09:01:59.964597Z",
     "start_time": "2022-08-03T09:01:59.919718Z"
    }
   },
   "outputs": [
    {
     "data": {
      "text/plain": [
       "body_type                 0\n",
       "price_€                   0\n",
       "vat                       0\n",
       "km                        0\n",
       "hp_kW                     0\n",
       "type                      0\n",
       "previous_owners           0\n",
       "warranty                  0\n",
       "make                      0\n",
       "model                     0\n",
       "body_color                0\n",
       "paint_type                0\n",
       "upholstery                0\n",
       "nr_of_doors               0\n",
       "nr_of_seats               0\n",
       "gearing_type              0\n",
       "engine_displacement_cc    0\n",
       "cylinders                 0\n",
       "weight_kg                 0\n",
       "drive_chain               0\n",
       "fuel                      0\n",
       "co2e_g                    0\n",
       "emission_class            0\n",
       "comfort&convenience       0\n",
       "entertainment&media       0\n",
       "extras                    0\n",
       "safety&security           0\n",
       "gears                     0\n",
       "country_version           0\n",
       "consumption_comb          0\n",
       "age                       0\n",
       "dtype: int64"
      ]
     },
     "execution_count": 99,
     "metadata": {},
     "output_type": "execute_result"
    }
   ],
   "source": [
    "df.isnull().sum()"
   ]
  },
  {
   "cell_type": "code",
   "execution_count": 100,
   "metadata": {
    "ExecuteTime": {
     "end_time": "2022-08-03T09:02:01.926643Z",
     "start_time": "2022-08-03T09:01:59.968587Z"
    }
   },
   "outputs": [
    {
     "data": {
      "text/plain": [
       "<AxesSubplot:>"
      ]
     },
     "execution_count": 100,
     "metadata": {},
     "output_type": "execute_result"
    },
    {
     "data": {
      "image/png": "[encoded data removed]",
      "text/plain": [
       "<Figure size 1440x1440 with 2 Axes>"
      ]
     },
     "metadata": {},
     "output_type": "display_data"
    }
   ],
   "source": [
    "plt.figure(figsize=(20, 20))\n",
    "sns.heatmap(df.corr(), cmap=\"YlGnBu\", annot=True)"
   ]
  },
  {
   "cell_type": "code",
   "execution_count": 101,
   "metadata": {
    "ExecuteTime": {
     "end_time": "2022-08-03T09:02:01.956532Z",
     "start_time": "2022-08-03T09:02:01.929604Z"
    }
   },
   "outputs": [],
   "source": [
    "import re \n",
    "\n",
    "def get_diff_category_column(Series:pd.Series, exclude=''',/\\n''', pattern=r'''[,\\n]| /''', strip='''' \"!?|.,*+-_/][''', diff_value=list()):  \n",
    "    diff_value.clear()\n",
    "    column = Series.dropna().apply(str).str.strip(strip)\n",
    "    for row in column:\n",
    "        if not any(x in exclude for x in row) and row not in diff_value:\n",
    "            diff_value.append(row)\n",
    "        else:\n",
    "            for data in map(lambda x: x.strip(strip), filter(None, re.split(pattern, row))):\n",
    "                if data not in diff_value:\n",
    "                    diff_value.append(data)\n",
    "    return dict(enumerate(sorted(diff_value)))"
   ]
  },
  {
   "cell_type": "code",
   "execution_count": 102,
   "metadata": {
    "ExecuteTime": {
     "end_time": "2022-08-03T09:02:01.972489Z",
     "start_time": "2022-08-03T09:02:01.958527Z"
    }
   },
   "outputs": [],
   "source": [
    "col_o = ['body_type','vat','type', 'previous_owners',\n",
    "       'warranty', 'make', 'model', 'body_color', 'paint_type', 'upholstery',\n",
    "       'gearing_type',\n",
    "       'drive_chain', 'fuel',\n",
    "       'emission_class', 'comfort&convenience', 'entertainment&media',\n",
    "       'extras', 'safety&security', 'country_version']"
   ]
  },
  {
   "cell_type": "code",
   "execution_count": 103,
   "metadata": {
    "ExecuteTime": {
     "end_time": "2022-08-03T09:02:01.988446Z",
     "start_time": "2022-08-03T09:02:01.974484Z"
    }
   },
   "outputs": [],
   "source": [
    "def control_outlier(col) :\n",
    "    print(\"column name : \",col)\n",
    "    print(\"--\"*20)\n",
    "    print(get_diff_category_column(df[col]))\n",
    "    print(\"**\"*40)\n",
    "    \n",
    "    print(\"\\n\\n\")"
   ]
  },
  {
   "cell_type": "code",
   "execution_count": 104,
   "metadata": {
    "ExecuteTime": {
     "end_time": "2022-08-03T09:02:04.368085Z",
     "start_time": "2022-08-03T09:02:01.990441Z"
    }
   },
   "outputs": [
    {
     "name": "stdout",
     "output_type": "stream",
     "text": [
      "column name :  body_type\n",
      "----------------------------------------\n",
      "{0: 'Compact', 1: 'Convertible', 2: 'Coupe', 3: 'Off-Road', 4: 'Other', 5: 'Sedans', 6: 'Station wagon', 7: 'Transporter', 8: 'Van'}\n",
      "********************************************************************************\n",
      "\n",
      "\n",
      "\n",
      "column name :  vat\n",
      "----------------------------------------\n",
      "{0: 'Price negotiable', 1: 'VAT deductible'}\n",
      "********************************************************************************\n",
      "\n",
      "\n",
      "\n",
      "column name :  type\n",
      "----------------------------------------\n",
      "{0: 'Demonstration', 1: \"Employee's car\", 2: 'New', 3: 'Pre-registered', 4: 'Used'}\n",
      "********************************************************************************\n",
      "\n",
      "\n",
      "\n",
      "column name :  previous_owners\n",
      "----------------------------------------\n",
      "{0: '0.0', 1: '1.0', 2: '2.0', 3: '3.0', 4: '4.0'}\n",
      "********************************************************************************\n",
      "\n",
      "\n",
      "\n",
      "column name :  warranty\n",
      "----------------------------------------\n",
      "{0: '0.0', 1: '1.0'}\n",
      "********************************************************************************\n",
      "\n",
      "\n",
      "\n",
      "column name :  make\n",
      "----------------------------------------\n",
      "{0: 'Audi', 1: 'Opel', 2: 'Renault'}\n",
      "********************************************************************************\n",
      "\n",
      "\n",
      "\n",
      "column name :  model\n",
      "----------------------------------------\n",
      "{0: 'A1', 1: 'A2', 2: 'A3', 3: 'Astra', 4: 'Clio', 5: 'Corsa', 6: 'Duster', 7: 'Espace', 8: 'Insignia'}\n",
      "********************************************************************************\n",
      "\n",
      "\n",
      "\n",
      "column name :  body_color\n",
      "----------------------------------------\n",
      "{0: 'Beige', 1: 'Black', 2: 'Blue', 3: 'Bronze', 4: 'Brown', 5: 'Gold', 6: 'Green', 7: 'Grey', 8: 'Orange', 9: 'Red', 10: 'Silver', 11: 'Violet', 12: 'White', 13: 'Yellow'}\n",
      "********************************************************************************\n",
      "\n",
      "\n",
      "\n",
      "column name :  paint_type\n",
      "----------------------------------------\n",
      "{0: 'Metallic', 1: 'Perl effect', 2: 'Uni/basic'}\n",
      "********************************************************************************\n",
      "\n",
      "\n",
      "\n",
      "column name :  upholstery\n",
      "----------------------------------------\n",
      "{0: 'Cloth', 1: 'Full leather', 2: 'Other', 3: 'Part leather', 4: 'Velour', 5: 'alcantara'}\n",
      "********************************************************************************\n",
      "\n",
      "\n",
      "\n",
      "column name :  gearing_type\n",
      "----------------------------------------\n",
      "{0: 'Automatic', 1: 'Manual', 2: 'Semi-automatic'}\n",
      "********************************************************************************\n",
      "\n",
      "\n",
      "\n",
      "column name :  drive_chain\n",
      "----------------------------------------\n",
      "{0: '4WD', 1: 'front', 2: 'rear'}\n",
      "********************************************************************************\n",
      "\n",
      "\n",
      "\n",
      "column name :  fuel\n",
      "----------------------------------------\n",
      "{0: 'Benzine', 1: 'Diesel', 2: 'Electric', 3: 'Gasoline', 4: 'LPG/CNG'}\n",
      "********************************************************************************\n",
      "\n",
      "\n",
      "\n",
      "column name :  emission_class\n",
      "----------------------------------------\n",
      "{0: 'Euro 4', 1: 'Euro 5', 2: 'Euro 6', 3: 'Euro 6c', 4: 'Euro 6d', 5: 'Euro 6d-TEMP'}\n",
      "********************************************************************************\n",
      "\n",
      "\n",
      "\n",
      "column name :  comfort&convenience\n",
      "----------------------------------------\n",
      "{0: 'Air conditioning', 1: 'Air suspension', 2: 'Armrest', 3: 'Automatic climate control', 4: 'Auxiliary heating', 5: 'Cruise control', 6: 'Electric Starter', 7: 'Electric tailgate', 8: 'Electrical side mirrors', 9: 'Electrically adjustable seats', 10: 'Electrically heated windshield', 11: 'Heads-up display', 12: 'Heated steering wheel', 13: 'Hill Holder', 14: 'Keyless central door lock', 15: 'Leather seats', 16: 'Leather steering wheel', 17: 'Light sensor', 18: 'Lumbar support', 19: 'Massage seats', 20: 'Multi-function steering wheel', 21: 'Navigation system', 22: 'Panorama roof', 23: 'Park Distance Control', 24: 'Parking assist system camera', 25: 'Parking assist system self-steering', 26: 'Parking assist system sensors front', 27: 'Parking assist system sensors rear', 28: 'Power windows', 29: 'Rain sensor', 30: 'Seat heating', 31: 'Seat ventilation', 32: 'Split rear seats', 33: 'Start-stop system', 34: 'Sunroof', 35: 'Tinted windows', 36: 'Wind deflector', 37: 'Windshield'}\n",
      "********************************************************************************\n",
      "\n",
      "\n",
      "\n",
      "column name :  entertainment&media\n",
      "----------------------------------------\n",
      "{0: 'Bluetooth', 1: 'CD player', 2: 'Digital radio', 3: 'Hands-free equipment', 4: 'MP3', 5: 'On-board computer', 6: 'Radio', 7: 'Sound system', 8: 'Television', 9: 'USB'}\n",
      "********************************************************************************\n",
      "\n",
      "\n",
      "\n",
      "column name :  extras\n",
      "----------------------------------------\n",
      "{0: 'Alloy wheels', 1: 'Cab or rented Car', 2: 'Catalytic Converter', 3: 'Handicapped enabled', 4: 'Right hand drive', 5: 'Roof rack', 6: 'Shift paddles', 7: 'Ski bag', 8: 'Sliding door', 9: 'Sport package', 10: 'Sport seats', 11: 'Sport suspension', 12: 'Touch screen', 13: 'Trailer hitch', 14: 'Tuned car', 15: 'Voice Control', 16: 'Winter tyres'}\n",
      "********************************************************************************\n",
      "\n",
      "\n",
      "\n",
      "column name :  safety&security\n",
      "----------------------------------------\n",
      "{0: 'ABS', 1: 'Adaptive Cruise Control', 2: 'Adaptive headlights', 3: 'Alarm system', 4: 'Blind spot monitor', 5: 'Central door lock', 6: 'Central door lock with remote control', 7: 'Daytime running lights', 8: 'Driver drowsiness detection', 9: 'Driver-side airbag', 10: 'Electronic stability control', 11: 'Emergency brake assistant', 12: 'Emergency system', 13: 'Fog lights', 14: 'Head airbag', 15: 'Immobilizer', 16: 'Isofix', 17: 'LED Daytime Running Lights', 18: 'LED Headlights', 19: 'Lane departure warning system', 20: 'Night view assist', 21: 'Passenger-side airbag', 22: 'Power steering', 23: 'Rear airbag', 24: 'Side airbag', 25: 'Tire pressure monitoring system', 26: 'Traction control', 27: 'Traffic sign recognition', 28: 'Xenon headlights'}\n",
      "********************************************************************************\n",
      "\n",
      "\n",
      "\n",
      "column name :  country_version\n",
      "----------------------------------------\n",
      "{0: 'Austria', 1: 'Belgium', 2: 'Bulgaria', 3: 'Croatia', 4: 'Czech Republic', 5: 'Denmark', 6: 'Egypt', 7: 'European Union', 8: 'France', 9: 'Germany', 10: 'Hungary', 11: 'Italy', 12: 'Japan', 13: 'Luxembourg', 14: 'Netherlands', 15: 'Poland', 16: 'Romania', 17: 'Serbia', 18: 'Slovakia', 19: 'Slovenia', 20: 'Spain', 21: 'Sweden', 22: 'Switzerland', 23: 'Unknown'}\n",
      "********************************************************************************\n",
      "\n",
      "\n",
      "\n"
     ]
    }
   ],
   "source": [
    "for i in col_o:\n",
    "    control_outlier(i)"
   ]
  },
  {
   "cell_type": "code",
   "execution_count": 108,
   "metadata": {
    "ExecuteTime": {
     "end_time": "2022-08-03T09:03:52.991373Z",
     "start_time": "2022-08-03T09:03:52.442696Z"
    }
   },
   "outputs": [],
   "source": [
    "df.to_csv(\"without_outliers_autoscout.csv\", index=False)"
   ]
  },
  {
   "cell_type": "code",
   "execution_count": null,
   "metadata": {},
   "outputs": [],
   "source": []
  },
  {
   "cell_type": "code",
   "execution_count": null,
   "metadata": {},
   "outputs": [],
   "source": []
  },
  {
   "cell_type": "code",
   "execution_count": null,
   "metadata": {},
   "outputs": [],
   "source": []
  },
  {
   "cell_type": "code",
   "execution_count": null,
   "metadata": {},
   "outputs": [],
   "source": []
  },
  {
   "cell_type": "code",
   "execution_count": null,
   "metadata": {},
   "outputs": [],
   "source": []
  },
  {
   "cell_type": "code",
   "execution_count": null,
   "metadata": {},
   "outputs": [],
   "source": []
  },
  {
   "cell_type": "markdown",
   "metadata": {
    "id": "EKxmsgfts1MG"
   },
   "source": [
    "# Final Step (Checking final situation of data via graphs)"
   ]
  },
  {
   "cell_type": "code",
   "execution_count": null,
   "metadata": {
    "id": "8mgL_Bd0s1MG"
   },
   "outputs": [],
   "source": []
  },
  {
   "cell_type": "markdown",
   "metadata": {
    "id": "2PgUVPoes1MH"
   },
   "source": [
    "## Export dataframe to csv file (without dummy)"
   ]
  },
  {
   "cell_type": "code",
   "execution_count": 106,
   "metadata": {
    "ExecuteTime": {
     "end_time": "2022-08-03T09:02:04.414951Z",
     "start_time": "2022-08-03T09:02:04.395006Z"
    },
    "id": "Byg_o2ZMs1MI"
   },
   "outputs": [],
   "source": [
    "# df.to_csv(\"final_scout_not_dummy.csv\", index=False)"
   ]
  },
  {
   "cell_type": "markdown",
   "metadata": {
    "id": "hrw9hr-3s1MJ"
   },
   "source": [
    "# Dummy Operation"
   ]
  },
  {
   "cell_type": "code",
   "execution_count": null,
   "metadata": {
    "id": "faDyWTC9s1MJ"
   },
   "outputs": [],
   "source": []
  },
  {
   "cell_type": "markdown",
   "metadata": {
    "id": "DUOdihlqs1MJ"
   },
   "source": [
    "## Export dataframe to csv file (dummy)"
   ]
  },
  {
   "cell_type": "code",
   "execution_count": 107,
   "metadata": {
    "ExecuteTime": {
     "end_time": "2022-08-03T09:02:04.429912Z",
     "start_time": "2022-08-03T09:02:04.418946Z"
    },
    "id": "IJT7Yl1Us1MK"
   },
   "outputs": [],
   "source": [
    "# df_dummied.to_csv(\"final_scout_dummy.csv\", index=False)"
   ]
  }
 ],
 "metadata": {
  "colab": {
   "name": "DAwPy-Capstone_Project_(AutoScout)_Student.ipynb",
   "provenance": []
  },
  "hide_input": false,
  "kernelspec": {
   "display_name": "Python 3 (ipykernel)",
   "language": "python",
   "name": "python3"
  },
  "language_info": {
   "codemirror_mode": {
    "name": "ipython",
    "version": 3
   },
   "file_extension": ".py",
   "mimetype": "text/x-python",
   "name": "python",
   "nbconvert_exporter": "python",
   "pygments_lexer": "ipython3",
   "version": "3.9.7"
  },
  "toc": {
   "base_numbering": 1,
   "nav_menu": {},
   "number_sections": false,
   "sideBar": true,
   "skip_h1_title": false,
   "title_cell": "Table of Contents",
   "title_sidebar": "Contents",
   "toc_cell": false,
   "toc_position": {},
   "toc_section_display": true,
   "toc_window_display": true
  }
 },
 "nbformat": 4,
 "nbformat_minor": 1
}
